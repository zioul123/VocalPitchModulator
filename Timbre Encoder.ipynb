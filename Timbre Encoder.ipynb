{
 "cells": [
  {
   "cell_type": "markdown",
   "metadata": {},
   "source": [
    "# Timbre Encoder\n",
    "This is the notebook used to train the Vocal Pitch Modulator.\n",
    "\n",
    "This notebook makes use of the data to train our timbre encoder, which is a VAE that takes in an MFCC, reduces its dimensionality, and attempts to reconstruct the provided MFCC.\n",
    "\n",
    "The first cells are the \"walkthrough\" that we used to verify the data at each stage, while the latter section (\"Experiment\" sections) are the cells run per experiment.\n",
    "\n",
    "## Global variables/Imports\n",
    "Run these cells before running either of the following sections."
   ]
  },
  {
   "cell_type": "code",
   "execution_count": 9,
   "metadata": {},
   "outputs": [
    {
     "name": "stdout",
     "output_type": "stream",
     "text": [
      "The autoreload extension is already loaded. To reload it, use:\n",
      "  %reload_ext autoreload\n"
     ]
    }
   ],
   "source": [
    "%load_ext autoreload\n",
    "%autoreload 1\n",
    "\n",
    "import os\n",
    "import csv\n",
    "\n",
    "import scipy.io as sio\n",
    "from scipy.io import wavfile\n",
    "from scipy.io.wavfile import write\n",
    "\n",
    "import numpy as np\n",
    "import matplotlib.pyplot as plt\n",
    "from matplotlib.pyplot import subplots\n",
    "\n",
    "import time\n",
    "import math\n",
    "\n",
    "import pandas as pd\n",
    "from sklearn.model_selection import train_test_split\n",
    "from sklearn.metrics import accuracy_score, mean_squared_error, log_loss\n",
    "\n",
    "from tqdm.notebook import trange, tqdm\n",
    "\n",
    "from IPython.display import HTML\n",
    "import warnings\n",
    "from sklearn.preprocessing import OneHotEncoder\n",
    "\n",
    "import torch\n",
    "warnings.filterwarnings('ignore')\n",
    "import torch.nn as nn\n",
    "import torch.nn.functional as F\n",
    "from torch import optim\n",
    "\n",
    "%aimport VPM\n",
    "from VPM import *\n",
    "%aimport Utils\n",
    "from Utils import *\n",
    "%aimport ANN\n",
    "from ANN import *"
   ]
  },
  {
   "cell_type": "code",
   "execution_count": 10,
   "metadata": {},
   "outputs": [],
   "source": [
    "# Constants that should not change without the dataset being changed\n",
    "n_pitches = 16\n",
    "n_vowels = 12\n",
    "n_people = 3\n",
    "\n",
    "# These dictionaries are more for reference than anything\n",
    "label_to_vowel = { 0: \"bed\",  1: \"bird\",   2: \"boat\",  3: \"book\", \n",
    "                   4: \"cat\",  5: \"dog\",    6: \"feet\",  7: \"law\",  \n",
    "                   8: \"moo\",  9: \"nut\",   10: \"pig\",  11: \"say\" }\n",
    "\n",
    "vowel_to_label = { \"bed\": 0,  \"bird\": 1,  \"boat\":  2, \"book\":  3,\n",
    "                   \"cat\": 4,  \"dog\":  5,  \"feet\":  6, \"law\":   7,\n",
    "                   \"moo\": 8,  \"nut\":  9,  \"pig\":  10, \"say\":  11}\n",
    "\n",
    "noteidx_to_pitch = {  0: \"A2\",   1: \"Bb2\",  2: \"B2\",   3: \"C3\",\n",
    "                      4: \"Db3\",  5: \"D3\",   6: \"Eb3\",  7: \"E3\", \n",
    "                      8: \"F3\",   9: \"Gb3\", 10: \"G3\",  11: \"Ab3\",\n",
    "                     12: \"A3\",  13: \"Bb3\", 14: \"B3\",  15: \"C4\" }"
   ]
  },
  {
   "cell_type": "markdown",
   "metadata": {},
   "source": [
    "### Constants\n",
    "Used to tune the data generation and ANN."
   ]
  },
  {
   "cell_type": "code",
   "execution_count": 11,
   "metadata": {},
   "outputs": [],
   "source": [
    "n_mfccs = [ 40, 24, 12 ]\n",
    "n_mels = 256\n",
    "n_ffts = 2048"
   ]
  },
  {
   "cell_type": "markdown",
   "metadata": {},
   "source": [
    "### Data Generation\n",
    "This is all the code that was explained in the Data Walkthrough. It generates data structures to hold all wav file data, spectrograms, mel spectra and MFCC data for all wav files.\n",
    "\n",
    "For diagram-visualization of the data set, refer to the [readme](https://github.com/zioul123/VocalPitchModulator/blob/master/README.md).\n",
    "\n",
    "For the classifier, MFCC are normalized by row to `[-1, 1]`, as the classifer can learn it better.\n",
    "For the VAE, MFCC are normalized by row to `[0, 1]`, to allow the VAE to output it."
   ]
  },
  {
   "cell_type": "code",
   "execution_count": 12,
   "metadata": {
    "scrolled": true
   },
   "outputs": [],
   "source": [
    "# File reference lists\n",
    "data_ref_list = create_data_ref_list(os.path.join(\"Data\", 'dataset_files.csv'),\n",
    "                            n_pitches, n_vowels, n_people)\n",
    "# flat_data_ref_list[flat_ref_idx(vowel, pitch, person)]\n",
    "flat_data_ref_list = flatten_3d_array(data_ref_list, \n",
    "                                      n_vowels, n_pitches, n_people)\n",
    "\n",
    "# File reference list accessors\n",
    "# Returns a flat_ref_idx, given a vowel, pitch, person\n",
    "flat_ref_idx = lambda vowel, pitch, person: flat_3d_array_idx(\n",
    "    vowel, pitch, person, n_vowels, n_pitches, n_people)\n",
    "# Returns vowel, pitch, person, given a flat_ref_idx\n",
    "nd_ref_idx = lambda idx: nd_array_idx(idx, n_vowels, n_pitches, n_people)\n",
    "\n",
    "# wav, spectrogram, mels, mfcc for each file in flat_data_ref_list\n",
    "# wav_data:     (576, ~29400)  (n_wavs, n_samples)\n",
    "# spectrograms: (576, 513, 58) (n_wavs, n_freq_bins, n_windows)\n",
    "# mels:         (576, 128, 58) (n_wavs, n_mels, n_windows)\n",
    "# mfccs:        (576, 20, 58)  (n_wavs, n_mfcc, n_windows)\n",
    "all_wav_data = load_wav_files(os.path.join(\"Data\", \"dataset\"), \n",
    "                              flat_data_ref_list)\n",
    "all_spectrograms = np.array([ stft(waveform, win_length=n_ffts, plot=False) \n",
    "                              for waveform in all_wav_data ])"
   ]
  },
  {
   "cell_type": "markdown",
   "metadata": {},
   "source": [
    "### Data-Label Structuring\n",
    "This puts together the actual data-label pairs to be fed into the ANN.\n",
    "\n",
    "Generate `data` and `labels` from `all_mfcc` and using `nd_ref_idx`.\n",
    "\n",
    "Note that `labels` is only used used by the classifier, and not TimbreVAE."
   ]
  },
  {
   "cell_type": "code",
   "execution_count": 13,
   "metadata": {
    "scrolled": true
   },
   "outputs": [],
   "source": [
    "n_mfcc = n_mfccs[0]\n",
    "all_mels, all_mfcc = map(np.array, map(list, zip(*\n",
    "                         [ ffts_to_mel(ffts, n_mels = n_mels, n_mfcc = n_mfcc) \n",
    "                           for ffts in all_spectrograms ])))\n",
    "n_files, n_mfcc_dummy, n_windows = all_mfcc.shape\n",
    "\n",
    "# Returns a flat 2d idx, given a wavfile index and a window index\n",
    "flat_data_idx = lambda wav_idx, win_idx: flat_2d_array_idx(\n",
    "    wav_idx, win_idx, n_files, n_windows)\n",
    "\n",
    "# data:   (33408, 20) (n_wavs * n_windows, n_mfcc)\n",
    "data_prenorm = np.array([ all_mfcc[wav_file_idx][:, window_idx] \n",
    "                          for wav_file_idx in range(n_files) \n",
    "                          for window_idx in range(n_windows) ])\n",
    "\n",
    "# Globally normalize to [-1, 1]\n",
    "# log(-n) is nan, so we put things on a log scale from absolute values, and\n",
    "# mutliply the sign back.\n",
    "signs = np.sign(data_prenorm)\n",
    "data_logged = np.log(np.abs(data_prenorm))\n",
    "max_mfcc = np.max(np.abs(data_logged))\n",
    "data = data_logged / max_mfcc\n",
    "# If going to zero-one\n",
    "# data = normalize_rows(data, NormMode.NEG_ONE_ONE_TO_ZERO_ONE)"
   ]
  },
  {
   "cell_type": "code",
   "execution_count": 14,
   "metadata": {},
   "outputs": [
    {
     "name": "stdout",
     "output_type": "stream",
     "text": [
      "[-1.4232253e+02  2.5124673e+02 -3.5486549e+01  7.2455963e+01\n",
      "  3.2391647e+01  5.8577888e+01 -9.0863409e+00 -2.3206078e+01\n",
      " -3.1755833e+01 -1.1568871e+01  1.5435003e+01 -1.6487875e+01\n",
      " -6.3505516e+00  1.6824434e+01 -3.1595240e+00  7.1181893e-01\n",
      "  2.4520906e+01  1.6444090e+01 -4.0628190e+00 -1.6550110e+01\n",
      "  5.4667397e+00 -1.1811255e+01 -2.3326445e-01 -1.9993465e+01\n",
      " -1.1135010e+01 -8.1160154e+00 -4.9543185e+00  7.8407574e+00\n",
      " -1.8072077e+01  2.9504021e+01  7.4153967e+00 -4.5475411e+00\n",
      "  1.9492166e+00 -1.2899987e+01 -1.4165734e+01 -8.2396507e+00\n",
      " -9.3923483e+00 -7.5823956e+00  1.2699495e+01 -1.1117794e+01]\n",
      "[ 0.50722885  0.5653718   0.36513573  0.4381623   0.3558002   0.41641042\n",
      "  0.22575979  0.32168353  0.35377216  0.25047067  0.2799667   0.2867174\n",
      "  0.18911165  0.28878468  0.11769175 -0.03477609  0.32732162  0.28644538\n",
      "  0.14341645  0.28710285  0.17378059  0.25259194 -0.14891069  0.30643946\n",
      "  0.24656026  0.2142064   0.16371162  0.21067654  0.296103    0.34624776\n",
      "  0.20497036  0.15494701  0.06827994  0.26161236  0.27118787  0.21575308\n",
      "  0.22914837  0.20724872  0.26000986  0.24640197]\n",
      "[-1.4232246e+02  2.5124667e+02 -3.5486557e+01  7.2455956e+01\n",
      "  3.2391640e+01  5.8577885e+01 -9.0863409e+00 -2.3206079e+01\n",
      " -3.1755831e+01 -1.1568871e+01  1.5435001e+01 -1.6487873e+01\n",
      " -6.3505507e+00  1.6824434e+01 -3.1595240e+00  7.1181893e-01\n",
      "  2.4520899e+01  1.6444088e+01 -4.0628185e+00 -1.6550108e+01\n",
      "  5.4667401e+00 -1.1811255e+01 -2.3326446e-01 -1.9993467e+01\n",
      " -1.1135010e+01 -8.1160154e+00 -4.9543185e+00  7.8407574e+00\n",
      " -1.8072073e+01  2.9504017e+01  7.4153957e+00 -4.5475411e+00\n",
      "  1.9492165e+00 -1.2899987e+01 -1.4165733e+01 -8.2396507e+00\n",
      " -9.3923473e+00 -7.5823941e+00  1.2699495e+01 -1.1117794e+01]\n"
     ]
    },
    {
     "data": {
      "image/png": "[encoded data removed]",
      "text/plain": [
       "<Figure size 432x288 with 1 Axes>"
      ]
     },
     "metadata": {
      "needs_background": "light"
     },
     "output_type": "display_data"
    },
    {
     "data": {
      "image/png": "[encoded data removed]",
      "text/plain": [
       "<Figure size 432x288 with 1 Axes>"
      ]
     },
     "metadata": {
      "needs_background": "light"
     },
     "output_type": "display_data"
    },
    {
     "data": {
      "image/png": "[encoded data removed]",
      "text/plain": [
       "<Figure size 432x288 with 1 Axes>"
      ]
     },
     "metadata": {
      "needs_background": "light"
     },
     "output_type": "display_data"
    }
   ],
   "source": [
    "# To restore:\n",
    "restored_data = signs * np.e ** (data * max_mfcc)\n",
    "# If going to zero-one\n",
    "# restored_data = signs * np.e ** np.abs(\n",
    "#     denormalize_rows(data, DenormMode.ZERO_ONE_TO_NEG_ONE_ONE) * max_mfcc)\n",
    "# Visualize MFCCs\n",
    "plt.figure()\n",
    "plt.plot(data_prenorm[0])\n",
    "plt.figure()\n",
    "plt.plot(data[0])\n",
    "plt.figure()\n",
    "plt.plot(restored_data[0])\n",
    "# Numeric verification\n",
    "print(data_prenorm[0])\n",
    "print(data[0])\n",
    "print(restored_data[0])"
   ]
  },
  {
   "cell_type": "markdown",
   "metadata": {},
   "source": [
    "Split Data into `train` and `test`, and convert to Torch tensors of the correct types. Run **only one of these cells.**\n",
    "\n",
    "First method (**not-recommended**, simple): Random sampling to train and test"
   ]
  },
  {
   "cell_type": "code",
   "execution_count": null,
   "metadata": {},
   "outputs": [],
   "source": [
    "# X_train, Y_train: (25056, 20) (25056) \n",
    "# X_val, Y_val:     (8352, 20) (8352)\n",
    "X_train, X_val, Y_train, Y_val = train_test_split(data, labels, stratify=labels, random_state=0)\n",
    "X_train, Y_train, X_val, Y_val = map(torch.tensor, (X_train, Y_train, X_val, Y_val))\n",
    "# Default tensor is float\n",
    "X_train = X_train.float(); X_val = X_val.float()\n",
    "# Used as index, so it is long\n",
    "Y_train = Y_train.long(); Y_val = Y_val.long()"
   ]
  },
  {
   "cell_type": "markdown",
   "metadata": {},
   "source": [
    "Second method **(recommended)**: 1 person from each wav will be the test data"
   ]
  },
  {
   "cell_type": "code",
   "execution_count": 15,
   "metadata": {},
   "outputs": [],
   "source": [
    "# X_train: (22272, 20)\n",
    "# X_val: (11136, 20)\n",
    "X_train = []; X_val = [];\n",
    "for vow_idx in range(n_vowels):\n",
    "    for pit_idx in range(n_pitches):\n",
    "        # Choose the person for this pitch/vowel to be used as test data\n",
    "        test_pid = int(np.random.rand() * 3)\n",
    "        for pid_idx in range(n_people):\n",
    "            wav_idx = flat_ref_idx(vow_idx, pit_idx, pid_idx)\n",
    "            if (pid_idx != test_pid):\n",
    "                for win_idx in range(n_windows):\n",
    "                    X_train.append(data[flat_data_idx(wav_idx, win_idx)])\n",
    "            else:\n",
    "                for win_idx in range(n_windows):\n",
    "                    X_val.append(data[flat_data_idx(wav_idx, win_idx)])\n",
    "X_train, X_val = map(torch.tensor, (X_train, X_val))\n",
    "# Default tensor is float\n",
    "X_train = X_train.float(); X_val = X_val.float()"
   ]
  },
  {
   "cell_type": "markdown",
   "metadata": {},
   "source": [
    "### Timbre-VAE - MFCC -> MFCC\n",
    "This takes MFCC, reduces dimensionality to a `n_timb` latent space, and attempts to recreate the MFCC."
   ]
  },
  {
   "cell_type": "code",
   "execution_count": null,
   "metadata": {},
   "outputs": [],
   "source": [
    "n_hid = 10; n_timb = 4; lr = 1e-3; n_epochs = 2000; batch_size=22272\n",
    "\n",
    "# Training model \n",
    "model = TimbreVAE(n_mfcc=n_mfcc, n_hid=n_hid, n_timb=n_timb)\n",
    "\n",
    "# Define loss - from pytorch VAE example.\n",
    "def loss_fn(recon_x, x, mu, logvar):\n",
    "    BCE = F.binary_cross_entropy(recon_x, x, reduction='sum')\n",
    "    KLD = -0.5 * torch.sum(1 + logvar - mu.pow(2) - logvar.exp())\n",
    "    return BCE + KLD"
   ]
  },
  {
   "cell_type": "code",
   "execution_count": null,
   "metadata": {},
   "outputs": [],
   "source": [
    "print(\"GPU Available\" if torch.cuda.is_available() else \"GPU Not available\")"
   ]
  },
  {
   "cell_type": "code",
   "execution_count": null,
   "metadata": {
    "scrolled": true
   },
   "outputs": [],
   "source": [
    "# Use GPU if possible (will run on CPU otherwise)\n",
    "device = torch.device(\"cuda\") if torch.cuda.is_available() else torch.device(\"cpu\")\n",
    "\n",
    "# Move inputs to GPU (if possible)\n",
    "X_train = X_train.to(device)\n",
    "X_val = X_val.to(device)\n",
    "\n",
    "# Move the network to GPU (if possible)\n",
    "model.to(device) \n",
    "# Define optimizer \n",
    "# opt = optim.SGD(model.parameters(), lr=lr)\n",
    "opt = optim.Adam(model.parameters(), lr=lr)\n",
    "\n",
    "# Fit the model\n",
    "tic = time.time()\n",
    "train_loss, val_loss = model.train_func(X_train, X_val, model, opt, loss_fn, batch_size=batch_size,\n",
    "                        epochs=n_epochs, print_graph = True)\n",
    "toc = time.time()\n",
    "print('Final loss: {}\\nTime taken: {}'.format(train_loss, toc - tic))"
   ]
  },
  {
   "cell_type": "markdown",
   "metadata": {},
   "source": [
    "Saving the model"
   ]
  },
  {
   "cell_type": "code",
   "execution_count": null,
   "metadata": {},
   "outputs": [],
   "source": [
    "print(\"Model's state_dict:\")\n",
    "for param_tensor in model.state_dict():\n",
    "    print(param_tensor, \"\\t\", model.state_dict()[param_tensor].size())\n",
    "model_path = os.path.join(\"model_data\", \"TimbreVAE_Expts_nmels256_nfft2048\", \n",
    "                          \"TimbreVAE_lr{}_n_epochs{}_n_mfcc{}_n_hid{}_n_timb{}_{:.6f}.pt\"\n",
    "                          .format(lr, n_epochs, n_mfcc, n_hid, n_timb, val_loss))\n",
    "torch.save(model.state_dict(), model_path)\n",
    "print(\"Model saved at {}\".format(model_path))"
   ]
  },
  {
   "cell_type": "markdown",
   "metadata": {},
   "source": [
    "Loading the saved model, and using the model for prediction example"
   ]
  },
  {
   "cell_type": "code",
   "execution_count": null,
   "metadata": {},
   "outputs": [],
   "source": [
    "model = TimbreVAE(n_mfcc=n_mfcc, n_hid=n_hid, n_timb=n_timb)\n",
    "model.load_state_dict(torch.load(model_path))\n",
    "model.eval()\n",
    "\n",
    "data_tensor = torch.tensor(data)\n",
    "data_tensor = data_tensor.float();\n",
    "\n",
    "wav_idx = flat_ref_idx(5, 5, 1)\n",
    "data_idx = flat_data_idx(wav_idx, 30)\n",
    "label = data_tensor[data_idx]\n",
    "pred, _, _ = model(data_tensor)\n",
    "\n",
    "# To restore:\n",
    "restored_pred = signs * np.e ** np.abs(\n",
    "    denormalize_rows(pred.detach().numpy(), DenormMode.ZERO_ONE_TO_NEG_ONE_ONE) * max_mfcc)\n",
    "    \n",
    "# Visualize MFCCs\n",
    "fig, ax = plt.subplots(2, 1, figsize=(10, 10))\n",
    "fig.suptitle(\"TimbreVAE lr{} n_epochs{} n_mfcc{} n_hid{} n_timb{} loss{:.6f}\"\n",
    "             .format(lr, n_epochs, n_mfcc, n_hid, n_timb, val_loss))\n",
    "# plt.figure()\n",
    "ax[0].plot(data_prenorm[data_idx])\n",
    "ax[0].plot(restored_pred[data_idx])\n",
    "# fig, ax = plt.subplots(2, 1)\n",
    "# plt.figure()\n",
    "ax[1].plot(data[data_idx])\n",
    "ax[1].plot(pred.detach().numpy()[data_idx])\n",
    "fig.savefig(os.path.join(\"model_data\", \"TimbreVAE_Expts_nmels256_nfft2048\", \n",
    "    \"TimbreVAE_lr{}_n_epochs{}_n_mfcc{}_n_hid{}_n_timb{}_{:.6f}.jpg\"\n",
    "            .format(lr, n_epochs, n_mfcc, n_hid, n_timb, val_loss)))\n",
    "\n",
    "# Numeric verification\n",
    "np.set_printoptions(suppress=True)\n",
    "print(data_prenorm[data_idx])\n",
    "print(restored_pred[data_idx])\n",
    "print(data[data_idx])\n",
    "print(pred.detach().numpy()[data_idx])"
   ]
  },
  {
   "cell_type": "markdown",
   "metadata": {},
   "source": [
    "# Experiment: Choosing `n_hid`, `n_timb`, `n_mfcc`\n",
    "\n",
    "Linear, relu, linear/linear/reparam, linear, relu, linear, sigmoid (normalized data from 0-1), BCE+KLD\n",
    "\n",
    "From running this, we find the results:  \n",
    "For n_mfcc=12: 12, 10, 8  \n",
    "For n_mfcc=24: 24, 10, 4  \n",
    "For n_mfcc=40: 40, 38, 8"
   ]
  },
  {
   "cell_type": "code",
   "execution_count": 18,
   "metadata": {
    "scrolled": true
   },
   "outputs": [
    {
     "data": {
      "application/vnd.jupyter.widget-view+json": {
       "model_id": "538c06ed98d7450d9d17c2975af1232e",
       "version_major": 2,
       "version_minor": 0
      },
      "text/plain": [
       "HBox(children=(FloatProgress(value=0.0, description='n_mfcc40,n_hid10,n_timb4', max=2000.0, style=ProgressStyl…"
      ]
     },
     "metadata": {},
     "output_type": "display_data"
    },
    {
     "name": "stdout",
     "output_type": "stream",
     "text": [
      "\n",
      "Training Loss before/after: 28.45667766702586, 26.955838609015803\n",
      "Validation Loss before/after: 28.434831290409484, 26.95325689206178\n",
      "Final loss: 26.955838609015803\t\tTime taken: 19.300349950790405\n",
      "Model saved at model_data\\TimbreVAE_Expts_nmels256_nfft2048\\TimbreVAE_lr0.001_n_epochs2000_n_mfcc40_n_hid10_n_timb4_26.953195.pt\n"
     ]
    },
    {
     "data": {
      "application/vnd.jupyter.widget-view+json": {
       "model_id": "138178613be44beea00df044a40dca3a",
       "version_major": 2,
       "version_minor": 0
      },
      "text/plain": [
       "HBox(children=(FloatProgress(value=0.0, description='n_mfcc40,n_hid10,n_timb6', max=2000.0, style=ProgressStyl…"
      ]
     },
     "metadata": {},
     "output_type": "display_data"
    },
    {
     "name": "stdout",
     "output_type": "stream",
     "text": [
      "\n",
      "Training Loss before/after: 28.468539533943964, 26.95561972431753\n",
      "Validation Loss before/after: 28.431932471264368, 26.95299872036638\n",
      "Final loss: 26.95561972431753\t\tTime taken: 20.529834032058716\n",
      "Model saved at model_data\\TimbreVAE_Expts_nmels256_nfft2048\\TimbreVAE_lr0.001_n_epochs2000_n_mfcc40_n_hid10_n_timb6_26.953049.pt\n"
     ]
    },
    {
     "data": {
      "application/vnd.jupyter.widget-view+json": {
       "model_id": "b8d6cd82ba5145afb8f1d5e41525576d",
       "version_major": 2,
       "version_minor": 0
      },
      "text/plain": [
       "HBox(children=(FloatProgress(value=0.0, description='n_mfcc40,n_hid10,n_timb8', max=2000.0, style=ProgressStyl…"
      ]
     },
     "metadata": {},
     "output_type": "display_data"
    },
    {
     "name": "stdout",
     "output_type": "stream",
     "text": [
      "\n",
      "Training Loss before/after: 28.329626324533045, 26.95562814295977\n",
      "Validation Loss before/after: 28.293746071300287, 26.952979076867816\n",
      "Final loss: 26.95562814295977\t\tTime taken: 20.430832386016846\n",
      "Model saved at model_data\\TimbreVAE_Expts_nmels256_nfft2048\\TimbreVAE_lr0.001_n_epochs2000_n_mfcc40_n_hid10_n_timb8_26.952987.pt\n"
     ]
    },
    {
     "data": {
      "application/vnd.jupyter.widget-view+json": {
       "model_id": "53ef5eef02a84f7a91f8ad0c5fc8aac6",
       "version_major": 2,
       "version_minor": 0
      },
      "text/plain": [
       "HBox(children=(FloatProgress(value=0.0, description='n_mfcc40,n_hid12,n_timb4', max=2000.0, style=ProgressStyl…"
      ]
     },
     "metadata": {},
     "output_type": "display_data"
    },
    {
     "name": "stdout",
     "output_type": "stream",
     "text": [
      "\n",
      "Training Loss before/after: 28.317472611350574, 26.95610800556753\n",
      "Validation Loss before/after: 28.293959343570403, 26.953349497126435\n",
      "Final loss: 26.95610800556753\t\tTime taken: 21.283608198165894\n",
      "Model saved at model_data\\TimbreVAE_Expts_nmels256_nfft2048\\TimbreVAE_lr0.001_n_epochs2000_n_mfcc40_n_hid12_n_timb4_26.953338.pt\n"
     ]
    },
    {
     "data": {
      "application/vnd.jupyter.widget-view+json": {
       "model_id": "2861a5be932243ef9dcdf4f9201cfa5d",
       "version_major": 2,
       "version_minor": 0
      },
      "text/plain": [
       "HBox(children=(FloatProgress(value=0.0, description='n_mfcc40,n_hid12,n_timb6', max=2000.0, style=ProgressStyl…"
      ]
     },
     "metadata": {},
     "output_type": "display_data"
    },
    {
     "name": "stdout",
     "output_type": "stream",
     "text": [
      "\n",
      "Training Loss before/after: 28.602797234195403, 26.955673042385058\n",
      "Validation Loss before/after: 28.559957570043103, 26.953038007363507\n",
      "Final loss: 26.955673042385058\t\tTime taken: 19.93850016593933\n",
      "Model saved at model_data\\TimbreVAE_Expts_nmels256_nfft2048\\TimbreVAE_lr0.001_n_epochs2000_n_mfcc40_n_hid12_n_timb6_26.953139.pt\n"
     ]
    },
    {
     "data": {
      "application/vnd.jupyter.widget-view+json": {
       "model_id": "c5e89f1001d342cf898dc1407c349713",
       "version_major": 2,
       "version_minor": 0
      },
      "text/plain": [
       "HBox(children=(FloatProgress(value=0.0, description='n_mfcc40,n_hid12,n_timb8', max=2000.0, style=ProgressStyl…"
      ]
     },
     "metadata": {},
     "output_type": "display_data"
    },
    {
     "name": "stdout",
     "output_type": "stream",
     "text": [
      "\n",
      "Training Loss before/after: 28.390540813577587, 26.955557987607758\n",
      "Validation Loss before/after: 28.362877155172413, 26.952951014727013\n",
      "Final loss: 26.955557987607758\t\tTime taken: 18.76777744293213\n",
      "Model saved at model_data\\TimbreVAE_Expts_nmels256_nfft2048\\TimbreVAE_lr0.001_n_epochs2000_n_mfcc40_n_hid12_n_timb8_26.952959.pt\n"
     ]
    },
    {
     "data": {
      "application/vnd.jupyter.widget-view+json": {
       "model_id": "17ab1d852df64664962aad1f2175a543",
       "version_major": 2,
       "version_minor": 0
      },
      "text/plain": [
       "HBox(children=(FloatProgress(value=0.0, description='n_mfcc40,n_hid12,n_timb10', max=2000.0, style=ProgressSty…"
      ]
     },
     "metadata": {},
     "output_type": "display_data"
    },
    {
     "name": "stdout",
     "output_type": "stream",
     "text": [
      "\n",
      "Training Loss before/after: 28.405020878232758, 26.95568426724138\n",
      "Validation Loss before/after: 28.385273549748565, 26.953043619791668\n",
      "Final loss: 26.95568426724138\t\tTime taken: 18.847283840179443\n",
      "Model saved at model_data\\TimbreVAE_Expts_nmels256_nfft2048\\TimbreVAE_lr0.001_n_epochs2000_n_mfcc40_n_hid12_n_timb10_26.953024.pt\n"
     ]
    },
    {
     "data": {
      "application/vnd.jupyter.widget-view+json": {
       "model_id": "f5cec7d7fb6a410d90bfd6d3c0c7cbfe",
       "version_major": 2,
       "version_minor": 0
      },
      "text/plain": [
       "HBox(children=(FloatProgress(value=0.0, description='n_mfcc40,n_hid14,n_timb4', max=2000.0, style=ProgressStyl…"
      ]
     },
     "metadata": {},
     "output_type": "display_data"
    },
    {
     "name": "stdout",
     "output_type": "stream",
     "text": [
      "\n",
      "Training Loss before/after: 28.071216100933906, 26.955594468390803\n",
      "Validation Loss before/after: 28.04327743354885, 26.95299872036638\n",
      "Final loss: 26.955594468390803\t\tTime taken: 19.411520957946777\n",
      "Model saved at model_data\\TimbreVAE_Expts_nmels256_nfft2048\\TimbreVAE_lr0.001_n_epochs2000_n_mfcc40_n_hid14_n_timb4_26.953004.pt\n"
     ]
    },
    {
     "data": {
      "application/vnd.jupyter.widget-view+json": {
       "model_id": "79f6b7de272748679f6b11faad5e182b",
       "version_major": 2,
       "version_minor": 0
      },
      "text/plain": [
       "HBox(children=(FloatProgress(value=0.0, description='n_mfcc40,n_hid14,n_timb6', max=2000.0, style=ProgressStyl…"
      ]
     },
     "metadata": {},
     "output_type": "display_data"
    },
    {
     "name": "stdout",
     "output_type": "stream",
     "text": [
      "\n",
      "Training Loss before/after: 28.200279498922413, 26.95561972431753\n",
      "Validation Loss before/after: 28.159656743893677, 26.95295662715517\n",
      "Final loss: 26.95561972431753\t\tTime taken: 21.306511402130127\n",
      "Model saved at model_data\\TimbreVAE_Expts_nmels256_nfft2048\\TimbreVAE_lr0.001_n_epochs2000_n_mfcc40_n_hid14_n_timb6_26.953004.pt\n"
     ]
    },
    {
     "data": {
      "application/vnd.jupyter.widget-view+json": {
       "model_id": "6f4970c67ed74c60b1caf5e49773e71d",
       "version_major": 2,
       "version_minor": 0
      },
      "text/plain": [
       "HBox(children=(FloatProgress(value=0.0, description='n_mfcc40,n_hid14,n_timb8', max=2000.0, style=ProgressStyl…"
      ]
     },
     "metadata": {},
     "output_type": "display_data"
    },
    {
     "name": "stdout",
     "output_type": "stream",
     "text": [
      "\n",
      "Training Loss before/after: 28.318516522988507, 26.95564498024425\n",
      "Validation Loss before/after: 28.299299568965516, 26.95304642600575\n",
      "Final loss: 26.95564498024425\t\tTime taken: 19.248207092285156\n",
      "Model saved at model_data\\TimbreVAE_Expts_nmels256_nfft2048\\TimbreVAE_lr0.001_n_epochs2000_n_mfcc40_n_hid14_n_timb8_26.953038.pt\n"
     ]
    },
    {
     "data": {
      "application/vnd.jupyter.widget-view+json": {
       "model_id": "3fec158aeb1044c697cfda6bc0a0e590",
       "version_major": 2,
       "version_minor": 0
      },
      "text/plain": [
       "HBox(children=(FloatProgress(value=0.0, description='n_mfcc40,n_hid14,n_timb10', max=2000.0, style=ProgressSty…"
      ]
     },
     "metadata": {},
     "output_type": "display_data"
    },
    {
     "name": "stdout",
     "output_type": "stream",
     "text": [
      "\n",
      "Training Loss before/after: 28.447069190014368, 26.955726360452587\n",
      "Validation Loss before/after: 28.40168709590517, 26.953096937859197\n",
      "Final loss: 26.955726360452587\t\tTime taken: 18.14755630493164\n",
      "Model saved at model_data\\TimbreVAE_Expts_nmels256_nfft2048\\TimbreVAE_lr0.001_n_epochs2000_n_mfcc40_n_hid14_n_timb10_26.953072.pt\n"
     ]
    },
    {
     "data": {
      "application/vnd.jupyter.widget-view+json": {
       "model_id": "52ee342553dd4467a277e350e5827cb6",
       "version_major": 2,
       "version_minor": 0
      },
      "text/plain": [
       "HBox(children=(FloatProgress(value=0.0, description='n_mfcc40,n_hid16,n_timb4', max=2000.0, style=ProgressStyl…"
      ]
     },
     "metadata": {},
     "output_type": "display_data"
    },
    {
     "name": "stdout",
     "output_type": "stream",
     "text": [
      "\n",
      "Training Loss before/after: 28.21374932650862, 26.955535537895116\n",
      "Validation Loss before/after: 28.193073141163794, 26.952973464439655\n",
      "Final loss: 26.955535537895116\t\tTime taken: 17.98383331298828\n",
      "Model saved at model_data\\TimbreVAE_Expts_nmels256_nfft2048\\TimbreVAE_lr0.001_n_epochs2000_n_mfcc40_n_hid16_n_timb4_26.952948.pt\n"
     ]
    },
    {
     "data": {
      "application/vnd.jupyter.widget-view+json": {
       "model_id": "d79234b869924cb594ed4458e3713779",
       "version_major": 2,
       "version_minor": 0
      },
      "text/plain": [
       "HBox(children=(FloatProgress(value=0.0, description='n_mfcc40,n_hid16,n_timb6', max=2000.0, style=ProgressStyl…"
      ]
     },
     "metadata": {},
     "output_type": "display_data"
    },
    {
     "name": "stdout",
     "output_type": "stream",
     "text": [
      "\n",
      "Training Loss before/after: 28.187637504489942, 26.955614111889368\n",
      "Validation Loss before/after: 28.14032754130747, 26.952928565014368\n",
      "Final loss: 26.955614111889368\t\tTime taken: 18.562549352645874\n",
      "Model saved at model_data\\TimbreVAE_Expts_nmels256_nfft2048\\TimbreVAE_lr0.001_n_epochs2000_n_mfcc40_n_hid16_n_timb6_26.952996.pt\n"
     ]
    },
    {
     "data": {
      "application/vnd.jupyter.widget-view+json": {
       "model_id": "0eab7862eed7485db9d9aac05d0cc253",
       "version_major": 2,
       "version_minor": 0
      },
      "text/plain": [
       "HBox(children=(FloatProgress(value=0.0, description='n_mfcc40,n_hid16,n_timb8', max=2000.0, style=ProgressStyl…"
      ]
     },
     "metadata": {},
     "output_type": "display_data"
    },
    {
     "name": "stdout",
     "output_type": "stream",
     "text": [
      "\n",
      "Training Loss before/after: 28.53577642331178, 26.955779678520116\n",
      "Validation Loss before/after: 28.485012010596265, 26.953155868354884\n",
      "Final loss: 26.955779678520116\t\tTime taken: 18.05796504020691\n",
      "Model saved at model_data\\TimbreVAE_Expts_nmels256_nfft2048\\TimbreVAE_lr0.001_n_epochs2000_n_mfcc40_n_hid16_n_timb8_26.953117.pt\n"
     ]
    },
    {
     "data": {
      "application/vnd.jupyter.widget-view+json": {
       "model_id": "41717a07b2d6444cb7eb3368d44304ff",
       "version_major": 2,
       "version_minor": 0
      },
      "text/plain": [
       "HBox(children=(FloatProgress(value=0.0, description='n_mfcc40,n_hid16,n_timb10', max=2000.0, style=ProgressSty…"
      ]
     },
     "metadata": {},
     "output_type": "display_data"
    },
    {
     "name": "stdout",
     "output_type": "stream",
     "text": [
      "\n",
      "Training Loss before/after: 28.228178879310345, 26.955577631106323\n",
      "Validation Loss before/after: 28.167284033764368, 26.95299872036638\n",
      "Final loss: 26.955577631106323\t\tTime taken: 18.087127923965454\n",
      "Model saved at model_data\\TimbreVAE_Expts_nmels256_nfft2048\\TimbreVAE_lr0.001_n_epochs2000_n_mfcc40_n_hid16_n_timb10_26.952987.pt\n"
     ]
    },
    {
     "data": {
      "application/vnd.jupyter.widget-view+json": {
       "model_id": "6a6043ab64c44daaac6299d2d681de2f",
       "version_major": 2,
       "version_minor": 0
      },
      "text/plain": [
       "HBox(children=(FloatProgress(value=0.0, description='n_mfcc40,n_hid18,n_timb4', max=2000.0, style=ProgressStyl…"
      ]
     },
     "metadata": {},
     "output_type": "display_data"
    },
    {
     "name": "stdout",
     "output_type": "stream",
     "text": [
      "\n",
      "Training Loss before/after: 28.80414309446839, 26.955838609015803\n",
      "Validation Loss before/after: 28.735814587823278, 26.953082906788794\n",
      "Final loss: 26.955838609015803\t\tTime taken: 18.120599269866943\n",
      "Model saved at model_data\\TimbreVAE_Expts_nmels256_nfft2048\\TimbreVAE_lr0.001_n_epochs2000_n_mfcc40_n_hid18_n_timb4_26.953181.pt\n"
     ]
    },
    {
     "data": {
      "application/vnd.jupyter.widget-view+json": {
       "model_id": "006afa88e2a44e45a1d4b17a87b3abc9",
       "version_major": 2,
       "version_minor": 0
      },
      "text/plain": [
       "HBox(children=(FloatProgress(value=0.0, description='n_mfcc40,n_hid18,n_timb6', max=2000.0, style=ProgressStyl…"
      ]
     },
     "metadata": {},
     "output_type": "display_data"
    },
    {
     "name": "stdout",
     "output_type": "stream",
     "text": [
      "\n",
      "Training Loss before/after: 28.35168036099138, 26.95570110452586\n",
      "Validation Loss before/after: 28.287269329202587, 26.953043619791668\n",
      "Final loss: 26.95570110452586\t\tTime taken: 18.175711393356323\n",
      "Model saved at model_data\\TimbreVAE_Expts_nmels256_nfft2048\\TimbreVAE_lr0.001_n_epochs2000_n_mfcc40_n_hid18_n_timb6_26.953069.pt\n"
     ]
    },
    {
     "data": {
      "application/vnd.jupyter.widget-view+json": {
       "model_id": "b9bb1b2f10c54343a440573efc910d82",
       "version_major": 2,
       "version_minor": 0
      },
      "text/plain": [
       "HBox(children=(FloatProgress(value=0.0, description='n_mfcc40,n_hid18,n_timb8', max=2000.0, style=ProgressStyl…"
      ]
     },
     "metadata": {},
     "output_type": "display_data"
    },
    {
     "name": "stdout",
     "output_type": "stream",
     "text": [
      "\n",
      "Training Loss before/after: 28.26044753502155, 26.955521506824713\n",
      "Validation Loss before/after: 28.22252155172414, 26.952903309087645\n",
      "Final loss: 26.955521506824713\t\tTime taken: 18.799524784088135\n",
      "Model saved at model_data\\TimbreVAE_Expts_nmels256_nfft2048\\TimbreVAE_lr0.001_n_epochs2000_n_mfcc40_n_hid18_n_timb8_26.952892.pt\n"
     ]
    },
    {
     "data": {
      "application/vnd.jupyter.widget-view+json": {
       "model_id": "d737d2922b194e04a9419516767c8e0c",
       "version_major": 2,
       "version_minor": 0
      },
      "text/plain": [
       "HBox(children=(FloatProgress(value=0.0, description='n_mfcc40,n_hid18,n_timb10', max=2000.0, style=ProgressSty…"
      ]
     },
     "metadata": {},
     "output_type": "display_data"
    },
    {
     "name": "stdout",
     "output_type": "stream",
     "text": [
      "\n",
      "Training Loss before/after: 28.59082592492816, 26.955802128232758\n",
      "Validation Loss before/after: 28.54204550556753, 26.953197961566094\n",
      "Final loss: 26.955802128232758\t\tTime taken: 18.207248210906982\n",
      "Model saved at model_data\\TimbreVAE_Expts_nmels256_nfft2048\\TimbreVAE_lr0.001_n_epochs2000_n_mfcc40_n_hid18_n_timb10_26.953131.pt\n"
     ]
    },
    {
     "data": {
      "application/vnd.jupyter.widget-view+json": {
       "model_id": "fdb512f3537d4d9689b69bdabcfbc104",
       "version_major": 2,
       "version_minor": 0
      },
      "text/plain": [
       "HBox(children=(FloatProgress(value=0.0, description='n_mfcc40,n_hid20,n_timb4', max=2000.0, style=ProgressStyl…"
      ]
     },
     "metadata": {},
     "output_type": "display_data"
    },
    {
     "name": "stdout",
     "output_type": "stream",
     "text": [
      "\n",
      "Training Loss before/after: 28.474502738864942, 26.955729166666668\n",
      "Validation Loss before/after: 28.430871722341955, 26.953116581357758\n",
      "Final loss: 26.955729166666668\t\tTime taken: 19.319132566452026\n",
      "Model saved at model_data\\TimbreVAE_Expts_nmels256_nfft2048\\TimbreVAE_lr0.001_n_epochs2000_n_mfcc40_n_hid20_n_timb4_26.953058.pt\n"
     ]
    },
    {
     "data": {
      "application/vnd.jupyter.widget-view+json": {
       "model_id": "af2f8f82965e4e0aafdb72b09c87e7c4",
       "version_major": 2,
       "version_minor": 0
      },
      "text/plain": [
       "HBox(children=(FloatProgress(value=0.0, description='n_mfcc40,n_hid20,n_timb6', max=2000.0, style=ProgressStyl…"
      ]
     },
     "metadata": {},
     "output_type": "display_data"
    },
    {
     "name": "stdout",
     "output_type": "stream",
     "text": [
      "\n",
      "Training Loss before/after: 28.281693381824713, 26.955541150323278\n",
      "Validation Loss before/after: 28.250937275502874, 26.952922952586206\n",
      "Final loss: 26.955541150323278\t\tTime taken: 19.58222794532776\n",
      "Model saved at model_data\\TimbreVAE_Expts_nmels256_nfft2048\\TimbreVAE_lr0.001_n_epochs2000_n_mfcc40_n_hid20_n_timb6_26.953038.pt\n"
     ]
    },
    {
     "data": {
      "application/vnd.jupyter.widget-view+json": {
       "model_id": "4b8375affbbd4757a81e4ff5a594c1eb",
       "version_major": 2,
       "version_minor": 0
      },
      "text/plain": [
       "HBox(children=(FloatProgress(value=0.0, description='n_mfcc40,n_hid20,n_timb8', max=2000.0, style=ProgressStyl…"
      ]
     },
     "metadata": {},
     "output_type": "display_data"
    },
    {
     "name": "stdout",
     "output_type": "stream",
     "text": [
      "\n",
      "Training Loss before/after: 28.390580100574713, 26.95567584859914\n",
      "Validation Loss before/after: 28.354270496587645, 26.953082906788794\n",
      "Final loss: 26.95567584859914\t\tTime taken: 18.258150815963745\n",
      "Model saved at model_data\\TimbreVAE_Expts_nmels256_nfft2048\\TimbreVAE_lr0.001_n_epochs2000_n_mfcc40_n_hid20_n_timb8_26.952990.pt\n"
     ]
    },
    {
     "data": {
      "application/vnd.jupyter.widget-view+json": {
       "model_id": "b89e7b0725cc423ab987b784036d5ca6",
       "version_major": 2,
       "version_minor": 0
      },
      "text/plain": [
       "HBox(children=(FloatProgress(value=0.0, description='n_mfcc40,n_hid20,n_timb10', max=2000.0, style=ProgressSty…"
      ]
     },
     "metadata": {},
     "output_type": "display_data"
    },
    {
     "name": "stdout",
     "output_type": "stream",
     "text": [
      "\n",
      "Training Loss before/after: 28.217989515984197, 26.95562814295977\n",
      "Validation Loss before/after: 28.17518352640086, 26.95301275143678\n",
      "Final loss: 26.95562814295977\t\tTime taken: 18.501038074493408\n",
      "Model saved at model_data\\TimbreVAE_Expts_nmels256_nfft2048\\TimbreVAE_lr0.001_n_epochs2000_n_mfcc40_n_hid20_n_timb10_26.953021.pt\n"
     ]
    },
    {
     "data": {
      "application/vnd.jupyter.widget-view+json": {
       "model_id": "8642eb18bee840babe27eb432ccc46cc",
       "version_major": 2,
       "version_minor": 0
      },
      "text/plain": [
       "HBox(children=(FloatProgress(value=0.0, description='n_mfcc40,n_hid22,n_timb4', max=2000.0, style=ProgressStyl…"
      ]
     },
     "metadata": {},
     "output_type": "display_data"
    },
    {
     "name": "stdout",
     "output_type": "stream",
     "text": [
      "\n",
      "Training Loss before/after: 28.06506487966954, 26.955650592672413\n",
      "Validation Loss before/after: 28.029981591235632, 26.95293417744253\n",
      "Final loss: 26.955650592672413\t\tTime taken: 18.231341123580933\n",
      "Model saved at model_data\\TimbreVAE_Expts_nmels256_nfft2048\\TimbreVAE_lr0.001_n_epochs2000_n_mfcc40_n_hid22_n_timb4_26.952996.pt\n"
     ]
    },
    {
     "data": {
      "application/vnd.jupyter.widget-view+json": {
       "model_id": "c22fda9322e341b5ab70592702c3e9b7",
       "version_major": 2,
       "version_minor": 0
      },
      "text/plain": [
       "HBox(children=(FloatProgress(value=0.0, description='n_mfcc40,n_hid22,n_timb6', max=2000.0, style=ProgressStyl…"
      ]
     },
     "metadata": {},
     "output_type": "display_data"
    },
    {
     "name": "stdout",
     "output_type": "stream",
     "text": [
      "\n",
      "Training Loss before/after: 28.311484150502874, 26.955720748024426\n",
      "Validation Loss before/after: 28.274251302083332, 26.953018363864942\n",
      "Final loss: 26.955720748024426\t\tTime taken: 18.192272186279297\n",
      "Model saved at model_data\\TimbreVAE_Expts_nmels256_nfft2048\\TimbreVAE_lr0.001_n_epochs2000_n_mfcc40_n_hid22_n_timb6_26.953136.pt\n"
     ]
    },
    {
     "data": {
      "application/vnd.jupyter.widget-view+json": {
       "model_id": "0d232380d1624832ae4c8c300f53f038",
       "version_major": 2,
       "version_minor": 0
      },
      "text/plain": [
       "HBox(children=(FloatProgress(value=0.0, description='n_mfcc40,n_hid22,n_timb8', max=2000.0, style=ProgressStyl…"
      ]
     },
     "metadata": {},
     "output_type": "display_data"
    },
    {
     "name": "stdout",
     "output_type": "stream",
     "text": [
      "\n",
      "Training Loss before/after: 28.404089215158045, 26.955726360452587\n",
      "Validation Loss before/after: 28.362966954022987, 26.953155868354884\n",
      "Final loss: 26.955726360452587\t\tTime taken: 18.543402671813965\n",
      "Model saved at model_data\\TimbreVAE_Expts_nmels256_nfft2048\\TimbreVAE_lr0.001_n_epochs2000_n_mfcc40_n_hid22_n_timb8_26.953091.pt\n"
     ]
    },
    {
     "data": {
      "application/vnd.jupyter.widget-view+json": {
       "model_id": "1235314447ee4ef0b94bacc3f04ea4d4",
       "version_major": 2,
       "version_minor": 0
      },
      "text/plain": [
       "HBox(children=(FloatProgress(value=0.0, description='n_mfcc40,n_hid22,n_timb10', max=2000.0, style=ProgressSty…"
      ]
     },
     "metadata": {},
     "output_type": "display_data"
    },
    {
     "name": "stdout",
     "output_type": "stream",
     "text": [
      "\n",
      "Training Loss before/after: 28.334141522988507, 26.955650592672413\n",
      "Validation Loss before/after: 28.284075857579023, 26.952973464439655\n",
      "Final loss: 26.955650592672413\t\tTime taken: 18.24398112297058\n",
      "Model saved at model_data\\TimbreVAE_Expts_nmels256_nfft2048\\TimbreVAE_lr0.001_n_epochs2000_n_mfcc40_n_hid22_n_timb10_26.953066.pt\n"
     ]
    },
    {
     "data": {
      "application/vnd.jupyter.widget-view+json": {
       "model_id": "69f5347f9df5476e99f0d8100b05c149",
       "version_major": 2,
       "version_minor": 0
      },
      "text/plain": [
       "HBox(children=(FloatProgress(value=0.0, description='n_mfcc40,n_hid24,n_timb4', max=2000.0, style=ProgressStyl…"
      ]
     },
     "metadata": {},
     "output_type": "display_data"
    },
    {
     "name": "stdout",
     "output_type": "stream",
     "text": [
      "\n",
      "Training Loss before/after: 28.20959893588362, 26.95569268588362\n",
      "Validation Loss before/after: 28.171406362248565, 26.953026782507184\n",
      "Final loss: 26.95569268588362\t\tTime taken: 18.049214124679565\n",
      "Model saved at model_data\\TimbreVAE_Expts_nmels256_nfft2048\\TimbreVAE_lr0.001_n_epochs2000_n_mfcc40_n_hid24_n_timb4_26.953041.pt\n"
     ]
    },
    {
     "data": {
      "application/vnd.jupyter.widget-view+json": {
       "model_id": "d64b023c86a4410282abd51c983d9898",
       "version_major": 2,
       "version_minor": 0
      },
      "text/plain": [
       "HBox(children=(FloatProgress(value=0.0, description='n_mfcc40,n_hid24,n_timb6', max=2000.0, style=ProgressStyl…"
      ]
     },
     "metadata": {},
     "output_type": "display_data"
    },
    {
     "name": "stdout",
     "output_type": "stream",
     "text": [
      "\n",
      "Training Loss before/after: 27.956192191989942, 26.955527119252874\n",
      "Validation Loss before/after: 27.928800736350574, 26.952900502873565\n",
      "Final loss: 26.955527119252874\t\tTime taken: 18.3081533908844\n",
      "Model saved at model_data\\TimbreVAE_Expts_nmels256_nfft2048\\TimbreVAE_lr0.001_n_epochs2000_n_mfcc40_n_hid24_n_timb6_26.952943.pt\n"
     ]
    },
    {
     "data": {
      "application/vnd.jupyter.widget-view+json": {
       "model_id": "a58ca8a4f3e04b0b8fd6bb8b28d5fd73",
       "version_major": 2,
       "version_minor": 0
      },
      "text/plain": [
       "HBox(children=(FloatProgress(value=0.0, description='n_mfcc40,n_hid24,n_timb8', max=2000.0, style=ProgressStyl…"
      ]
     },
     "metadata": {},
     "output_type": "display_data"
    },
    {
     "name": "stdout",
     "output_type": "stream",
     "text": [
      "\n",
      "Training Loss before/after: 28.347917227909484, 26.955586049748565\n",
      "Validation Loss before/after: 28.301342492816094, 26.95293698365661\n",
      "Final loss: 26.955586049748565\t\tTime taken: 18.064587593078613\n",
      "Model saved at model_data\\TimbreVAE_Expts_nmels256_nfft2048\\TimbreVAE_lr0.001_n_epochs2000_n_mfcc40_n_hid24_n_timb8_26.952920.pt\n"
     ]
    },
    {
     "data": {
      "application/vnd.jupyter.widget-view+json": {
       "model_id": "52ce416ebc05458faa7370ea8d974a11",
       "version_major": 2,
       "version_minor": 0
      },
      "text/plain": [
       "HBox(children=(FloatProgress(value=0.0, description='n_mfcc40,n_hid24,n_timb10', max=2000.0, style=ProgressSty…"
      ]
     },
     "metadata": {},
     "output_type": "display_data"
    },
    {
     "name": "stdout",
     "output_type": "stream",
     "text": [
      "\n",
      "Training Loss before/after: 28.077622687679597, 26.95562814295977\n",
      "Validation Loss before/after: 28.02238516971983, 26.952987495510058\n",
      "Final loss: 26.95562814295977\t\tTime taken: 18.140634298324585\n",
      "Model saved at model_data\\TimbreVAE_Expts_nmels256_nfft2048\\TimbreVAE_lr0.001_n_epochs2000_n_mfcc40_n_hid24_n_timb10_26.953038.pt\n"
     ]
    },
    {
     "data": {
      "application/vnd.jupyter.widget-view+json": {
       "model_id": "cd34a9591e1545e99a5823330247b7c6",
       "version_major": 2,
       "version_minor": 0
      },
      "text/plain": [
       "HBox(children=(FloatProgress(value=0.0, description='n_mfcc40,n_hid26,n_timb4', max=2000.0, style=ProgressStyl…"
      ]
     },
     "metadata": {},
     "output_type": "display_data"
    },
    {
     "name": "stdout",
     "output_type": "stream",
     "text": [
      "\n",
      "Training Loss before/after: 28.452322422772987, 26.95567584859914\n",
      "Validation Loss before/after: 28.38842492816092, 26.953102550287355\n",
      "Final loss: 26.95567584859914\t\tTime taken: 18.255545139312744\n",
      "Model saved at model_data\\TimbreVAE_Expts_nmels256_nfft2048\\TimbreVAE_lr0.001_n_epochs2000_n_mfcc40_n_hid26_n_timb4_26.953038.pt\n"
     ]
    },
    {
     "data": {
      "application/vnd.jupyter.widget-view+json": {
       "model_id": "19545f263e5e48bdac6c7d35d9d0ec7a",
       "version_major": 2,
       "version_minor": 0
      },
      "text/plain": [
       "HBox(children=(FloatProgress(value=0.0, description='n_mfcc40,n_hid26,n_timb6', max=2000.0, style=ProgressStyl…"
      ]
     },
     "metadata": {},
     "output_type": "display_data"
    },
    {
     "name": "stdout",
     "output_type": "stream",
     "text": [
      "\n",
      "Training Loss before/after: 28.17583456806753, 26.955614111889368\n",
      "Validation Loss before/after: 28.13139816810345, 26.9530099452227\n",
      "Final loss: 26.955614111889368\t\tTime taken: 18.366602420806885\n",
      "Model saved at model_data\\TimbreVAE_Expts_nmels256_nfft2048\\TimbreVAE_lr0.001_n_epochs2000_n_mfcc40_n_hid26_n_timb6_26.953055.pt\n"
     ]
    },
    {
     "data": {
      "application/vnd.jupyter.widget-view+json": {
       "model_id": "2142bb8797d343bfa88e2fd149b8ad36",
       "version_major": 2,
       "version_minor": 0
      },
      "text/plain": [
       "HBox(children=(FloatProgress(value=0.0, description='n_mfcc40,n_hid26,n_timb8', max=2000.0, style=ProgressStyl…"
      ]
     },
     "metadata": {},
     "output_type": "display_data"
    },
    {
     "name": "stdout",
     "output_type": "stream",
     "text": [
      "\n",
      "Training Loss before/after: 28.099864740481323, 26.955541150323278\n",
      "Validation Loss before/after: 28.03558279454023, 26.95295943336925\n",
      "Final loss: 26.955541150323278\t\tTime taken: 18.089985370635986\n",
      "Model saved at model_data\\TimbreVAE_Expts_nmels256_nfft2048\\TimbreVAE_lr0.001_n_epochs2000_n_mfcc40_n_hid26_n_timb8_26.952940.pt\n"
     ]
    },
    {
     "data": {
      "application/vnd.jupyter.widget-view+json": {
       "model_id": "d7353056a644469a8d9e0bcf98ddb11b",
       "version_major": 2,
       "version_minor": 0
      },
      "text/plain": [
       "HBox(children=(FloatProgress(value=0.0, description='n_mfcc40,n_hid26,n_timb10', max=2000.0, style=ProgressSty…"
      ]
     },
     "metadata": {},
     "output_type": "display_data"
    },
    {
     "name": "stdout",
     "output_type": "stream",
     "text": [
      "\n",
      "Training Loss before/after: 28.36590786637931, 26.955636561602013\n",
      "Validation Loss before/after: 28.309126930675287, 26.95306326329023\n",
      "Final loss: 26.955636561602013\t\tTime taken: 18.15203857421875\n",
      "Model saved at model_data\\TimbreVAE_Expts_nmels256_nfft2048\\TimbreVAE_lr0.001_n_epochs2000_n_mfcc40_n_hid26_n_timb10_26.953060.pt\n"
     ]
    },
    {
     "data": {
      "application/vnd.jupyter.widget-view+json": {
       "model_id": "fe01c421693a451e8e083a2d8a897794",
       "version_major": 2,
       "version_minor": 0
      },
      "text/plain": [
       "HBox(children=(FloatProgress(value=0.0, description='n_mfcc40,n_hid28,n_timb4', max=2000.0, style=ProgressStyl…"
      ]
     },
     "metadata": {},
     "output_type": "display_data"
    },
    {
     "name": "stdout",
     "output_type": "stream",
     "text": [
      "\n",
      "Training Loss before/after: 28.431298266882184, 26.955855446300287\n",
      "Validation Loss before/after: 28.378861350574713, 26.95320076778017\n",
      "Final loss: 26.955855446300287\t\tTime taken: 18.51302671432495\n",
      "Model saved at model_data\\TimbreVAE_Expts_nmels256_nfft2048\\TimbreVAE_lr0.001_n_epochs2000_n_mfcc40_n_hid28_n_timb4_26.953167.pt\n"
     ]
    },
    {
     "data": {
      "application/vnd.jupyter.widget-view+json": {
       "model_id": "a7bdee61c5f94fd89abfa4406d57b538",
       "version_major": 2,
       "version_minor": 0
      },
      "text/plain": [
       "HBox(children=(FloatProgress(value=0.0, description='n_mfcc40,n_hid28,n_timb6', max=2000.0, style=ProgressStyl…"
      ]
     },
     "metadata": {},
     "output_type": "display_data"
    },
    {
     "name": "stdout",
     "output_type": "stream",
     "text": [
      "\n",
      "Training Loss before/after: 28.1593087733477, 26.95562253053161\n",
      "Validation Loss before/after: 28.1064453125, 26.952973464439655\n",
      "Final loss: 26.95562253053161\t\tTime taken: 18.55705738067627\n",
      "Model saved at model_data\\TimbreVAE_Expts_nmels256_nfft2048\\TimbreVAE_lr0.001_n_epochs2000_n_mfcc40_n_hid28_n_timb6_26.953024.pt\n"
     ]
    },
    {
     "data": {
      "application/vnd.jupyter.widget-view+json": {
       "model_id": "7a9fae4cfe854a6b8ecbf243067cb4f4",
       "version_major": 2,
       "version_minor": 0
      },
      "text/plain": [
       "HBox(children=(FloatProgress(value=0.0, description='n_mfcc40,n_hid28,n_timb8', max=2000.0, style=ProgressStyl…"
      ]
     },
     "metadata": {},
     "output_type": "display_data"
    },
    {
     "name": "stdout",
     "output_type": "stream",
     "text": [
      "\n",
      "Training Loss before/after: 28.172096690912355, 26.95556921246408\n",
      "Validation Loss before/after: 28.107761426903735, 26.95299310793822\n",
      "Final loss: 26.95556921246408\t\tTime taken: 18.245831966400146\n",
      "Model saved at model_data\\TimbreVAE_Expts_nmels256_nfft2048\\TimbreVAE_lr0.001_n_epochs2000_n_mfcc40_n_hid28_n_timb8_26.952937.pt\n"
     ]
    },
    {
     "data": {
      "application/vnd.jupyter.widget-view+json": {
       "model_id": "92b6a90d59624ca3903f509e912f4e00",
       "version_major": 2,
       "version_minor": 0
      },
      "text/plain": [
       "HBox(children=(FloatProgress(value=0.0, description='n_mfcc40,n_hid28,n_timb10', max=2000.0, style=ProgressSty…"
      ]
     },
     "metadata": {},
     "output_type": "display_data"
    },
    {
     "name": "stdout",
     "output_type": "stream",
     "text": [
      "\n",
      "Training Loss before/after: 28.25452922952586, 26.9556954920977\n",
      "Validation Loss before/after: 28.192848644037355, 26.953096937859197\n",
      "Final loss: 26.9556954920977\t\tTime taken: 18.178083658218384\n",
      "Model saved at model_data\\TimbreVAE_Expts_nmels256_nfft2048\\TimbreVAE_lr0.001_n_epochs2000_n_mfcc40_n_hid28_n_timb10_26.953063.pt\n"
     ]
    },
    {
     "data": {
      "application/vnd.jupyter.widget-view+json": {
       "model_id": "38b1c62e34a140479bd0d14f0bc2bb32",
       "version_major": 2,
       "version_minor": 0
      },
      "text/plain": [
       "HBox(children=(FloatProgress(value=0.0, description='n_mfcc40,n_hid30,n_timb4', max=2000.0, style=ProgressStyl…"
      ]
     },
     "metadata": {},
     "output_type": "display_data"
    },
    {
     "name": "stdout",
     "output_type": "stream",
     "text": [
      "\n",
      "Training Loss before/after: 28.291343952047413, 26.955639367816094\n",
      "Validation Loss before/after: 28.24430899784483, 26.952906115301722\n",
      "Final loss: 26.955639367816094\t\tTime taken: 18.19087791442871\n",
      "Model saved at model_data\\TimbreVAE_Expts_nmels256_nfft2048\\TimbreVAE_lr0.001_n_epochs2000_n_mfcc40_n_hid30_n_timb4_26.952982.pt\n"
     ]
    },
    {
     "data": {
      "application/vnd.jupyter.widget-view+json": {
       "model_id": "3443f184a7b3429a8394007b5ae4b4fb",
       "version_major": 2,
       "version_minor": 0
      },
      "text/plain": [
       "HBox(children=(FloatProgress(value=0.0, description='n_mfcc40,n_hid30,n_timb6', max=2000.0, style=ProgressStyl…"
      ]
     },
     "metadata": {},
     "output_type": "display_data"
    },
    {
     "name": "stdout",
     "output_type": "stream",
     "text": [
      "\n",
      "Training Loss before/after: 27.986185008081897, 26.95556640625\n",
      "Validation Loss before/after: 27.936380320581897, 26.952925758800287\n",
      "Final loss: 26.95556640625\t\tTime taken: 18.15203857421875\n",
      "Model saved at model_data\\TimbreVAE_Expts_nmels256_nfft2048\\TimbreVAE_lr0.001_n_epochs2000_n_mfcc40_n_hid30_n_timb6_26.953002.pt\n"
     ]
    },
    {
     "data": {
      "application/vnd.jupyter.widget-view+json": {
       "model_id": "74d268927d7b4cc6a0f93ba879bf98b8",
       "version_major": 2,
       "version_minor": 0
      },
      "text/plain": [
       "HBox(children=(FloatProgress(value=0.0, description='n_mfcc40,n_hid30,n_timb8', max=2000.0, style=ProgressStyl…"
      ]
     },
     "metadata": {},
     "output_type": "display_data"
    },
    {
     "name": "stdout",
     "output_type": "stream",
     "text": [
      "\n",
      "Training Loss before/after: 28.17438094917385, 26.95556360003592\n",
      "Validation Loss before/after: 28.116309154992816, 26.95299872036638\n",
      "Final loss: 26.95556360003592\t\tTime taken: 18.278526306152344\n",
      "Model saved at model_data\\TimbreVAE_Expts_nmels256_nfft2048\\TimbreVAE_lr0.001_n_epochs2000_n_mfcc40_n_hid30_n_timb8_26.952920.pt\n"
     ]
    },
    {
     "data": {
      "application/vnd.jupyter.widget-view+json": {
       "model_id": "3a11220ab6c0405c8c5a8f4c4150bbd8",
       "version_major": 2,
       "version_minor": 0
      },
      "text/plain": [
       "HBox(children=(FloatProgress(value=0.0, description='n_mfcc40,n_hid30,n_timb10', max=2000.0, style=ProgressSty…"
      ]
     },
     "metadata": {},
     "output_type": "display_data"
    },
    {
     "name": "stdout",
     "output_type": "stream",
     "text": [
      "\n",
      "Training Loss before/after: 28.10912805316092, 26.95556360003592\n",
      "Validation Loss before/after: 28.056491895653735, 26.952970658225574\n",
      "Final loss: 26.95556360003592\t\tTime taken: 18.296106338500977\n",
      "Model saved at model_data\\TimbreVAE_Expts_nmels256_nfft2048\\TimbreVAE_lr0.001_n_epochs2000_n_mfcc40_n_hid30_n_timb10_26.952951.pt\n"
     ]
    },
    {
     "data": {
      "application/vnd.jupyter.widget-view+json": {
       "model_id": "d9e1f66275554a4689df92c24e4c9860",
       "version_major": 2,
       "version_minor": 0
      },
      "text/plain": [
       "HBox(children=(FloatProgress(value=0.0, description='n_mfcc40,n_hid32,n_timb4', max=2000.0, style=ProgressStyl…"
      ]
     },
     "metadata": {},
     "output_type": "display_data"
    },
    {
     "name": "stdout",
     "output_type": "stream",
     "text": [
      "\n",
      "Training Loss before/after: 28.023041823814655, 26.955729166666668\n",
      "Validation Loss before/after: 27.971516927083332, 26.953018363864942\n",
      "Final loss: 26.955729166666668\t\tTime taken: 18.23370909690857\n",
      "Model saved at model_data\\TimbreVAE_Expts_nmels256_nfft2048\\TimbreVAE_lr0.001_n_epochs2000_n_mfcc40_n_hid32_n_timb4_26.953069.pt\n"
     ]
    },
    {
     "data": {
      "application/vnd.jupyter.widget-view+json": {
       "model_id": "5c23420d58624276be026f5f5a06719a",
       "version_major": 2,
       "version_minor": 0
      },
      "text/plain": [
       "HBox(children=(FloatProgress(value=0.0, description='n_mfcc40,n_hid32,n_timb6', max=2000.0, style=ProgressStyl…"
      ]
     },
     "metadata": {},
     "output_type": "display_data"
    },
    {
     "name": "stdout",
     "output_type": "stream",
     "text": [
      "\n",
      "Training Loss before/after: 28.228658741918103, 26.955636561602013\n",
      "Validation Loss before/after: 28.173440867456897, 26.952889278017242\n",
      "Final loss: 26.955636561602013\t\tTime taken: 18.131617307662964\n",
      "Model saved at model_data\\TimbreVAE_Expts_nmels256_nfft2048\\TimbreVAE_lr0.001_n_epochs2000_n_mfcc40_n_hid32_n_timb6_26.953035.pt\n"
     ]
    },
    {
     "data": {
      "application/vnd.jupyter.widget-view+json": {
       "model_id": "bac8bb72d7c74ff195173761c18320e3",
       "version_major": 2,
       "version_minor": 0
      },
      "text/plain": [
       "HBox(children=(FloatProgress(value=0.0, description='n_mfcc40,n_hid32,n_timb8', max=2000.0, style=ProgressStyl…"
      ]
     },
     "metadata": {},
     "output_type": "display_data"
    },
    {
     "name": "stdout",
     "output_type": "stream",
     "text": [
      "\n",
      "Training Loss before/after: 28.016500538793103, 26.955557987607758\n",
      "Validation Loss before/after: 27.951138200431036, 26.95288366558908\n",
      "Final loss: 26.955557987607758\t\tTime taken: 18.268142700195312\n",
      "Model saved at model_data\\TimbreVAE_Expts_nmels256_nfft2048\\TimbreVAE_lr0.001_n_epochs2000_n_mfcc40_n_hid32_n_timb8_26.952945.pt\n"
     ]
    },
    {
     "data": {
      "application/vnd.jupyter.widget-view+json": {
       "model_id": "aa5b834c27e54316a2137714534cff47",
       "version_major": 2,
       "version_minor": 0
      },
      "text/plain": [
       "HBox(children=(FloatProgress(value=0.0, description='n_mfcc40,n_hid32,n_timb10', max=2000.0, style=ProgressSty…"
      ]
     },
     "metadata": {},
     "output_type": "display_data"
    },
    {
     "name": "stdout",
     "output_type": "stream",
     "text": [
      "\n",
      "Training Loss before/after: 28.114238169001435, 26.955574824892242\n",
      "Validation Loss before/after: 28.066366963002874, 26.952897696659484\n",
      "Final loss: 26.955574824892242\t\tTime taken: 18.133341312408447\n",
      "Model saved at model_data\\TimbreVAE_Expts_nmels256_nfft2048\\TimbreVAE_lr0.001_n_epochs2000_n_mfcc40_n_hid32_n_timb10_26.952982.pt\n"
     ]
    },
    {
     "data": {
      "application/vnd.jupyter.widget-view+json": {
       "model_id": "b568e6d1bf6d4e02918f3987b58f75c6",
       "version_major": 2,
       "version_minor": 0
      },
      "text/plain": [
       "HBox(children=(FloatProgress(value=0.0, description='n_mfcc40,n_hid34,n_timb4', max=2000.0, style=ProgressStyl…"
      ]
     },
     "metadata": {},
     "output_type": "display_data"
    },
    {
     "name": "stdout",
     "output_type": "stream",
     "text": [
      "\n",
      "Training Loss before/after: 28.43123091774425, 26.9556814610273\n",
      "Validation Loss before/after: 28.368124775502874, 26.9530099452227\n",
      "Final loss: 26.9556814610273\t\tTime taken: 18.87287926673889\n",
      "Model saved at model_data\\TimbreVAE_Expts_nmels256_nfft2048\\TimbreVAE_lr0.001_n_epochs2000_n_mfcc40_n_hid34_n_timb4_26.952982.pt\n"
     ]
    },
    {
     "data": {
      "application/vnd.jupyter.widget-view+json": {
       "model_id": "6e186731e9224dbbb40ebc4ad5f89acf",
       "version_major": 2,
       "version_minor": 0
      },
      "text/plain": [
       "HBox(children=(FloatProgress(value=0.0, description='n_mfcc40,n_hid34,n_timb6', max=2000.0, style=ProgressStyl…"
      ]
     },
     "metadata": {},
     "output_type": "display_data"
    },
    {
     "name": "stdout",
     "output_type": "stream",
     "text": [
      "\n",
      "Training Loss before/after: 27.946623001975574, 26.95557201867816\n",
      "Validation Loss before/after: 27.90302566002155, 26.95288366558908\n",
      "Final loss: 26.95557201867816\t\tTime taken: 18.44648241996765\n",
      "Model saved at model_data\\TimbreVAE_Expts_nmels256_nfft2048\\TimbreVAE_lr0.001_n_epochs2000_n_mfcc40_n_hid34_n_timb6_26.952996.pt\n"
     ]
    },
    {
     "data": {
      "application/vnd.jupyter.widget-view+json": {
       "model_id": "4d580f535e934771ace83342995d74fb",
       "version_major": 2,
       "version_minor": 0
      },
      "text/plain": [
       "HBox(children=(FloatProgress(value=0.0, description='n_mfcc40,n_hid34,n_timb8', max=2000.0, style=ProgressStyl…"
      ]
     },
     "metadata": {},
     "output_type": "display_data"
    },
    {
     "name": "stdout",
     "output_type": "stream",
     "text": [
      "\n",
      "Training Loss before/after: 28.218343098958332, 26.955605693247126\n",
      "Validation Loss before/after: 28.151751638829023, 26.952973464439655\n",
      "Final loss: 26.955605693247126\t\tTime taken: 18.327088594436646\n",
      "Model saved at model_data\\TimbreVAE_Expts_nmels256_nfft2048\\TimbreVAE_lr0.001_n_epochs2000_n_mfcc40_n_hid34_n_timb8_26.952909.pt\n"
     ]
    },
    {
     "data": {
      "application/vnd.jupyter.widget-view+json": {
       "model_id": "2c18b0223a38469e88e619d334bfec7b",
       "version_major": 2,
       "version_minor": 0
      },
      "text/plain": [
       "HBox(children=(FloatProgress(value=0.0, description='n_mfcc40,n_hid34,n_timb10', max=2000.0, style=ProgressSty…"
      ]
     },
     "metadata": {},
     "output_type": "display_data"
    },
    {
     "name": "stdout",
     "output_type": "stream",
     "text": [
      "\n",
      "Training Loss before/after: 28.148232646372126, 26.955583243534484\n",
      "Validation Loss before/after: 28.08166363595546, 26.95293137122845\n",
      "Final loss: 26.955583243534484\t\tTime taken: 18.322729349136353\n",
      "Model saved at model_data\\TimbreVAE_Expts_nmels256_nfft2048\\TimbreVAE_lr0.001_n_epochs2000_n_mfcc40_n_hid34_n_timb10_26.952954.pt\n"
     ]
    },
    {
     "data": {
      "application/vnd.jupyter.widget-view+json": {
       "model_id": "1dc2f3a60eba4d698706c0240b06559a",
       "version_major": 2,
       "version_minor": 0
      },
      "text/plain": [
       "HBox(children=(FloatProgress(value=0.0, description='n_mfcc40,n_hid36,n_timb4', max=2000.0, style=ProgressStyl…"
      ]
     },
     "metadata": {},
     "output_type": "display_data"
    },
    {
     "name": "stdout",
     "output_type": "stream",
     "text": [
      "\n",
      "Training Loss before/after: 28.176008553340516, 26.95557201867816\n",
      "Validation Loss before/after: 28.11693774694684, 26.952869634518677\n",
      "Final loss: 26.95557201867816\t\tTime taken: 18.38816261291504\n",
      "Model saved at model_data\\TimbreVAE_Expts_nmels256_nfft2048\\TimbreVAE_lr0.001_n_epochs2000_n_mfcc40_n_hid36_n_timb4_26.952929.pt\n"
     ]
    },
    {
     "data": {
      "application/vnd.jupyter.widget-view+json": {
       "model_id": "414fd34054484a94a7094a46f6e98d9d",
       "version_major": 2,
       "version_minor": 0
      },
      "text/plain": [
       "HBox(children=(FloatProgress(value=0.0, description='n_mfcc40,n_hid36,n_timb6', max=2000.0, style=ProgressStyl…"
      ]
     },
     "metadata": {},
     "output_type": "display_data"
    },
    {
     "name": "stdout",
     "output_type": "stream",
     "text": [
      "\n",
      "Training Loss before/after: 28.221281205100574, 26.955636561602013\n",
      "Validation Loss before/after: 28.1658865391523, 26.95293698365661\n",
      "Final loss: 26.955636561602013\t\tTime taken: 18.301319122314453\n",
      "Model saved at model_data\\TimbreVAE_Expts_nmels256_nfft2048\\TimbreVAE_lr0.001_n_epochs2000_n_mfcc40_n_hid36_n_timb6_26.953021.pt\n"
     ]
    },
    {
     "data": {
      "application/vnd.jupyter.widget-view+json": {
       "model_id": "5e4f787109804051a1714c936babaea6",
       "version_major": 2,
       "version_minor": 0
      },
      "text/plain": [
       "HBox(children=(FloatProgress(value=0.0, description='n_mfcc40,n_hid36,n_timb8', max=2000.0, style=ProgressStyl…"
      ]
     },
     "metadata": {},
     "output_type": "display_data"
    },
    {
     "name": "stdout",
     "output_type": "stream",
     "text": [
      "\n",
      "Training Loss before/after: 28.002977393139368, 26.955557987607758\n",
      "Validation Loss before/after: 27.93567315463362, 26.952894890445403\n",
      "Final loss: 26.955557987607758\t\tTime taken: 18.13182306289673\n",
      "Model saved at model_data\\TimbreVAE_Expts_nmels256_nfft2048\\TimbreVAE_lr0.001_n_epochs2000_n_mfcc40_n_hid36_n_timb8_26.952901.pt\n"
     ]
    },
    {
     "data": {
      "application/vnd.jupyter.widget-view+json": {
       "model_id": "909f7714088f48fb81ad5bf561192968",
       "version_major": 2,
       "version_minor": 0
      },
      "text/plain": [
       "HBox(children=(FloatProgress(value=0.0, description='n_mfcc40,n_hid36,n_timb10', max=2000.0, style=ProgressSty…"
      ]
     },
     "metadata": {},
     "output_type": "display_data"
    },
    {
     "name": "stdout",
     "output_type": "stream",
     "text": [
      "\n",
      "Training Loss before/after: 28.240492546695403, 26.955656205100574\n",
      "Validation Loss before/after: 28.17708052711925, 26.952976270653735\n",
      "Final loss: 26.955656205100574\t\tTime taken: 18.224880933761597\n",
      "Model saved at model_data\\TimbreVAE_Expts_nmels256_nfft2048\\TimbreVAE_lr0.001_n_epochs2000_n_mfcc40_n_hid36_n_timb10_26.952937.pt\n"
     ]
    },
    {
     "data": {
      "application/vnd.jupyter.widget-view+json": {
       "model_id": "c3d33344892546a78f6ba50b570e9c77",
       "version_major": 2,
       "version_minor": 0
      },
      "text/plain": [
       "HBox(children=(FloatProgress(value=0.0, description='n_mfcc40,n_hid38,n_timb4', max=2000.0, style=ProgressStyl…"
      ]
     },
     "metadata": {},
     "output_type": "display_data"
    },
    {
     "name": "stdout",
     "output_type": "stream",
     "text": [
      "\n",
      "Training Loss before/after: 28.061986462823278, 26.955723554238507\n",
      "Validation Loss before/after: 28.013629781788794, 26.953077294360632\n",
      "Final loss: 26.955723554238507\t\tTime taken: 18.1978497505188\n",
      "Model saved at model_data\\TimbreVAE_Expts_nmels256_nfft2048\\TimbreVAE_lr0.001_n_epochs2000_n_mfcc40_n_hid38_n_timb4_26.953030.pt\n"
     ]
    },
    {
     "data": {
      "application/vnd.jupyter.widget-view+json": {
       "model_id": "b8a020c37ae74fdf9d4ad239848734e9",
       "version_major": 2,
       "version_minor": 0
      },
      "text/plain": [
       "HBox(children=(FloatProgress(value=0.0, description='n_mfcc40,n_hid38,n_timb6', max=2000.0, style=ProgressStyl…"
      ]
     },
     "metadata": {},
     "output_type": "display_data"
    },
    {
     "name": "stdout",
     "output_type": "stream",
     "text": [
      "\n",
      "Training Loss before/after: 28.102317371587645, 26.95564498024425\n",
      "Validation Loss before/after: 28.045920887212645, 26.952864022090516\n",
      "Final loss: 26.95564498024425\t\tTime taken: 18.296937227249146\n",
      "Model saved at model_data\\TimbreVAE_Expts_nmels256_nfft2048\\TimbreVAE_lr0.001_n_epochs2000_n_mfcc40_n_hid38_n_timb6_26.952979.pt\n"
     ]
    },
    {
     "data": {
      "application/vnd.jupyter.widget-view+json": {
       "model_id": "ec427b6460e741948dae7ad1b91b5c15",
       "version_major": 2,
       "version_minor": 0
      },
      "text/plain": [
       "HBox(children=(FloatProgress(value=0.0, description='n_mfcc40,n_hid38,n_timb8', max=2000.0, style=ProgressStyl…"
      ]
     },
     "metadata": {},
     "output_type": "display_data"
    },
    {
     "name": "stdout",
     "output_type": "stream",
     "text": [
      "\n",
      "Training Loss before/after: 27.93482006555316, 26.955543956537355\n",
      "Validation Loss before/after: 27.889148931393677, 26.952925758800287\n",
      "Final loss: 26.955543956537355\t\tTime taken: 18.414739847183228\n",
      "Model saved at model_data\\TimbreVAE_Expts_nmels256_nfft2048\\TimbreVAE_lr0.001_n_epochs2000_n_mfcc40_n_hid38_n_timb8_26.952884.pt\n"
     ]
    },
    {
     "data": {
      "application/vnd.jupyter.widget-view+json": {
       "model_id": "76500124edd449ddb8c9b3fc8dd8c5ca",
       "version_major": 2,
       "version_minor": 0
      },
      "text/plain": [
       "HBox(children=(FloatProgress(value=0.0, description='n_mfcc40,n_hid38,n_timb10', max=2000.0, style=ProgressSty…"
      ]
     },
     "metadata": {},
     "output_type": "display_data"
    },
    {
     "name": "stdout",
     "output_type": "stream",
     "text": [
      "\n",
      "Training Loss before/after: 28.071948522808906, 26.955647786458332\n",
      "Validation Loss before/after: 28.01665488056753, 26.952970658225574\n",
      "Final loss: 26.955647786458332\t\tTime taken: 18.53981065750122\n",
      "Model saved at model_data\\TimbreVAE_Expts_nmels256_nfft2048\\TimbreVAE_lr0.001_n_epochs2000_n_mfcc40_n_hid38_n_timb10_26.953018.pt\n"
     ]
    },
    {
     "data": {
      "application/vnd.jupyter.widget-view+json": {
       "model_id": "f0d115266d924a51903bef067a4382d5",
       "version_major": 2,
       "version_minor": 0
      },
      "text/plain": [
       "HBox(children=(FloatProgress(value=0.0, description='n_mfcc24,n_hid10,n_timb4', max=2000.0, style=ProgressStyl…"
      ]
     },
     "metadata": {},
     "output_type": "display_data"
    },
    {
     "name": "stdout",
     "output_type": "stream",
     "text": [
      "\n",
      "Training Loss before/after: 17.048021338451868, 15.941331885326868\n",
      "Validation Loss before/after: 17.011693494073278, 15.953394396551724\n",
      "Final loss: 15.941331885326868\t\tTime taken: 18.067667961120605\n",
      "Model saved at model_data\\TimbreVAE_Expts_nmels256_nfft2048\\TimbreVAE_lr0.001_n_epochs2000_n_mfcc24_n_hid10_n_timb4_15.953354.pt\n"
     ]
    },
    {
     "data": {
      "application/vnd.jupyter.widget-view+json": {
       "model_id": "6ee1a95226f64bd38b04c93fd63b4e43",
       "version_major": 2,
       "version_minor": 0
      },
      "text/plain": [
       "HBox(children=(FloatProgress(value=0.0, description='n_mfcc24,n_hid10,n_timb6', max=2000.0, style=ProgressStyl…"
      ]
     },
     "metadata": {},
     "output_type": "display_data"
    },
    {
     "name": "stdout",
     "output_type": "stream",
     "text": [
      "\n",
      "Training Loss before/after: 17.049341662176722, 15.941448343211206\n",
      "Validation Loss before/after: 17.055520945581897, 15.953589428430316\n",
      "Final loss: 15.941448343211206\t\tTime taken: 18.261723279953003\n",
      "Model saved at model_data\\TimbreVAE_Expts_nmels256_nfft2048\\TimbreVAE_lr0.001_n_epochs2000_n_mfcc24_n_hid10_n_timb6_15.953501.pt\n"
     ]
    },
    {
     "data": {
      "application/vnd.jupyter.widget-view+json": {
       "model_id": "e599d792919c43fdbec42541f865d3ac",
       "version_major": 2,
       "version_minor": 0
      },
      "text/plain": [
       "HBox(children=(FloatProgress(value=0.0, description='n_mfcc24,n_hid10,n_timb8', max=2000.0, style=ProgressStyl…"
      ]
     },
     "metadata": {},
     "output_type": "display_data"
    },
    {
     "name": "stdout",
     "output_type": "stream",
     "text": [
      "\n",
      "Training Loss before/after: 17.051237259788074, 15.941333288433908\n",
      "Validation Loss before/after: 17.021390366828303, 15.953409830729166\n",
      "Final loss: 15.941333288433908\t\tTime taken: 18.779622077941895\n",
      "Model saved at model_data\\TimbreVAE_Expts_nmels256_nfft2048\\TimbreVAE_lr0.001_n_epochs2000_n_mfcc24_n_hid10_n_timb8_15.953441.pt\n"
     ]
    },
    {
     "data": {
      "application/vnd.jupyter.widget-view+json": {
       "model_id": "247dde43142d4b679152e5eb1113b00e",
       "version_major": 2,
       "version_minor": 0
      },
      "text/plain": [
       "HBox(children=(FloatProgress(value=0.0, description='n_mfcc24,n_hid12,n_timb4', max=2000.0, style=ProgressStyl…"
      ]
     },
     "metadata": {},
     "output_type": "display_data"
    },
    {
     "name": "stdout",
     "output_type": "stream",
     "text": [
      "\n",
      "Training Loss before/after: 16.96430215068247, 15.941437118354886\n",
      "Validation Loss before/after: 16.954972891971984, 15.95361328125\n",
      "Final loss: 15.941437118354886\t\tTime taken: 18.265693426132202\n",
      "Model saved at model_data\\TimbreVAE_Expts_nmels256_nfft2048\\TimbreVAE_lr0.001_n_epochs2000_n_mfcc24_n_hid12_n_timb4_15.953487.pt\n"
     ]
    },
    {
     "data": {
      "application/vnd.jupyter.widget-view+json": {
       "model_id": "0fa1c915447849628d83f0ac27344ce9",
       "version_major": 2,
       "version_minor": 0
      },
      "text/plain": [
       "HBox(children=(FloatProgress(value=0.0, description='n_mfcc24,n_hid12,n_timb6', max=2000.0, style=ProgressStyl…"
      ]
     },
     "metadata": {},
     "output_type": "display_data"
    },
    {
     "name": "stdout",
     "output_type": "stream",
     "text": [
      "\n",
      "Training Loss before/after: 17.040669057561065, 15.94134591639727\n",
      "Validation Loss before/after: 17.015721814385778, 15.95343228044181\n",
      "Final loss: 15.94134591639727\t\tTime taken: 17.998203992843628\n",
      "Model saved at model_data\\TimbreVAE_Expts_nmels256_nfft2048\\TimbreVAE_lr0.001_n_epochs2000_n_mfcc24_n_hid12_n_timb6_15.953408.pt\n"
     ]
    },
    {
     "data": {
      "application/vnd.jupyter.widget-view+json": {
       "model_id": "a3f71805288d403b95ac39840b7cec21",
       "version_major": 2,
       "version_minor": 0
      },
      "text/plain": [
       "HBox(children=(FloatProgress(value=0.0, description='n_mfcc24,n_hid12,n_timb8', max=2000.0, style=ProgressStyl…"
      ]
     },
     "metadata": {},
     "output_type": "display_data"
    },
    {
     "name": "stdout",
     "output_type": "stream",
     "text": [
      "\n",
      "Training Loss before/after: 17.39385495240661, 15.941456761853448\n",
      "Validation Loss before/after: 17.350065384788074, 15.953568381824713\n",
      "Final loss: 15.941456761853448\t\tTime taken: 18.035818576812744\n",
      "Model saved at model_data\\TimbreVAE_Expts_nmels256_nfft2048\\TimbreVAE_lr0.001_n_epochs2000_n_mfcc24_n_hid12_n_timb8_15.953546.pt\n"
     ]
    },
    {
     "data": {
      "application/vnd.jupyter.widget-view+json": {
       "model_id": "ed2d7ef337594052a6ab77acff85b416",
       "version_major": 2,
       "version_minor": 0
      },
      "text/plain": [
       "HBox(children=(FloatProgress(value=0.0, description='n_mfcc24,n_hid12,n_timb10', max=2000.0, style=ProgressSty…"
      ]
     },
     "metadata": {},
     "output_type": "display_data"
    },
    {
     "name": "stdout",
     "output_type": "stream",
     "text": [
      "\n",
      "Training Loss before/after: 17.222525761045258, 15.941428699712644\n",
      "Validation Loss before/after: 17.201438465337645, 15.953485598509339\n",
      "Final loss: 15.941428699712644\t\tTime taken: 18.221867561340332\n",
      "Model saved at model_data\\TimbreVAE_Expts_nmels256_nfft2048\\TimbreVAE_lr0.001_n_epochs2000_n_mfcc24_n_hid12_n_timb10_15.953507.pt\n"
     ]
    },
    {
     "data": {
      "application/vnd.jupyter.widget-view+json": {
       "model_id": "ef7b8b698fdf450ab858efd954e60a86",
       "version_major": 2,
       "version_minor": 0
      },
      "text/plain": [
       "HBox(children=(FloatProgress(value=0.0, description='n_mfcc24,n_hid14,n_timb4', max=2000.0, style=ProgressStyl…"
      ]
     },
     "metadata": {},
     "output_type": "display_data"
    },
    {
     "name": "stdout",
     "output_type": "stream",
     "text": [
      "\n",
      "Training Loss before/after: 17.03559401939655, 15.941451149425287\n",
      "Validation Loss before/after: 16.998521125179597, 15.953513660650144\n",
      "Final loss: 15.941451149425287\t\tTime taken: 18.20049500465393\n",
      "Model saved at model_data\\TimbreVAE_Expts_nmels256_nfft2048\\TimbreVAE_lr0.001_n_epochs2000_n_mfcc24_n_hid14_n_timb4_15.953523.pt\n"
     ]
    },
    {
     "data": {
      "application/vnd.jupyter.widget-view+json": {
       "model_id": "08cd48be92b94f5fbc3fd9f4079a1b95",
       "version_major": 2,
       "version_minor": 0
      },
      "text/plain": [
       "HBox(children=(FloatProgress(value=0.0, description='n_mfcc24,n_hid14,n_timb6', max=2000.0, style=ProgressStyl…"
      ]
     },
     "metadata": {},
     "output_type": "display_data"
    },
    {
     "name": "stdout",
     "output_type": "stream",
     "text": [
      "\n",
      "Training Loss before/after: 17.07007256869612, 15.94134451329023\n",
      "Validation Loss before/after: 17.044047739313935, 15.953391590337644\n",
      "Final loss: 15.94134451329023\t\tTime taken: 18.249467372894287\n",
      "Model saved at model_data\\TimbreVAE_Expts_nmels256_nfft2048\\TimbreVAE_lr0.001_n_epochs2000_n_mfcc24_n_hid14_n_timb6_15.953361.pt\n"
     ]
    },
    {
     "data": {
      "application/vnd.jupyter.widget-view+json": {
       "model_id": "b24e4460197d47c8b8200ffd1fee9dfa",
       "version_major": 2,
       "version_minor": 0
      },
      "text/plain": [
       "HBox(children=(FloatProgress(value=0.0, description='n_mfcc24,n_hid14,n_timb8', max=2000.0, style=ProgressStyl…"
      ]
     },
     "metadata": {},
     "output_type": "display_data"
    },
    {
     "name": "stdout",
     "output_type": "stream",
     "text": [
      "\n",
      "Training Loss before/after: 17.21514120869253, 15.941564801095547\n",
      "Validation Loss before/after: 17.186944369612068, 15.953606265714798\n",
      "Final loss: 15.941564801095547\t\tTime taken: 18.479979515075684\n",
      "Model saved at model_data\\TimbreVAE_Expts_nmels256_nfft2048\\TimbreVAE_lr0.001_n_epochs2000_n_mfcc24_n_hid14_n_timb8_15.953640.pt\n"
     ]
    },
    {
     "data": {
      "application/vnd.jupyter.widget-view+json": {
       "model_id": "bb53efb2fc8d4df2b38b1db4143f394d",
       "version_major": 2,
       "version_minor": 0
      },
      "text/plain": [
       "HBox(children=(FloatProgress(value=0.0, description='n_mfcc24,n_hid14,n_timb10', max=2000.0, style=ProgressSty…"
      ]
     },
     "metadata": {},
     "output_type": "display_data"
    },
    {
     "name": "stdout",
     "output_type": "stream",
     "text": [
      "\n",
      "Training Loss before/after: 17.050256487966955, 15.941379590966235\n",
      "Validation Loss before/after: 17.030492322198278, 15.953461745689655\n",
      "Final loss: 15.941379590966235\t\tTime taken: 19.19064164161682\n",
      "Model saved at model_data\\TimbreVAE_Expts_nmels256_nfft2048\\TimbreVAE_lr0.001_n_epochs2000_n_mfcc24_n_hid14_n_timb10_15.953465.pt\n"
     ]
    },
    {
     "data": {
      "application/vnd.jupyter.widget-view+json": {
       "model_id": "6489f33e37e1409981498f4acf98abf6",
       "version_major": 2,
       "version_minor": 0
      },
      "text/plain": [
       "HBox(children=(FloatProgress(value=0.0, description='n_mfcc24,n_hid16,n_timb4', max=2000.0, style=ProgressStyl…"
      ]
     },
     "metadata": {},
     "output_type": "display_data"
    },
    {
     "name": "stdout",
     "output_type": "stream",
     "text": [
      "\n",
      "Training Loss before/after: 16.923231804507903, 15.941441327676007\n",
      "Validation Loss before/after: 16.90910391971983, 15.953646955818966\n",
      "Final loss: 15.941441327676007\t\tTime taken: 18.16101622581482\n",
      "Model saved at model_data\\TimbreVAE_Expts_nmels256_nfft2048\\TimbreVAE_lr0.001_n_epochs2000_n_mfcc24_n_hid16_n_timb4_15.953595.pt\n"
     ]
    },
    {
     "data": {
      "application/vnd.jupyter.widget-view+json": {
       "model_id": "31fa5634abb14f37ac94709a99bb89da",
       "version_major": 2,
       "version_minor": 0
      },
      "text/plain": [
       "HBox(children=(FloatProgress(value=0.0, description='n_mfcc24,n_hid16,n_timb6', max=2000.0, style=ProgressStyl…"
      ]
     },
     "metadata": {},
     "output_type": "display_data"
    },
    {
     "name": "stdout",
     "output_type": "stream",
     "text": [
      "\n",
      "Training Loss before/after: 16.990688981681036, 15.941490436422415\n",
      "Validation Loss before/after: 16.957856276939655, 15.953607668821839\n",
      "Final loss: 15.941490436422415\t\tTime taken: 18.06369113922119\n",
      "Model saved at model_data\\TimbreVAE_Expts_nmels256_nfft2048\\TimbreVAE_lr0.001_n_epochs2000_n_mfcc24_n_hid16_n_timb6_15.953613.pt\n"
     ]
    },
    {
     "data": {
      "application/vnd.jupyter.widget-view+json": {
       "model_id": "c6091b3fe06146b29d56998cb24da9b6",
       "version_major": 2,
       "version_minor": 0
      },
      "text/plain": [
       "HBox(children=(FloatProgress(value=0.0, description='n_mfcc24,n_hid16,n_timb8', max=2000.0, style=ProgressStyl…"
      ]
     },
     "metadata": {},
     "output_type": "display_data"
    },
    {
     "name": "stdout",
     "output_type": "stream",
     "text": [
      "\n",
      "Training Loss before/after: 17.036045819863507, 15.94140625\n",
      "Validation Loss before/after: 17.003387100395116, 15.953526288613507\n",
      "Final loss: 15.94140625\t\tTime taken: 18.141820669174194\n",
      "Model saved at model_data\\TimbreVAE_Expts_nmels256_nfft2048\\TimbreVAE_lr0.001_n_epochs2000_n_mfcc24_n_hid16_n_timb8_15.953525.pt\n"
     ]
    },
    {
     "data": {
      "application/vnd.jupyter.widget-view+json": {
       "model_id": "2e6a35fd64724e89bb21b186b6a3aecd",
       "version_major": 2,
       "version_minor": 0
      },
      "text/plain": [
       "HBox(children=(FloatProgress(value=0.0, description='n_mfcc24,n_hid16,n_timb10', max=2000.0, style=ProgressSty…"
      ]
     },
     "metadata": {},
     "output_type": "display_data"
    },
    {
     "name": "stdout",
     "output_type": "stream",
     "text": [
      "\n",
      "Training Loss before/after: 17.20464035560345, 15.94140905621408\n",
      "Validation Loss before/after: 17.16436276490661, 15.953450520833334\n",
      "Final loss: 15.94140905621408\t\tTime taken: 18.073572158813477\n",
      "Model saved at model_data\\TimbreVAE_Expts_nmels256_nfft2048\\TimbreVAE_lr0.001_n_epochs2000_n_mfcc24_n_hid16_n_timb10_15.953428.pt\n"
     ]
    },
    {
     "data": {
      "application/vnd.jupyter.widget-view+json": {
       "model_id": "ffc216acbd7045f6a8b693e55b15543d",
       "version_major": 2,
       "version_minor": 0
      },
      "text/plain": [
       "HBox(children=(FloatProgress(value=0.0, description='n_mfcc24,n_hid18,n_timb4', max=2000.0, style=ProgressStyl…"
      ]
     },
     "metadata": {},
     "output_type": "display_data"
    },
    {
     "name": "stdout",
     "output_type": "stream",
     "text": [
      "\n",
      "Training Loss before/after: 16.936071637033045, 15.94134731950431\n",
      "Validation Loss before/after: 16.90826065238865, 15.95342807112069\n",
      "Final loss: 15.94134731950431\t\tTime taken: 18.22636365890503\n",
      "Model saved at model_data\\TimbreVAE_Expts_nmels256_nfft2048\\TimbreVAE_lr0.001_n_epochs2000_n_mfcc24_n_hid18_n_timb4_15.953394.pt\n"
     ]
    },
    {
     "data": {
      "application/vnd.jupyter.widget-view+json": {
       "model_id": "a63e44e4d881418186257c9afe0ec07d",
       "version_major": 2,
       "version_minor": 0
      },
      "text/plain": [
       "HBox(children=(FloatProgress(value=0.0, description='n_mfcc24,n_hid18,n_timb6', max=2000.0, style=ProgressStyl…"
      ]
     },
     "metadata": {},
     "output_type": "display_data"
    },
    {
     "name": "stdout",
     "output_type": "stream",
     "text": [
      "\n",
      "Training Loss before/after: 17.218212610003594, 15.941569010416666\n",
      "Validation Loss before/after: 17.18192826194325, 15.953602056393677\n",
      "Final loss: 15.941569010416666\t\tTime taken: 18.29123306274414\n",
      "Model saved at model_data\\TimbreVAE_Expts_nmels256_nfft2048\\TimbreVAE_lr0.001_n_epochs2000_n_mfcc24_n_hid18_n_timb6_15.953634.pt\n"
     ]
    },
    {
     "data": {
      "application/vnd.jupyter.widget-view+json": {
       "model_id": "79f67250bdc64fe4b8cd738a4bf6eca5",
       "version_major": 2,
       "version_minor": 0
      },
      "text/plain": [
       "HBox(children=(FloatProgress(value=0.0, description='n_mfcc24,n_hid18,n_timb8', max=2000.0, style=ProgressStyl…"
      ]
     },
     "metadata": {},
     "output_type": "display_data"
    },
    {
     "name": "stdout",
     "output_type": "stream",
     "text": [
      "\n",
      "Training Loss before/after: 17.078286357309626, 15.941326272898706\n",
      "Validation Loss before/after: 17.045238977191094, 15.953397202765805\n",
      "Final loss: 15.941326272898706\t\tTime taken: 18.272611618041992\n",
      "Model saved at model_data\\TimbreVAE_Expts_nmels256_nfft2048\\TimbreVAE_lr0.001_n_epochs2000_n_mfcc24_n_hid18_n_timb8_15.953413.pt\n"
     ]
    },
    {
     "data": {
      "application/vnd.jupyter.widget-view+json": {
       "model_id": "9dbdd0eaa1514039b5e371b0e15c56fc",
       "version_major": 2,
       "version_minor": 0
      },
      "text/plain": [
       "HBox(children=(FloatProgress(value=0.0, description='n_mfcc24,n_hid18,n_timb10', max=2000.0, style=ProgressSty…"
      ]
     },
     "metadata": {},
     "output_type": "display_data"
    },
    {
     "name": "stdout",
     "output_type": "stream",
     "text": [
      "\n",
      "Training Loss before/after: 17.17175854211566, 15.941402040678879\n",
      "Validation Loss before/after: 17.128036323635058, 15.953456133261493\n",
      "Final loss: 15.941402040678879\t\tTime taken: 18.235727787017822\n",
      "Model saved at model_data\\TimbreVAE_Expts_nmels256_nfft2048\\TimbreVAE_lr0.001_n_epochs2000_n_mfcc24_n_hid18_n_timb10_15.953476.pt\n"
     ]
    },
    {
     "data": {
      "application/vnd.jupyter.widget-view+json": {
       "model_id": "58d22fd359624e938520429de6b494d8",
       "version_major": 2,
       "version_minor": 0
      },
      "text/plain": [
       "HBox(children=(FloatProgress(value=0.0, description='n_mfcc24,n_hid20,n_timb4', max=2000.0, style=ProgressStyl…"
      ]
     },
     "metadata": {},
     "output_type": "display_data"
    },
    {
     "name": "stdout",
     "output_type": "stream",
     "text": [
      "\n",
      "Training Loss before/after: 17.126679519127155, 15.941500258171695\n",
      "Validation Loss before/after: 17.10570727819684, 15.953472970545977\n",
      "Final loss: 15.941500258171695\t\tTime taken: 18.934784412384033\n",
      "Model saved at model_data\\TimbreVAE_Expts_nmels256_nfft2048\\TimbreVAE_lr0.001_n_epochs2000_n_mfcc24_n_hid20_n_timb4_15.953571.pt\n"
     ]
    },
    {
     "data": {
      "application/vnd.jupyter.widget-view+json": {
       "model_id": "59d1dbc8cc014b94969956a5abc88c5a",
       "version_major": 2,
       "version_minor": 0
      },
      "text/plain": [
       "HBox(children=(FloatProgress(value=0.0, description='n_mfcc24,n_hid20,n_timb6', max=2000.0, style=ProgressStyl…"
      ]
     },
     "metadata": {},
     "output_type": "display_data"
    },
    {
     "name": "stdout",
     "output_type": "stream",
     "text": [
      "\n",
      "Training Loss before/after: 16.930042486081177, 15.941323466684626\n",
      "Validation Loss before/after: 16.900285391971984, 15.953321434985632\n",
      "Final loss: 15.941323466684626\t\tTime taken: 18.232239246368408\n",
      "Model saved at model_data\\TimbreVAE_Expts_nmels256_nfft2048\\TimbreVAE_lr0.001_n_epochs2000_n_mfcc24_n_hid20_n_timb6_15.953385.pt\n"
     ]
    },
    {
     "data": {
      "application/vnd.jupyter.widget-view+json": {
       "model_id": "a264012245d34e02967f2cfc1b61fbb7",
       "version_major": 2,
       "version_minor": 0
      },
      "text/plain": [
       "HBox(children=(FloatProgress(value=0.0, description='n_mfcc24,n_hid20,n_timb8', max=2000.0, style=ProgressStyl…"
      ]
     },
     "metadata": {},
     "output_type": "display_data"
    },
    {
     "name": "stdout",
     "output_type": "stream",
     "text": [
      "\n",
      "Training Loss before/after: 17.063504624640803, 15.941444133890085\n",
      "Validation Loss before/after: 17.029382464529455, 15.953576800466953\n",
      "Final loss: 15.941444133890085\t\tTime taken: 18.20495891571045\n",
      "Model saved at model_data\\TimbreVAE_Expts_nmels256_nfft2048\\TimbreVAE_lr0.001_n_epochs2000_n_mfcc24_n_hid20_n_timb8_15.953563.pt\n"
     ]
    },
    {
     "data": {
      "application/vnd.jupyter.widget-view+json": {
       "model_id": "1b791d3e441546dd8a3707da71174798",
       "version_major": 2,
       "version_minor": 0
      },
      "text/plain": [
       "HBox(children=(FloatProgress(value=0.0, description='n_mfcc24,n_hid20,n_timb10', max=2000.0, style=ProgressSty…"
      ]
     },
     "metadata": {},
     "output_type": "display_data"
    },
    {
     "name": "stdout",
     "output_type": "stream",
     "text": [
      "\n",
      "Training Loss before/after: 17.224066372575432, 15.941504467492816\n",
      "Validation Loss before/after: 17.195123080549568, 15.953529094827585\n",
      "Final loss: 15.941504467492816\t\tTime taken: 18.545262098312378\n",
      "Model saved at model_data\\TimbreVAE_Expts_nmels256_nfft2048\\TimbreVAE_lr0.001_n_epochs2000_n_mfcc24_n_hid20_n_timb10_15.953486.pt\n"
     ]
    },
    {
     "data": {
      "application/vnd.jupyter.widget-view+json": {
       "model_id": "e9c7a11c850b4e258f27c9e5f6c3505d",
       "version_major": 2,
       "version_minor": 0
      },
      "text/plain": [
       "HBox(children=(FloatProgress(value=0.0, description='n_mfcc24,n_hid22,n_timb4', max=2000.0, style=ProgressStyl…"
      ]
     },
     "metadata": {},
     "output_type": "display_data"
    },
    {
     "name": "stdout",
     "output_type": "stream",
     "text": [
      "\n",
      "Training Loss before/after: 17.04717666801365, 15.941411862428161\n",
      "Validation Loss before/after: 16.996812140804597, 15.953538916576868\n",
      "Final loss: 15.941411862428161\t\tTime taken: 18.115490198135376\n",
      "Model saved at model_data\\TimbreVAE_Expts_nmels256_nfft2048\\TimbreVAE_lr0.001_n_epochs2000_n_mfcc24_n_hid22_n_timb4_15.953523.pt\n"
     ]
    },
    {
     "data": {
      "application/vnd.jupyter.widget-view+json": {
       "model_id": "2cf370814d7c40eab475d244f458671a",
       "version_major": 2,
       "version_minor": 0
      },
      "text/plain": [
       "HBox(children=(FloatProgress(value=0.0, description='n_mfcc24,n_hid22,n_timb6', max=2000.0, style=ProgressStyl…"
      ]
     },
     "metadata": {},
     "output_type": "display_data"
    },
    {
     "name": "stdout",
     "output_type": "stream",
     "text": [
      "\n",
      "Training Loss before/after: 16.947579920977013, 15.94128558279454\n",
      "Validation Loss before/after: 16.932412333872126, 15.953296179058908\n",
      "Final loss: 15.94128558279454\t\tTime taken: 18.359264373779297\n",
      "Model saved at model_data\\TimbreVAE_Expts_nmels256_nfft2048\\TimbreVAE_lr0.001_n_epochs2000_n_mfcc24_n_hid22_n_timb6_15.953368.pt\n"
     ]
    },
    {
     "data": {
      "application/vnd.jupyter.widget-view+json": {
       "model_id": "215982169ab54e98987c2b295193ed30",
       "version_major": 2,
       "version_minor": 0
      },
      "text/plain": [
       "HBox(children=(FloatProgress(value=0.0, description='n_mfcc24,n_hid22,n_timb8', max=2000.0, style=ProgressStyl…"
      ]
     },
     "metadata": {},
     "output_type": "display_data"
    },
    {
     "name": "stdout",
     "output_type": "stream",
     "text": [
      "\n",
      "Training Loss before/after: 17.088587969198993, 15.94134170707615\n",
      "Validation Loss before/after: 17.051593648976294, 15.953450520833334\n",
      "Final loss: 15.94134170707615\t\tTime taken: 18.206353425979614\n",
      "Model saved at model_data\\TimbreVAE_Expts_nmels256_nfft2048\\TimbreVAE_lr0.001_n_epochs2000_n_mfcc24_n_hid22_n_timb8_15.953465.pt\n"
     ]
    },
    {
     "data": {
      "application/vnd.jupyter.widget-view+json": {
       "model_id": "3d43d36eff1b4654b4810cd82060160b",
       "version_major": 2,
       "version_minor": 0
      },
      "text/plain": [
       "HBox(children=(FloatProgress(value=0.0, description='n_mfcc24,n_hid22,n_timb10', max=2000.0, style=ProgressSty…"
      ]
     },
     "metadata": {},
     "output_type": "display_data"
    },
    {
     "name": "stdout",
     "output_type": "stream",
     "text": [
      "\n",
      "Training Loss before/after: 17.327356097341955, 15.941490436422415\n",
      "Validation Loss before/after: 17.296397943606323, 15.953578203573993\n",
      "Final loss: 15.941490436422415\t\tTime taken: 18.223353147506714\n",
      "Model saved at model_data\\TimbreVAE_Expts_nmels256_nfft2048\\TimbreVAE_lr0.001_n_epochs2000_n_mfcc24_n_hid22_n_timb10_15.953511.pt\n"
     ]
    },
    {
     "data": {
      "application/vnd.jupyter.widget-view+json": {
       "model_id": "a18ecf6e28d445288febaabec1c870c7",
       "version_major": 2,
       "version_minor": 0
      },
      "text/plain": [
       "HBox(children=(FloatProgress(value=0.0, description='n_mfcc12,n_hid10,n_timb4', max=2000.0, style=ProgressStyl…"
      ]
     },
     "metadata": {},
     "output_type": "display_data"
    },
    {
     "name": "stdout",
     "output_type": "stream",
     "text": [
      "\n",
      "Training Loss before/after: 8.446460241558908, 7.444801067483836\n",
      "Validation Loss before/after: 8.451487574084052, 7.462992350260417\n",
      "Final loss: 7.444801067483836\t\tTime taken: 18.216956853866577\n",
      "Model saved at model_data\\TimbreVAE_Expts_nmels256_nfft2048\\TimbreVAE_lr0.001_n_epochs2000_n_mfcc12_n_hid10_n_timb4_7.463037.pt\n"
     ]
    },
    {
     "data": {
      "application/vnd.jupyter.widget-view+json": {
       "model_id": "d8bfd2bee440422aa211cac914fff74d",
       "version_major": 2,
       "version_minor": 0
      },
      "text/plain": [
       "HBox(children=(FloatProgress(value=0.0, description='n_mfcc12,n_hid10,n_timb6', max=2000.0, style=ProgressStyl…"
      ]
     },
     "metadata": {},
     "output_type": "display_data"
    },
    {
     "name": "stdout",
     "output_type": "stream",
     "text": [
      "\n",
      "Training Loss before/after: 8.609753137347342, 7.445134305405891\n",
      "Validation Loss before/after: 8.593942225664511, 7.463326991289511\n",
      "Final loss: 7.445134305405891\t\tTime taken: 18.311349630355835\n",
      "Model saved at model_data\\TimbreVAE_Expts_nmels256_nfft2048\\TimbreVAE_lr0.001_n_epochs2000_n_mfcc12_n_hid10_n_timb6_7.463325.pt\n"
     ]
    },
    {
     "data": {
      "application/vnd.jupyter.widget-view+json": {
       "model_id": "e4b3b5b6089547678950d906a928167a",
       "version_major": 2,
       "version_minor": 0
      },
      "text/plain": [
       "HBox(children=(FloatProgress(value=0.0, description='n_mfcc12,n_hid10,n_timb8', max=2000.0, style=ProgressStyl…"
      ]
     },
     "metadata": {},
     "output_type": "display_data"
    },
    {
     "name": "stdout",
     "output_type": "stream",
     "text": [
      "\n",
      "Training Loss before/after: 8.552070003816452, 7.444711970186781\n",
      "Validation Loss before/after: 8.530677532327585, 7.4628639659662355\n",
      "Final loss: 7.444711970186781\t\tTime taken: 18.26224398612976\n",
      "Model saved at model_data\\TimbreVAE_Expts_nmels256_nfft2048\\TimbreVAE_lr0.001_n_epochs2000_n_mfcc12_n_hid10_n_timb8_7.462854.pt\n"
     ]
    }
   ],
   "source": [
    "n_mels = 256\n",
    "n_ffts = 2048\n",
    "\n",
    "%matplotlib agg\n",
    "%matplotlib agg\n",
    "\n",
    "# # # # # # # # # # # # # # # # # # # # # # # # # #\n",
    "# Data that is constant throughout the entire run #\n",
    "# # # # # # # # # # # # # # # # # # # # # # # # # #\n",
    "\n",
    "# File reference lists\n",
    "data_ref_list = create_data_ref_list(os.path.join(\"Data\", 'dataset_files.csv'),\n",
    "                            n_pitches, n_vowels, n_people)\n",
    "# flat_data_ref_list[flat_ref_idx(vowel, pitch, person)]\n",
    "flat_data_ref_list = flatten_3d_array(data_ref_list, \n",
    "                                      n_vowels, n_pitches, n_people)\n",
    "# File reference list accessors\n",
    "# Returns a flat_ref_idx, given a vowel, pitch, person\n",
    "flat_ref_idx = lambda vowel, pitch, person: flat_3d_array_idx(\n",
    "    vowel, pitch, person, n_vowels, n_pitches, n_people)\n",
    "# Returns vowel, pitch, person, given a flat_ref_idx\n",
    "nd_ref_idx = lambda idx: nd_array_idx(idx, n_vowels, n_pitches, n_people)\n",
    "\n",
    "# wav, spectrogram, mels, mfcc for each file in flat_data_ref_list\n",
    "# wav_data:     (576, ~29400)  (n_wavs, n_samples)\n",
    "# spectrograms: (576, 513, 58) (n_wavs, n_freq_bins, n_windows)\n",
    "all_wav_data = load_wav_files(os.path.join(\"Data\", \"dataset\"), \n",
    "                              flat_data_ref_list)\n",
    "all_spectrograms = np.array([ stft(waveform, win_length=n_ffts, plot=False) \n",
    "                              for waveform in all_wav_data ])\n",
    "\n",
    "# Define loss - from pytorch VAE example.\n",
    "def loss_fn(recon_x, x, mu, logvar):\n",
    "    BCE = F.binary_cross_entropy(recon_x, x, reduction='sum')\n",
    "    KLD = -0.5 * torch.sum(1 + logvar - mu.pow(2) - logvar.exp())\n",
    "    return BCE + KLD\n",
    "\n",
    "# # # # # # # # # # # # # # # # # # # \n",
    "# Data that is constant per n_mfcc  #\n",
    "# # # # # # # # # # # # # # # # # # # \n",
    "\n",
    "def create_data_for_mfcc(n_mfcc):\n",
    "    # mels:         (576, 128, 58) (n_wavs, n_mels, n_windows)\n",
    "    # mfccs:        (576, 20, 58)  (n_wavs, n_mfcc, n_windows)\n",
    "    all_mels, all_mfcc = map(np.array, map(list, zip(*\n",
    "                             [ ffts_to_mel(ffts, n_mels = n_mels, n_mfcc = n_mfcc) \n",
    "                               for ffts in all_spectrograms ])))\n",
    "    n_files, n_mfcc_dummy, n_windows = all_mfcc.shape\n",
    "\n",
    "    # Returns a flat 2d idx, given a wavfile index and a window index\n",
    "    flat_data_idx = lambda wav_idx, win_idx: flat_2d_array_idx(\n",
    "        wav_idx, win_idx, n_files, n_windows)\n",
    "\n",
    "    # data:   (33408, 20) (n_wavs * n_windows, n_mfcc)\n",
    "    data_prenorm = np.array([ all_mfcc[wav_file_idx][:, window_idx] \n",
    "                              for wav_file_idx in range(n_files) \n",
    "                              for window_idx in range(n_windows) ])\n",
    "\n",
    "    # Globally normalize to [0, 1]\n",
    "    # log(-n) is nan, so we put things on a log scale from absolute values, and\n",
    "    # mutliply the sign back.\n",
    "    signs = np.sign(data_prenorm)\n",
    "    data_logged = np.log(np.abs(data_prenorm))\n",
    "    max_mfcc = np.max(np.abs(data_logged))\n",
    "    data_negtopos = data_logged / max_mfcc\n",
    "    data = normalize_rows(data_negtopos, NormMode.NEG_ONE_ONE_TO_ZERO_ONE)  \n",
    "    \n",
    "    # X_train: (22272, 20)\n",
    "    # X_val: (11136, 20)\n",
    "    X_train = []; X_val = [];\n",
    "    for vow_idx in range(n_vowels):\n",
    "        for pit_idx in range(n_pitches):\n",
    "            # Choose the person for this pitch/vowel to be used as test data\n",
    "            test_pid = int(np.random.rand() * 3)\n",
    "            for pid_idx in range(n_people):\n",
    "                wav_idx = flat_ref_idx(vow_idx, pit_idx, pid_idx)\n",
    "                if (pid_idx != test_pid):\n",
    "                    for win_idx in range(n_windows):\n",
    "                        X_train.append(data[flat_data_idx(wav_idx, win_idx)])\n",
    "                else:\n",
    "                    for win_idx in range(n_windows):\n",
    "                        X_val.append(data[flat_data_idx(wav_idx, win_idx)])\n",
    "    X_train, X_val = map(torch.tensor, (X_train, X_val))\n",
    "    # Default tensor is float\n",
    "    X_train = X_train.float(); X_val = X_val.float()\n",
    "    \n",
    "    return data, data_prenorm, max_mfcc, signs, flat_data_idx, X_train, X_val\n",
    "\n",
    "# # # # # # # # # # # # # #\n",
    "# Actual experiment loop  #\n",
    "# # # # # # # # # # # # # # \n",
    "\n",
    "# Results: \n",
    "# Indices: [ [ n_mfcc, n_hid, n_timb ], [ ... ], ... ]\n",
    "# Losses: [ loss1, loss2, ... ]\n",
    "indices = []; train_losses = []; val_losses = [];\n",
    "\n",
    "n_mfccs = [ 40, 24, 12 ]\n",
    "n_hid_candidates = [10, 12, 14, 16, 18, 20, 22, 24, 26, 28, 30, 32, 34, 36, 38]\n",
    "n_timb_candidates = [4, 6, 8, 10 ] # >= 12 means we might as well have used 12 mfcc\n",
    "f = open(os.path.join(\"model_data\", \"TimbreVAE_Expts_nmels256_nfft2048\", \"Log.txt\"), \"w\")\n",
    "for n_mfcc in n_mfccs:\n",
    "    data, data_prenorm, max_mfcc, signs, flat_data_idx, X_train, X_val = create_data_for_mfcc(n_mfcc)\n",
    "    lr = 1e-3; n_epochs = 2000; batch_size=22272\n",
    "\n",
    "    for n_hid in n_hid_candidates:\n",
    "        for n_timb in n_timb_candidates:\n",
    "            if (n_timb >= n_hid) or (n_timb >= n_mfcc) or (n_hid >= n_mfcc):\n",
    "                continue\n",
    "\n",
    "            # Training model \n",
    "            model = TimbreVAE(n_mfcc=n_mfcc, n_hid=n_hid, n_timb=n_timb)\n",
    "\n",
    "            # Use GPU if possible (will run on CPU otherwise)\n",
    "            device = torch.device(\"cuda\") if torch.cuda.is_available() else torch.device(\"cpu\")\n",
    "\n",
    "            # Move inputs to GPU (if possible)\n",
    "            X_train = X_train.to(device)\n",
    "            X_val = X_val.to(device)\n",
    "\n",
    "            # Move the network to GPU (if possible)\n",
    "            model.to(device) \n",
    "            # Define optimizer \n",
    "            # opt = optim.SGD(model.parameters(), lr=lr)\n",
    "            opt = optim.Adam(model.parameters(), lr=lr)\n",
    "\n",
    "            # Fit the model\n",
    "            tic = time.time()\n",
    "            train_loss, val_loss = model.train_func(X_train, X_val, model, opt, loss_fn, batch_size=batch_size,\n",
    "                                    epochs=n_epochs, print_graph = True, desc=\"n_mfcc{},n_hid{},n_timb{}\".format(n_mfcc, n_hid, n_timb))\n",
    "            toc = time.time()\n",
    "            print('Final loss: {}\\t\\tTime taken: {}'.format(train_loss, toc - tic))\n",
    "            model_path = os.path.join(\"model_data\", \"TimbreVAE_Expts_nmels256_nfft2048\", \n",
    "                                      \"TimbreVAE_lr{}_n_epochs{}_n_mfcc{}_n_hid{}_n_timb{}_{:.6f}.pt\"\n",
    "                                      .format(lr, n_epochs, n_mfcc, n_hid, n_timb, val_loss))\n",
    "            torch.save(model.state_dict(), model_path)\n",
    "            print(\"Model saved at {}\".format(model_path))\n",
    "\n",
    "            indices.append([n_mfcc, n_hid, n_timb]); train_losses.append(train_loss); val_losses.append(val_loss)\n",
    "\n",
    "            # Create the validation printout and graph\n",
    "            data_tensor = torch.tensor(data)\n",
    "            data_tensor = data_tensor.float();\n",
    "            data_tensor = data_tensor.to(device)\n",
    "\n",
    "            wav_idx = flat_ref_idx(5, 5, 1)\n",
    "            data_idx = flat_data_idx(wav_idx, 30)\n",
    "            label = data_tensor[data_idx]\n",
    "            pred, _, _ = model(data_tensor)\n",
    "\n",
    "            # To restore:\n",
    "            restored_pred = signs * np.e ** (\n",
    "                denormalize_rows(pred.cpu().detach().numpy(), DenormMode.ZERO_ONE_TO_NEG_ONE_ONE) * max_mfcc)\n",
    "            # Visualize MFCCs\n",
    "            fig, ax = plt.subplots(2, 1, figsize=(10, 10))\n",
    "            fig.suptitle(\"TimbreVAE lr{} n_epochs{} n_mfcc{} n_hid{} n_timb{} loss{:.6f}\"\n",
    "                         .format(lr, n_epochs, n_mfcc, n_hid, n_timb, val_loss))\n",
    "            # plt.figure()\n",
    "            ax[0].plot(data_prenorm[data_idx])\n",
    "            ax[0].plot(restored_pred[data_idx])\n",
    "            # fig, ax = plt.subplots(2, 1)\n",
    "            # plt.figure()\n",
    "            ax[1].plot(data[data_idx])\n",
    "            ax[1].plot(pred.cpu().detach().numpy()[data_idx])\n",
    "            fig.savefig(os.path.join(\"model_data\", \"TimbreVAE_Expts_nmels256_nfft2048\", \n",
    "                \"TimbreVAE_lr{}_n_epochs{}_n_mfcc{}_n_hid{}_n_timb{}_{:.6f}.jpg\"\n",
    "                        .format(lr, n_epochs, n_mfcc, n_hid, n_timb, val_loss)))\n",
    "\n",
    "            # Numeric verification\n",
    "            np.set_printoptions(suppress=True)\n",
    "            f.write(\"TimbreVAE lr{} n_epochs{} n_mfcc{} n_hid{} n_timb{} loss{:.6f}\"\n",
    "                    .format(lr, n_epochs, n_mfcc, n_hid, n_timb, val_loss))\n",
    "\n",
    "            f.write(str(data_prenorm[data_idx]))\n",
    "            f.write(str(restored_pred[data_idx]))\n",
    "            f.write(str(data[data_idx]))\n",
    "            f.write(str(pred.cpu().detach().numpy()[data_idx]))\n",
    "f.close()\n",
    "\n",
    "%matplotlib inline"
   ]
  },
  {
   "cell_type": "code",
   "execution_count": 27,
   "metadata": {
    "scrolled": true
   },
   "outputs": [
    {
     "name": "stdout",
     "output_type": "stream",
     "text": [
      "0 [40, 10, 4] 26.953195155352013\n",
      "1 [40, 10, 6] 26.95304923221983\n",
      "2 [40, 10, 8] 26.952987495510058\n",
      "3 [40, 12, 4] 26.953338272270116\n",
      "4 [40, 12, 6] 26.953139031070403\n",
      "5 [40, 12, 8] 26.95295943336925\n",
      "6 [40, 12, 10] 26.953023976293103\n",
      "7 [40, 14, 4] 26.95300433279454\n",
      "8 [40, 14, 6] 26.95300433279454\n",
      "9 [40, 14, 8] 26.953038007363507\n",
      "10 [40, 14, 10] 26.95307168193247\n",
      "11 [40, 16, 4] 26.952948208512932\n",
      "12 [40, 16, 6] 26.9529959141523\n",
      "13 [40, 16, 8] 26.953116581357758\n",
      "14 [40, 16, 10] 26.952987495510058\n",
      "15 [40, 18, 4] 26.95318112428161\n",
      "16 [40, 18, 6] 26.95306887571839\n",
      "17 [40, 18, 8] 26.952892084231323\n",
      "18 [40, 18, 10] 26.95313061242816\n",
      "19 [40, 20, 4] 26.953057650862068\n",
      "20 [40, 20, 6] 26.953038007363507\n",
      "21 [40, 20, 8] 26.95299030172414\n",
      "22 [40, 20, 10] 26.953021170079023\n",
      "23 [40, 22, 4] 26.9529959141523\n",
      "24 [40, 22, 6] 26.953136224856323\n",
      "25 [40, 22, 8] 26.953091325431036\n",
      "26 [40, 22, 10] 26.95306606950431\n",
      "27 [40, 24, 4] 26.953040813577587\n",
      "28 [40, 24, 6] 26.95294259608477\n",
      "29 [40, 24, 8] 26.952920146372126\n",
      "30 [40, 24, 10] 26.953038007363507\n",
      "31 [40, 26, 4] 26.953038007363507\n",
      "32 [40, 26, 6] 26.953054844647987\n",
      "33 [40, 26, 8] 26.95293978987069\n",
      "34 [40, 26, 10] 26.95306045707615\n",
      "35 [40, 28, 4] 26.953167093211206\n",
      "36 [40, 28, 6] 26.953023976293103\n",
      "37 [40, 28, 8] 26.95293698365661\n",
      "38 [40, 28, 10] 26.95306326329023\n",
      "39 [40, 30, 4] 26.952981883081897\n",
      "40 [40, 30, 6] 26.95300152658046\n",
      "41 [40, 30, 8] 26.952920146372126\n",
      "42 [40, 30, 10] 26.952951014727013\n",
      "43 [40, 32, 4] 26.95306887571839\n",
      "44 [40, 32, 6] 26.953035201149426\n",
      "45 [40, 32, 8] 26.95294540229885\n",
      "46 [40, 32, 10] 26.952981883081897\n",
      "47 [40, 34, 4] 26.952981883081897\n",
      "48 [40, 34, 6] 26.9529959141523\n",
      "49 [40, 34, 8] 26.952908921515803\n",
      "50 [40, 34, 10] 26.952953820941094\n",
      "51 [40, 36, 4] 26.952928565014368\n",
      "52 [40, 36, 6] 26.953021170079023\n",
      "53 [40, 36, 8] 26.952900502873565\n",
      "54 [40, 36, 10] 26.95293698365661\n",
      "55 [40, 38, 4] 26.953029588721265\n",
      "56 [40, 38, 6] 26.952979076867816\n",
      "57 [40, 38, 8] 26.95288366558908\n",
      "58 [40, 38, 10] 26.953018363864942\n",
      "59 [24, 10, 4] 15.953353706447558\n",
      "60 [24, 10, 6] 15.953501032686782\n",
      "61 [24, 10, 8] 15.953440699084052\n",
      "62 [24, 12, 4] 15.953487001616379\n",
      "63 [24, 12, 6] 15.953408427622126\n",
      "64 [24, 12, 8] 15.95354593211207\n",
      "65 [24, 12, 10] 15.953506645114942\n",
      "66 [24, 14, 4] 15.953523482399426\n",
      "67 [24, 14, 6] 15.953360721982758\n",
      "68 [24, 14, 8] 15.953639940283765\n",
      "69 [24, 14, 10] 15.953464551903735\n",
      "70 [24, 16, 4] 15.953595040858477\n",
      "71 [24, 16, 6] 15.95361328125\n",
      "72 [24, 16, 8] 15.953524885506466\n",
      "73 [24, 16, 10] 15.95342807112069\n",
      "74 [24, 18, 4] 15.953394396551724\n",
      "75 [24, 18, 6] 15.953634327855603\n",
      "76 [24, 18, 8] 15.953412636943247\n",
      "77 [24, 18, 10] 15.953475776760058\n",
      "78 [24, 20, 4] 15.953571188038794\n",
      "79 [24, 20, 6] 15.953384574802442\n",
      "80 [24, 20, 8] 15.953562769396552\n",
      "81 [24, 20, 10] 15.953485598509339\n",
      "82 [24, 22, 4] 15.953523482399426\n",
      "83 [24, 22, 6] 15.95336773751796\n",
      "84 [24, 22, 8] 15.953464551903735\n",
      "85 [24, 22, 10] 15.953510854436063\n",
      "86 [12, 10, 4] 7.463036548132184\n",
      "87 [12, 10, 6] 7.463324886628951\n",
      "88 [12, 10, 8] 7.462854144216954\n",
      "59\n"
     ]
    }
   ],
   "source": [
    "for i in range(len(val_losses)):\n",
    "    print(i, indices[i], val_losses[i])\n",
    "# 0-58: n_mfcc = 40\n",
    "# 59-85: 24\n",
    "print(np.argmin(val_losses[59:86])+59)"
   ]
  },
  {
   "cell_type": "markdown",
   "metadata": {},
   "source": [
    "# Experiment: Changing normalization method to see if it produces better data\n",
    "\n",
    "Linear, relu, linear/linear/reparam, linear, relu, linear, **tanh** (normalized data from **-1 to 1**), **MSE**\n",
    "\n",
    "\n",
    "From running this, we used the configuration:   \n",
    "For n_mfcc=12: 12, 10, 8  7.197920877978891e-07  \n",
    "For n_mfcc=24: 24, 10, 4  4.151019792275867e-06  \n",
    "For n_mfcc=40: 40, 38, 8  2.7174930604731387e-06  "
   ]
  },
  {
   "cell_type": "code",
   "execution_count": 33,
   "metadata": {
    "scrolled": true
   },
   "outputs": [
    {
     "data": {
      "application/vnd.jupyter.widget-view+json": {
       "model_id": "612e6a38abd64fa4a33792acddbf76d4",
       "version_major": 2,
       "version_minor": 0
      },
      "text/plain": [
       "HBox(children=(FloatProgress(value=0.0, description='n_mfcc12,n_hid10,n_timb8', max=2000.0, style=ProgressStyl…"
      ]
     },
     "metadata": {},
     "output_type": "display_data"
    },
    {
     "name": "stdout",
     "output_type": "stream",
     "text": [
      "\n",
      "Training Loss before/after: 2.5233323418203443e-05, 3.25163214831431e-07\n",
      "Validation Loss before/after: 4.9614979104063975e-05, 7.197920877978891e-07\n",
      "Final loss: 3.25163214831431e-07\t\tTime taken: 17.43793511390686\n",
      "Model saved at model_data\\TimbreVAE_Expts_nmels256_nfft2048\\TimbreVAE_tanh_lr0.001_n_epochs2000_n_mfcc12_n_hid10_n_timb8_0.000001.pt\n"
     ]
    },
    {
     "data": {
      "application/vnd.jupyter.widget-view+json": {
       "model_id": "39d0827ad13348dfb5729983ad3c7c1f",
       "version_major": 2,
       "version_minor": 0
      },
      "text/plain": [
       "HBox(children=(FloatProgress(value=0.0, description='n_mfcc24,n_hid10,n_timb4', max=2000.0, style=ProgressStyl…"
      ]
     },
     "metadata": {},
     "output_type": "display_data"
    },
    {
     "name": "stdout",
     "output_type": "stream",
     "text": [
      "\n",
      "Training Loss before/after: 1.885824911724562e-05, 2.046878919294425e-06\n",
      "Validation Loss before/after: 3.693698659196667e-05, 4.151019792275867e-06\n",
      "Final loss: 2.046878919294425e-06\t\tTime taken: 16.16489577293396\n",
      "Model saved at model_data\\TimbreVAE_Expts_nmels256_nfft2048\\TimbreVAE_tanh_lr0.001_n_epochs2000_n_mfcc24_n_hid10_n_timb4_0.000004.pt\n"
     ]
    },
    {
     "data": {
      "application/vnd.jupyter.widget-view+json": {
       "model_id": "0fe4892bec4945748c7cbdf81f70a76a",
       "version_major": 2,
       "version_minor": 0
      },
      "text/plain": [
       "HBox(children=(FloatProgress(value=0.0, description='n_mfcc40,n_hid38,n_timb8', max=2000.0, style=ProgressStyl…"
      ]
     },
     "metadata": {},
     "output_type": "display_data"
    },
    {
     "name": "stdout",
     "output_type": "stream",
     "text": [
      "\n",
      "Training Loss before/after: 1.1766253135584551e-05, 1.176477185097234e-06\n",
      "Validation Loss before/after: 2.2506145974514127e-05, 2.7174930604731387e-06\n",
      "Final loss: 1.176477185097234e-06\t\tTime taken: 16.75874662399292\n",
      "Model saved at model_data\\TimbreVAE_Expts_nmels256_nfft2048\\TimbreVAE_tanh_lr0.001_n_epochs2000_n_mfcc40_n_hid38_n_timb8_0.000003.pt\n"
     ]
    }
   ],
   "source": [
    "n_mels = 256\n",
    "n_ffts = 2048\n",
    "\n",
    "%matplotlib agg\n",
    "%matplotlib agg\n",
    "\n",
    "# # # # # # # # # # # # # # # # # # # # # # # # # #\n",
    "# Data that is constant throughout the entire run #\n",
    "# # # # # # # # # # # # # # # # # # # # # # # # # #\n",
    "\n",
    "# File reference lists\n",
    "data_ref_list = create_data_ref_list(os.path.join(\"Data\", 'dataset_files.csv'),\n",
    "                            n_pitches, n_vowels, n_people)\n",
    "# flat_data_ref_list[flat_ref_idx(vowel, pitch, person)]\n",
    "flat_data_ref_list = flatten_3d_array(data_ref_list, \n",
    "                                      n_vowels, n_pitches, n_people)\n",
    "# File reference list accessors\n",
    "# Returns a flat_ref_idx, given a vowel, pitch, person\n",
    "flat_ref_idx = lambda vowel, pitch, person: flat_3d_array_idx(\n",
    "    vowel, pitch, person, n_vowels, n_pitches, n_people)\n",
    "# Returns vowel, pitch, person, given a flat_ref_idx\n",
    "nd_ref_idx = lambda idx: nd_array_idx(idx, n_vowels, n_pitches, n_people)\n",
    "\n",
    "# wav, spectrogram, mels, mfcc for each file in flat_data_ref_list\n",
    "# wav_data:     (576, ~29400)  (n_wavs, n_samples)\n",
    "# spectrograms: (576, 513, 58) (n_wavs, n_freq_bins, n_windows)\n",
    "all_wav_data = load_wav_files(os.path.join(\"Data\", \"dataset\"), \n",
    "                              flat_data_ref_list)\n",
    "all_spectrograms = np.array([ stft(waveform, win_length=n_ffts, plot=False) \n",
    "                              for waveform in all_wav_data ])\n",
    "\n",
    "# Define loss \n",
    "loss_fn = nn.MSELoss()\n",
    "\n",
    "# # # # # # # # # # # # # # # # # # # \n",
    "# Data that is constant per n_mfcc  #\n",
    "# # # # # # # # # # # # # # # # # # # \n",
    "\n",
    "def create_data_for_mfcc(n_mfcc):\n",
    "    # mels:         (576, 128, 58) (n_wavs, n_mels, n_windows)\n",
    "    # mfccs:        (576, 20, 58)  (n_wavs, n_mfcc, n_windows)\n",
    "    all_mels, all_mfcc = map(np.array, map(list, zip(*\n",
    "                             [ ffts_to_mel(ffts, n_mels = n_mels, n_mfcc = n_mfcc) \n",
    "                               for ffts in all_spectrograms ])))\n",
    "    n_files, n_mfcc_dummy, n_windows = all_mfcc.shape\n",
    "\n",
    "    # Returns a flat 2d idx, given a wavfile index and a window index\n",
    "    flat_data_idx = lambda wav_idx, win_idx: flat_2d_array_idx(\n",
    "        wav_idx, win_idx, n_files, n_windows)\n",
    "\n",
    "    # data:   (33408, 20) (n_wavs * n_windows, n_mfcc)\n",
    "    data_prenorm = np.array([ all_mfcc[wav_file_idx][:, window_idx] \n",
    "                              for wav_file_idx in range(n_files) \n",
    "                              for window_idx in range(n_windows) ])\n",
    "\n",
    "    # Globally normalize to [-1, 1]\n",
    "    # log(-n) is nan, so we put things on a log scale from absolute values, and\n",
    "    # mutliply the sign back.\n",
    "    signs = np.sign(data_prenorm)\n",
    "    data_logged = np.log(np.abs(data_prenorm))\n",
    "    max_mfcc = np.max(np.abs(data_logged))\n",
    "    data = data_logged / max_mfcc\n",
    "\n",
    "    # X_train: (22272, 20)\n",
    "    # X_val: (11136, 20)\n",
    "    X_train = []; X_val = [];\n",
    "    for vow_idx in range(n_vowels):\n",
    "        for pit_idx in range(n_pitches):\n",
    "            # Choose the person for this pitch/vowel to be used as test data\n",
    "            test_pid = int(np.random.rand() * 3)\n",
    "            for pid_idx in range(n_people):\n",
    "                wav_idx = flat_ref_idx(vow_idx, pit_idx, pid_idx)\n",
    "                if (pid_idx != test_pid):\n",
    "                    for win_idx in range(n_windows):\n",
    "                        X_train.append(data[flat_data_idx(wav_idx, win_idx)])\n",
    "                else:\n",
    "                    for win_idx in range(n_windows):\n",
    "                        X_val.append(data[flat_data_idx(wav_idx, win_idx)])\n",
    "    X_train, X_val = map(torch.tensor, (X_train, X_val))\n",
    "    # Default tensor is float\n",
    "    X_train = X_train.float(); X_val = X_val.float()\n",
    "    \n",
    "    return data, data_prenorm, max_mfcc, signs, flat_data_idx, X_train, X_val\n",
    "\n",
    "# # # # # # # # # # # # # #\n",
    "# Actual experiment loop  #\n",
    "# # # # # # # # # # # # # # \n",
    "\n",
    "# Results: \n",
    "# Indices: [ [ n_mfcc, n_hid, n_timb ], [ ... ], ... ]\n",
    "# Losses: [ loss1, loss2, ... ]\n",
    "indices = []; train_losses = []; val_losses = [];\n",
    "\n",
    "cands = [ [12, 10, 8], [24, 10, 4  ], [40, 38, 8] ]\n",
    "\n",
    "f = open(os.path.join(\"model_data\", \"TimbreVAE_Expts_nmels256_nfft2048\", \"_tanhLog.txt\"), \"w\")\n",
    "for cand in cands:\n",
    "    n_mfcc, n_hid, n_timb = cand\n",
    "    data, data_prenorm, max_mfcc, signs, flat_data_idx, X_train, X_val = create_data_for_mfcc(n_mfcc)\n",
    "    lr = 1e-3; n_epochs = 2000; batch_size=22272\n",
    "\n",
    "    # Training model \n",
    "    model = TimbreVAE(n_mfcc=n_mfcc, n_hid=n_hid, n_timb=n_timb)\n",
    "\n",
    "    # Use GPU if possible (will run on CPU otherwise)\n",
    "    device = torch.device(\"cuda\") if torch.cuda.is_available() else torch.device(\"cpu\")\n",
    "\n",
    "    # Move inputs to GPU (if possible)\n",
    "    X_train = X_train.to(device)\n",
    "    X_val = X_val.to(device)\n",
    "\n",
    "    # Move the network to GPU (if possible)\n",
    "    model.to(device) \n",
    "    # Define optimizer \n",
    "    # opt = optim.SGD(model.parameters(), lr=lr)\n",
    "    opt = optim.Adam(model.parameters(), lr=lr)\n",
    "\n",
    "    # Fit the model\n",
    "    tic = time.time()\n",
    "    train_loss, val_loss = model.train_func(X_train, X_val, model, opt, loss_fn, batch_size=batch_size,\n",
    "                            epochs=n_epochs, print_graph = True, desc=\"n_mfcc{},n_hid{},n_timb{}\".format(n_mfcc, n_hid, n_timb))\n",
    "    toc = time.time()\n",
    "    print('Final loss: {}\\t\\tTime taken: {}'.format(train_loss, toc - tic))\n",
    "    model_path = os.path.join(\"model_data\", \"TimbreVAE_Expts_nmels256_nfft2048\", \n",
    "                              \"TimbreVAE_tanh_lr{}_n_epochs{}_n_mfcc{}_n_hid{}_n_timb{}_{:.6f}.pt\"\n",
    "                              .format(lr, n_epochs, n_mfcc, n_hid, n_timb, val_loss))\n",
    "    torch.save(model.state_dict(), model_path)\n",
    "    print(\"Model saved at {}\".format(model_path))\n",
    "\n",
    "    indices.append([n_mfcc, n_hid, n_timb]); train_losses.append(train_loss); val_losses.append(val_loss)\n",
    "\n",
    "    # Create the validation printout and graph\n",
    "    data_tensor = torch.tensor(data)\n",
    "    data_tensor = data_tensor.float();\n",
    "    data_tensor = data_tensor.to(device)\n",
    "\n",
    "    wav_idx = flat_ref_idx(5, 5, 1)\n",
    "    data_idx = flat_data_idx(wav_idx, 30)\n",
    "    label = data_tensor[data_idx]\n",
    "    pred, _, _ = model(data_tensor)\n",
    "\n",
    "    # To restore:\n",
    "    restored_pred = signs * np.e ** (pred.cpu().detach().numpy() * max_mfcc)\n",
    "\n",
    "    # Visualize MFCCs\n",
    "    fig, ax = plt.subplots(2, 1, figsize=(10, 10))\n",
    "    fig.suptitle(\"TimbreVAE tanh lr{} n_epochs{} n_mfcc{} n_hid{} n_timb{} loss{:.6f}\"\n",
    "                 .format(lr, n_epochs, n_mfcc, n_hid, n_timb, val_loss))\n",
    "    # plt.figure()\n",
    "    ax[0].plot(data_prenorm[data_idx])\n",
    "    ax[0].plot(restored_pred[data_idx])\n",
    "    # fig, ax = plt.subplots(2, 1)\n",
    "    # plt.figure()\n",
    "    ax[1].plot(data[data_idx])\n",
    "    ax[1].plot(pred.cpu().detach().numpy()[data_idx])\n",
    "    fig.savefig(os.path.join(\"model_data\", \"TimbreVAE_Expts_nmels256_nfft2048\", \n",
    "        \"TimbreVAE_tanh_lr{}_n_epochs{}_n_mfcc{}_n_hid{}_n_timb{}_{:.6f}.jpg\"\n",
    "                .format(lr, n_epochs, n_mfcc, n_hid, n_timb, val_loss)))\n",
    "\n",
    "    # Numeric verification\n",
    "    np.set_printoptions(suppress=True)\n",
    "    f.write(\"TimbreVAE_tanh lr{} n_epochs{} n_mfcc{} n_hid{} n_timb{} loss{:.6f}\"\n",
    "            .format(lr, n_epochs, n_mfcc, n_hid, n_timb, val_loss))\n",
    "\n",
    "    f.write(str(data_prenorm[data_idx]))\n",
    "    f.write(str(restored_pred[data_idx]))\n",
    "    f.write(str(data[data_idx]))\n",
    "    f.write(str(pred.cpu().detach().numpy()[data_idx]))\n",
    "f.close()\n",
    "\n",
    "%matplotlib inline"
   ]
  },
  {
   "cell_type": "markdown",
   "metadata": {},
   "source": [
    "# Experiment: Choosing the best n_timb, n_hid, n_mfcc\n",
    "Since it gave rather promising results to compress n_mfcc, we wanted to see whether different configurations could get more optimal results. We repeat the first experiment with the same NN configuration.\n",
    " \n",
    "Best results:  \n",
    "[40, 36, 10] 1.2298838011973977e-06\n",
    "[24, 22, 10] 9.564522268443273e-07\n",
    "[12, 10, 6] 1.2616396763886529e-06"
   ]
  },
  {
   "cell_type": "code",
   "execution_count": 16,
   "metadata": {
    "scrolled": true
   },
   "outputs": [
    {
     "data": {
      "application/vnd.jupyter.widget-view+json": {
       "model_id": "26362717196c4602824afe46db363eef",
       "version_major": 2,
       "version_minor": 0
      },
      "text/plain": [
       "HBox(children=(FloatProgress(value=0.0, description='n_mfcc40,n_hid6,n_timb4', max=2000.0, style=ProgressStyle…"
      ]
     },
     "metadata": {},
     "output_type": "display_data"
    },
    {
     "name": "stdout",
     "output_type": "stream",
     "text": [
      "\n",
      "Training Loss before/after: 1.7212469655292474e-05, 1.0238961723429718e-06\n",
      "Validation Loss before/after: 3.408971135558068e-05, 2.0342843202959703e-06\n",
      "Final loss: 1.0238961723429718e-06\t\tTime taken: 17.025894165039062\n",
      "Model saved at model_data\\TimbreVAE_Expts_nmels256_nfft2048\\TimbreVAE_expttanh_lr0.001_n_epochs2000_n_mfcc40_n_hid6_n_timb4_2.0343646067248164e-06.pt\n"
     ]
    },
    {
     "data": {
      "application/vnd.jupyter.widget-view+json": {
       "model_id": "40e635d7ca5841088e6252ab6ec18276",
       "version_major": 2,
       "version_minor": 0
      },
      "text/plain": [
       "HBox(children=(FloatProgress(value=0.0, description='n_mfcc40,n_hid8,n_timb4', max=2000.0, style=ProgressStyle…"
      ]
     },
     "metadata": {},
     "output_type": "display_data"
    },
    {
     "name": "stdout",
     "output_type": "stream",
     "text": [
      "\n",
      "Training Loss before/after: 2.1013459351299138e-05, 9.72251676092588e-07\n",
      "Validation Loss before/after: 4.1804506561194346e-05, 1.934369197704069e-06\n",
      "Final loss: 9.72251676092588e-07\t\tTime taken: 16.25984811782837\n",
      "Model saved at model_data\\TimbreVAE_Expts_nmels256_nfft2048\\TimbreVAE_expttanh_lr0.001_n_epochs2000_n_mfcc40_n_hid8_n_timb4_1.934226187502687e-06.pt\n"
     ]
    },
    {
     "data": {
      "application/vnd.jupyter.widget-view+json": {
       "model_id": "cdd111806e3547ed9050a7b8125de100",
       "version_major": 2,
       "version_minor": 0
      },
      "text/plain": [
       "HBox(children=(FloatProgress(value=0.0, description='n_mfcc40,n_hid8,n_timb6', max=2000.0, style=ProgressStyle…"
      ]
     },
     "metadata": {},
     "output_type": "display_data"
    },
    {
     "name": "stdout",
     "output_type": "stream",
     "text": [
      "\n",
      "Training Loss before/after: 1.239999406168173e-05, 9.066690376360269e-07\n",
      "Validation Loss before/after: 2.42582474160811e-05, 1.7995729670463793e-06\n",
      "Final loss: 9.066690376360269e-07\t\tTime taken: 16.35883617401123\n",
      "Model saved at model_data\\TimbreVAE_Expts_nmels256_nfft2048\\TimbreVAE_expttanh_lr0.001_n_epochs2000_n_mfcc40_n_hid8_n_timb6_1.8002413515665237e-06.pt\n"
     ]
    },
    {
     "data": {
      "application/vnd.jupyter.widget-view+json": {
       "model_id": "03a73218438e4f6a9c22f63a3cb7d835",
       "version_major": 2,
       "version_minor": 0
      },
      "text/plain": [
       "HBox(children=(FloatProgress(value=0.0, description='n_mfcc40,n_hid10,n_timb4', max=2000.0, style=ProgressStyl…"
      ]
     },
     "metadata": {},
     "output_type": "display_data"
    },
    {
     "name": "stdout",
     "output_type": "stream",
     "text": [
      "\n",
      "Training Loss before/after: 1.2921549422645021e-05, 8.43345960361305e-07\n",
      "Validation Loss before/after: 2.5455714149893016e-05, 1.6831429260408226e-06\n",
      "Final loss: 8.43345960361305e-07\t\tTime taken: 16.569201946258545\n",
      "Model saved at model_data\\TimbreVAE_Expts_nmels256_nfft2048\\TimbreVAE_expttanh_lr0.001_n_epochs2000_n_mfcc40_n_hid10_n_timb4_1.6831603214337395e-06.pt\n"
     ]
    },
    {
     "data": {
      "application/vnd.jupyter.widget-view+json": {
       "model_id": "fd19cd4dfa3043188a8cc3cf01dba589",
       "version_major": 2,
       "version_minor": 0
      },
      "text/plain": [
       "HBox(children=(FloatProgress(value=0.0, description='n_mfcc40,n_hid10,n_timb6', max=2000.0, style=ProgressStyl…"
      ]
     },
     "metadata": {},
     "output_type": "display_data"
    },
    {
     "name": "stdout",
     "output_type": "stream",
     "text": [
      "\n",
      "Training Loss before/after: 1.5487808776997972e-05, 8.583774197386343e-07\n",
      "Validation Loss before/after: 3.054494509237936e-05, 1.718680041135642e-06\n",
      "Final loss: 8.583774197386343e-07\t\tTime taken: 15.852180242538452\n",
      "Model saved at model_data\\TimbreVAE_Expts_nmels256_nfft2048\\TimbreVAE_expttanh_lr0.001_n_epochs2000_n_mfcc40_n_hid10_n_timb6_1.71878675518065e-06.pt\n"
     ]
    },
    {
     "data": {
      "application/vnd.jupyter.widget-view+json": {
       "model_id": "104232a94dd94d939286997c043cc518",
       "version_major": 2,
       "version_minor": 0
      },
      "text/plain": [
       "HBox(children=(FloatProgress(value=0.0, description='n_mfcc40,n_hid10,n_timb8', max=2000.0, style=ProgressStyl…"
      ]
     },
     "metadata": {},
     "output_type": "display_data"
    },
    {
     "name": "stdout",
     "output_type": "stream",
     "text": [
      "\n",
      "Training Loss before/after: 1.569481261459918e-05, 8.473586928013755e-07\n",
      "Validation Loss before/after: 3.0948954430976136e-05, 1.6890408005565405e-06\n",
      "Final loss: 8.473586928013755e-07\t\tTime taken: 17.052359342575073\n",
      "Model saved at model_data\\TimbreVAE_Expts_nmels256_nfft2048\\TimbreVAE_expttanh_lr0.001_n_epochs2000_n_mfcc40_n_hid10_n_timb8_1.6892657698207032e-06.pt\n"
     ]
    },
    {
     "data": {
      "application/vnd.jupyter.widget-view+json": {
       "model_id": "19837f74852b4e1d89b3fa147c3c0cfb",
       "version_major": 2,
       "version_minor": 0
      },
      "text/plain": [
       "HBox(children=(FloatProgress(value=0.0, description='n_mfcc40,n_hid12,n_timb4', max=2000.0, style=ProgressStyl…"
      ]
     },
     "metadata": {},
     "output_type": "display_data"
    },
    {
     "name": "stdout",
     "output_type": "stream",
     "text": [
      "\n",
      "Training Loss before/after: 1.6092730889460822e-05, 8.857764180578377e-07\n",
      "Validation Loss before/after: 3.155279133854241e-05, 1.76698069125628e-06\n",
      "Final loss: 8.857764180578377e-07\t\tTime taken: 15.351408958435059\n",
      "Model saved at model_data\\TimbreVAE_Expts_nmels256_nfft2048\\TimbreVAE_expttanh_lr0.001_n_epochs2000_n_mfcc40_n_hid12_n_timb4_1.7669684810285595e-06.pt\n"
     ]
    },
    {
     "data": {
      "application/vnd.jupyter.widget-view+json": {
       "model_id": "9a9b431ab0204ae289960b7d687c0499",
       "version_major": 2,
       "version_minor": 0
      },
      "text/plain": [
       "HBox(children=(FloatProgress(value=0.0, description='n_mfcc40,n_hid12,n_timb6', max=2000.0, style=ProgressStyl…"
      ]
     },
     "metadata": {},
     "output_type": "display_data"
    },
    {
     "name": "stdout",
     "output_type": "stream",
     "text": [
      "\n",
      "Training Loss before/after: 1.7616686400497098e-05, 8.834324724940134e-07\n",
      "Validation Loss before/after: 3.477515406564049e-05, 1.7566140406583061e-06\n",
      "Final loss: 8.834324724940134e-07\t\tTime taken: 15.04301905632019\n",
      "Model saved at model_data\\TimbreVAE_Expts_nmels256_nfft2048\\TimbreVAE_expttanh_lr0.001_n_epochs2000_n_mfcc40_n_hid12_n_timb6_1.7566469915468118e-06.pt\n"
     ]
    },
    {
     "data": {
      "application/vnd.jupyter.widget-view+json": {
       "model_id": "33d10e80b4804e0a94f2de4dbc6fa727",
       "version_major": 2,
       "version_minor": 0
      },
      "text/plain": [
       "HBox(children=(FloatProgress(value=0.0, description='n_mfcc40,n_hid12,n_timb8', max=2000.0, style=ProgressStyl…"
      ]
     },
     "metadata": {},
     "output_type": "display_data"
    },
    {
     "name": "stdout",
     "output_type": "stream",
     "text": [
      "\n",
      "Training Loss before/after: 1.637990072626492e-05, 8.756441871057554e-07\n",
      "Validation Loss before/after: 3.2009995788678354e-05, 1.7324183872183679e-06\n",
      "Final loss: 8.756441871057554e-07\t\tTime taken: 14.944334745407104\n",
      "Model saved at model_data\\TimbreVAE_Expts_nmels256_nfft2048\\TimbreVAE_expttanh_lr0.001_n_epochs2000_n_mfcc40_n_hid12_n_timb8_1.732456690535463e-06.pt\n"
     ]
    },
    {
     "data": {
      "application/vnd.jupyter.widget-view+json": {
       "model_id": "5e69b30debad423b83af27badcef6d81",
       "version_major": 2,
       "version_minor": 0
      },
      "text/plain": [
       "HBox(children=(FloatProgress(value=0.0, description='n_mfcc40,n_hid12,n_timb10', max=2000.0, style=ProgressSty…"
      ]
     },
     "metadata": {},
     "output_type": "display_data"
    },
    {
     "name": "stdout",
     "output_type": "stream",
     "text": [
      "\n",
      "Training Loss before/after: 1.3032715350132564e-05, 8.073267921666218e-07\n",
      "Validation Loss before/after: 2.5665446387967845e-05, 1.6140415675766853e-06\n",
      "Final loss: 8.073267921666218e-07\t\tTime taken: 15.144408226013184\n",
      "Model saved at model_data\\TimbreVAE_Expts_nmels256_nfft2048\\TimbreVAE_expttanh_lr0.001_n_epochs2000_n_mfcc40_n_hid12_n_timb10_1.6141016151349264e-06.pt\n"
     ]
    },
    {
     "data": {
      "application/vnd.jupyter.widget-view+json": {
       "model_id": "abc4aea177334ee792de2e9f2624406b",
       "version_major": 2,
       "version_minor": 0
      },
      "text/plain": [
       "HBox(children=(FloatProgress(value=0.0, description='n_mfcc40,n_hid14,n_timb4', max=2000.0, style=ProgressStyl…"
      ]
     },
     "metadata": {},
     "output_type": "display_data"
    },
    {
     "name": "stdout",
     "output_type": "stream",
     "text": [
      "\n",
      "Training Loss before/after: 1.5088625990882001e-05, 8.874872716775313e-07\n",
      "Validation Loss before/after: 2.9597375220779714e-05, 1.7592223460154458e-06\n",
      "Final loss: 8.874872716775313e-07\t\tTime taken: 14.978884935379028\n",
      "Model saved at model_data\\TimbreVAE_Expts_nmels256_nfft2048\\TimbreVAE_expttanh_lr0.001_n_epochs2000_n_mfcc40_n_hid14_n_timb4_1.7591796938501212e-06.pt\n"
     ]
    },
    {
     "data": {
      "application/vnd.jupyter.widget-view+json": {
       "model_id": "2c756f12f7d04003999e78f1f94cca1f",
       "version_major": 2,
       "version_minor": 0
      },
      "text/plain": [
       "HBox(children=(FloatProgress(value=0.0, description='n_mfcc40,n_hid14,n_timb6', max=2000.0, style=ProgressStyl…"
      ]
     },
     "metadata": {},
     "output_type": "display_data"
    },
    {
     "name": "stdout",
     "output_type": "stream",
     "text": [
      "\n",
      "Training Loss before/after: 1.9743443124167535e-05, 8.919905040188339e-07\n",
      "Validation Loss before/after: 3.8297105601978025e-05, 1.76060377438178e-06\n",
      "Final loss: 8.919905040188339e-07\t\tTime taken: 15.052025079727173\n",
      "Model saved at model_data\\TimbreVAE_Expts_nmels256_nfft2048\\TimbreVAE_expttanh_lr0.001_n_epochs2000_n_mfcc40_n_hid14_n_timb6_1.7604502265866118e-06.pt\n"
     ]
    },
    {
     "data": {
      "application/vnd.jupyter.widget-view+json": {
       "model_id": "6920e20cc0f44c2babb114891cbb0304",
       "version_major": 2,
       "version_minor": 0
      },
      "text/plain": [
       "HBox(children=(FloatProgress(value=0.0, description='n_mfcc40,n_hid14,n_timb8', max=2000.0, style=ProgressStyl…"
      ]
     },
     "metadata": {},
     "output_type": "display_data"
    },
    {
     "name": "stdout",
     "output_type": "stream",
     "text": [
      "\n",
      "Training Loss before/after: 1.7386755435031722e-05, 9.121572841012358e-07\n",
      "Validation Loss before/after: 3.420866640477345e-05, 1.8058608997955747e-06\n",
      "Final loss: 9.121572841012358e-07\t\tTime taken: 14.970778226852417\n",
      "Model saved at model_data\\TimbreVAE_Expts_nmels256_nfft2048\\TimbreVAE_expttanh_lr0.001_n_epochs2000_n_mfcc40_n_hid14_n_timb8_1.8059002066930305e-06.pt\n"
     ]
    },
    {
     "data": {
      "application/vnd.jupyter.widget-view+json": {
       "model_id": "ba4ae68a6b64481286a96c30f55b8214",
       "version_major": 2,
       "version_minor": 0
      },
      "text/plain": [
       "HBox(children=(FloatProgress(value=0.0, description='n_mfcc40,n_hid14,n_timb10', max=2000.0, style=ProgressSty…"
      ]
     },
     "metadata": {},
     "output_type": "display_data"
    },
    {
     "name": "stdout",
     "output_type": "stream",
     "text": [
      "\n",
      "Training Loss before/after: 1.4219635123408388e-05, 9.439203516184085e-07\n",
      "Validation Loss before/after: 2.7595074504785153e-05, 1.8769533616950972e-06\n",
      "Final loss: 9.439203516184085e-07\t\tTime taken: 14.919651746749878\n",
      "Model saved at model_data\\TimbreVAE_Expts_nmels256_nfft2048\\TimbreVAE_expttanh_lr0.001_n_epochs2000_n_mfcc40_n_hid14_n_timb10_1.876165049321864e-06.pt\n"
     ]
    },
    {
     "data": {
      "application/vnd.jupyter.widget-view+json": {
       "model_id": "484e20cb68614e41be0d0bf4a44a3483",
       "version_major": 2,
       "version_minor": 0
      },
      "text/plain": [
       "HBox(children=(FloatProgress(value=0.0, description='n_mfcc40,n_hid16,n_timb4', max=2000.0, style=ProgressStyl…"
      ]
     },
     "metadata": {},
     "output_type": "display_data"
    },
    {
     "name": "stdout",
     "output_type": "stream",
     "text": [
      "\n",
      "Training Loss before/after: 1.5692512408412737e-05, 8.480382003371829e-07\n",
      "Validation Loss before/after: 3.065061273759809e-05, 1.6848603865645568e-06\n",
      "Final loss: 8.480382003371829e-07\t\tTime taken: 15.853214263916016\n",
      "Model saved at model_data\\TimbreVAE_Expts_nmels256_nfft2048\\TimbreVAE_expttanh_lr0.001_n_epochs2000_n_mfcc40_n_hid16_n_timb4_1.6849242811808469e-06.pt\n"
     ]
    },
    {
     "data": {
      "application/vnd.jupyter.widget-view+json": {
       "model_id": "7b36a253d9fa40b49683bc0481d26afd",
       "version_major": 2,
       "version_minor": 0
      },
      "text/plain": [
       "HBox(children=(FloatProgress(value=0.0, description='n_mfcc40,n_hid16,n_timb6', max=2000.0, style=ProgressStyl…"
      ]
     },
     "metadata": {},
     "output_type": "display_data"
    },
    {
     "name": "stdout",
     "output_type": "stream",
     "text": [
      "\n",
      "Training Loss before/after: 1.6948261737138376e-05, 8.781264594959459e-07\n",
      "Validation Loss before/after: 3.3239989231030144e-05, 1.741484899459214e-06\n",
      "Final loss: 8.781264594959459e-07\t\tTime taken: 14.960427284240723\n",
      "Model saved at model_data\\TimbreVAE_Expts_nmels256_nfft2048\\TimbreVAE_expttanh_lr0.001_n_epochs2000_n_mfcc40_n_hid16_n_timb6_1.7415019603253438e-06.pt\n"
     ]
    },
    {
     "data": {
      "application/vnd.jupyter.widget-view+json": {
       "model_id": "8f31fce64464469db3c4bbbe11a6924f",
       "version_major": 2,
       "version_minor": 0
      },
      "text/plain": [
       "HBox(children=(FloatProgress(value=0.0, description='n_mfcc40,n_hid16,n_timb8', max=2000.0, style=ProgressStyl…"
      ]
     },
     "metadata": {},
     "output_type": "display_data"
    },
    {
     "name": "stdout",
     "output_type": "stream",
     "text": [
      "\n",
      "Training Loss before/after: 1.5795837028016303e-05, 7.73473935811941e-07\n",
      "Validation Loss before/after: 3.068521886464508e-05, 1.5582704325153053e-06\n",
      "Final loss: 7.73473935811941e-07\t\tTime taken: 16.043341398239136\n",
      "Model saved at model_data\\TimbreVAE_Expts_nmels256_nfft2048\\TimbreVAE_expttanh_lr0.001_n_epochs2000_n_mfcc40_n_hid16_n_timb8_1.5582930130734184e-06.pt\n"
     ]
    },
    {
     "data": {
      "application/vnd.jupyter.widget-view+json": {
       "model_id": "7c4bff172d164b55bff36301c9bdd1c8",
       "version_major": 2,
       "version_minor": 0
      },
      "text/plain": [
       "HBox(children=(FloatProgress(value=0.0, description='n_mfcc40,n_hid16,n_timb10', max=2000.0, style=ProgressSty…"
      ]
     },
     "metadata": {},
     "output_type": "display_data"
    },
    {
     "name": "stdout",
     "output_type": "stream",
     "text": [
      "\n",
      "Training Loss before/after: 1.3816126236884759e-05, 8.126371540129185e-07\n",
      "Validation Loss before/after: 2.6959275569895218e-05, 1.6095950375257552e-06\n",
      "Final loss: 8.126371540129185e-07\t\tTime taken: 15.07455849647522\n",
      "Model saved at model_data\\TimbreVAE_Expts_nmels256_nfft2048\\TimbreVAE_expttanh_lr0.001_n_epochs2000_n_mfcc40_n_hid16_n_timb10_1.6096226359856711e-06.pt\n"
     ]
    },
    {
     "data": {
      "application/vnd.jupyter.widget-view+json": {
       "model_id": "083f996319a5468b946710dbc38ebcac",
       "version_major": 2,
       "version_minor": 0
      },
      "text/plain": [
       "HBox(children=(FloatProgress(value=0.0, description='n_mfcc40,n_hid18,n_timb4', max=2000.0, style=ProgressStyl…"
      ]
     },
     "metadata": {},
     "output_type": "display_data"
    },
    {
     "name": "stdout",
     "output_type": "stream",
     "text": [
      "\n",
      "Training Loss before/after: 1.8949554858450917e-05, 8.44996933686151e-07\n",
      "Validation Loss before/after: 3.6704396807599345e-05, 1.6809860645825494e-06\n",
      "Final loss: 8.44996933686151e-07\t\tTime taken: 15.019963264465332\n",
      "Model saved at model_data\\TimbreVAE_Expts_nmels256_nfft2048\\TimbreVAE_expttanh_lr0.001_n_epochs2000_n_mfcc40_n_hid18_n_timb4_1.6810161719933666e-06.pt\n"
     ]
    },
    {
     "data": {
      "application/vnd.jupyter.widget-view+json": {
       "model_id": "3ef5301c690147d1a620532c3de6ec5f",
       "version_major": 2,
       "version_minor": 0
      },
      "text/plain": [
       "HBox(children=(FloatProgress(value=0.0, description='n_mfcc40,n_hid18,n_timb6', max=2000.0, style=ProgressStyl…"
      ]
     },
     "metadata": {},
     "output_type": "display_data"
    },
    {
     "name": "stdout",
     "output_type": "stream",
     "text": [
      "\n",
      "Training Loss before/after: 1.5275611745557567e-05, 7.721359122962016e-07\n",
      "Validation Loss before/after: 2.9800550733832107e-05, 1.5576774837855977e-06\n",
      "Final loss: 7.721359122962016e-07\t\tTime taken: 15.427778720855713\n",
      "Model saved at model_data\\TimbreVAE_Expts_nmels256_nfft2048\\TimbreVAE_expttanh_lr0.001_n_epochs2000_n_mfcc40_n_hid18_n_timb6_1.5576249630800609e-06.pt\n"
     ]
    },
    {
     "data": {
      "application/vnd.jupyter.widget-view+json": {
       "model_id": "702dee8b4d5f4d9bb104078d2950538b",
       "version_major": 2,
       "version_minor": 0
      },
      "text/plain": [
       "HBox(children=(FloatProgress(value=0.0, description='n_mfcc40,n_hid18,n_timb8', max=2000.0, style=ProgressStyl…"
      ]
     },
     "metadata": {},
     "output_type": "display_data"
    },
    {
     "name": "stdout",
     "output_type": "stream",
     "text": [
      "\n",
      "Training Loss before/after: 1.465005200655981e-05, 8.290674371494986e-07\n",
      "Validation Loss before/after: 2.83907237195078e-05, 1.6471068642434032e-06\n",
      "Final loss: 8.290674371494986e-07\t\tTime taken: 15.081303358078003\n",
      "Model saved at model_data\\TimbreVAE_Expts_nmels256_nfft2048\\TimbreVAE_expttanh_lr0.001_n_epochs2000_n_mfcc40_n_hid18_n_timb8_1.6470479875289161e-06.pt\n"
     ]
    },
    {
     "data": {
      "application/vnd.jupyter.widget-view+json": {
       "model_id": "7e449c280b4b40cfa179c20039110fc3",
       "version_major": 2,
       "version_minor": 0
      },
      "text/plain": [
       "HBox(children=(FloatProgress(value=0.0, description='n_mfcc40,n_hid18,n_timb10', max=2000.0, style=ProgressSty…"
      ]
     },
     "metadata": {},
     "output_type": "display_data"
    },
    {
     "name": "stdout",
     "output_type": "stream",
     "text": [
      "\n",
      "Training Loss before/after: 1.394926522184035e-05, 7.760948695552846e-07\n",
      "Validation Loss before/after: 2.7166205811603315e-05, 1.551400255893582e-06\n",
      "Final loss: 7.760948695552846e-07\t\tTime taken: 15.119373083114624\n",
      "Model saved at model_data\\TimbreVAE_Expts_nmels256_nfft2048\\TimbreVAE_expttanh_lr0.001_n_epochs2000_n_mfcc40_n_hid18_n_timb10_1.551378511652436e-06.pt\n"
     ]
    },
    {
     "data": {
      "application/vnd.jupyter.widget-view+json": {
       "model_id": "af46096da436491ea58a346bfe2d8e2c",
       "version_major": 2,
       "version_minor": 0
      },
      "text/plain": [
       "HBox(children=(FloatProgress(value=0.0, description='n_mfcc40,n_hid20,n_timb4', max=2000.0, style=ProgressStyl…"
      ]
     },
     "metadata": {},
     "output_type": "display_data"
    },
    {
     "name": "stdout",
     "output_type": "stream",
     "text": [
      "\n",
      "Training Loss before/after: 1.6762864315646818e-05, 8.451870285327835e-07\n",
      "Validation Loss before/after: 3.285250551570421e-05, 1.6852994529723094e-06\n",
      "Final loss: 8.451870285327835e-07\t\tTime taken: 15.222776889801025\n",
      "Model saved at model_data\\TimbreVAE_Expts_nmels256_nfft2048\\TimbreVAE_expttanh_lr0.001_n_epochs2000_n_mfcc40_n_hid20_n_timb4_1.6852128105345128e-06.pt\n"
     ]
    },
    {
     "data": {
      "application/vnd.jupyter.widget-view+json": {
       "model_id": "276a7223e4724b999f708865bacbe4a0",
       "version_major": 2,
       "version_minor": 0
      },
      "text/plain": [
       "HBox(children=(FloatProgress(value=0.0, description='n_mfcc40,n_hid20,n_timb6', max=2000.0, style=ProgressStyl…"
      ]
     },
     "metadata": {},
     "output_type": "display_data"
    },
    {
     "name": "stdout",
     "output_type": "stream",
     "text": [
      "\n",
      "Training Loss before/after: 1.2734500776933527e-05, 7.471664983982584e-07\n",
      "Validation Loss before/after: 2.472359023388775e-05, 1.5060158430373874e-06\n",
      "Final loss: 7.471664983982584e-07\t\tTime taken: 15.02014446258545\n",
      "Model saved at model_data\\TimbreVAE_Expts_nmels256_nfft2048\\TimbreVAE_expttanh_lr0.001_n_epochs2000_n_mfcc40_n_hid20_n_timb6_1.506013668613273e-06.pt\n"
     ]
    },
    {
     "data": {
      "application/vnd.jupyter.widget-view+json": {
       "model_id": "8c8fe5dd714f43eb96a1a6f18a425fce",
       "version_major": 2,
       "version_minor": 0
      },
      "text/plain": [
       "HBox(children=(FloatProgress(value=0.0, description='n_mfcc40,n_hid20,n_timb8', max=2000.0, style=ProgressStyl…"
      ]
     },
     "metadata": {},
     "output_type": "display_data"
    },
    {
     "name": "stdout",
     "output_type": "stream",
     "text": [
      "\n",
      "Training Loss before/after: 1.2824726665670844e-05, 6.970311779309406e-07\n",
      "Validation Loss before/after: 2.492866050666091e-05, 1.3976176229209221e-06\n",
      "Final loss: 6.970311779309406e-07\t\tTime taken: 15.411784648895264\n",
      "Model saved at model_data\\TimbreVAE_Expts_nmels256_nfft2048\\TimbreVAE_expttanh_lr0.001_n_epochs2000_n_mfcc40_n_hid20_n_timb8_1.397611768702152e-06.pt\n"
     ]
    },
    {
     "data": {
      "application/vnd.jupyter.widget-view+json": {
       "model_id": "33fb5f5d598c4bb0a33684af54fbc3dc",
       "version_major": 2,
       "version_minor": 0
      },
      "text/plain": [
       "HBox(children=(FloatProgress(value=0.0, description='n_mfcc40,n_hid20,n_timb10', max=2000.0, style=ProgressSty…"
      ]
     },
     "metadata": {},
     "output_type": "display_data"
    },
    {
     "name": "stdout",
     "output_type": "stream",
     "text": [
      "\n",
      "Training Loss before/after: 1.1154171480829345e-05, 7.663051940329458e-07\n",
      "Validation Loss before/after: 2.16926664820519e-05, 1.5472270342275158e-06\n",
      "Final loss: 7.663051940329458e-07\t\tTime taken: 15.16538953781128\n",
      "Model saved at model_data\\TimbreVAE_Expts_nmels256_nfft2048\\TimbreVAE_expttanh_lr0.001_n_epochs2000_n_mfcc40_n_hid20_n_timb10_1.5471912398613218e-06.pt\n"
     ]
    },
    {
     "data": {
      "application/vnd.jupyter.widget-view+json": {
       "model_id": "f7ac18acf6b4443fad5ab360972ecbf9",
       "version_major": 2,
       "version_minor": 0
      },
      "text/plain": [
       "HBox(children=(FloatProgress(value=0.0, description='n_mfcc40,n_hid22,n_timb4', max=2000.0, style=ProgressStyl…"
      ]
     },
     "metadata": {},
     "output_type": "display_data"
    },
    {
     "name": "stdout",
     "output_type": "stream",
     "text": [
      "\n",
      "Training Loss before/after: 1.3955096692788875e-05, 8.280200337798431e-07\n",
      "Validation Loss before/after: 2.7255674331695184e-05, 1.6596270310317818e-06\n",
      "Final loss: 8.280200337798431e-07\t\tTime taken: 14.962506771087646\n",
      "Model saved at model_data\\TimbreVAE_Expts_nmels256_nfft2048\\TimbreVAE_expttanh_lr0.001_n_epochs2000_n_mfcc40_n_hid22_n_timb4_1.6596310453532242e-06.pt\n"
     ]
    },
    {
     "data": {
      "application/vnd.jupyter.widget-view+json": {
       "model_id": "f43c32af35884d0ea044b75b57a5052d",
       "version_major": 2,
       "version_minor": 0
      },
      "text/plain": [
       "HBox(children=(FloatProgress(value=0.0, description='n_mfcc40,n_hid22,n_timb6', max=2000.0, style=ProgressStyl…"
      ]
     },
     "metadata": {},
     "output_type": "display_data"
    },
    {
     "name": "stdout",
     "output_type": "stream",
     "text": [
      "\n",
      "Training Loss before/after: 1.251381345564264e-05, 7.578487750196337e-07\n",
      "Validation Loss before/after: 2.4395625524479768e-05, 1.5306443741395214e-06\n",
      "Final loss: 7.578487750196337e-07\t\tTime taken: 15.055171012878418\n",
      "Model saved at model_data\\TimbreVAE_Expts_nmels256_nfft2048\\TimbreVAE_expttanh_lr0.001_n_epochs2000_n_mfcc40_n_hid22_n_timb6_1.5306657838538802e-06.pt\n"
     ]
    },
    {
     "data": {
      "application/vnd.jupyter.widget-view+json": {
       "model_id": "57143535b3084f55b4ec62e50d537c02",
       "version_major": 2,
       "version_minor": 0
      },
      "text/plain": [
       "HBox(children=(FloatProgress(value=0.0, description='n_mfcc40,n_hid22,n_timb8', max=2000.0, style=ProgressStyl…"
      ]
     },
     "metadata": {},
     "output_type": "display_data"
    },
    {
     "name": "stdout",
     "output_type": "stream",
     "text": [
      "\n",
      "Training Loss before/after: 1.2285573857611624e-05, 6.859767820750331e-07\n",
      "Validation Loss before/after: 2.391654034626895e-05, 1.383007165504855e-06\n",
      "Final loss: 6.859767820750331e-07\t\tTime taken: 15.167950868606567\n",
      "Model saved at model_data\\TimbreVAE_Expts_nmels256_nfft2048\\TimbreVAE_expttanh_lr0.001_n_epochs2000_n_mfcc40_n_hid22_n_timb8_1.3829976314914296e-06.pt\n"
     ]
    },
    {
     "data": {
      "application/vnd.jupyter.widget-view+json": {
       "model_id": "b7a09d5a6acb47998001466c3c984677",
       "version_major": 2,
       "version_minor": 0
      },
      "text/plain": [
       "HBox(children=(FloatProgress(value=0.0, description='n_mfcc40,n_hid22,n_timb10', max=2000.0, style=ProgressSty…"
      ]
     },
     "metadata": {},
     "output_type": "display_data"
    },
    {
     "name": "stdout",
     "output_type": "stream",
     "text": [
      "\n",
      "Training Loss before/after: 1.5072947389435494e-05, 6.608577510716672e-07\n",
      "Validation Loss before/after: 2.911414993905473e-05, 1.3349058097174883e-06\n",
      "Final loss: 6.608577510716672e-07\t\tTime taken: 15.714601993560791\n",
      "Model saved at model_data\\TimbreVAE_Expts_nmels256_nfft2048\\TimbreVAE_expttanh_lr0.001_n_epochs2000_n_mfcc40_n_hid22_n_timb10_1.3349148419407335e-06.pt\n"
     ]
    },
    {
     "data": {
      "application/vnd.jupyter.widget-view+json": {
       "model_id": "cbf04f8889b2487fba3a82cba0a13f98",
       "version_major": 2,
       "version_minor": 0
      },
      "text/plain": [
       "HBox(children=(FloatProgress(value=0.0, description='n_mfcc40,n_hid24,n_timb4', max=2000.0, style=ProgressStyl…"
      ]
     },
     "metadata": {},
     "output_type": "display_data"
    },
    {
     "name": "stdout",
     "output_type": "stream",
     "text": [
      "\n",
      "Training Loss before/after: 1.2815133775530875e-05, 8.191983115152809e-07\n",
      "Validation Loss before/after: 2.480684726060122e-05, 1.6433875954271047e-06\n",
      "Final loss: 8.191983115152809e-07\t\tTime taken: 14.931365251541138\n",
      "Model saved at model_data\\TimbreVAE_Expts_nmels256_nfft2048\\TimbreVAE_expttanh_lr0.001_n_epochs2000_n_mfcc40_n_hid24_n_timb4_1.6433676910832867e-06.pt\n"
     ]
    },
    {
     "data": {
      "application/vnd.jupyter.widget-view+json": {
       "model_id": "900aa73273d948f898ec88173abecec9",
       "version_major": 2,
       "version_minor": 0
      },
      "text/plain": [
       "HBox(children=(FloatProgress(value=0.0, description='n_mfcc40,n_hid24,n_timb6', max=2000.0, style=ProgressStyl…"
      ]
     },
     "metadata": {},
     "output_type": "display_data"
    },
    {
     "name": "stdout",
     "output_type": "stream",
     "text": [
      "\n",
      "Training Loss before/after: 1.4812221226079026e-05, 7.938048012832971e-07\n",
      "Validation Loss before/after: 2.890780043584862e-05, 1.5928976347498682e-06\n",
      "Final loss: 7.938048012832971e-07\t\tTime taken: 15.092027187347412\n",
      "Model saved at model_data\\TimbreVAE_Expts_nmels256_nfft2048\\TimbreVAE_expttanh_lr0.001_n_epochs2000_n_mfcc40_n_hid24_n_timb6_1.592824707910333e-06.pt\n"
     ]
    },
    {
     "data": {
      "application/vnd.jupyter.widget-view+json": {
       "model_id": "af949d3dfd224467be5576ffe08b4119",
       "version_major": 2,
       "version_minor": 0
      },
      "text/plain": [
       "HBox(children=(FloatProgress(value=0.0, description='n_mfcc40,n_hid24,n_timb8', max=2000.0, style=ProgressStyl…"
      ]
     },
     "metadata": {},
     "output_type": "display_data"
    },
    {
     "name": "stdout",
     "output_type": "stream",
     "text": [
      "\n",
      "Training Loss before/after: 1.4063617182445937e-05, 7.10675396539014e-07\n",
      "Validation Loss before/after: 2.7092446669422347e-05, 1.425883798303361e-06\n",
      "Final loss: 7.10675396539014e-07\t\tTime taken: 16.07848072052002\n",
      "Model saved at model_data\\TimbreVAE_Expts_nmels256_nfft2048\\TimbreVAE_expttanh_lr0.001_n_epochs2000_n_mfcc40_n_hid24_n_timb8_1.4258779440845909e-06.pt\n"
     ]
    },
    {
     "data": {
      "application/vnd.jupyter.widget-view+json": {
       "model_id": "3f9bcdda99674f2589d2e1446213ff4e",
       "version_major": 2,
       "version_minor": 0
      },
      "text/plain": [
       "HBox(children=(FloatProgress(value=0.0, description='n_mfcc40,n_hid24,n_timb10', max=2000.0, style=ProgressSty…"
      ]
     },
     "metadata": {},
     "output_type": "display_data"
    },
    {
     "name": "stdout",
     "output_type": "stream",
     "text": [
      "\n",
      "Training Loss before/after: 1.6191028240511473e-05, 6.687381985897049e-07\n",
      "Validation Loss before/after: 3.1369299381628806e-05, 1.357456009524564e-06\n",
      "Final loss: 6.687381985897049e-07\t\tTime taken: 16.017914056777954\n",
      "Model saved at model_data\\TimbreVAE_Expts_nmels256_nfft2048\\TimbreVAE_expttanh_lr0.001_n_epochs2000_n_mfcc40_n_hid24_n_timb10_1.3573649346068415e-06.pt\n"
     ]
    },
    {
     "data": {
      "application/vnd.jupyter.widget-view+json": {
       "model_id": "cc111c7d17104a2986afb58274c68cef",
       "version_major": 2,
       "version_minor": 0
      },
      "text/plain": [
       "HBox(children=(FloatProgress(value=0.0, description='n_mfcc40,n_hid26,n_timb4', max=2000.0, style=ProgressStyl…"
      ]
     },
     "metadata": {},
     "output_type": "display_data"
    },
    {
     "name": "stdout",
     "output_type": "stream",
     "text": [
      "\n",
      "Training Loss before/after: 1.7469430385136057e-05, 8.294483795280343e-07\n",
      "Validation Loss before/after: 3.389093821504335e-05, 1.6612693902918662e-06\n",
      "Final loss: 8.294483795280343e-07\t\tTime taken: 16.33107328414917\n",
      "Model saved at model_data\\TimbreVAE_Expts_nmels256_nfft2048\\TimbreVAE_expttanh_lr0.001_n_epochs2000_n_mfcc40_n_hid26_n_timb4_1.6612993304392901e-06.pt\n"
     ]
    },
    {
     "data": {
      "application/vnd.jupyter.widget-view+json": {
       "model_id": "d6231d946e604f6ba9b95ba56c73fea6",
       "version_major": 2,
       "version_minor": 0
      },
      "text/plain": [
       "HBox(children=(FloatProgress(value=0.0, description='n_mfcc40,n_hid26,n_timb6', max=2000.0, style=ProgressStyl…"
      ]
     },
     "metadata": {},
     "output_type": "display_data"
    },
    {
     "name": "stdout",
     "output_type": "stream",
     "text": [
      "\n",
      "Training Loss before/after: 1.2220349162817001e-05, 7.415776430019017e-07\n",
      "Validation Loss before/after: 2.3611079922866548e-05, 1.4957002077744095e-06\n",
      "Final loss: 7.415776430019017e-07\t\tTime taken: 17.890846252441406\n",
      "Model saved at model_data\\TimbreVAE_Expts_nmels256_nfft2048\\TimbreVAE_expttanh_lr0.001_n_epochs2000_n_mfcc40_n_hid26_n_timb6_1.4956891683904432e-06.pt\n"
     ]
    },
    {
     "data": {
      "application/vnd.jupyter.widget-view+json": {
       "model_id": "7185dd7a7e994bdabd2fa4f21ef21d93",
       "version_major": 2,
       "version_minor": 0
      },
      "text/plain": [
       "HBox(children=(FloatProgress(value=0.0, description='n_mfcc40,n_hid26,n_timb8', max=2000.0, style=ProgressStyl…"
      ]
     },
     "metadata": {},
     "output_type": "display_data"
    },
    {
     "name": "stdout",
     "output_type": "stream",
     "text": [
      "\n",
      "Training Loss before/after: 1.3171240216356585e-05, 6.887194835687934e-07\n",
      "Validation Loss before/after: 2.541590813847109e-05, 1.3982354938962508e-06\n",
      "Final loss: 6.887194835687934e-07\t\tTime taken: 16.811344861984253\n",
      "Model saved at model_data\\TimbreVAE_Expts_nmels256_nfft2048\\TimbreVAE_expttanh_lr0.001_n_epochs2000_n_mfcc40_n_hid26_n_timb8_1.3982569872423064e-06.pt\n"
     ]
    },
    {
     "data": {
      "application/vnd.jupyter.widget-view+json": {
       "model_id": "9516b9be3c614226a1bcd7f8ac2192e9",
       "version_major": 2,
       "version_minor": 0
      },
      "text/plain": [
       "HBox(children=(FloatProgress(value=0.0, description='n_mfcc40,n_hid26,n_timb10', max=2000.0, style=ProgressSty…"
      ]
     },
     "metadata": {},
     "output_type": "display_data"
    },
    {
     "name": "stdout",
     "output_type": "stream",
     "text": [
      "\n",
      "Training Loss before/after: 1.2132375308408819e-05, 6.121846471897101e-07\n",
      "Validation Loss before/after: 2.3322032721734594e-05, 1.2488636802400237e-06\n",
      "Final loss: 6.121846471897101e-07\t\tTime taken: 15.662812232971191\n",
      "Model saved at model_data\\TimbreVAE_Expts_nmels256_nfft2048\\TimbreVAE_expttanh_lr0.001_n_epochs2000_n_mfcc40_n_hid26_n_timb10_1.2488397615747632e-06.pt\n"
     ]
    },
    {
     "data": {
      "application/vnd.jupyter.widget-view+json": {
       "model_id": "0c54cc863d34448996bd46d8f06e811b",
       "version_major": 2,
       "version_minor": 0
      },
      "text/plain": [
       "HBox(children=(FloatProgress(value=0.0, description='n_mfcc40,n_hid28,n_timb4', max=2000.0, style=ProgressStyl…"
      ]
     },
     "metadata": {},
     "output_type": "display_data"
    },
    {
     "name": "stdout",
     "output_type": "stream",
     "text": [
      "\n",
      "Training Loss before/after: 1.2138858437538147e-05, 8.206665495828051e-07\n",
      "Validation Loss before/after: 2.3391678522544347e-05, 1.6447788923336514e-06\n",
      "Final loss: 8.206665495828051e-07\t\tTime taken: 14.907917737960815\n",
      "Model saved at model_data\\TimbreVAE_Expts_nmels256_nfft2048\\TimbreVAE_expttanh_lr0.001_n_epochs2000_n_mfcc40_n_hid28_n_timb4_1.6447621659943085e-06.pt\n"
     ]
    },
    {
     "data": {
      "application/vnd.jupyter.widget-view+json": {
       "model_id": "d4ae1e590068455ab2b2d64bf3eb1ad8",
       "version_major": 2,
       "version_minor": 0
      },
      "text/plain": [
       "HBox(children=(FloatProgress(value=0.0, description='n_mfcc40,n_hid28,n_timb6', max=2000.0, style=ProgressStyl…"
      ]
     },
     "metadata": {},
     "output_type": "display_data"
    },
    {
     "name": "stdout",
     "output_type": "stream",
     "text": [
      "\n",
      "Training Loss before/after: 1.3860591537394058e-05, 7.401549005773903e-07\n",
      "Validation Loss before/after: 2.6650121970765892e-05, 1.4897036478565685e-06\n",
      "Final loss: 7.401549005773903e-07\t\tTime taken: 15.003881454467773\n",
      "Model saved at model_data\\TimbreVAE_Expts_nmels256_nfft2048\\TimbreVAE_expttanh_lr0.001_n_epochs2000_n_mfcc40_n_hid28_n_timb6_1.489704316910142e-06.pt\n"
     ]
    },
    {
     "data": {
      "application/vnd.jupyter.widget-view+json": {
       "model_id": "acf8389cf2c04e85b32a4e8b6120533b",
       "version_major": 2,
       "version_minor": 0
      },
      "text/plain": [
       "HBox(children=(FloatProgress(value=0.0, description='n_mfcc40,n_hid28,n_timb8', max=2000.0, style=ProgressStyl…"
      ]
     },
     "metadata": {},
     "output_type": "display_data"
    },
    {
     "name": "stdout",
     "output_type": "stream",
     "text": [
      "\n",
      "Training Loss before/after: 1.4436217131970942e-05, 6.771316847512391e-07\n",
      "Validation Loss before/after: 2.7902638432623325e-05, 1.3667004063843225e-06\n",
      "Final loss: 6.771316847512391e-07\t\tTime taken: 15.087710618972778\n",
      "Model saved at model_data\\TimbreVAE_Expts_nmels256_nfft2048\\TimbreVAE_expttanh_lr0.001_n_epochs2000_n_mfcc40_n_hid28_n_timb8_1.3666833455181928e-06.pt\n"
     ]
    },
    {
     "data": {
      "application/vnd.jupyter.widget-view+json": {
       "model_id": "a732c83d24654227b49bd9e02d9c31ab",
       "version_major": 2,
       "version_minor": 0
      },
      "text/plain": [
       "HBox(children=(FloatProgress(value=0.0, description='n_mfcc40,n_hid28,n_timb10', max=2000.0, style=ProgressSty…"
      ]
     },
     "metadata": {},
     "output_type": "display_data"
    },
    {
     "name": "stdout",
     "output_type": "stream",
     "text": [
      "\n",
      "Training Loss before/after: 1.3175439196585238e-05, 5.981786378616489e-07\n",
      "Validation Loss before/after: 2.5416772555688332e-05, 1.2401452431209043e-06\n",
      "Final loss: 5.981786378616489e-07\t\tTime taken: 15.331694841384888\n",
      "Model saved at model_data\\TimbreVAE_Expts_nmels256_nfft2048\\TimbreVAE_expttanh_lr0.001_n_epochs2000_n_mfcc40_n_hid28_n_timb10_1.2401317784177332e-06.pt\n"
     ]
    },
    {
     "data": {
      "application/vnd.jupyter.widget-view+json": {
       "model_id": "bfa0b790aa5d4de68a1b74285835bbf7",
       "version_major": 2,
       "version_minor": 0
      },
      "text/plain": [
       "HBox(children=(FloatProgress(value=0.0, description='n_mfcc40,n_hid30,n_timb4', max=2000.0, style=ProgressStyl…"
      ]
     },
     "metadata": {},
     "output_type": "display_data"
    },
    {
     "name": "stdout",
     "output_type": "stream",
     "text": [
      "\n",
      "Training Loss before/after: 1.2458611183382314e-05, 8.194630894670798e-07\n",
      "Validation Loss before/after: 2.3884738891802985e-05, 1.647211905654477e-06\n",
      "Final loss: 8.194630894670798e-07\t\tTime taken: 14.834216594696045\n",
      "Model saved at model_data\\TimbreVAE_Expts_nmels256_nfft2048\\TimbreVAE_expttanh_lr0.001_n_epochs2000_n_mfcc40_n_hid30_n_timb4_1.647235322529557e-06.pt\n"
     ]
    },
    {
     "data": {
      "application/vnd.jupyter.widget-view+json": {
       "model_id": "c593ed84b97442fe9425edabb3baffd2",
       "version_major": 2,
       "version_minor": 0
      },
      "text/plain": [
       "HBox(children=(FloatProgress(value=0.0, description='n_mfcc40,n_hid30,n_timb6', max=2000.0, style=ProgressStyl…"
      ]
     },
     "metadata": {},
     "output_type": "display_data"
    },
    {
     "name": "stdout",
     "output_type": "stream",
     "text": [
      "\n",
      "Training Loss before/after: 1.2900852919395628e-05, 7.382186595350504e-07\n",
      "Validation Loss before/after: 2.4896187322406932e-05, 1.4934981851999102e-06\n",
      "Final loss: 7.382186595350504e-07\t\tTime taken: 15.173084497451782\n",
      "Model saved at model_data\\TimbreVAE_Expts_nmels256_nfft2048\\TimbreVAE_expttanh_lr0.001_n_epochs2000_n_mfcc40_n_hid30_n_timb6_1.493491494664173e-06.pt\n"
     ]
    },
    {
     "data": {
      "application/vnd.jupyter.widget-view+json": {
       "model_id": "da9336ac56544f79b2cb6ef9aa20bb86",
       "version_major": 2,
       "version_minor": 0
      },
      "text/plain": [
       "HBox(children=(FloatProgress(value=0.0, description='n_mfcc40,n_hid30,n_timb8', max=2000.0, style=ProgressStyl…"
      ]
     },
     "metadata": {},
     "output_type": "display_data"
    },
    {
     "name": "stdout",
     "output_type": "stream",
     "text": [
      "\n",
      "Training Loss before/after: 1.1927414760421747e-05, 6.617952205759912e-07\n",
      "Validation Loss before/after: 2.3022433207637962e-05, 1.3578432242803533e-06\n",
      "Final loss: 6.617952205759912e-07\t\tTime taken: 15.137097835540771\n",
      "Model saved at model_data\\TimbreVAE_Expts_nmels256_nfft2048\\TimbreVAE_expttanh_lr0.001_n_epochs2000_n_mfcc40_n_hid30_n_timb8_1.3578558526665572e-06.pt\n"
     ]
    },
    {
     "data": {
      "application/vnd.jupyter.widget-view+json": {
       "model_id": "20edda34ea5c48e29003c838523563d5",
       "version_major": 2,
       "version_minor": 0
      },
      "text/plain": [
       "HBox(children=(FloatProgress(value=0.0, description='n_mfcc40,n_hid30,n_timb10', max=2000.0, style=ProgressSty…"
      ]
     },
     "metadata": {},
     "output_type": "display_data"
    },
    {
     "name": "stdout",
     "output_type": "stream",
     "text": [
      "\n",
      "Training Loss before/after: 1.2025750916579674e-05, 6.509200892619918e-07\n",
      "Validation Loss before/after: 2.3215313324297982e-05, 1.3304791840103765e-06\n",
      "Final loss: 6.509200892619918e-07\t\tTime taken: 15.50155234336853\n",
      "Model saved at model_data\\TimbreVAE_Expts_nmels256_nfft2048\\TimbreVAE_expttanh_lr0.001_n_epochs2000_n_mfcc40_n_hid30_n_timb10_1.3304832819635155e-06.pt\n"
     ]
    },
    {
     "data": {
      "application/vnd.jupyter.widget-view+json": {
       "model_id": "c49965c13c684978afdf5ac4d2abb5e5",
       "version_major": 2,
       "version_minor": 0
      },
      "text/plain": [
       "HBox(children=(FloatProgress(value=0.0, description='n_mfcc40,n_hid32,n_timb4', max=2000.0, style=ProgressStyl…"
      ]
     },
     "metadata": {},
     "output_type": "display_data"
    },
    {
     "name": "stdout",
     "output_type": "stream",
     "text": [
      "\n",
      "Training Loss before/after: 1.3055429718960291e-05, 8.137619167020352e-07\n",
      "Validation Loss before/after: 2.510014696624772e-05, 1.6400983607953135e-06\n",
      "Final loss: 8.137619167020352e-07\t\tTime taken: 14.798396825790405\n",
      "Model saved at model_data\\TimbreVAE_Expts_nmels256_nfft2048\\TimbreVAE_expttanh_lr0.001_n_epochs2000_n_mfcc40_n_hid32_n_timb4_1.6400709295987912e-06.pt\n"
     ]
    },
    {
     "data": {
      "application/vnd.jupyter.widget-view+json": {
       "model_id": "2f15ca39719445a18b94c496a5eca3b4",
       "version_major": 2,
       "version_minor": 0
      },
      "text/plain": [
       "HBox(children=(FloatProgress(value=0.0, description='n_mfcc40,n_hid32,n_timb6', max=2000.0, style=ProgressStyl…"
      ]
     },
     "metadata": {},
     "output_type": "display_data"
    },
    {
     "name": "stdout",
     "output_type": "stream",
     "text": [
      "\n",
      "Training Loss before/after: 1.2845765724349982e-05, 7.363121913767409e-07\n",
      "Validation Loss before/after: 2.471873558115685e-05, 1.4950411900042974e-06\n",
      "Final loss: 7.363121913767409e-07\t\tTime taken: 14.974700927734375\n",
      "Model saved at model_data\\TimbreVAE_Expts_nmels256_nfft2048\\TimbreVAE_expttanh_lr0.001_n_epochs2000_n_mfcc40_n_hid32_n_timb6_1.4950669485668855e-06.pt\n"
     ]
    },
    {
     "data": {
      "application/vnd.jupyter.widget-view+json": {
       "model_id": "73c912c073c2462e8d54a310d52314e4",
       "version_major": 2,
       "version_minor": 0
      },
      "text/plain": [
       "HBox(children=(FloatProgress(value=0.0, description='n_mfcc40,n_hid32,n_timb8', max=2000.0, style=ProgressStyl…"
      ]
     },
     "metadata": {},
     "output_type": "display_data"
    },
    {
     "name": "stdout",
     "output_type": "stream",
     "text": [
      "\n",
      "Training Loss before/after: 1.3992697503631827e-05, 6.781059103862693e-07\n",
      "Validation Loss before/after: 2.6954479793878808e-05, 1.3791472281746824e-06\n",
      "Final loss: 6.781059103862693e-07\t\tTime taken: 15.63428258895874\n",
      "Model saved at model_data\\TimbreVAE_Expts_nmels256_nfft2048\\TimbreVAE_expttanh_lr0.001_n_epochs2000_n_mfcc40_n_hid32_n_timb8_1.3791545041322966e-06.pt\n"
     ]
    },
    {
     "data": {
      "application/vnd.jupyter.widget-view+json": {
       "model_id": "85ed6b4f5b774c87a1c6f3f7224b9fb9",
       "version_major": 2,
       "version_minor": 0
      },
      "text/plain": [
       "HBox(children=(FloatProgress(value=0.0, description='n_mfcc40,n_hid32,n_timb10', max=2000.0, style=ProgressSty…"
      ]
     },
     "metadata": {},
     "output_type": "display_data"
    },
    {
     "name": "stdout",
     "output_type": "stream",
     "text": [
      "\n",
      "Training Loss before/after: 1.5639357440087986e-05, 6.123527887159551e-07\n",
      "Validation Loss before/after: 3.0208435230727854e-05, 1.2527044659116487e-06\n",
      "Final loss: 6.123527887159551e-07\t\tTime taken: 15.143940687179565\n",
      "Model saved at model_data\\TimbreVAE_Expts_nmels256_nfft2048\\TimbreVAE_expttanh_lr0.001_n_epochs2000_n_mfcc40_n_hid32_n_timb10_1.2527059712821897e-06.pt\n"
     ]
    },
    {
     "data": {
      "application/vnd.jupyter.widget-view+json": {
       "model_id": "d75d36ff4d5342579a82631ca0a0ff7f",
       "version_major": 2,
       "version_minor": 0
      },
      "text/plain": [
       "HBox(children=(FloatProgress(value=0.0, description='n_mfcc40,n_hid34,n_timb4', max=2000.0, style=ProgressStyl…"
      ]
     },
     "metadata": {},
     "output_type": "display_data"
    },
    {
     "name": "stdout",
     "output_type": "stream",
     "text": [
      "\n",
      "Training Loss before/after: 1.1646374792460052e-05, 8.22648537163248e-07\n",
      "Validation Loss before/after: 2.248165326128746e-05, 1.6448096687980425e-06\n",
      "Final loss: 8.22648537163248e-07\t\tTime taken: 14.919665813446045\n",
      "Model saved at model_data\\TimbreVAE_Expts_nmels256_nfft2048\\TimbreVAE_expttanh_lr0.001_n_epochs2000_n_mfcc40_n_hid34_n_timb4_1.6447906007711914e-06.pt\n"
     ]
    },
    {
     "data": {
      "application/vnd.jupyter.widget-view+json": {
       "model_id": "900aa140c6414f46a6bad18407ad37ba",
       "version_major": 2,
       "version_minor": 0
      },
      "text/plain": [
       "HBox(children=(FloatProgress(value=0.0, description='n_mfcc40,n_hid34,n_timb6', max=2000.0, style=ProgressStyl…"
      ]
     },
     "metadata": {},
     "output_type": "display_data"
    },
    {
     "name": "stdout",
     "output_type": "stream",
     "text": [
      "\n",
      "Training Loss before/after: 1.4180475417738673e-05, 7.365194307212001e-07\n",
      "Validation Loss before/after: 2.707030099613228e-05, 1.4852316937698372e-06\n",
      "Final loss: 7.365194307212001e-07\t\tTime taken: 15.099111318588257\n",
      "Model saved at model_data\\TimbreVAE_Expts_nmels256_nfft2048\\TimbreVAE_expttanh_lr0.001_n_epochs2000_n_mfcc40_n_hid34_n_timb6_1.485217978171576e-06.pt\n"
     ]
    },
    {
     "data": {
      "application/vnd.jupyter.widget-view+json": {
       "model_id": "89413e84706442dbb6aa29318cb872f9",
       "version_major": 2,
       "version_minor": 0
      },
      "text/plain": [
       "HBox(children=(FloatProgress(value=0.0, description='n_mfcc40,n_hid34,n_timb8', max=2000.0, style=ProgressStyl…"
      ]
     },
     "metadata": {},
     "output_type": "display_data"
    },
    {
     "name": "stdout",
     "output_type": "stream",
     "text": [
      "\n",
      "Training Loss before/after: 1.630501489786581e-05, 6.682342758011501e-07\n",
      "Validation Loss before/after: 3.124834520035776e-05, 1.360822938002603e-06\n",
      "Final loss: 6.682342758011501e-07\t\tTime taken: 15.232502222061157\n",
      "Model saved at model_data\\TimbreVAE_Expts_nmels256_nfft2048\\TimbreVAE_expttanh_lr0.001_n_epochs2000_n_mfcc40_n_hid34_n_timb8_1.3608371553910446e-06.pt\n"
     ]
    },
    {
     "data": {
      "application/vnd.jupyter.widget-view+json": {
       "model_id": "93313b6e3a9a41f0b5f35cdde90929f3",
       "version_major": 2,
       "version_minor": 0
      },
      "text/plain": [
       "HBox(children=(FloatProgress(value=0.0, description='n_mfcc40,n_hid34,n_timb10', max=2000.0, style=ProgressSty…"
      ]
     },
     "metadata": {},
     "output_type": "display_data"
    },
    {
     "name": "stdout",
     "output_type": "stream",
     "text": [
      "\n",
      "Training Loss before/after: 1.4794764280233575e-05, 6.171818501476584e-07\n",
      "Validation Loss before/after: 2.8406896082491712e-05, 1.262135695981868e-06\n",
      "Final loss: 6.171818501476584e-07\t\tTime taken: 15.697319746017456\n",
      "Model saved at model_data\\TimbreVAE_Expts_nmels256_nfft2048\\TimbreVAE_expttanh_lr0.001_n_epochs2000_n_mfcc40_n_hid34_n_timb10_1.2621157080063531e-06.pt\n"
     ]
    },
    {
     "data": {
      "application/vnd.jupyter.widget-view+json": {
       "model_id": "f400fb53e31a4a9ca6b88916de398d64",
       "version_major": 2,
       "version_minor": 0
      },
      "text/plain": [
       "HBox(children=(FloatProgress(value=0.0, description='n_mfcc40,n_hid36,n_timb4', max=2000.0, style=ProgressStyl…"
      ]
     },
     "metadata": {},
     "output_type": "display_data"
    },
    {
     "name": "stdout",
     "output_type": "stream",
     "text": [
      "\n",
      "Training Loss before/after: 1.3175348205299213e-05, 8.246240014713472e-07\n",
      "Validation Loss before/after: 2.525239947369729e-05, 1.650357795558099e-06\n",
      "Final loss: 8.246240014713472e-07\t\tTime taken: 15.300380945205688\n",
      "Model saved at model_data\\TimbreVAE_Expts_nmels256_nfft2048\\TimbreVAE_expttanh_lr0.001_n_epochs2000_n_mfcc40_n_hid36_n_timb4_1.6503442472232313e-06.pt\n"
     ]
    },
    {
     "data": {
      "application/vnd.jupyter.widget-view+json": {
       "model_id": "260bee0883ed4ee59ad06f83fe8dd838",
       "version_major": 2,
       "version_minor": 0
      },
      "text/plain": [
       "HBox(children=(FloatProgress(value=0.0, description='n_mfcc40,n_hid36,n_timb6', max=2000.0, style=ProgressStyl…"
      ]
     },
     "metadata": {},
     "output_type": "display_data"
    },
    {
     "name": "stdout",
     "output_type": "stream",
     "text": [
      "\n",
      "Training Loss before/after: 1.6037909977737516e-05, 7.385899006367672e-07\n",
      "Validation Loss before/after: 3.0771475927583104e-05, 1.5051081046012455e-06\n",
      "Final loss: 7.385899006367672e-07\t\tTime taken: 15.236122846603394\n",
      "Model saved at model_data\\TimbreVAE_Expts_nmels256_nfft2048\\TimbreVAE_expttanh_lr0.001_n_epochs2000_n_mfcc40_n_hid36_n_timb6_1.505093887212804e-06.pt\n"
     ]
    },
    {
     "data": {
      "application/vnd.jupyter.widget-view+json": {
       "model_id": "f198d79b8e5848439bbb54e7c57db178",
       "version_major": 2,
       "version_minor": 0
      },
      "text/plain": [
       "HBox(children=(FloatProgress(value=0.0, description='n_mfcc40,n_hid36,n_timb8', max=2000.0, style=ProgressStyl…"
      ]
     },
     "metadata": {},
     "output_type": "display_data"
    },
    {
     "name": "stdout",
     "output_type": "stream",
     "text": [
      "\n",
      "Training Loss before/after: 1.554935769145859e-05, 6.601997786977639e-07\n",
      "Validation Loss before/after: 2.993247739371212e-05, 1.3487633309680325e-06\n",
      "Final loss: 6.601997786977639e-07\t\tTime taken: 15.169500589370728\n",
      "Model saved at model_data\\TimbreVAE_Expts_nmels256_nfft2048\\TimbreVAE_expttanh_lr0.001_n_epochs2000_n_mfcc40_n_hid36_n_timb8_1.3487493644746813e-06.pt\n"
     ]
    },
    {
     "data": {
      "application/vnd.jupyter.widget-view+json": {
       "model_id": "369b29a927ce45b0af7222ccfb8eec48",
       "version_major": 2,
       "version_minor": 0
      },
      "text/plain": [
       "HBox(children=(FloatProgress(value=0.0, description='n_mfcc40,n_hid36,n_timb10', max=2000.0, style=ProgressSty…"
      ]
     },
     "metadata": {},
     "output_type": "display_data"
    },
    {
     "name": "stdout",
     "output_type": "stream",
     "text": [
      "\n",
      "Training Loss before/after: 1.4767197934889246e-05, 5.956026979711378e-07\n",
      "Validation Loss before/after: 2.821866187384759e-05, 1.2298256771681809e-06\n",
      "Final loss: 5.956026979711378e-07\t\tTime taken: 15.272466897964478\n",
      "Model saved at model_data\\TimbreVAE_Expts_nmels256_nfft2048\\TimbreVAE_expttanh_lr0.001_n_epochs2000_n_mfcc40_n_hid36_n_timb10_1.2298838011973977e-06.pt\n"
     ]
    },
    {
     "data": {
      "application/vnd.jupyter.widget-view+json": {
       "model_id": "b8c125164d89499d86e72153289d24db",
       "version_major": 2,
       "version_minor": 0
      },
      "text/plain": [
       "HBox(children=(FloatProgress(value=0.0, description='n_mfcc40,n_hid38,n_timb4', max=2000.0, style=ProgressStyl…"
      ]
     },
     "metadata": {},
     "output_type": "display_data"
    },
    {
     "name": "stdout",
     "output_type": "stream",
     "text": [
      "\n",
      "Training Loss before/after: 1.824892195605341e-05, 8.224510827273045e-07\n",
      "Validation Loss before/after: 3.511990399110591e-05, 1.6500125639140606e-06\n",
      "Final loss: 8.224510827273045e-07\t\tTime taken: 14.948230743408203\n",
      "Model saved at model_data\\TimbreVAE_Expts_nmels256_nfft2048\\TimbreVAE_expttanh_lr0.001_n_epochs2000_n_mfcc40_n_hid38_n_timb4_1.6499806166059156e-06.pt\n"
     ]
    },
    {
     "data": {
      "application/vnd.jupyter.widget-view+json": {
       "model_id": "98dc680bafd54d308bbf6ab380cb131d",
       "version_major": 2,
       "version_minor": 0
      },
      "text/plain": [
       "HBox(children=(FloatProgress(value=0.0, description='n_mfcc40,n_hid38,n_timb6', max=2000.0, style=ProgressStyl…"
      ]
     },
     "metadata": {},
     "output_type": "display_data"
    },
    {
     "name": "stdout",
     "output_type": "stream",
     "text": [
      "\n",
      "Training Loss before/after: 1.691566678513398e-05, 7.457138158263231e-07\n",
      "Validation Loss before/after: 3.231378625436076e-05, 1.5147297640448843e-06\n",
      "Final loss: 7.457138158263231e-07\t\tTime taken: 15.100581407546997\n",
      "Model saved at model_data\\TimbreVAE_Expts_nmels256_nfft2048\\TimbreVAE_expttanh_lr0.001_n_epochs2000_n_mfcc40_n_hid38_n_timb6_1.514732774785966e-06.pt\n"
     ]
    },
    {
     "data": {
      "application/vnd.jupyter.widget-view+json": {
       "model_id": "e67749a35618462ead0dcf8ab05bf037",
       "version_major": 2,
       "version_minor": 0
      },
      "text/plain": [
       "HBox(children=(FloatProgress(value=0.0, description='n_mfcc40,n_hid38,n_timb8', max=2000.0, style=ProgressStyl…"
      ]
     },
     "metadata": {},
     "output_type": "display_data"
    },
    {
     "name": "stdout",
     "output_type": "stream",
     "text": [
      "\n",
      "Training Loss before/after: 1.4743831907880717e-05, 6.708918820435032e-07\n",
      "Validation Loss before/after: 2.8151234654688288e-05, 1.3688884624654707e-06\n",
      "Final loss: 6.708918820435032e-07\t\tTime taken: 15.514424324035645\n",
      "Model saved at model_data\\TimbreVAE_Expts_nmels256_nfft2048\\TimbreVAE_expttanh_lr0.001_n_epochs2000_n_mfcc40_n_hid38_n_timb8_1.368890051467708e-06.pt\n"
     ]
    },
    {
     "data": {
      "application/vnd.jupyter.widget-view+json": {
       "model_id": "8eae19cd3dd842c7a7a17744e1c5f88f",
       "version_major": 2,
       "version_minor": 0
      },
      "text/plain": [
       "HBox(children=(FloatProgress(value=0.0, description='n_mfcc40,n_hid38,n_timb10', max=2000.0, style=ProgressSty…"
      ]
     },
     "metadata": {},
     "output_type": "display_data"
    },
    {
     "name": "stdout",
     "output_type": "stream",
     "text": [
      "\n",
      "Training Loss before/after: 1.3537794597789474e-05, 6.09416103501665e-07\n",
      "Validation Loss before/after: 2.581769889541741e-05, 1.2532470683599341e-06\n",
      "Final loss: 6.09416103501665e-07\t\tTime taken: 15.248666763305664\n",
      "Model saved at model_data\\TimbreVAE_Expts_nmels256_nfft2048\\TimbreVAE_expttanh_lr0.001_n_epochs2000_n_mfcc40_n_hid38_n_timb10_1.2532248223286079e-06.pt\n"
     ]
    },
    {
     "data": {
      "application/vnd.jupyter.widget-view+json": {
       "model_id": "82857004baed431b86ab699a6239aec2",
       "version_major": 2,
       "version_minor": 0
      },
      "text/plain": [
       "HBox(children=(FloatProgress(value=0.0, description='n_mfcc24,n_hid6,n_timb4', max=2000.0, style=ProgressStyle…"
      ]
     },
     "metadata": {},
     "output_type": "display_data"
    },
    {
     "name": "stdout",
     "output_type": "stream",
     "text": [
      "\n",
      "Training Loss before/after: 1.2214715731726296e-05, 7.858575320395845e-07\n",
      "Validation Loss before/after: 2.402479053828223e-05, 1.5658195312509593e-06\n",
      "Final loss: 7.858575320395845e-07\t\tTime taken: 15.679295301437378\n",
      "Model saved at model_data\\TimbreVAE_Expts_nmels256_nfft2048\\TimbreVAE_expttanh_lr0.001_n_epochs2000_n_mfcc24_n_hid6_n_timb4_1.5660324575507948e-06.pt\n"
     ]
    },
    {
     "data": {
      "application/vnd.jupyter.widget-view+json": {
       "model_id": "0e28c939ef284843970a092e638ace34",
       "version_major": 2,
       "version_minor": 0
      },
      "text/plain": [
       "HBox(children=(FloatProgress(value=0.0, description='n_mfcc24,n_hid8,n_timb4', max=2000.0, style=ProgressStyle…"
      ]
     },
     "metadata": {},
     "output_type": "display_data"
    },
    {
     "name": "stdout",
     "output_type": "stream",
     "text": [
      "\n",
      "Training Loss before/after: 1.2058958721657595e-05, 7.59728899193478e-07\n",
      "Validation Loss before/after: 2.38431371405892e-05, 1.5246782561592844e-06\n",
      "Final loss: 7.59728899193478e-07\t\tTime taken: 15.226672410964966\n",
      "Model saved at model_data\\TimbreVAE_Expts_nmels256_nfft2048\\TimbreVAE_expttanh_lr0.001_n_epochs2000_n_mfcc24_n_hid8_n_timb4_1.5246887937530704e-06.pt\n"
     ]
    },
    {
     "data": {
      "application/vnd.jupyter.widget-view+json": {
       "model_id": "7ac34c1e6f4c46e194f718a4652d317c",
       "version_major": 2,
       "version_minor": 0
      },
      "text/plain": [
       "HBox(children=(FloatProgress(value=0.0, description='n_mfcc24,n_hid8,n_timb6', max=2000.0, style=ProgressStyle…"
      ]
     },
     "metadata": {},
     "output_type": "display_data"
    },
    {
     "name": "stdout",
     "output_type": "stream",
     "text": [
      "\n",
      "Training Loss before/after: 1.2862347548121008e-05, 7.671767199444103e-07\n",
      "Validation Loss before/after: 2.5063755804266053e-05, 1.5444526363207006e-06\n",
      "Final loss: 7.671767199444103e-07\t\tTime taken: 15.238271236419678\n",
      "Model saved at model_data\\TimbreVAE_Expts_nmels256_nfft2048\\TimbreVAE_expttanh_lr0.001_n_epochs2000_n_mfcc24_n_hid8_n_timb6_1.5445051570262374e-06.pt\n"
     ]
    },
    {
     "data": {
      "application/vnd.jupyter.widget-view+json": {
       "model_id": "cb0d4a03a3cb4a51871e2dab022117e2",
       "version_major": 2,
       "version_minor": 0
      },
      "text/plain": [
       "HBox(children=(FloatProgress(value=0.0, description='n_mfcc24,n_hid10,n_timb4', max=2000.0, style=ProgressStyl…"
      ]
     },
     "metadata": {},
     "output_type": "display_data"
    },
    {
     "name": "stdout",
     "output_type": "stream",
     "text": [
      "\n",
      "Training Loss before/after: 2.293133219682622e-05, 9.134519027663802e-07\n",
      "Validation Loss before/after: 4.4825080054244773e-05, 1.801664093991035e-06\n",
      "Final loss: 9.134519027663802e-07\t\tTime taken: 15.549293518066406\n",
      "Model saved at model_data\\TimbreVAE_Expts_nmels256_nfft2048\\TimbreVAE_expttanh_lr0.001_n_epochs2000_n_mfcc24_n_hid10_n_timb4_1.8008152322693804e-06.pt\n"
     ]
    },
    {
     "data": {
      "application/vnd.jupyter.widget-view+json": {
       "model_id": "1372de49544d43bda15d2fa9dcb89148",
       "version_major": 2,
       "version_minor": 0
      },
      "text/plain": [
       "HBox(children=(FloatProgress(value=0.0, description='n_mfcc24,n_hid10,n_timb6', max=2000.0, style=ProgressStyl…"
      ]
     },
     "metadata": {},
     "output_type": "display_data"
    },
    {
     "name": "stdout",
     "output_type": "stream",
     "text": [
      "\n",
      "Training Loss before/after: 1.9173317149966612e-05, 8.175270156881333e-07\n",
      "Validation Loss before/after: 3.780705865001541e-05, 1.6133628127261483e-06\n",
      "Final loss: 8.175270156881333e-07\t\tTime taken: 15.609441995620728\n",
      "Model saved at model_data\\TimbreVAE_Expts_nmels256_nfft2048\\TimbreVAE_expttanh_lr0.001_n_epochs2000_n_mfcc24_n_hid10_n_timb6_1.6134114863736362e-06.pt\n"
     ]
    },
    {
     "data": {
      "application/vnd.jupyter.widget-view+json": {
       "model_id": "6cbf1464ddce482fa075ff15666f2208",
       "version_major": 2,
       "version_minor": 0
      },
      "text/plain": [
       "HBox(children=(FloatProgress(value=0.0, description='n_mfcc24,n_hid10,n_timb8', max=2000.0, style=ProgressStyl…"
      ]
     },
     "metadata": {},
     "output_type": "display_data"
    },
    {
     "name": "stdout",
     "output_type": "stream",
     "text": [
      "\n",
      "Training Loss before/after: 1.9216873875722802e-05, 9.1375306050625e-07\n",
      "Validation Loss before/after: 3.7600995501738856e-05, 1.7970596672967076e-06\n",
      "Final loss: 9.1375306050625e-07\t\tTime taken: 15.53292441368103\n",
      "Model saved at model_data\\TimbreVAE_Expts_nmels256_nfft2048\\TimbreVAE_expttanh_lr0.001_n_epochs2000_n_mfcc24_n_hid10_n_timb8_1.796535296558306e-06.pt\n"
     ]
    },
    {
     "data": {
      "application/vnd.jupyter.widget-view+json": {
       "model_id": "b333a58fcd744996b4fca26043c7feb3",
       "version_major": 2,
       "version_minor": 0
      },
      "text/plain": [
       "HBox(children=(FloatProgress(value=0.0, description='n_mfcc24,n_hid12,n_timb4', max=2000.0, style=ProgressStyl…"
      ]
     },
     "metadata": {},
     "output_type": "display_data"
    },
    {
     "name": "stdout",
     "output_type": "stream",
     "text": [
      "\n",
      "Training Loss before/after: 1.5746257481989504e-05, 7.667853236037852e-07\n",
      "Validation Loss before/after: 3.0954668148495687e-05, 1.5586022830878694e-06\n",
      "Final loss: 7.667853236037852e-07\t\tTime taken: 15.685682773590088\n",
      "Model saved at model_data\\TimbreVAE_Expts_nmels256_nfft2048\\TimbreVAE_expttanh_lr0.001_n_epochs2000_n_mfcc24_n_hid12_n_timb4_1.5584403721230297e-06.pt\n"
     ]
    },
    {
     "data": {
      "application/vnd.jupyter.widget-view+json": {
       "model_id": "d164b67562664a7fb1a840f83babf672",
       "version_major": 2,
       "version_minor": 0
      },
      "text/plain": [
       "HBox(children=(FloatProgress(value=0.0, description='n_mfcc24,n_hid12,n_timb6', max=2000.0, style=ProgressStyl…"
      ]
     },
     "metadata": {},
     "output_type": "display_data"
    },
    {
     "name": "stdout",
     "output_type": "stream",
     "text": [
      "\n",
      "Training Loss before/after: 1.4009425181081926e-05, 7.419304851303412e-07\n",
      "Validation Loss before/after: 2.7320690281774807e-05, 1.4925531470270336e-06\n",
      "Final loss: 7.419304851303412e-07\t\tTime taken: 15.429837465286255\n",
      "Model saved at model_data\\TimbreVAE_Expts_nmels256_nfft2048\\TimbreVAE_expttanh_lr0.001_n_epochs2000_n_mfcc24_n_hid12_n_timb6_1.4925064805402667e-06.pt\n"
     ]
    },
    {
     "data": {
      "application/vnd.jupyter.widget-view+json": {
       "model_id": "1894f166e5634a0289e82c2cbcc11a73",
       "version_major": 2,
       "version_minor": 0
      },
      "text/plain": [
       "HBox(children=(FloatProgress(value=0.0, description='n_mfcc24,n_hid12,n_timb8', max=2000.0, style=ProgressStyl…"
      ]
     },
     "metadata": {},
     "output_type": "display_data"
    },
    {
     "name": "stdout",
     "output_type": "stream",
     "text": [
      "\n",
      "Training Loss before/after: 1.6270944013677794e-05, 6.277429026246456e-07\n",
      "Validation Loss before/after: 3.1816144206229296e-05, 1.270571625229485e-06\n",
      "Final loss: 6.277429026246456e-07\t\tTime taken: 15.363823175430298\n",
      "Model saved at model_data\\TimbreVAE_Expts_nmels256_nfft2048\\TimbreVAE_expttanh_lr0.001_n_epochs2000_n_mfcc24_n_hid12_n_timb8_1.270587431620164e-06.pt\n"
     ]
    },
    {
     "data": {
      "application/vnd.jupyter.widget-view+json": {
       "model_id": "d7264e44c3d84711af3fcab4da432d0a",
       "version_major": 2,
       "version_minor": 0
      },
      "text/plain": [
       "HBox(children=(FloatProgress(value=0.0, description='n_mfcc24,n_hid12,n_timb10', max=2000.0, style=ProgressSty…"
      ]
     },
     "metadata": {},
     "output_type": "display_data"
    },
    {
     "name": "stdout",
     "output_type": "stream",
     "text": [
      "\n",
      "Training Loss before/after: 1.6031619536037417e-05, 6.674565428375512e-07\n",
      "Validation Loss before/after: 3.154303386122331e-05, 1.3431932927034366e-06\n",
      "Final loss: 6.674565428375512e-07\t\tTime taken: 15.454081773757935\n",
      "Model saved at model_data\\TimbreVAE_Expts_nmels256_nfft2048\\TimbreVAE_expttanh_lr0.001_n_epochs2000_n_mfcc24_n_hid12_n_timb10_1.343155073018038e-06.pt\n"
     ]
    },
    {
     "data": {
      "application/vnd.jupyter.widget-view+json": {
       "model_id": "5c3d44a74c954a57bde2d0f6f13a4a2d",
       "version_major": 2,
       "version_minor": 0
      },
      "text/plain": [
       "HBox(children=(FloatProgress(value=0.0, description='n_mfcc24,n_hid14,n_timb4', max=2000.0, style=ProgressStyl…"
      ]
     },
     "metadata": {},
     "output_type": "display_data"
    },
    {
     "name": "stdout",
     "output_type": "stream",
     "text": [
      "\n",
      "Training Loss before/after: 1.4456240567325175e-05, 6.846860104679376e-07\n",
      "Validation Loss before/after: 2.790635301806461e-05, 1.3931220010640206e-06\n",
      "Final loss: 6.846860104679376e-07\t\tTime taken: 15.427834272384644\n",
      "Model saved at model_data\\TimbreVAE_Expts_nmels256_nfft2048\\TimbreVAE_expttanh_lr0.001_n_epochs2000_n_mfcc24_n_hid14_n_timb4_1.3931148087381032e-06.pt\n"
     ]
    },
    {
     "data": {
      "application/vnd.jupyter.widget-view+json": {
       "model_id": "87236fce2c3e48c3888a14cb8c2dd2d6",
       "version_major": 2,
       "version_minor": 0
      },
      "text/plain": [
       "HBox(children=(FloatProgress(value=0.0, description='n_mfcc24,n_hid14,n_timb6', max=2000.0, style=ProgressStyl…"
      ]
     },
     "metadata": {},
     "output_type": "display_data"
    },
    {
     "name": "stdout",
     "output_type": "stream",
     "text": [
      "\n",
      "Training Loss before/after: 1.7818252170651122e-05, 7.114969943275397e-07\n",
      "Validation Loss before/after: 3.4617099525599646e-05, 1.4316854963678568e-06\n",
      "Final loss: 7.114969943275397e-07\t\tTime taken: 15.365506649017334\n",
      "Model saved at model_data\\TimbreVAE_Expts_nmels256_nfft2048\\TimbreVAE_expttanh_lr0.001_n_epochs2000_n_mfcc24_n_hid14_n_timb6_1.4314655450054969e-06.pt\n"
     ]
    },
    {
     "data": {
      "application/vnd.jupyter.widget-view+json": {
       "model_id": "c5c8b35f9f3140929d54c077024fd229",
       "version_major": 2,
       "version_minor": 0
      },
      "text/plain": [
       "HBox(children=(FloatProgress(value=0.0, description='n_mfcc24,n_hid14,n_timb8', max=2000.0, style=ProgressStyl…"
      ]
     },
     "metadata": {},
     "output_type": "display_data"
    },
    {
     "name": "stdout",
     "output_type": "stream",
     "text": [
      "\n",
      "Training Loss before/after: 1.2125955070315421e-05, 5.985155481518643e-07\n",
      "Validation Loss before/after: 2.365046041621559e-05, 1.2218012995000972e-06\n",
      "Final loss: 5.985155481518643e-07\t\tTime taken: 15.684554100036621\n",
      "Model saved at model_data\\TimbreVAE_Expts_nmels256_nfft2048\\TimbreVAE_expttanh_lr0.001_n_epochs2000_n_mfcc24_n_hid14_n_timb8_1.2215812645060407e-06.pt\n"
     ]
    },
    {
     "data": {
      "application/vnd.jupyter.widget-view+json": {
       "model_id": "9b4f1c97800943ac827792b3f4166b64",
       "version_major": 2,
       "version_minor": 0
      },
      "text/plain": [
       "HBox(children=(FloatProgress(value=0.0, description='n_mfcc24,n_hid14,n_timb10', max=2000.0, style=ProgressSty…"
      ]
     },
     "metadata": {},
     "output_type": "display_data"
    },
    {
     "name": "stdout",
     "output_type": "stream",
     "text": [
      "\n",
      "Training Loss before/after: 1.6611865614594398e-05, 8.216227944030416e-07\n",
      "Validation Loss before/after: 3.231010645970531e-05, 1.6417330259393002e-06\n",
      "Final loss: 8.216227944030416e-07\t\tTime taken: 15.453720569610596\n",
      "Model saved at model_data\\TimbreVAE_Expts_nmels256_nfft2048\\TimbreVAE_expttanh_lr0.001_n_epochs2000_n_mfcc24_n_hid14_n_timb10_1.6416903737739755e-06.pt\n"
     ]
    },
    {
     "data": {
      "application/vnd.jupyter.widget-view+json": {
       "model_id": "c8f36275e68041778428d3d02cc6c06e",
       "version_major": 2,
       "version_minor": 0
      },
      "text/plain": [
       "HBox(children=(FloatProgress(value=0.0, description='n_mfcc24,n_hid16,n_timb4', max=2000.0, style=ProgressStyl…"
      ]
     },
     "metadata": {},
     "output_type": "display_data"
    },
    {
     "name": "stdout",
     "output_type": "stream",
     "text": [
      "\n",
      "Training Loss before/after: 1.7967698667412518e-05, 7.117728952950016e-07\n",
      "Validation Loss before/after: 3.513522799415835e-05, 1.4311331926427524e-06\n",
      "Final loss: 7.117728952950016e-07\t\tTime taken: 15.46042537689209\n",
      "Model saved at model_data\\TimbreVAE_Expts_nmels256_nfft2048\\TimbreVAE_expttanh_lr0.001_n_epochs2000_n_mfcc24_n_hid16_n_timb4_1.431142726656178e-06.pt\n"
     ]
    },
    {
     "data": {
      "application/vnd.jupyter.widget-view+json": {
       "model_id": "950d8b1883b441129534378d0b7beee6",
       "version_major": 2,
       "version_minor": 0
      },
      "text/plain": [
       "HBox(children=(FloatProgress(value=0.0, description='n_mfcc24,n_hid16,n_timb6', max=2000.0, style=ProgressStyl…"
      ]
     },
     "metadata": {},
     "output_type": "display_data"
    },
    {
     "name": "stdout",
     "output_type": "stream",
     "text": [
      "\n",
      "Training Loss before/after: 1.6702393915547035e-05, 6.316277622004393e-07\n",
      "Validation Loss before/after: 3.245428482862725e-05, 1.2820923096104256e-06\n",
      "Final loss: 6.316277622004393e-07\t\tTime taken: 15.40246868133545\n",
      "Model saved at model_data\\TimbreVAE_Expts_nmels256_nfft2048\\TimbreVAE_expttanh_lr0.001_n_epochs2000_n_mfcc24_n_hid16_n_timb6_1.282098080197499e-06.pt\n"
     ]
    },
    {
     "data": {
      "application/vnd.jupyter.widget-view+json": {
       "model_id": "dcff498c936e4417b4ff755e10963287",
       "version_major": 2,
       "version_minor": 0
      },
      "text/plain": [
       "HBox(children=(FloatProgress(value=0.0, description='n_mfcc24,n_hid16,n_timb8', max=2000.0, style=ProgressStyl…"
      ]
     },
     "metadata": {},
     "output_type": "display_data"
    },
    {
     "name": "stdout",
     "output_type": "stream",
     "text": [
      "\n",
      "Training Loss before/after: 1.8260162056091875e-05, 6.2227188428896e-07\n",
      "Validation Loss before/after: 3.567314974364193e-05, 1.2617344311010307e-06\n",
      "Final loss: 6.2227188428896e-07\t\tTime taken: 15.375788450241089\n",
      "Model saved at model_data\\TimbreVAE_Expts_nmels256_nfft2048\\TimbreVAE_expttanh_lr0.001_n_epochs2000_n_mfcc24_n_hid16_n_timb8_1.2615583863794461e-06.pt\n"
     ]
    },
    {
     "data": {
      "application/vnd.jupyter.widget-view+json": {
       "model_id": "edadcabcea8f4720b69f4e9908827f41",
       "version_major": 2,
       "version_minor": 0
      },
      "text/plain": [
       "HBox(children=(FloatProgress(value=0.0, description='n_mfcc24,n_hid16,n_timb10', max=2000.0, style=ProgressSty…"
      ]
     },
     "metadata": {},
     "output_type": "display_data"
    },
    {
     "name": "stdout",
     "output_type": "stream",
     "text": [
      "\n",
      "Training Loss before/after: 1.8773288680133463e-05, 7.463913998331061e-07\n",
      "Validation Loss before/after: 3.6562881271900805e-05, 1.503656927399851e-06\n",
      "Final loss: 7.463913998331061e-07\t\tTime taken: 15.416579246520996\n",
      "Model saved at model_data\\TimbreVAE_Expts_nmels256_nfft2048\\TimbreVAE_expttanh_lr0.001_n_epochs2000_n_mfcc24_n_hid16_n_timb10_1.5036005596362654e-06.pt\n"
     ]
    },
    {
     "data": {
      "application/vnd.jupyter.widget-view+json": {
       "model_id": "a52bb7723c3743b9a1bfb55e5f494197",
       "version_major": 2,
       "version_minor": 0
      },
      "text/plain": [
       "HBox(children=(FloatProgress(value=0.0, description='n_mfcc24,n_hid18,n_timb4', max=2000.0, style=ProgressStyl…"
      ]
     },
     "metadata": {},
     "output_type": "display_data"
    },
    {
     "name": "stdout",
     "output_type": "stream",
     "text": [
      "\n",
      "Training Loss before/after: 2.03624755765001e-05, 7.395804344526567e-07\n",
      "Validation Loss before/after: 3.963819940456714e-05, 1.501020020002435e-06\n",
      "Final loss: 7.395804344526567e-07\t\tTime taken: 15.494130373001099\n",
      "Model saved at model_data\\TimbreVAE_Expts_nmels256_nfft2048\\TimbreVAE_expttanh_lr0.001_n_epochs2000_n_mfcc24_n_hid18_n_timb4_1.5013913447358485e-06.pt\n"
     ]
    },
    {
     "data": {
      "application/vnd.jupyter.widget-view+json": {
       "model_id": "fa1e63aa23fa4513ab055b1a86ed97a7",
       "version_major": 2,
       "version_minor": 0
      },
      "text/plain": [
       "HBox(children=(FloatProgress(value=0.0, description='n_mfcc24,n_hid18,n_timb6', max=2000.0, style=ProgressStyl…"
      ]
     },
     "metadata": {},
     "output_type": "display_data"
    },
    {
     "name": "stdout",
     "output_type": "stream",
     "text": [
      "\n",
      "Training Loss before/after: 1.5843778730894643e-05, 6.631919953586726e-07\n",
      "Validation Loss before/after: 3.086727369448234e-05, 1.3631956528700975e-06\n",
      "Final loss: 6.631919953586726e-07\t\tTime taken: 15.477551460266113\n",
      "Model saved at model_data\\TimbreVAE_Expts_nmels256_nfft2048\\TimbreVAE_expttanh_lr0.001_n_epochs2000_n_mfcc24_n_hid18_n_timb6_1.3629924278470805e-06.pt\n"
     ]
    },
    {
     "data": {
      "application/vnd.jupyter.widget-view+json": {
       "model_id": "d5575cb002fc40c4a98762ef0dbcc637",
       "version_major": 2,
       "version_minor": 0
      },
      "text/plain": [
       "HBox(children=(FloatProgress(value=0.0, description='n_mfcc24,n_hid18,n_timb8', max=2000.0, style=ProgressStyl…"
      ]
     },
     "metadata": {},
     "output_type": "display_data"
    },
    {
     "name": "stdout",
     "output_type": "stream",
     "text": [
      "\n",
      "Training Loss before/after: 1.6302532709107316e-05, 6.506004489171479e-07\n",
      "Validation Loss before/after: 3.14856825888842e-05, 1.3086221237056728e-06\n",
      "Final loss: 6.506004489171479e-07\t\tTime taken: 15.428365468978882\n",
      "Model saved at model_data\\TimbreVAE_Expts_nmels256_nfft2048\\TimbreVAE_expttanh_lr0.001_n_epochs2000_n_mfcc24_n_hid18_n_timb8_1.3086769860987177e-06.pt\n"
     ]
    },
    {
     "data": {
      "application/vnd.jupyter.widget-view+json": {
       "model_id": "e3f6a8088ebf4fcfad62228144c17275",
       "version_major": 2,
       "version_minor": 0
      },
      "text/plain": [
       "HBox(children=(FloatProgress(value=0.0, description='n_mfcc24,n_hid18,n_timb10', max=2000.0, style=ProgressSty…"
      ]
     },
     "metadata": {},
     "output_type": "display_data"
    },
    {
     "name": "stdout",
     "output_type": "stream",
     "text": [
      "\n",
      "Training Loss before/after: 1.9503347896810236e-05, 5.747898630316144e-07\n",
      "Validation Loss before/after: 3.827820350041335e-05, 1.1557417094771718e-06\n",
      "Final loss: 5.747898630316144e-07\t\tTime taken: 16.170546531677246\n",
      "Model saved at model_data\\TimbreVAE_Expts_nmels256_nfft2048\\TimbreVAE_expttanh_lr0.001_n_epochs2000_n_mfcc24_n_hid18_n_timb10_1.1558036805644374e-06.pt\n"
     ]
    },
    {
     "data": {
      "application/vnd.jupyter.widget-view+json": {
       "model_id": "50f86fe636b1445b8cb795df23e0c8aa",
       "version_major": 2,
       "version_minor": 0
      },
      "text/plain": [
       "HBox(children=(FloatProgress(value=0.0, description='n_mfcc24,n_hid20,n_timb4', max=2000.0, style=ProgressStyl…"
      ]
     },
     "metadata": {},
     "output_type": "display_data"
    },
    {
     "name": "stdout",
     "output_type": "stream",
     "text": [
      "\n",
      "Training Loss before/after: 1.771734684877012e-05, 7.035140143493298e-07\n",
      "Validation Loss before/after: 3.4521240205771625e-05, 1.4271299105844107e-06\n",
      "Final loss: 7.035140143493298e-07\t\tTime taken: 15.368208646774292\n",
      "Model saved at model_data\\TimbreVAE_Expts_nmels256_nfft2048\\TimbreVAE_expttanh_lr0.001_n_epochs2000_n_mfcc24_n_hid20_n_timb4_1.4269425755837696e-06.pt\n"
     ]
    },
    {
     "data": {
      "application/vnd.jupyter.widget-view+json": {
       "model_id": "0579868c9c944d27ab2c7e4451adf96a",
       "version_major": 2,
       "version_minor": 0
      },
      "text/plain": [
       "HBox(children=(FloatProgress(value=0.0, description='n_mfcc24,n_hid20,n_timb6', max=2000.0, style=ProgressStyl…"
      ]
     },
     "metadata": {},
     "output_type": "display_data"
    },
    {
     "name": "stdout",
     "output_type": "stream",
     "text": [
      "\n",
      "Training Loss before/after: 1.737363930877255e-05, 6.163249597831191e-07\n",
      "Validation Loss before/after: 3.356862567022614e-05, 1.2554059369789287e-06\n",
      "Final loss: 6.163249597831191e-07\t\tTime taken: 15.43495488166809\n",
      "Model saved at model_data\\TimbreVAE_Expts_nmels256_nfft2048\\TimbreVAE_expttanh_lr0.001_n_epochs2000_n_mfcc24_n_hid20_n_timb6_1.2551576344713826e-06.pt\n"
     ]
    },
    {
     "data": {
      "application/vnd.jupyter.widget-view+json": {
       "model_id": "d26495d1bbc94a0691a7099f0d62aa82",
       "version_major": 2,
       "version_minor": 0
      },
      "text/plain": [
       "HBox(children=(FloatProgress(value=0.0, description='n_mfcc24,n_hid20,n_timb8', max=2000.0, style=ProgressStyl…"
      ]
     },
     "metadata": {},
     "output_type": "display_data"
    },
    {
     "name": "stdout",
     "output_type": "stream",
     "text": [
      "\n",
      "Training Loss before/after: 1.712143287362381e-05, 4.9818327065675e-07\n",
      "Validation Loss before/after: 3.339876367271632e-05, 1.030704294245733e-06\n",
      "Final loss: 4.9818327065675e-07\t\tTime taken: 15.506272077560425\n",
      "Model saved at model_data\\TimbreVAE_Expts_nmels256_nfft2048\\TimbreVAE_expttanh_lr0.001_n_epochs2000_n_mfcc24_n_hid20_n_timb8_1.0307108175180766e-06.pt\n"
     ]
    },
    {
     "data": {
      "application/vnd.jupyter.widget-view+json": {
       "model_id": "cfe1774adffa4eea81553fcaeeab52f0",
       "version_major": 2,
       "version_minor": 0
      },
      "text/plain": [
       "HBox(children=(FloatProgress(value=0.0, description='n_mfcc24,n_hid20,n_timb10', max=2000.0, style=ProgressSty…"
      ]
     },
     "metadata": {},
     "output_type": "display_data"
    },
    {
     "name": "stdout",
     "output_type": "stream",
     "text": [
      "\n",
      "Training Loss before/after: 1.6372161114524152e-05, 5.680012273141879e-07\n",
      "Validation Loss before/after: 3.1848887688127056e-05, 1.1665233405542443e-06\n",
      "Final loss: 5.680012273141879e-07\t\tTime taken: 15.475748538970947\n",
      "Model saved at model_data\\TimbreVAE_Expts_nmels256_nfft2048\\TimbreVAE_expttanh_lr0.001_n_epochs2000_n_mfcc24_n_hid20_n_timb10_1.1665704251994946e-06.pt\n"
     ]
    },
    {
     "data": {
      "application/vnd.jupyter.widget-view+json": {
       "model_id": "d970e6316fef40598b0f5cab09d3ae26",
       "version_major": 2,
       "version_minor": 0
      },
      "text/plain": [
       "HBox(children=(FloatProgress(value=0.0, description='n_mfcc24,n_hid22,n_timb4', max=2000.0, style=ProgressStyl…"
      ]
     },
     "metadata": {},
     "output_type": "display_data"
    },
    {
     "name": "stdout",
     "output_type": "stream",
     "text": [
      "\n",
      "Training Loss before/after: 1.5056637201415396e-05, 6.650501662121294e-07\n",
      "Validation Loss before/after: 2.91060249524555e-05, 1.3497336259133172e-06\n",
      "Final loss: 6.650501662121294e-07\t\tTime taken: 15.361950635910034\n",
      "Model saved at model_data\\TimbreVAE_Expts_nmels256_nfft2048\\TimbreVAE_expttanh_lr0.001_n_epochs2000_n_mfcc24_n_hid22_n_timb4_1.3498496230766606e-06.pt\n"
     ]
    },
    {
     "data": {
      "application/vnd.jupyter.widget-view+json": {
       "model_id": "908700305f8846739ca7900a4d7b1060",
       "version_major": 2,
       "version_minor": 0
      },
      "text/plain": [
       "HBox(children=(FloatProgress(value=0.0, description='n_mfcc24,n_hid22,n_timb6', max=2000.0, style=ProgressStyl…"
      ]
     },
     "metadata": {},
     "output_type": "display_data"
    },
    {
     "name": "stdout",
     "output_type": "stream",
     "text": [
      "\n",
      "Training Loss before/after: 2.117817766493422e-05, 5.695474519388985e-07\n",
      "Validation Loss before/after: 4.094919382498182e-05, 1.185119768267433e-06\n",
      "Final loss: 5.695474519388985e-07\t\tTime taken: 15.325632810592651\n",
      "Model saved at model_data\\TimbreVAE_Expts_nmels256_nfft2048\\TimbreVAE_expttanh_lr0.001_n_epochs2000_n_mfcc24_n_hid22_n_timb6_1.185113412258483e-06.pt\n"
     ]
    },
    {
     "data": {
      "application/vnd.jupyter.widget-view+json": {
       "model_id": "a6ef0f6ddf254ab08c8863f94b0e942f",
       "version_major": 2,
       "version_minor": 0
      },
      "text/plain": [
       "HBox(children=(FloatProgress(value=0.0, description='n_mfcc24,n_hid22,n_timb8', max=2000.0, style=ProgressStyl…"
      ]
     },
     "metadata": {},
     "output_type": "display_data"
    },
    {
     "name": "stdout",
     "output_type": "stream",
     "text": [
      "\n",
      "Training Loss before/after: 1.8025173045609188e-05, 6.422861619724025e-07\n",
      "Validation Loss before/after: 3.490943847031429e-05, 1.3058781677364619e-06\n",
      "Final loss: 6.422861619724025e-07\t\tTime taken: 15.492443323135376\n",
      "Model saved at model_data\\TimbreVAE_Expts_nmels256_nfft2048\\TimbreVAE_expttanh_lr0.001_n_epochs2000_n_mfcc24_n_hid22_n_timb8_1.3057563163543484e-06.pt\n"
     ]
    },
    {
     "data": {
      "application/vnd.jupyter.widget-view+json": {
       "model_id": "179f13da3a2b46e29b278f8042d04bc5",
       "version_major": 2,
       "version_minor": 0
      },
      "text/plain": [
       "HBox(children=(FloatProgress(value=0.0, description='n_mfcc24,n_hid22,n_timb10', max=2000.0, style=ProgressSty…"
      ]
     },
     "metadata": {},
     "output_type": "display_data"
    },
    {
     "name": "stdout",
     "output_type": "stream",
     "text": [
      "\n",
      "Training Loss before/after: 1.4466027483001523e-05, 4.738087708333871e-07\n",
      "Validation Loss before/after: 2.775635120683703e-05, 9.565407091794514e-07\n",
      "Final loss: 4.738087708333871e-07\t\tTime taken: 16.027374029159546\n",
      "Model saved at model_data\\TimbreVAE_Expts_nmels256_nfft2048\\TimbreVAE_expttanh_lr0.001_n_epochs2000_n_mfcc24_n_hid22_n_timb10_9.564522268443273e-07.pt\n"
     ]
    },
    {
     "data": {
      "application/vnd.jupyter.widget-view+json": {
       "model_id": "c31c72ae657d4092a28c795a1b9a1ec7",
       "version_major": 2,
       "version_minor": 0
      },
      "text/plain": [
       "HBox(children=(FloatProgress(value=0.0, description='n_mfcc12,n_hid6,n_timb4', max=2000.0, style=ProgressStyle…"
      ]
     },
     "metadata": {},
     "output_type": "display_data"
    },
    {
     "name": "stdout",
     "output_type": "stream",
     "text": [
      "\n",
      "Training Loss before/after: 2.499789952289784e-05, 8.971348569471518e-07\n",
      "Validation Loss before/after: 4.9663498869230006e-05, 1.8402408867346487e-06\n",
      "Final loss: 8.971348569471518e-07\t\tTime taken: 15.466912508010864\n",
      "Model saved at model_data\\TimbreVAE_Expts_nmels256_nfft2048\\TimbreVAE_expttanh_lr0.001_n_epochs2000_n_mfcc12_n_hid6_n_timb4_1.8399774468899973e-06.pt\n"
     ]
    },
    {
     "data": {
      "application/vnd.jupyter.widget-view+json": {
       "model_id": "89fe6926cd5b42d7b9bbceee6a206ffb",
       "version_major": 2,
       "version_minor": 0
      },
      "text/plain": [
       "HBox(children=(FloatProgress(value=0.0, description='n_mfcc12,n_hid8,n_timb4', max=2000.0, style=ProgressStyle…"
      ]
     },
     "metadata": {},
     "output_type": "display_data"
    },
    {
     "name": "stdout",
     "output_type": "stream",
     "text": [
      "\n",
      "Training Loss before/after: 2.427396749884918e-05, 9.800334382085023e-07\n",
      "Validation Loss before/after: 4.770670985353404e-05, 1.9643424632798495e-06\n",
      "Final loss: 9.800334382085023e-07\t\tTime taken: 15.363779067993164\n",
      "Model saved at model_data\\TimbreVAE_Expts_nmels256_nfft2048\\TimbreVAE_expttanh_lr0.001_n_epochs2000_n_mfcc12_n_hid8_n_timb4_1.964656918459497e-06.pt\n"
     ]
    },
    {
     "data": {
      "application/vnd.jupyter.widget-view+json": {
       "model_id": "215c5ffc7c0441f9bc93e306365daf88",
       "version_major": 2,
       "version_minor": 0
      },
      "text/plain": [
       "HBox(children=(FloatProgress(value=0.0, description='n_mfcc12,n_hid8,n_timb6', max=2000.0, style=ProgressStyle…"
      ]
     },
     "metadata": {},
     "output_type": "display_data"
    },
    {
     "name": "stdout",
     "output_type": "stream",
     "text": [
      "\n",
      "Training Loss before/after: 3.001928843300918e-05, 6.812198947975947e-07\n",
      "Validation Loss before/after: 5.932773152987162e-05, 1.3646994344087253e-06\n",
      "Final loss: 6.812198947975947e-07\t\tTime taken: 15.450337171554565\n",
      "Model saved at model_data\\TimbreVAE_Expts_nmels256_nfft2048\\TimbreVAE_expttanh_lr0.001_n_epochs2000_n_mfcc12_n_hid8_n_timb6_1.3656472324275936e-06.pt\n"
     ]
    },
    {
     "data": {
      "application/vnd.jupyter.widget-view+json": {
       "model_id": "cef3900389584d938316f78829762f3d",
       "version_major": 2,
       "version_minor": 0
      },
      "text/plain": [
       "HBox(children=(FloatProgress(value=0.0, description='n_mfcc12,n_hid10,n_timb4', max=2000.0, style=ProgressStyl…"
      ]
     },
     "metadata": {},
     "output_type": "display_data"
    },
    {
     "name": "stdout",
     "output_type": "stream",
     "text": [
      "\n",
      "Training Loss before/after: 2.8615330356633525e-05, 7.464804675901074e-07\n",
      "Validation Loss before/after: 5.6439122163701335e-05, 1.5533165925921036e-06\n",
      "Final loss: 7.464804675901074e-07\t\tTime taken: 15.438395977020264\n",
      "Model saved at model_data\\TimbreVAE_Expts_nmels256_nfft2048\\TimbreVAE_expttanh_lr0.001_n_epochs2000_n_mfcc12_n_hid10_n_timb4_1.552475926776727e-06.pt\n"
     ]
    },
    {
     "data": {
      "application/vnd.jupyter.widget-view+json": {
       "model_id": "1858c82e90b6447092468c3d3b22fec9",
       "version_major": 2,
       "version_minor": 0
      },
      "text/plain": [
       "HBox(children=(FloatProgress(value=0.0, description='n_mfcc12,n_hid10,n_timb6', max=2000.0, style=ProgressStyl…"
      ]
     },
     "metadata": {},
     "output_type": "display_data"
    },
    {
     "name": "stdout",
     "output_type": "stream",
     "text": [
      "\n",
      "Training Loss before/after: 2.2110716578946717e-05, 5.685282324510359e-07\n",
      "Validation Loss before/after: 4.399712358055443e-05, 1.2615124725779497e-06\n",
      "Final loss: 5.685282324510359e-07\t\tTime taken: 15.454068183898926\n",
      "Model saved at model_data\\TimbreVAE_Expts_nmels256_nfft2048\\TimbreVAE_expttanh_lr0.001_n_epochs2000_n_mfcc12_n_hid10_n_timb6_1.2616396763886529e-06.pt\n"
     ]
    },
    {
     "data": {
      "application/vnd.jupyter.widget-view+json": {
       "model_id": "914bbd6758374a2a8cd0accc23f9bf19",
       "version_major": 2,
       "version_minor": 0
      },
      "text/plain": [
       "HBox(children=(FloatProgress(value=0.0, description='n_mfcc12,n_hid10,n_timb8', max=2000.0, style=ProgressStyl…"
      ]
     },
     "metadata": {},
     "output_type": "display_data"
    },
    {
     "name": "stdout",
     "output_type": "stream",
     "text": [
      "\n",
      "Training Loss before/after: 2.5404684095718396e-05, 7.469904536766739e-07\n",
      "Validation Loss before/after: 5.0231075749315065e-05, 1.5488892978314183e-06\n",
      "Final loss: 7.469904536766739e-07\t\tTime taken: 15.391481399536133\n",
      "Model saved at model_data\\TimbreVAE_Expts_nmels256_nfft2048\\TimbreVAE_expttanh_lr0.001_n_epochs2000_n_mfcc12_n_hid10_n_timb8_1.5484948907497114e-06.pt\n"
     ]
    }
   ],
   "source": [
    "n_mels = 256\n",
    "n_ffts = 2048\n",
    "\n",
    "%matplotlib agg\n",
    "%matplotlib agg\n",
    "\n",
    "# # # # # # # # # # # # # # # # # # # # # # # # # #\n",
    "# Data that is constant throughout the entire run #\n",
    "# # # # # # # # # # # # # # # # # # # # # # # # # #\n",
    "\n",
    "# File reference lists\n",
    "data_ref_list = create_data_ref_list(os.path.join(\"Data\", 'dataset_files.csv'),\n",
    "                            n_pitches, n_vowels, n_people)\n",
    "# flat_data_ref_list[flat_ref_idx(vowel, pitch, person)]\n",
    "flat_data_ref_list = flatten_3d_array(data_ref_list, \n",
    "                                      n_vowels, n_pitches, n_people)\n",
    "# File reference list accessors\n",
    "# Returns a flat_ref_idx, given a vowel, pitch, person\n",
    "flat_ref_idx = lambda vowel, pitch, person: flat_3d_array_idx(\n",
    "    vowel, pitch, person, n_vowels, n_pitches, n_people)\n",
    "# Returns vowel, pitch, person, given a flat_ref_idx\n",
    "nd_ref_idx = lambda idx: nd_array_idx(idx, n_vowels, n_pitches, n_people)\n",
    "\n",
    "# wav, spectrogram, mels, mfcc for each file in flat_data_ref_list\n",
    "# wav_data:     (576, ~29400)  (n_wavs, n_samples)\n",
    "# spectrograms: (576, 513, 58) (n_wavs, n_freq_bins, n_windows)\n",
    "all_wav_data = load_wav_files(os.path.join(\"Data\", \"dataset\"), \n",
    "                              flat_data_ref_list)\n",
    "all_spectrograms = np.array([ stft(waveform, win_length=n_ffts, plot=False) \n",
    "                              for waveform in all_wav_data ])\n",
    "\n",
    "# Define loss \n",
    "loss_fn = nn.MSELoss()\n",
    "\n",
    "# # # # # # # # # # # # # # # # # # # \n",
    "# Data that is constant per n_mfcc  #\n",
    "# # # # # # # # # # # # # # # # # # # \n",
    "\n",
    "def create_data_for_mfcc(n_mfcc):\n",
    "    # mels:         (576, 128, 58) (n_wavs, n_mels, n_windows)\n",
    "    # mfccs:        (576, 20, 58)  (n_wavs, n_mfcc, n_windows)\n",
    "    all_mels, all_mfcc = map(np.array, map(list, zip(*\n",
    "                             [ ffts_to_mel(ffts, n_mels = n_mels, n_mfcc = n_mfcc) \n",
    "                               for ffts in all_spectrograms ])))\n",
    "    n_files, n_mfcc_dummy, n_windows = all_mfcc.shape\n",
    "\n",
    "    # Returns a flat 2d idx, given a wavfile index and a window index\n",
    "    flat_data_idx = lambda wav_idx, win_idx: flat_2d_array_idx(\n",
    "        wav_idx, win_idx, n_files, n_windows)\n",
    "\n",
    "    # data:   (33408, 20) (n_wavs * n_windows, n_mfcc)\n",
    "    data_prenorm = np.array([ all_mfcc[wav_file_idx][:, window_idx] \n",
    "                              for wav_file_idx in range(n_files) \n",
    "                              for window_idx in range(n_windows) ])\n",
    "\n",
    "    # Globally normalize to [-1, 1]\n",
    "    # log(-n) is nan, so we put things on a log scale from absolute values, and\n",
    "    # mutliply the sign back.\n",
    "    signs = np.sign(data_prenorm)\n",
    "    data_logged = np.log(np.abs(data_prenorm))\n",
    "    max_mfcc = np.max(np.abs(data_logged))\n",
    "    data = data_logged / max_mfcc\n",
    "    \n",
    "    # X_train: (22272, 20)\n",
    "    # X_val: (11136, 20)\n",
    "    X_train = []; X_val = [];\n",
    "    for vow_idx in range(n_vowels):\n",
    "        for pit_idx in range(n_pitches):\n",
    "            # Choose the person for this pitch/vowel to be used as test data\n",
    "            test_pid = int(np.random.rand() * 3)\n",
    "            for pid_idx in range(n_people):\n",
    "                wav_idx = flat_ref_idx(vow_idx, pit_idx, pid_idx)\n",
    "                if (pid_idx != test_pid):\n",
    "                    for win_idx in range(n_windows):\n",
    "                        X_train.append(data[flat_data_idx(wav_idx, win_idx)])\n",
    "                else:\n",
    "                    for win_idx in range(n_windows):\n",
    "                        X_val.append(data[flat_data_idx(wav_idx, win_idx)])\n",
    "    X_train, X_val = map(torch.tensor, (X_train, X_val))\n",
    "    # Default tensor is float\n",
    "    X_train = X_train.float(); X_val = X_val.float()\n",
    "    \n",
    "    return data, data_prenorm, max_mfcc, signs, flat_data_idx, X_train, X_val\n",
    "\n",
    "# # # # # # # # # # # # # #\n",
    "# Actual experiment loop  #\n",
    "# # # # # # # # # # # # # # \n",
    "\n",
    "# Results: \n",
    "# Indices: [ [ n_mfcc, n_hid, n_timb ], [ ... ], ... ]\n",
    "# Losses: [ loss1, loss2, ... ]\n",
    "indices = []; train_losses = []; val_losses = [];\n",
    "\n",
    "n_mfccs = [ 40, 24, 12 ]\n",
    "n_hid_candidates = [6, 8, 10, 12, 14, 16, 18, 20, 22, 24, 26, 28, 30, 32, 34, 36, 38]\n",
    "n_timb_candidates = [4, 6, 8, 10 ] # >= 12 means we might as well have used 12 mfcc\n",
    "f = open(os.path.join(\"model_data\", \"TimbreVAE_Expts_nmels256_nfft2048\", \"expt_tanhLog.txt\"), \"w\")\n",
    "\n",
    "for n_mfcc in n_mfccs:\n",
    "    data, data_prenorm, max_mfcc, signs, flat_data_idx, X_train, X_val = create_data_for_mfcc(n_mfcc)\n",
    "    lr = 1e-3; n_epochs = 2000; batch_size=22272\n",
    "\n",
    "    for n_hid in n_hid_candidates:\n",
    "        for n_timb in n_timb_candidates:\n",
    "            if (n_timb >= n_hid) or (n_timb >= n_mfcc) or (n_hid >= n_mfcc):\n",
    "                continue\n",
    "\n",
    "            # Training model \n",
    "            model = TimbreVAE(n_mfcc=n_mfcc, n_hid=n_hid, n_timb=n_timb)\n",
    "\n",
    "            # Use GPU if possible (will run on CPU otherwise)\n",
    "            device = torch.device(\"cuda\") if torch.cuda.is_available() else torch.device(\"cpu\")\n",
    "\n",
    "            # Move inputs to GPU (if possible)\n",
    "            X_train = X_train.to(device)\n",
    "            X_val = X_val.to(device)\n",
    "\n",
    "            # Move the network to GPU (if possible)\n",
    "            model.to(device) \n",
    "            # Define optimizer \n",
    "            # opt = optim.SGD(model.parameters(), lr=lr)\n",
    "            opt = optim.Adam(model.parameters(), lr=lr)\n",
    "\n",
    "            # Fit the model\n",
    "            tic = time.time()\n",
    "            train_loss, val_loss = model.train_func(X_train, X_val, model, opt, loss_fn, batch_size=batch_size,\n",
    "                                    epochs=n_epochs, print_graph = True, desc=\"n_mfcc{},n_hid{},n_timb{}\".format(n_mfcc, n_hid, n_timb))\n",
    "            toc = time.time()\n",
    "            print('Final loss: {}\\t\\tTime taken: {}'.format(train_loss, toc - tic))\n",
    "            model_path = os.path.join(\"model_data\", \"TimbreVAE_Expts_nmels256_nfft2048\", \n",
    "                                      \"TimbreVAE_expttanh_lr{}_n_epochs{}_n_mfcc{}_n_hid{}_n_timb{}_{}.pt\"\n",
    "                                      .format(lr, n_epochs, n_mfcc, n_hid, n_timb, val_loss))\n",
    "            torch.save(model.state_dict(), model_path)\n",
    "            print(\"Model saved at {}\".format(model_path))\n",
    "\n",
    "            indices.append([n_mfcc, n_hid, n_timb]); train_losses.append(train_loss); val_losses.append(val_loss)\n",
    "\n",
    "            # Create the validation printout and graph\n",
    "            data_tensor = torch.tensor(data)\n",
    "            data_tensor = data_tensor.float();\n",
    "            data_tensor = data_tensor.to(device)\n",
    "\n",
    "            wav_idx = flat_ref_idx(5, 5, 1)\n",
    "            data_idx = flat_data_idx(wav_idx, 30)\n",
    "            label = data_tensor[data_idx]\n",
    "            pred, _, _ = model(data_tensor)\n",
    "\n",
    "            # To restore:\n",
    "            restored_pred = signs * np.e ** (pred.cpu().detach().numpy() * max_mfcc)\n",
    "\n",
    "            # Visualize MFCCs\n",
    "            fig, ax = plt.subplots(2, 1, figsize=(10, 10))\n",
    "            fig.suptitle(\"TimbreVAE expttanh lr{} n_epochs{} n_mfcc{} n_hid{} n_timb{} loss{}\"\n",
    "                         .format(lr, n_epochs, n_mfcc, n_hid, n_timb, val_loss))\n",
    "            # plt.figure()\n",
    "            ax[0].plot(data_prenorm[data_idx])\n",
    "            ax[0].plot(restored_pred[data_idx])\n",
    "            # fig, ax = plt.subplots(2, 1)\n",
    "            # plt.figure()\n",
    "            ax[1].plot(data[data_idx])\n",
    "            ax[1].plot(pred.cpu().detach().numpy()[data_idx])\n",
    "            fig.savefig(os.path.join(\"model_data\", \"TimbreVAE_Expts_nmels256_nfft2048\", \n",
    "                \"TimbreVAE_expttanh_lr{}_n_epochs{}_n_mfcc{}_n_hid{}_n_timb{}_{}.jpg\"\n",
    "                        .format(lr, n_epochs, n_mfcc, n_hid, n_timb, val_loss)))\n",
    "\n",
    "            # Numeric verification\n",
    "            np.set_printoptions(suppress=True)\n",
    "            f.write(\"TimbreVAE_expttanh lr{} n_epochs{} n_mfcc{} n_hid{} n_timb{} loss{}\\n\"\n",
    "                    .format(lr, n_epochs, n_mfcc, n_hid, n_timb, val_loss))\n",
    "\n",
    "            f.write(str(data_prenorm[data_idx]))\n",
    "            f.write(\"\\n\")\n",
    "            f.write(str(restored_pred[data_idx]))\n",
    "            f.write(\"\\n\")\n",
    "            f.write(str(data[data_idx]))\n",
    "            f.write(\"\\n\")\n",
    "            f.write(str(pred.cpu().detach().numpy()[data_idx]))\n",
    "            f.write(\"\\n\")\n",
    "f.close()\n",
    "\n",
    "%matplotlib inline"
   ]
  },
  {
   "cell_type": "code",
   "execution_count": 18,
   "metadata": {
    "scrolled": true
   },
   "outputs": [
    {
     "name": "stdout",
     "output_type": "stream",
     "text": [
      "0 [40, 6, 4] 2.0343646067248164e-06\n",
      "1 [40, 8, 4] 1.934226187502687e-06\n",
      "2 [40, 8, 6] 1.8002413515665237e-06\n",
      "3 [40, 10, 4] 1.6831603214337395e-06\n",
      "4 [40, 10, 6] 1.71878675518065e-06\n",
      "5 [40, 10, 8] 1.6892657698207032e-06\n",
      "6 [40, 12, 4] 1.7669684810285595e-06\n",
      "7 [40, 12, 6] 1.7566469915468118e-06\n",
      "8 [40, 12, 8] 1.732456690535463e-06\n",
      "9 [40, 12, 10] 1.6141016151349264e-06\n",
      "10 [40, 14, 4] 1.7591796938501212e-06\n",
      "11 [40, 14, 6] 1.7604502265866118e-06\n",
      "12 [40, 14, 8] 1.8059002066930305e-06\n",
      "13 [40, 14, 10] 1.876165049321864e-06\n",
      "14 [40, 16, 4] 1.6849242811808469e-06\n",
      "15 [40, 16, 6] 1.7415019603253438e-06\n",
      "16 [40, 16, 8] 1.5582930130734184e-06\n",
      "17 [40, 16, 10] 1.6096226359856711e-06\n",
      "18 [40, 18, 4] 1.6810161719933666e-06\n",
      "19 [40, 18, 6] 1.5576249630800609e-06\n",
      "20 [40, 18, 8] 1.6470479875289161e-06\n",
      "21 [40, 18, 10] 1.551378511652436e-06\n",
      "22 [40, 20, 4] 1.6852128105345128e-06\n",
      "23 [40, 20, 6] 1.506013668613273e-06\n",
      "24 [40, 20, 8] 1.397611768702152e-06\n",
      "25 [40, 20, 10] 1.5471912398613218e-06\n",
      "26 [40, 22, 4] 1.6596310453532242e-06\n",
      "27 [40, 22, 6] 1.5306657838538802e-06\n",
      "28 [40, 22, 8] 1.3829976314914296e-06\n",
      "29 [40, 22, 10] 1.3349148419407335e-06\n",
      "30 [40, 24, 4] 1.6433676910832867e-06\n",
      "31 [40, 24, 6] 1.592824707910333e-06\n",
      "32 [40, 24, 8] 1.4258779440845909e-06\n",
      "33 [40, 24, 10] 1.3573649346068415e-06\n",
      "34 [40, 26, 4] 1.6612993304392901e-06\n",
      "35 [40, 26, 6] 1.4956891683904432e-06\n",
      "36 [40, 26, 8] 1.3982569872423064e-06\n",
      "37 [40, 26, 10] 1.2488397615747632e-06\n",
      "38 [40, 28, 4] 1.6447621659943085e-06\n",
      "39 [40, 28, 6] 1.489704316910142e-06\n",
      "40 [40, 28, 8] 1.3666833455181928e-06\n",
      "41 [40, 28, 10] 1.2401317784177332e-06\n",
      "42 [40, 30, 4] 1.647235322529557e-06\n",
      "43 [40, 30, 6] 1.493491494664173e-06\n",
      "44 [40, 30, 8] 1.3578558526665572e-06\n",
      "45 [40, 30, 10] 1.3304832819635155e-06\n",
      "46 [40, 32, 4] 1.6400709295987912e-06\n",
      "47 [40, 32, 6] 1.4950669485668855e-06\n",
      "48 [40, 32, 8] 1.3791545041322966e-06\n",
      "49 [40, 32, 10] 1.2527059712821897e-06\n",
      "50 [40, 34, 4] 1.6447906007711914e-06\n",
      "51 [40, 34, 6] 1.485217978171576e-06\n",
      "52 [40, 34, 8] 1.3608371553910446e-06\n",
      "53 [40, 34, 10] 1.2621157080063531e-06\n",
      "54 [40, 36, 4] 1.6503442472232313e-06\n",
      "55 [40, 36, 6] 1.505093887212804e-06\n",
      "56 [40, 36, 8] 1.3487493644746813e-06\n",
      "57 [40, 36, 10] 1.2298838011973977e-06\n",
      "58 [40, 38, 4] 1.6499806166059156e-06\n",
      "59 [40, 38, 6] 1.514732774785966e-06\n",
      "60 [40, 38, 8] 1.368890051467708e-06\n",
      "61 [40, 38, 10] 1.2532248223286079e-06\n",
      "62 [24, 6, 4] 1.5660324575507948e-06\n",
      "63 [24, 8, 4] 1.5246887937530704e-06\n",
      "64 [24, 8, 6] 1.5445051570262374e-06\n",
      "65 [24, 10, 4] 1.8008152322693804e-06\n",
      "66 [24, 10, 6] 1.6134114863736362e-06\n",
      "67 [24, 10, 8] 1.796535296558306e-06\n",
      "68 [24, 12, 4] 1.5584403721230297e-06\n",
      "69 [24, 12, 6] 1.4925064805402667e-06\n",
      "70 [24, 12, 8] 1.270587431620164e-06\n",
      "71 [24, 12, 10] 1.343155073018038e-06\n",
      "72 [24, 14, 4] 1.3931148087381032e-06\n",
      "73 [24, 14, 6] 1.4314655450054969e-06\n",
      "74 [24, 14, 8] 1.2215812645060407e-06\n",
      "75 [24, 14, 10] 1.6416903737739755e-06\n",
      "76 [24, 16, 4] 1.431142726656178e-06\n",
      "77 [24, 16, 6] 1.282098080197499e-06\n",
      "78 [24, 16, 8] 1.2615583863794461e-06\n",
      "79 [24, 16, 10] 1.5036005596362654e-06\n",
      "80 [24, 18, 4] 1.5013913447358485e-06\n",
      "81 [24, 18, 6] 1.3629924278470805e-06\n",
      "82 [24, 18, 8] 1.3086769860987177e-06\n",
      "83 [24, 18, 10] 1.1558036805644374e-06\n",
      "84 [24, 20, 4] 1.4269425755837696e-06\n",
      "85 [24, 20, 6] 1.2551576344713826e-06\n",
      "86 [24, 20, 8] 1.0307108175180766e-06\n",
      "87 [24, 20, 10] 1.1665704251994946e-06\n",
      "88 [24, 22, 4] 1.3498496230766606e-06\n",
      "89 [24, 22, 6] 1.185113412258483e-06\n",
      "90 [24, 22, 8] 1.3057563163543484e-06\n",
      "91 [24, 22, 10] 9.564522268443273e-07\n",
      "92 [12, 6, 4] 1.8399774468899973e-06\n",
      "93 [12, 8, 4] 1.964656918459497e-06\n",
      "94 [12, 8, 6] 1.3656472324275936e-06\n",
      "95 [12, 10, 4] 1.552475926776727e-06\n",
      "96 [12, 10, 6] 1.2616396763886529e-06\n",
      "97 [12, 10, 8] 1.5484948907497114e-06\n",
      "57\n",
      "91\n",
      "96\n"
     ]
    }
   ],
   "source": [
    "for i in range(len(val_losses)):\n",
    "    print(i, indices[i], val_losses[i])\n",
    "# 0-58: n_mfcc = 40\n",
    "# 59-85: 24\n",
    "print(np.argmin(val_losses[0:62]))\n",
    "print(np.argmin(val_losses[62:92])+62)\n",
    "print(np.argmin(val_losses[92:98])+92)"
   ]
  },
  {
   "cell_type": "markdown",
   "metadata": {},
   "source": [
    "# Final Timbre Encoder Creation\n",
    "This cell simply creates the timbre encoder using the configurations:  \n",
    "[40, 36, 10] 1.2298838011973977e-06\n",
    "[24, 22, 10] 9.564522268443273e-07\n",
    "[12, 10, 6] 1.2616396763886529e-06\n",
    "\n",
    "Validation losses at 10000 epochs:  \n",
    "[12, 10, 8] 2.2488103272264888e-07  \n",
    "[12, 10, 6] 1.1263185732023812e-06  \n",
    "[24, 22, 10] 1.407030537649561e-06  \n",
    "[40, 38, 10] 2.308088473857905e-06  "
   ]
  },
  {
   "cell_type": "code",
   "execution_count": 19,
   "metadata": {},
   "outputs": [
    {
     "data": {
      "application/vnd.jupyter.widget-view+json": {
       "model_id": "5d990502986745719cfcf8f0a4b73df6",
       "version_major": 2,
       "version_minor": 0
      },
      "text/plain": [
       "HBox(children=(FloatProgress(value=0.0, description='n_mfcc12,n_hid10,n_timb6', max=10000.0, style=ProgressSty…"
      ]
     },
     "metadata": {},
     "output_type": "display_data"
    },
    {
     "name": "stdout",
     "output_type": "stream",
     "text": [
      "\n"
     ]
    },
    {
     "data": {
      "image/png": "[encoded data removed]",
      "text/plain": [
       "<Figure size 1080x720 with 1 Axes>"
      ]
     },
     "metadata": {
      "needs_background": "light"
     },
     "output_type": "display_data"
    },
    {
     "name": "stdout",
     "output_type": "stream",
     "text": [
      "Training Loss before/after: 2.2289745948523626e-05, 2.3981357671068873e-07\n",
      "Validation Loss before/after: 4.329839614273488e-05, 5.897074996697149e-07\n",
      "Final loss: 2.3981357671068873e-07\t\tTime taken: 82.21688151359558\n",
      "Model saved at model_data\\TimbreVAE_Expts_nmels256_nfft2048\\TimbreVAE_FinalCreationtanh_lr0.001_n_epochs10000_n_mfcc12_n_hid10_n_timb6_5.897228460860621e-07.pt\n"
     ]
    },
    {
     "data": {
      "application/vnd.jupyter.widget-view+json": {
       "model_id": "2cb4f13d28a848809bd405064de63b7f",
       "version_major": 2,
       "version_minor": 0
      },
      "text/plain": [
       "HBox(children=(FloatProgress(value=0.0, description='n_mfcc24,n_hid22,n_timb10', max=10000.0, style=ProgressSt…"
      ]
     },
     "metadata": {},
     "output_type": "display_data"
    },
    {
     "name": "stdout",
     "output_type": "stream",
     "text": [
      "\n"
     ]
    },
    {
     "data": {
      "image/png": "[encoded data removed]",
      "text/plain": [
       "<Figure size 720x720 with 2 Axes>"
      ]
     },
     "metadata": {
      "needs_background": "light"
     },
     "output_type": "display_data"
    },
    {
     "data": {
      "image/png": "[encoded data removed]",
      "text/plain": [
       "<Figure size 1080x720 with 1 Axes>"
      ]
     },
     "metadata": {
      "needs_background": "light"
     },
     "output_type": "display_data"
    },
    {
     "name": "stdout",
     "output_type": "stream",
     "text": [
      "Training Loss before/after: 1.4465551116857035e-05, 3.3667076903598746e-07\n",
      "Validation Loss before/after: 2.76900346166101e-05, 7.274374466164616e-07\n",
      "Final loss: 3.3667076903598746e-07\t\tTime taken: 74.98930859565735\n",
      "Model saved at model_data\\TimbreVAE_Expts_nmels256_nfft2048\\TimbreVAE_FinalCreationtanh_lr0.001_n_epochs10000_n_mfcc24_n_hid22_n_timb10_7.274207202771186e-07.pt\n"
     ]
    },
    {
     "data": {
      "application/vnd.jupyter.widget-view+json": {
       "model_id": "9a20026f91d544b5917729a1347867d9",
       "version_major": 2,
       "version_minor": 0
      },
      "text/plain": [
       "HBox(children=(FloatProgress(value=0.0, description='n_mfcc40,n_hid36,n_timb10', max=10000.0, style=ProgressSt…"
      ]
     },
     "metadata": {},
     "output_type": "display_data"
    },
    {
     "name": "stdout",
     "output_type": "stream",
     "text": [
      "\n"
     ]
    },
    {
     "data": {
      "image/png": "[encoded data removed]",
      "text/plain": [
       "<Figure size 720x720 with 2 Axes>"
      ]
     },
     "metadata": {
      "needs_background": "light"
     },
     "output_type": "display_data"
    },
    {
     "data": {
      "image/png": "[encoded data removed]",
      "text/plain": [
       "<Figure size 1080x720 with 1 Axes>"
      ]
     },
     "metadata": {
      "needs_background": "light"
     },
     "output_type": "display_data"
    },
    {
     "name": "stdout",
     "output_type": "stream",
     "text": [
      "Training Loss before/after: 1.4760775020581553e-05, 5.325409697486495e-07\n",
      "Validation Loss before/after: 2.824025089456432e-05, 1.1545675204552968e-06\n",
      "Final loss: 5.325409697486495e-07\t\tTime taken: 78.31953144073486\n",
      "Model saved at model_data\\TimbreVAE_Expts_nmels256_nfft2048\\TimbreVAE_FinalCreationtanh_lr0.001_n_epochs10000_n_mfcc40_n_hid36_n_timb10_1.1545755490981813e-06.pt\n"
     ]
    },
    {
     "data": {
      "image/png": "[encoded data removed]",
      "text/plain": [
       "<Figure size 720x720 with 2 Axes>"
      ]
     },
     "metadata": {
      "needs_background": "light"
     },
     "output_type": "display_data"
    }
   ],
   "source": [
    "n_mels = 256\n",
    "n_ffts = 2048\n",
    "\n",
    "# # # # # # # # # # # # # # # # # # # # # # # # # #\n",
    "# Data that is constant throughout the entire run #\n",
    "# # # # # # # # # # # # # # # # # # # # # # # # # #\n",
    "\n",
    "# File reference lists\n",
    "data_ref_list = create_data_ref_list(os.path.join(\"Data\", 'dataset_files.csv'),\n",
    "                            n_pitches, n_vowels, n_people)\n",
    "# flat_data_ref_list[flat_ref_idx(vowel, pitch, person)]\n",
    "flat_data_ref_list = flatten_3d_array(data_ref_list, \n",
    "                                      n_vowels, n_pitches, n_people)\n",
    "# File reference list accessors\n",
    "# Returns a flat_ref_idx, given a vowel, pitch, person\n",
    "flat_ref_idx = lambda vowel, pitch, person: flat_3d_array_idx(\n",
    "    vowel, pitch, person, n_vowels, n_pitches, n_people)\n",
    "# Returns vowel, pitch, person, given a flat_ref_idx\n",
    "nd_ref_idx = lambda idx: nd_array_idx(idx, n_vowels, n_pitches, n_people)\n",
    "\n",
    "# wav, spectrogram, mels, mfcc for each file in flat_data_ref_list\n",
    "# wav_data:     (576, ~29400)  (n_wavs, n_samples)\n",
    "# spectrograms: (576, 513, 58) (n_wavs, n_freq_bins, n_windows)\n",
    "all_wav_data = load_wav_files(os.path.join(\"Data\", \"dataset\"), \n",
    "                              flat_data_ref_list)\n",
    "all_spectrograms = np.array([ stft(waveform, win_length=n_ffts, plot=False) \n",
    "                              for waveform in all_wav_data ])\n",
    "\n",
    "# Define loss \n",
    "loss_fn = nn.MSELoss()\n",
    "\n",
    "# # # # # # # # # # # # # # # # # # # \n",
    "# Data that is constant per n_mfcc  #\n",
    "# # # # # # # # # # # # # # # # # # # \n",
    "\n",
    "def create_data_for_mfcc(n_mfcc):\n",
    "    # mels:         (576, 128, 58) (n_wavs, n_mels, n_windows)\n",
    "    # mfccs:        (576, 20, 58)  (n_wavs, n_mfcc, n_windows)\n",
    "    all_mels, all_mfcc = map(np.array, map(list, zip(*\n",
    "                             [ ffts_to_mel(ffts, n_mels = n_mels, n_mfcc = n_mfcc) \n",
    "                               for ffts in all_spectrograms ])))\n",
    "    n_files, n_mfcc_dummy, n_windows = all_mfcc.shape\n",
    "\n",
    "    # Returns a flat 2d idx, given a wavfile index and a window index\n",
    "    flat_data_idx = lambda wav_idx, win_idx: flat_2d_array_idx(\n",
    "        wav_idx, win_idx, n_files, n_windows)\n",
    "\n",
    "    # data:   (33408, 20) (n_wavs * n_windows, n_mfcc)\n",
    "    data_prenorm = np.array([ all_mfcc[wav_file_idx][:, window_idx] \n",
    "                              for wav_file_idx in range(n_files) \n",
    "                              for window_idx in range(n_windows) ])\n",
    "\n",
    "    # Globally normalize to [-1, 1]\n",
    "    # log(-n) is nan, so we put things on a log scale from absolute values, and\n",
    "    # mutliply the sign back.\n",
    "    signs = np.sign(data_prenorm)\n",
    "    data_logged = np.log(np.abs(data_prenorm))\n",
    "    max_mfcc = np.max(np.abs(data_logged))\n",
    "    data = data_logged / max_mfcc\n",
    "    \n",
    "    # X_train: (22272, 20)\n",
    "    # X_val: (11136, 20)\n",
    "    X_train = []; X_val = [];\n",
    "    for vow_idx in range(n_vowels):\n",
    "        for pit_idx in range(n_pitches):\n",
    "            # Choose the person for this pitch/vowel to be used as test data\n",
    "            test_pid = int(np.random.rand() * 3)\n",
    "            for pid_idx in range(n_people):\n",
    "                wav_idx = flat_ref_idx(vow_idx, pit_idx, pid_idx)\n",
    "                if (pid_idx != test_pid):\n",
    "                    for win_idx in range(n_windows):\n",
    "                        X_train.append(data[flat_data_idx(wav_idx, win_idx)])\n",
    "                else:\n",
    "                    for win_idx in range(n_windows):\n",
    "                        X_val.append(data[flat_data_idx(wav_idx, win_idx)])\n",
    "    X_train, X_val = map(torch.tensor, (X_train, X_val))\n",
    "    # Default tensor is float\n",
    "    X_train = X_train.float(); X_val = X_val.float()\n",
    "    \n",
    "    return data, data_prenorm, max_mfcc, signs, flat_data_idx, X_train, X_val\n",
    "\n",
    "# # # # # # # # # # # # # #\n",
    "# Actual experiment loop  #\n",
    "# # # # # # # # # # # # # # \n",
    "\n",
    "# Results: \n",
    "# Indices: [ [ n_mfcc, n_hid, n_timb ], [ ... ], ... ]\n",
    "# Losses: [ loss1, loss2, ... ]\n",
    "indices = []; train_losses = []; val_losses = [];\n",
    "\n",
    "cands = [ [12, 10, 6],  [24, 22, 10], [40, 36, 10] ]\n",
    "\n",
    "f = open(os.path.join(\"model_data\", \"TimbreVAE_Expts_nmels256_nfft2048\", \"FinalCreation.txt\"), \"w\")\n",
    "for cand in cands:\n",
    "    n_mfcc, n_hid, n_timb = cand\n",
    "    data, data_prenorm, max_mfcc, signs, flat_data_idx, X_train, X_val = create_data_for_mfcc(n_mfcc)\n",
    "    lr = 1e-3; n_epochs = 10000; batch_size=22272\n",
    "\n",
    "    # Training model \n",
    "    model = TimbreVAE(n_mfcc=n_mfcc, n_hid=n_hid, n_timb=n_timb)\n",
    "\n",
    "    # Use GPU if possible (will run on CPU otherwise)\n",
    "    device = torch.device(\"cuda\") if torch.cuda.is_available() else torch.device(\"cpu\")\n",
    "\n",
    "    # Move inputs to GPU (if possible)\n",
    "    X_train = X_train.to(device)\n",
    "    X_val = X_val.to(device)\n",
    "\n",
    "    # Move the network to GPU (if possible)\n",
    "    model.to(device) \n",
    "    # Define optimizer \n",
    "    # opt = optim.SGD(model.parameters(), lr=lr)\n",
    "    opt = optim.Adam(model.parameters(), lr=lr)\n",
    "\n",
    "    # Fit the model\n",
    "    tic = time.time()\n",
    "    train_loss, val_loss = model.train_func(X_train, X_val, model, opt, loss_fn, batch_size=batch_size,\n",
    "                            epochs=n_epochs, print_graph = True, desc=\"n_mfcc{},n_hid{},n_timb{}\".format(n_mfcc, n_hid, n_timb))\n",
    "    toc = time.time()\n",
    "    print('Final loss: {}\\t\\tTime taken: {}'.format(train_loss, toc - tic))\n",
    "    model_path = os.path.join(\"model_data\", \"TimbreVAE_Expts_nmels256_nfft2048\", \n",
    "                              \"TimbreVAE_FinalCreationtanh_lr{}_n_epochs{}_n_mfcc{}_n_hid{}_n_timb{}_{}.pt\"\n",
    "                              .format(lr, n_epochs, n_mfcc, n_hid, n_timb, val_loss))\n",
    "    torch.save(model.state_dict(), model_path)\n",
    "    print(\"Model saved at {}\".format(model_path))\n",
    "\n",
    "    indices.append([n_mfcc, n_hid, n_timb]); train_losses.append(train_loss); val_losses.append(val_loss)\n",
    "\n",
    "    # Create the validation printout and graph\n",
    "    data_tensor = torch.tensor(data)\n",
    "    data_tensor = data_tensor.float();\n",
    "    data_tensor = data_tensor.to(device)\n",
    "\n",
    "    wav_idx = flat_ref_idx(5, 5, 1)\n",
    "    data_idx = flat_data_idx(wav_idx, 30)\n",
    "    label = data_tensor[data_idx]\n",
    "    pred, _, _ = model(data_tensor)\n",
    "\n",
    "    # To restore:\n",
    "    restored_pred = signs * np.e ** (pred.cpu().detach().numpy() * max_mfcc)\n",
    "\n",
    "    # Visualize MFCCs\n",
    "    fig, ax = plt.subplots(2, 1, figsize=(10, 10))\n",
    "    fig.suptitle(\"TimbreVAE FinalCreation tanh lr{} n_epochs{} n_mfcc{} n_hid{} n_timb{} loss{}\"\n",
    "                 .format(lr, n_epochs, n_mfcc, n_hid, n_timb, val_loss))\n",
    "    # plt.figure()\n",
    "    ax[0].plot(data_prenorm[data_idx])\n",
    "    ax[0].plot(restored_pred[data_idx])\n",
    "    # fig, ax = plt.subplots(2, 1)\n",
    "    # plt.figure()\n",
    "    ax[1].plot(data[data_idx])\n",
    "    ax[1].plot(pred.cpu().detach().numpy()[data_idx])\n",
    "    fig.savefig(os.path.join(\"model_data\", \"TimbreVAE_Expts_nmels256_nfft2048\", \n",
    "        \"TimbreVAE_FinalCreationtanh_lr{}_n_epochs{}_n_mfcc{}_n_hid{}_n_timb{}_{}.jpg\"\n",
    "                .format(lr, n_epochs, n_mfcc, n_hid, n_timb, val_loss)))\n",
    "\n",
    "    # Numeric verification\n",
    "    np.set_printoptions(suppress=True)\n",
    "    f.write(\"TimbreVAE_FinalCreationtanh lr{} n_epochs{} n_mfcc{} n_hid{} n_timb{} loss{}\"\n",
    "            .format(lr, n_epochs, n_mfcc, n_hid, n_timb, val_loss))\n",
    "\n",
    "    f.write(str(data_prenorm[data_idx]))\n",
    "    f.write(str(restored_pred[data_idx]))\n",
    "    f.write(str(data[data_idx]))\n",
    "    f.write(str(pred.cpu().detach().numpy()[data_idx]))\n",
    "f.close()\n",
    "\n"
   ]
  },
  {
   "cell_type": "code",
   "execution_count": 48,
   "metadata": {},
   "outputs": [
    {
     "name": "stdout",
     "output_type": "stream",
     "text": [
      "1\n",
      "0 [12, 10, 8] 2.2488103272264888e-07\n",
      "1 [12, 10, 6] 1.1263185732023812e-06\n",
      "2 [12, 10, 4] 1.7029106156665017e-06\n",
      "3 [12, 8, 6] 1.1723956237707673e-06\n",
      "4 [12, 8, 4] 2.330470490322887e-06\n",
      "5 [12, 6, 4] 2.383953796688938e-06\n",
      "6 [24, 22, 10] 1.407030537649561e-06\n",
      "7 [40, 38, 10] 2.308088473857905e-06\n"
     ]
    }
   ],
   "source": [
    "print(np.argmin(val_losses[1:8])+1)\n",
    "for i in range(len(val_losses)):\n",
    "    print(i, indices[i], val_losses[i])"
   ]
  },
  {
   "cell_type": "code",
   "execution_count": null,
   "metadata": {},
   "outputs": [],
   "source": []
  }
 ],
 "metadata": {
  "kernelspec": {
   "display_name": "Python 3",
   "language": "python",
   "name": "python3"
  },
  "language_info": {
   "codemirror_mode": {
    "name": "ipython",
    "version": 3
   },
   "file_extension": ".py",
   "mimetype": "text/x-python",
   "name": "python",
   "nbconvert_exporter": "python",
   "pygments_lexer": "ipython3",
   "version": "3.8.2"
  }
 },
 "nbformat": 4,
 "nbformat_minor": 4
}
