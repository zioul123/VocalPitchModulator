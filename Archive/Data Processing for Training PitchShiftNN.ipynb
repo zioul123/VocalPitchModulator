{
 "cells": [
  {
   "cell_type": "markdown",
   "metadata": {},
   "source": [
    "# Data Processing for PitchShiftNN\n",
    "How to process training and testing data for PitchShiftNN.\n",
    "\n",
    "## Global variables/Imports\n",
    "Run these cells before running either of the following sections."
   ]
  },
  {
   "cell_type": "code",
   "execution_count": 2,
   "metadata": {},
   "outputs": [],
   "source": [
    "%load_ext autoreload\n",
    "%autoreload 1\n",
    "\n",
    "import os\n",
    "import csv\n",
    "\n",
    "import scipy.io as sio\n",
    "from scipy.io import wavfile\n",
    "from scipy.io.wavfile import write\n",
    "\n",
    "import numpy as np\n",
    "import matplotlib.pyplot as plt\n",
    "from matplotlib.pyplot import subplots\n",
    "\n",
    "%aimport VPM\n",
    "from VPM import *\n",
    "%aimport Utils\n",
    "from Utils import *"
   ]
  },
  {
   "cell_type": "code",
   "execution_count": 3,
   "metadata": {},
   "outputs": [],
   "source": [
    "# Constants that should not change without the dataset being changed\n",
    "n_pitches = 16\n",
    "n_vowels = 12\n",
    "n_people = 3\n",
    "\n",
    "# These dictionaries are more for reference than anything\n",
    "label_to_vowel = { 0: \"bed\",  1: \"bird\",   2: \"boat\",  3: \"book\", \n",
    "                   4: \"cat\",  5: \"dog\",    6: \"feet\",  7: \"law\",  \n",
    "                   8: \"moo\",  9: \"nut\",   10: \"pig\",  11: \"say\" }\n",
    "\n",
    "vowel_to_label = { \"bed\": 0,  \"bird\": 1,  \"boat\":  2, \"book\":  3,\n",
    "                   \"cat\": 4,  \"dog\":  5,  \"feet\":  6, \"law\":   7,\n",
    "                   \"moo\": 8,  \"nut\":  9,  \"pig\":  10, \"say\":  11}\n",
    "\n",
    "noteidx_to_pitch = {  0: \"A2\",   1: \"Bb2\",  2: \"B2\",   3: \"C3\",\n",
    "                      4: \"Db3\",  5: \"D3\",   6: \"Eb3\",  7: \"E3\", \n",
    "                      8: \"F3\",   9: \"Gb3\", 10: \"G3\",  11: \"Ab3\",\n",
    "                     12: \"A3\",  13: \"Bb3\", 14: \"B3\",  15: \"C4\" }"
   ]
  },
  {
   "cell_type": "markdown",
   "metadata": {},
   "source": [
    "### Getting data references\n",
    "Read the reference csv to relevant data structure.\n",
    "\n",
    "`data_ref_list` is the list of filenames in the dataset in a 3d array format.\n",
    "A specific file is accessed with `data_ref_list[vowel_idx][pitch_idx][person_idx]`.\n",
    "\n",
    "`flat_data_ref_list` is the list of filenames in the dataset as a 1d array. To access a specific file, use `flat_data_ref_list[flat_ref_idx(vowel, pitch, person)]`"
   ]
  },
  {
   "cell_type": "code",
   "execution_count": 4,
   "metadata": {
    "scrolled": true
   },
   "outputs": [],
   "source": [
    "# e.g. data_list[vowel_to_label[\"dog\"]][5][1]\n",
    "data_ref_list = create_data_ref_list(os.path.join(\"Data\", 'dataset_files.csv'),\n",
    "                                     n_pitches, n_vowels, n_people)\n",
    "\n",
    "# e.g. flat_data_ref_list[flat_ref_idx(3, 1, 2)]\n",
    "flat_data_ref_list = flatten_3d_array(data_ref_list, \n",
    "                                      n_vowels, n_pitches, n_people)"
   ]
  },
  {
   "cell_type": "markdown",
   "metadata": {},
   "source": [
    "The following are the accessor functions used to compute indices from flat to 3d and vice versa.\n",
    "\n",
    "`flat_ref_idx` returns a `flat_ref_idx`, given a `(vowel, pitch, person)`, while `nd_ref_idx` returns `vowel, pitch, person`, given a `flat_ref_idx`."
   ]
  },
  {
   "cell_type": "code",
   "execution_count": 5,
   "metadata": {},
   "outputs": [],
   "source": [
    "# Returns a flat_ref_idx, given a vowel, pitch, person\n",
    "flat_ref_idx = lambda vowel, pitch, person: flat_3d_array_idx(\n",
    "    vowel, pitch, person, n_vowels, n_pitches, n_people)\n",
    "\n",
    "# Returns vowel, pitch, person, given a flat_ref_idx\n",
    "nd_ref_idx = lambda idx: nd_array_idx(idx, n_vowels, n_pitches, n_people)"
   ]
  },
  {
   "cell_type": "code",
   "execution_count": 6,
   "metadata": {
    "scrolled": true
   },
   "outputs": [
    {
     "name": "stdout",
     "output_type": "stream",
     "text": [
      "Data ref list (576): ['0_0-bed_0-A2.wav', '2_0-bed_0-A2.wav', '3_0-bed_0-A2.wav', '0_0-bed_1-Bb2.wav', '2_0-bed_1-Bb2.wav', '3_0-bed_1-Bb2.wav', '0_0-bed_2-B2.wav', '2_0-bed_2-B2.wav', '3_0-bed_2-B2.wav', '0_0-bed_3-C3.wav', '2_0-bed_3-C3.wav', '3_0-bed_3-C3.wav', '0_0-bed_4-Db3.wav', '2_0-bed_4-Db3.wav', '3_0-bed_4-Db3.wav', '0_0-bed_5-D3.wav', '2_0-bed_5-D3.wav', '3_0-bed_5-D3.wav', '0_0-bed_6-Eb3.wav', '2_0-bed_6-Eb3.wav', '3_0-bed_6-Eb3.wav', '0_0-bed_7-E3.wav', '2_0-bed_7-E3.wav', '3_0-bed_7-E3.wav', '0_0-bed_8-F3.wav', '2_0-bed_8-F3.wav', '3_0-bed_8-F3.wav', '0_0-bed_9-Gb3.wav', '2_0-bed_9-Gb3.wav', '3_0-bed_9-Gb3.wav', '0_0-bed_10-G3.wav', '2_0-bed_10-G3.wav', '3_0-bed_10-G3.wav', '0_0-bed_11-Ab3.wav', '2_0-bed_11-Ab3.wav', '3_0-bed_11-Ab3.wav', '0_0-bed_12-A3.wav', '2_0-bed_12-A3.wav', '3_0-bed_12-A3.wav', '0_0-bed_13-Bb3.wav', '2_0-bed_13-Bb3.wav', '3_0-bed_13-Bb3.wav', '0_0-bed_14-B3.wav', '2_0-bed_14-B3.wav', '3_0-bed_14-B3.wav', '0_0-bed_15-C4.wav', '2_0-bed_15-C4.wav', '3_0-bed_15-C4.wav', '0_1-bird_0-A2.wav', '2_1-bird_0-A2.wav', '3_1-bird_0-A2.wav', '0_1-bird_1-Bb2.wav', '2_1-bird_1-Bb2.wav', '3_1-bird_1-Bb2.wav', '0_1-bird_2-B2.wav', '2_1-bird_2-B2.wav', '3_1-bird_2-B2.wav', '0_1-bird_3-C3.wav', '2_1-bird_3-C3.wav', '3_1-bird_3-C3.wav', '0_1-bird_4-Db3.wav', '2_1-bird_4-Db3.wav', '3_1-bird_4-Db3.wav', '0_1-bird_5-D3.wav', '2_1-bird_5-D3.wav', '3_1-bird_5-D3.wav', '0_1-bird_6-Eb3.wav', '2_1-bird_6-Eb3.wav', '3_1-bird_6-Eb3.wav', '0_1-bird_7-E3.wav', '2_1-bird_7-E3.wav', '3_1-bird_7-E3.wav', '0_1-bird_8-F3.wav', '2_1-bird_8-F3.wav', '3_1-bird_8-F3.wav', '0_1-bird_9-Gb3.wav', '2_1-bird_9-Gb3.wav', '3_1-bird_9-Gb3.wav', '0_1-bird_10-G3.wav', '2_1-bird_10-G3.wav', '3_1-bird_10-G3.wav', '0_1-bird_11-Ab3.wav', '2_1-bird_11-Ab3.wav', '3_1-bird_11-Ab3.wav', '0_1-bird_12-A3.wav', '2_1-bird_12-A3.wav', '3_1-bird_12-A3.wav', '0_1-bird_13-Bb3.wav', '2_1-bird_13-Bb3.wav', '3_1-bird_13-Bb3.wav', '0_1-bird_14-B3.wav', '2_1-bird_14-B3.wav', '3_1-bird_14-B3.wav', '0_1-bird_15-C4.wav', '2_1-bird_15-C4.wav', '3_1-bird_15-C4.wav', '0_2-boat_0-A2.wav', '2_2-boat_0-A2.wav', '3_2-boat_0-A2.wav', '0_2-boat_1-Bb2.wav', '2_2-boat_1-Bb2.wav', '3_2-boat_1-Bb2.wav', '0_2-boat_2-B2.wav', '2_2-boat_2-B2.wav', '3_2-boat_2-B2.wav', '0_2-boat_3-C3.wav', '2_2-boat_3-C3.wav', '3_2-boat_3-C3.wav', '0_2-boat_4-Db3.wav', '2_2-boat_4-Db3.wav', '3_2-boat_4-Db3.wav', '0_2-boat_5-D3.wav', '2_2-boat_5-D3.wav', '3_2-boat_5-D3.wav', '0_2-boat_6-Eb3.wav', '2_2-boat_6-Eb3.wav', '3_2-boat_6-Eb3.wav', '0_2-boat_7-E3.wav', '2_2-boat_7-E3.wav', '3_2-boat_7-E3.wav', '0_2-boat_8-F3.wav', '2_2-boat_8-F3.wav', '3_2-boat_8-F3.wav', '0_2-boat_9-Gb3.wav', '2_2-boat_9-Gb3.wav', '3_2-boat_9-Gb3.wav', '0_2-boat_10-G3.wav', '2_2-boat_10-G3.wav', '3_2-boat_10-G3.wav', '0_2-boat_11-Ab3.wav', '2_2-boat_11-Ab3.wav', '3_2-boat_11-Ab3.wav', '0_2-boat_12-A3.wav', '2_2-boat_12-A3.wav', '3_2-boat_12-A3.wav', '0_2-boat_13-Bb3.wav', '2_2-boat_13-Bb3.wav', '3_2-boat_13-Bb3.wav', '0_2-boat_14-B3.wav', '2_2-boat_14-B3.wav', '3_2-boat_14-B3.wav', '0_2-boat_15-C4.wav', '2_2-boat_15-C4.wav', '3_2-boat_15-C4.wav', '0_3-book_0-A2.wav', '2_3-book_0-A2.wav', '3_3-book_0-A2.wav', '0_3-book_1-Bb2.wav', '2_3-book_1-Bb2.wav', '3_3-book_1-Bb2.wav', '0_3-book_2-B2.wav', '2_3-book_2-B2.wav', '3_3-book_2-B2.wav', '0_3-book_3-C3.wav', '2_3-book_3-C3.wav', '3_3-book_3-C3.wav', '0_3-book_4-Db3.wav', '2_3-book_4-Db3.wav', '3_3-book_4-Db3.wav', '0_3-book_5-D3.wav', '2_3-book_5-D3.wav', '3_3-book_5-D3.wav', '0_3-book_6-Eb3.wav', '2_3-book_6-Eb3.wav', '3_3-book_6-Eb3.wav', '0_3-book_7-E3.wav', '2_3-book_7-E3.wav', '3_3-book_7-E3.wav', '0_3-book_8-F3.wav', '2_3-book_8-F3.wav', '3_3-book_8-F3.wav', '0_3-book_9-Gb3.wav', '2_3-book_9-Gb3.wav', '3_3-book_9-Gb3.wav', '0_3-book_10-G3.wav', '2_3-book_10-G3.wav', '3_3-book_10-G3.wav', '0_3-book_11-Ab3.wav', '2_3-book_11-Ab3.wav', '3_3-book_11-Ab3.wav', '0_3-book_12-A3.wav', '2_3-book_12-A3.wav', '3_3-book_12-A3.wav', '0_3-book_13-Bb3.wav', '2_3-book_13-Bb3.wav', '3_3-book_13-Bb3.wav', '0_3-book_14-B3.wav', '2_3-book_14-B3.wav', '3_3-book_14-B3.wav', '0_3-book_15-C4.wav', '2_3-book_15-C4.wav', '3_3-book_15-C4.wav', '0_4-cat_0-A2.wav', '2_4-cat_0-A2.wav', '3_4-cat_0-A2.wav', '0_4-cat_1-Bb2.wav', '2_4-cat_1-Bb2.wav', '3_4-cat_1-Bb2.wav', '0_4-cat_2-B2.wav', '2_4-cat_2-B2.wav', '3_4-cat_2-B2.wav', '0_4-cat_3-C3.wav', '2_4-cat_3-C3.wav', '3_4-cat_3-C3.wav', '0_4-cat_4-Db3.wav', '2_4-cat_4-Db3.wav', '3_4-cat_4-Db3.wav', '0_4-cat_5-D3.wav', '2_4-cat_5-D3.wav', '3_4-cat_5-D3.wav', '0_4-cat_6-Eb3.wav', '2_4-cat_6-Eb3.wav', '3_4-cat_6-Eb3.wav', '0_4-cat_7-E3.wav', '2_4-cat_7-E3.wav', '3_4-cat_7-E3.wav', '0_4-cat_8-F3.wav', '2_4-cat_8-F3.wav', '3_4-cat_8-F3.wav', '0_4-cat_9-Gb3.wav', '2_4-cat_9-Gb3.wav', '3_4-cat_9-Gb3.wav', '0_4-cat_10-G3.wav', '2_4-cat_10-G3.wav', '3_4-cat_10-G3.wav', '0_4-cat_11-Ab3.wav', '2_4-cat_11-Ab3.wav', '3_4-cat_11-Ab3.wav', '0_4-cat_12-A3.wav', '2_4-cat_12-A3.wav', '3_4-cat_12-A3.wav', '0_4-cat_13-Bb3.wav', '2_4-cat_13-Bb3.wav', '3_4-cat_13-Bb3.wav', '0_4-cat_14-B3.wav', '2_4-cat_14-B3.wav', '3_4-cat_14-B3.wav', '0_4-cat_15-C4.wav', '2_4-cat_15-C4.wav', '3_4-cat_15-C4.wav', '0_5-dog_0-A2.wav', '2_5-dog_0-A2.wav', '3_5-dog_0-A2.wav', '0_5-dog_1-Bb2.wav', '2_5-dog_1-Bb2.wav', '3_5-dog_1-Bb2.wav', '0_5-dog_2-B2.wav', '2_5-dog_2-B2.wav', '3_5-dog_2-B2.wav', '0_5-dog_3-C3.wav', '2_5-dog_3-C3.wav', '3_5-dog_3-C3.wav', '0_5-dog_4-Db3.wav', '2_5-dog_4-Db3.wav', '3_5-dog_4-Db3.wav', '0_5-dog_5-D3.wav', '2_5-dog_5-D3.wav', '3_5-dog_5-D3.wav', '0_5-dog_6-Eb3.wav', '2_5-dog_6-Eb3.wav', '3_5-dog_6-Eb3.wav', '0_5-dog_7-E3.wav', '2_5-dog_7-E3.wav', '3_5-dog_7-E3.wav', '0_5-dog_8-F3.wav', '2_5-dog_8-F3.wav', '3_5-dog_8-F3.wav', '0_5-dog_9-Gb3.wav', '2_5-dog_9-Gb3.wav', '3_5-dog_9-Gb3.wav', '0_5-dog_10-G3.wav', '2_5-dog_10-G3.wav', '3_5-dog_10-G3.wav', '0_5-dog_11-Ab3.wav', '2_5-dog_11-Ab3.wav', '3_5-dog_11-Ab3.wav', '0_5-dog_12-A3.wav', '2_5-dog_12-A3.wav', '3_5-dog_12-A3.wav', '0_5-dog_13-Bb3.wav', '2_5-dog_13-Bb3.wav', '3_5-dog_13-Bb3.wav', '0_5-dog_14-B3.wav', '2_5-dog_14-B3.wav', '3_5-dog_14-B3.wav', '0_5-dog_15-C4.wav', '2_5-dog_15-C4.wav', '3_5-dog_15-C4.wav', '0_6-feet_0-A2.wav', '2_6-feet_0-A2.wav', '3_6-feet_0-A2.wav', '0_6-feet_1-Bb2.wav', '2_6-feet_1-Bb2.wav', '3_6-feet_1-Bb2.wav', '0_6-feet_2-B2.wav', '2_6-feet_2-B2.wav', '3_6-feet_2-B2.wav', '0_6-feet_3-C3.wav', '2_6-feet_3-C3.wav', '3_6-feet_3-C3.wav', '0_6-feet_4-Db3.wav', '2_6-feet_4-Db3.wav', '3_6-feet_4-Db3.wav', '0_6-feet_5-D3.wav', '2_6-feet_5-D3.wav', '3_6-feet_5-D3.wav', '0_6-feet_6-Eb3.wav', '2_6-feet_6-Eb3.wav', '3_6-feet_6-Eb3.wav', '0_6-feet_7-E3.wav', '2_6-feet_7-E3.wav', '3_6-feet_7-E3.wav', '0_6-feet_8-F3.wav', '2_6-feet_8-F3.wav', '3_6-feet_8-F3.wav', '0_6-feet_9-Gb3.wav', '2_6-feet_9-Gb3.wav', '3_6-feet_9-Gb3.wav', '0_6-feet_10-G3.wav', '2_6-feet_10-G3.wav', '3_6-feet_10-G3.wav', '0_6-feet_11-Ab3.wav', '2_6-feet_11-Ab3.wav', '3_6-feet_11-Ab3.wav', '0_6-feet_12-A3.wav', '2_6-feet_12-A3.wav', '3_6-feet_12-A3.wav', '0_6-feet_13-Bb3.wav', '2_6-feet_13-Bb3.wav', '3_6-feet_13-Bb3.wav', '0_6-feet_14-B3.wav', '2_6-feet_14-B3.wav', '3_6-feet_14-B3.wav', '0_6-feet_15-C4.wav', '2_6-feet_15-C4.wav', '3_6-feet_15-C4.wav', '0_7-law_0-A2.wav', '2_7-law_0-A2.wav', '3_7-law_0-A2.wav', '0_7-law_1-Bb2.wav', '2_7-law_1-Bb2.wav', '3_7-law_1-Bb2.wav', '0_7-law_2-B2.wav', '2_7-law_2-B2.wav', '3_7-law_2-B2.wav', '0_7-law_3-C3.wav', '2_7-law_3-C3.wav', '3_7-law_3-C3.wav', '0_7-law_4-Db3.wav', '2_7-law_4-Db3.wav', '3_7-law_4-Db3.wav', '0_7-law_5-D3.wav', '2_7-law_5-D3.wav', '3_7-law_5-D3.wav', '0_7-law_6-Eb3.wav', '2_7-law_6-Eb3.wav', '3_7-law_6-Eb3.wav', '0_7-law_7-E3.wav', '2_7-law_7-E3.wav', '3_7-law_7-E3.wav', '0_7-law_8-F3.wav', '2_7-law_8-F3.wav', '3_7-law_8-F3.wav', '0_7-law_9-Gb3.wav', '2_7-law_9-Gb3.wav', '3_7-law_9-Gb3.wav', '0_7-law_10-G3.wav', '2_7-law_10-G3.wav', '3_7-law_10-G3.wav', '0_7-law_11-Ab3.wav', '2_7-law_11-Ab3.wav', '3_7-law_11-Ab3.wav', '0_7-law_12-A3.wav', '2_7-law_12-A3.wav', '3_7-law_12-A3.wav', '0_7-law_13-Bb3.wav', '2_7-law_13-Bb3.wav', '3_7-law_13-Bb3.wav', '0_7-law_14-B3.wav', '2_7-law_14-B3.wav', '3_7-law_14-B3.wav', '0_7-law_15-C4.wav', '2_7-law_15-C4.wav', '3_7-law_15-C4.wav', '0_8-moo_0-A2.wav', '2_8-moo_0-A2.wav', '3_8-moo_0-A2.wav', '0_8-moo_1-Bb2.wav', '2_8-moo_1-Bb2.wav', '3_8-moo_1-Bb2.wav', '0_8-moo_2-B2.wav', '2_8-moo_2-B2.wav', '3_8-moo_2-B2.wav', '0_8-moo_3-C3.wav', '2_8-moo_3-C3.wav', '3_8-moo_3-C3.wav', '0_8-moo_4-Db3.wav', '2_8-moo_4-Db3.wav', '3_8-moo_4-Db3.wav', '0_8-moo_5-D3.wav', '2_8-moo_5-D3.wav', '3_8-moo_5-D3.wav', '0_8-moo_6-Eb3.wav', '2_8-moo_6-Eb3.wav', '3_8-moo_6-Eb3.wav', '0_8-moo_7-E3.wav', '2_8-moo_7-E3.wav', '3_8-moo_7-E3.wav', '0_8-moo_8-F3.wav', '2_8-moo_8-F3.wav', '3_8-moo_8-F3.wav', '0_8-moo_9-Gb3.wav', '2_8-moo_9-Gb3.wav', '3_8-moo_9-Gb3.wav', '0_8-moo_10-G3.wav', '2_8-moo_10-G3.wav', '3_8-moo_10-G3.wav', '0_8-moo_11-Ab3.wav', '2_8-moo_11-Ab3.wav', '3_8-moo_11-Ab3.wav', '0_8-moo_12-A3.wav', '2_8-moo_12-A3.wav', '3_8-moo_12-A3.wav', '0_8-moo_13-Bb3.wav', '2_8-moo_13-Bb3.wav', '3_8-moo_13-Bb3.wav', '0_8-moo_14-B3.wav', '2_8-moo_14-B3.wav', '3_8-moo_14-B3.wav', '0_8-moo_15-C4.wav', '2_8-moo_15-C4.wav', '3_8-moo_15-C4.wav', '0_9-nut_0-A2.wav', '2_9-nut_0-A2.wav', '3_9-nut_0-A2.wav', '0_9-nut_1-Bb2.wav', '2_9-nut_1-Bb2.wav', '3_9-nut_1-Bb2.wav', '0_9-nut_2-B2.wav', '2_9-nut_2-B2.wav', '3_9-nut_2-B2.wav', '0_9-nut_3-C3.wav', '2_9-nut_3-C3.wav', '3_9-nut_3-C3.wav', '0_9-nut_4-Db3.wav', '2_9-nut_4-Db3.wav', '3_9-nut_4-Db3.wav', '0_9-nut_5-D3.wav', '2_9-nut_5-D3.wav', '3_9-nut_5-D3.wav', '0_9-nut_6-Eb3.wav', '2_9-nut_6-Eb3.wav', '3_9-nut_6-Eb3.wav', '0_9-nut_7-E3.wav', '2_9-nut_7-E3.wav', '3_9-nut_7-E3.wav', '0_9-nut_8-F3.wav', '2_9-nut_8-F3.wav', '3_9-nut_8-F3.wav', '0_9-nut_9-Gb3.wav', '2_9-nut_9-Gb3.wav', '3_9-nut_9-Gb3.wav', '0_9-nut_10-G3.wav', '2_9-nut_10-G3.wav', '3_9-nut_10-G3.wav', '0_9-nut_11-Ab3.wav', '2_9-nut_11-Ab3.wav', '3_9-nut_11-Ab3.wav', '0_9-nut_12-A3.wav', '2_9-nut_12-A3.wav', '3_9-nut_12-A3.wav', '0_9-nut_13-Bb3.wav', '2_9-nut_13-Bb3.wav', '3_9-nut_13-Bb3.wav', '0_9-nut_14-B3.wav', '2_9-nut_14-B3.wav', '3_9-nut_14-B3.wav', '0_9-nut_15-C4.wav', '2_9-nut_15-C4.wav', '3_9-nut_15-C4.wav', '0_10-pig_0-A2.wav', '2_10-pig_0-A2.wav', '3_10-pig_0-A2.wav', '0_10-pig_1-Bb2.wav', '2_10-pig_1-Bb2.wav', '3_10-pig_1-Bb2.wav', '0_10-pig_2-B2.wav', '2_10-pig_2-B2.wav', '3_10-pig_2-B2.wav', '0_10-pig_3-C3.wav', '2_10-pig_3-C3.wav', '3_10-pig_3-C3.wav', '0_10-pig_4-Db3.wav', '2_10-pig_4-Db3.wav', '3_10-pig_4-Db3.wav', '0_10-pig_5-D3.wav', '2_10-pig_5-D3.wav', '3_10-pig_5-D3.wav', '0_10-pig_6-Eb3.wav', '2_10-pig_6-Eb3.wav', '3_10-pig_6-Eb3.wav', '0_10-pig_7-E3.wav', '2_10-pig_7-E3.wav', '3_10-pig_7-E3.wav', '0_10-pig_8-F3.wav', '2_10-pig_8-F3.wav', '3_10-pig_8-F3.wav', '0_10-pig_9-Gb3.wav', '2_10-pig_9-Gb3.wav', '3_10-pig_9-Gb3.wav', '0_10-pig_10-G3.wav', '2_10-pig_10-G3.wav', '3_10-pig_10-G3.wav', '0_10-pig_11-Ab3.wav', '2_10-pig_11-Ab3.wav', '3_10-pig_11-Ab3.wav', '0_10-pig_12-A3.wav', '2_10-pig_12-A3.wav', '3_10-pig_12-A3.wav', '0_10-pig_13-Bb3.wav', '2_10-pig_13-Bb3.wav', '3_10-pig_13-Bb3.wav', '0_10-pig_14-B3.wav', '2_10-pig_14-B3.wav', '3_10-pig_14-B3.wav', '0_10-pig_15-C4.wav', '2_10-pig_15-C4.wav', '3_10-pig_15-C4.wav', '0_11-say_0-A2.wav', '2_11-say_0-A2.wav', '3_11-say_0-A2.wav', '0_11-say_1-Bb2.wav', '2_11-say_1-Bb2.wav', '3_11-say_1-Bb2.wav', '0_11-say_2-B2.wav', '2_11-say_2-B2.wav', '3_11-say_2-B2.wav', '0_11-say_3-C3.wav', '2_11-say_3-C3.wav', '3_11-say_3-C3.wav', '0_11-say_4-Db3.wav', '2_11-say_4-Db3.wav', '3_11-say_4-Db3.wav', '0_11-say_5-D3.wav', '2_11-say_5-D3.wav', '3_11-say_5-D3.wav', '0_11-say_6-Eb3.wav', '2_11-say_6-Eb3.wav', '3_11-say_6-Eb3.wav', '0_11-say_7-E3.wav', '2_11-say_7-E3.wav', '3_11-say_7-E3.wav', '0_11-say_8-F3.wav', '2_11-say_8-F3.wav', '3_11-say_8-F3.wav', '0_11-say_9-Gb3.wav', '2_11-say_9-Gb3.wav', '3_11-say_9-Gb3.wav', '0_11-say_10-G3.wav', '2_11-say_10-G3.wav', '3_11-say_10-G3.wav', '0_11-say_11-Ab3.wav', '2_11-say_11-Ab3.wav', '3_11-say_11-Ab3.wav', '0_11-say_12-A3.wav', '2_11-say_12-A3.wav', '3_11-say_12-A3.wav', '0_11-say_13-Bb3.wav', '2_11-say_13-Bb3.wav', '3_11-say_13-Bb3.wav', '0_11-say_14-B3.wav', '2_11-say_14-B3.wav', '3_11-say_14-B3.wav', '0_11-say_15-C4.wav', '2_11-say_15-C4.wav', '3_11-say_15-C4.wav']\n"
     ]
    }
   ],
   "source": [
    "print(\"Data ref list ({}):\".format(len(flat_data_ref_list)), \n",
    "      flat_data_ref_list)"
   ]
  },
  {
   "cell_type": "markdown",
   "metadata": {},
   "source": [
    "### Data-label Pitch Index pairs\n",
    "Generate the data-label pitch index pairs. This is an array where each element is a 3-tuple of `[shift_amt, input_pitch_idx, label_pitch_iIdx]`.\n"
   ]
  },
  {
   "cell_type": "code",
   "execution_count": 7,
   "metadata": {
    "scrolled": true
   },
   "outputs": [],
   "source": [
    "data_label_pairs, data_label_pairs_dict = create_data_label_pairs(n_pitches)"
   ]
  },
  {
   "cell_type": "code",
   "execution_count": 8,
   "metadata": {
    "scrolled": true
   },
   "outputs": [
    {
     "name": "stdout",
     "output_type": "stream",
     "text": [
      "Total data-label pairs (256): [[0, 0, 0], [0, 1, 1], [0, 2, 2], [0, 3, 3], [0, 4, 4], [0, 5, 5], [0, 6, 6], [0, 7, 7], [0, 8, 8], [0, 9, 9], [0, 10, 10], [0, 11, 11], [0, 12, 12], [0, 13, 13], [0, 14, 14], [0, 15, 15], [1, 0, 1], [1, 1, 2], [1, 2, 3], [1, 3, 4], [1, 4, 5], [1, 5, 6], [1, 6, 7], [1, 7, 8], [1, 8, 9], [1, 9, 10], [1, 10, 11], [1, 11, 12], [1, 12, 13], [1, 13, 14], [1, 14, 15], [2, 0, 2], [2, 1, 3], [2, 2, 4], [2, 3, 5], [2, 4, 6], [2, 5, 7], [2, 6, 8], [2, 7, 9], [2, 8, 10], [2, 9, 11], [2, 10, 12], [2, 11, 13], [2, 12, 14], [2, 13, 15], [3, 0, 3], [3, 1, 4], [3, 2, 5], [3, 3, 6], [3, 4, 7], [3, 5, 8], [3, 6, 9], [3, 7, 10], [3, 8, 11], [3, 9, 12], [3, 10, 13], [3, 11, 14], [3, 12, 15], [4, 0, 4], [4, 1, 5], [4, 2, 6], [4, 3, 7], [4, 4, 8], [4, 5, 9], [4, 6, 10], [4, 7, 11], [4, 8, 12], [4, 9, 13], [4, 10, 14], [4, 11, 15], [5, 0, 5], [5, 1, 6], [5, 2, 7], [5, 3, 8], [5, 4, 9], [5, 5, 10], [5, 6, 11], [5, 7, 12], [5, 8, 13], [5, 9, 14], [5, 10, 15], [6, 0, 6], [6, 1, 7], [6, 2, 8], [6, 3, 9], [6, 4, 10], [6, 5, 11], [6, 6, 12], [6, 7, 13], [6, 8, 14], [6, 9, 15], [7, 0, 7], [7, 1, 8], [7, 2, 9], [7, 3, 10], [7, 4, 11], [7, 5, 12], [7, 6, 13], [7, 7, 14], [7, 8, 15], [8, 0, 8], [8, 1, 9], [8, 2, 10], [8, 3, 11], [8, 4, 12], [8, 5, 13], [8, 6, 14], [8, 7, 15], [9, 0, 9], [9, 1, 10], [9, 2, 11], [9, 3, 12], [9, 4, 13], [9, 5, 14], [9, 6, 15], [10, 0, 10], [10, 1, 11], [10, 2, 12], [10, 3, 13], [10, 4, 14], [10, 5, 15], [11, 0, 11], [11, 1, 12], [11, 2, 13], [11, 3, 14], [11, 4, 15], [12, 0, 12], [12, 1, 13], [12, 2, 14], [12, 3, 15], [13, 0, 13], [13, 1, 14], [13, 2, 15], [14, 0, 14], [14, 1, 15], [15, 0, 15], [-15, 15, 0], [-14, 15, 1], [-14, 14, 0], [-13, 15, 2], [-13, 14, 1], [-13, 13, 0], [-12, 15, 3], [-12, 14, 2], [-12, 13, 1], [-12, 12, 0], [-11, 15, 4], [-11, 14, 3], [-11, 13, 2], [-11, 12, 1], [-11, 11, 0], [-10, 15, 5], [-10, 14, 4], [-10, 13, 3], [-10, 12, 2], [-10, 11, 1], [-10, 10, 0], [-9, 15, 6], [-9, 14, 5], [-9, 13, 4], [-9, 12, 3], [-9, 11, 2], [-9, 10, 1], [-9, 9, 0], [-8, 15, 7], [-8, 14, 6], [-8, 13, 5], [-8, 12, 4], [-8, 11, 3], [-8, 10, 2], [-8, 9, 1], [-8, 8, 0], [-7, 15, 8], [-7, 14, 7], [-7, 13, 6], [-7, 12, 5], [-7, 11, 4], [-7, 10, 3], [-7, 9, 2], [-7, 8, 1], [-7, 7, 0], [-6, 15, 9], [-6, 14, 8], [-6, 13, 7], [-6, 12, 6], [-6, 11, 5], [-6, 10, 4], [-6, 9, 3], [-6, 8, 2], [-6, 7, 1], [-6, 6, 0], [-5, 15, 10], [-5, 14, 9], [-5, 13, 8], [-5, 12, 7], [-5, 11, 6], [-5, 10, 5], [-5, 9, 4], [-5, 8, 3], [-5, 7, 2], [-5, 6, 1], [-5, 5, 0], [-4, 15, 11], [-4, 14, 10], [-4, 13, 9], [-4, 12, 8], [-4, 11, 7], [-4, 10, 6], [-4, 9, 5], [-4, 8, 4], [-4, 7, 3], [-4, 6, 2], [-4, 5, 1], [-4, 4, 0], [-3, 15, 12], [-3, 14, 11], [-3, 13, 10], [-3, 12, 9], [-3, 11, 8], [-3, 10, 7], [-3, 9, 6], [-3, 8, 5], [-3, 7, 4], [-3, 6, 3], [-3, 5, 2], [-3, 4, 1], [-3, 3, 0], [-2, 15, 13], [-2, 14, 12], [-2, 13, 11], [-2, 12, 10], [-2, 11, 9], [-2, 10, 8], [-2, 9, 7], [-2, 8, 6], [-2, 7, 5], [-2, 6, 4], [-2, 5, 3], [-2, 4, 2], [-2, 3, 1], [-2, 2, 0], [-1, 15, 14], [-1, 14, 13], [-1, 13, 12], [-1, 12, 11], [-1, 11, 10], [-1, 10, 9], [-1, 9, 8], [-1, 8, 7], [-1, 7, 6], [-1, 6, 5], [-1, 5, 4], [-1, 4, 3], [-1, 3, 2], [-1, 2, 1], [-1, 1, 0]]\n"
     ]
    }
   ],
   "source": [
    "print(\"Total data-label pairs ({}):\".format(len(data_label_pairs)), \n",
    "      data_label_pairs)"
   ]
  },
  {
   "cell_type": "markdown",
   "metadata": {},
   "source": [
    "### Get All .wav Data and STFT Data\n",
    "\n",
    "Get the wav file data into a single matrix, where each element `all_wav_data[idx]` is the wavfile content of the file at `flat_data_ref_list[idx]`.\n",
    "\n",
    "In addition, `all_spectrograms[idx]` is the corresponding STFT for that file. \n",
    "\n",
    "To retrieve the 3d indices of a specific index, use `vowel, pitch, person = nd_ref_idx(idx)`."
   ]
  },
  {
   "cell_type": "code",
   "execution_count": 9,
   "metadata": {},
   "outputs": [],
   "source": [
    "all_wav_data = load_wav_files(os.path.join(\"Data\", \"dataset\"), \n",
    "                              flat_data_ref_list)\n",
    "all_spectrograms = np.array([ stft(waveform, plot=False) for waveform in all_wav_data ])"
   ]
  },
  {
   "cell_type": "code",
   "execution_count": 10,
   "metadata": {},
   "outputs": [
    {
     "name": "stdout",
     "output_type": "stream",
     "text": [
      "All wav data length: (576,)\n",
      "Track length: (29400,)\n",
      "All spectrograms shape: (576, 513, 58)\n",
      "\n"
     ]
    }
   ],
   "source": [
    "print(\"All wav data length: {}\\nTrack length: {}\".format(\n",
    "      all_wav_data.shape, all_wav_data[0].shape))\n",
    "print(\"All spectrograms shape: {}\\n\".format(all_spectrograms.shape))"
   ]
  },
  {
   "cell_type": "markdown",
   "metadata": {},
   "source": [
    "## Create the training/testing datasets"
   ]
  },
  {
   "cell_type": "markdown",
   "metadata": {},
   "source": [
    "### Create `X_train_base, X_val_base, Y_train, Y_val`\n",
    "\n",
    "To generate data for each `shift_amt` in `0,...,15`, one should:\n",
    "\n",
    "(1) Change the `shift_amt` parameter in the next cell, and\n",
    "\n",
    "(2) Rerun the notebook from this step, until the end."
   ]
  },
  {
   "cell_type": "code",
   "execution_count": 13,
   "metadata": {},
   "outputs": [
    {
     "name": "stdout",
     "output_type": "stream",
     "text": [
      "(22272, 513)\n",
      "(22272, 513)\n",
      "(11136, 513)\n",
      "(11136, 513)\n"
     ]
    }
   ],
   "source": [
    "# EDIT THE SHIFT AMOUNT PARAMETER HERE\n",
    "\n",
    "shift_amt = 0\n",
    "pairs = data_label_pairs_dict[shift_amt]\n",
    "\n",
    "# X_train_base, Y_train: (_,513), (_,513)\n",
    "# X_val_base, Y_val:     (_,513), (_,513)\n",
    "\n",
    "X_train_base = []; X_val_base = []; Y_train = []; Y_val = []\n",
    "\n",
    "for vow_idx in range(n_vowels):\n",
    "    for pit_idx in range(n_pitches):\n",
    "        \n",
    "        # If the pair is valid, then proceed.\n",
    "        if [shift_amt, pit_idx, pit_idx + shift_amt] in pairs:\n",
    "        \n",
    "            # Choose the person for this pitch/vowel to be used as test data.\n",
    "            test_pid = int(np.random.rand() * 3)\n",
    "\n",
    "            for pid_idx in range(n_people):\n",
    "                wav_idx = flat_ref_idx(vow_idx, pit_idx, pid_idx)\n",
    "                wav_idx_shifted = flat_ref_idx(vow_idx, pit_idx + shift_amt, pid_idx)\n",
    "\n",
    "                if (pid_idx != test_pid):\n",
    "                    X_train_base.extend(all_spectrograms[wav_idx].T)\n",
    "                    Y_train.extend(all_spectrograms[wav_idx_shifted].T)\n",
    "                else:\n",
    "                    X_val_base.extend(all_spectrograms[wav_idx].T)\n",
    "                    Y_val.extend(all_spectrograms[wav_idx_shifted].T)\n",
    "\n",
    "X_train_base = np.array(X_train_base); Y_train = np.array(Y_train); X_val_base = np.array(X_val_base); Y_val = np.array(Y_val); \n",
    "                    \n",
    "print(X_train_base.shape)\n",
    "print(Y_train.shape)\n",
    "print(X_val_base.shape)\n",
    "print(Y_val.shape)"
   ]
  },
  {
   "cell_type": "markdown",
   "metadata": {},
   "source": [
    "### Pitch shifted `X_train, X_val` using `simple_fft_pitch_shift` (manual)"
   ]
  },
  {
   "cell_type": "code",
   "execution_count": 14,
   "metadata": {},
   "outputs": [],
   "source": [
    "X_train_shifted = np.array([ simple_fft_pitch_shift(x, shift_amt) for x in X_train_base ])\n",
    "X_val_shifted = np.array([ simple_fft_pitch_shift(x, shift_amt) for x in X_val_base ])"
   ]
  },
  {
   "cell_type": "code",
   "execution_count": 15,
   "metadata": {},
   "outputs": [
    {
     "name": "stdout",
     "output_type": "stream",
     "text": [
      "(22272, 513)\n",
      "(11136, 513)\n"
     ]
    }
   ],
   "source": [
    "print(X_train_shifted.shape)\n",
    "print(X_val_shifted.shape)"
   ]
  },
  {
   "cell_type": "markdown",
   "metadata": {},
   "source": [
    "### Type 1 or Type 2 dataset (choose ONE)\n",
    "\n",
    "Here, one can choose to generate the `type 1` or `type 2` datasets.\n",
    "\n",
    "The modifications are incurred on the `X`s and not the `Y`s.\n",
    "\n",
    "Please choose **ONLY ONE** type of dataset to generate."
   ]
  },
  {
   "cell_type": "markdown",
   "metadata": {},
   "source": [
    "### Type 1 dataset (not recommended)\n",
    "\n",
    "`(pitch_shifted, shift_amt) -> (target)`"
   ]
  },
  {
   "cell_type": "code",
   "execution_count": 158,
   "metadata": {},
   "outputs": [
    {
     "name": "stdout",
     "output_type": "stream",
     "text": [
      "(19488, 514)\n",
      "(9744, 514)\n"
     ]
    }
   ],
   "source": [
    "# X_train, X_val: (_,514), (_,514)\n",
    "\n",
    "shift_amt_col = np.array([ [x * shift_amt] for x in np.ones((X_train_shifted.shape[0],), dtype=int) ])\n",
    "X_train = np.hstack((X_train_shifted, shift_amt_col))\n",
    "\n",
    "shift_amt_col = np.array([ [x * shift_amt] for x in np.ones((X_val_shifted.shape[0],), dtype=int) ])\n",
    "X_val = np.hstack((X_val_shifted, shift_amt_col))\n",
    "\n",
    "print(X_train.shape)\n",
    "print(X_val.shape)"
   ]
  },
  {
   "cell_type": "markdown",
   "metadata": {},
   "source": [
    "### Type 2 dataset (recommended)\n",
    "\n",
    "`(original, pitch_shifted) -> (target)`"
   ]
  },
  {
   "cell_type": "code",
   "execution_count": 16,
   "metadata": {},
   "outputs": [
    {
     "name": "stdout",
     "output_type": "stream",
     "text": [
      "(22272, 1026)\n",
      "(11136, 1026)\n"
     ]
    }
   ],
   "source": [
    "# X_train, X_val: (_,1026 = 513*2), (_,1026 = 513*2)\n",
    "\n",
    "X_train = np.hstack((X_train_base,X_train_shifted))\n",
    "X_val = np.hstack((X_val_base,X_val_shifted))\n",
    "\n",
    "print(X_train.shape)\n",
    "print(X_val.shape)"
   ]
  },
  {
   "cell_type": "markdown",
   "metadata": {},
   "source": [
    "### Change all complex values into their norms\n",
    "\n",
    "We will be training on real numbers, not complex numbers."
   ]
  },
  {
   "cell_type": "code",
   "execution_count": 17,
   "metadata": {},
   "outputs": [],
   "source": [
    "X_train = np.absolute(X_train)\n",
    "X_val = np.absolute(X_val)\n",
    "Y_train = np.absolute(Y_train)\n",
    "Y_val = np.absolute(Y_val)"
   ]
  },
  {
   "cell_type": "code",
   "execution_count": null,
   "metadata": {},
   "outputs": [],
   "source": []
  }
 ],
 "metadata": {
  "kernelspec": {
   "display_name": "Python 3",
   "language": "python",
   "name": "python3"
  },
  "language_info": {
   "codemirror_mode": {
    "name": "ipython",
    "version": 3
   },
   "file_extension": ".py",
   "mimetype": "text/x-python",
   "name": "python",
   "nbconvert_exporter": "python",
   "pygments_lexer": "ipython3",
   "version": "3.7.6"
  }
 },
 "nbformat": 4,
 "nbformat_minor": 4
}
