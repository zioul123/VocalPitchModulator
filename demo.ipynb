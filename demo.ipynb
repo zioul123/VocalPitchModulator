{
 "cells": [
  {
   "cell_type": "code",
   "execution_count": 17,
   "metadata": {},
   "outputs": [],
   "source": [
    "import os\n",
    "import csv\n",
    "\n",
    "import numpy as np\n",
    "import VPM\n",
    "import Utils\n",
    "import pyaudio\n",
    "import wave\n",
    "import librosa"
   ]
  },
  {
   "cell_type": "code",
   "execution_count": 18,
   "metadata": {},
   "outputs": [
    {
     "name": "stdout",
     "output_type": "stream",
     "text": [
      "Enter the filename including the .wav extension: shift-4 Decoded-0_7-law_3-C3.wav\n",
      "[ 1.3731245e-05  1.4210948e-05  1.4257714e-05 ... -2.1966384e-06\n",
      " -2.8456971e-06 -3.6286481e-06]\n"
     ]
    }
   ],
   "source": [
    "# load wavfile\n",
    "filename = input(\"Enter the filename including the .wav extension: \")\n",
    "filenameList = [filename]\n",
    "\n",
    "all_wav_data = VPM.load_wav_files(\"./\", filenameList)\n",
    "\n",
    "wav_data = all_wav_data[0]\n",
    "\n",
    "print(wav_data)\n"
   ]
  },
  {
   "cell_type": "code",
   "execution_count": 19,
   "metadata": {},
   "outputs": [
    {
     "name": "stdout",
     "output_type": "stream",
     "text": [
      "Recording\n",
      "Finished recording\n",
      "[ 0.00000000e+00  0.00000000e+00 -3.05175781e-05 ... -2.96020508e-03\n",
      " -3.14331055e-03  4.11987305e-03]\n"
     ]
    }
   ],
   "source": [
    "# record vocals\n",
    "\n",
    "chunk = 1024  # Record in chunks of 1024 samples\n",
    "sample_format = pyaudio.paInt16  # 16 bits per sample\n",
    "channels = 1\n",
    "fs = 44100  # Record at 44100 samples per second\n",
    "seconds = 7\n",
    "\n",
    "p = pyaudio.PyAudio()  # Create an interface to PortAudio\n",
    "\n",
    "print('Recording')\n",
    "\n",
    "stream = p.open(format=sample_format,\n",
    "                channels=channels,\n",
    "                rate=fs,\n",
    "                frames_per_buffer=chunk,\n",
    "                input=True)\n",
    "\n",
    "frames = []  # Initialize array to store frames\n",
    "\n",
    "# Store data in chunks for 3 seconds\n",
    "for i in range(0, int(fs / chunk * seconds)):\n",
    "    data = stream.read(chunk)\n",
    "    frames.append(data)\n",
    "\n",
    "# Stop and close the stream \n",
    "stream.stop_stream()\n",
    "stream.close()\n",
    "p.terminate()\n",
    "\n",
    "print('Finished recording')\n",
    "\n",
    "# Save the recorded data as wav file\n",
    "wf = wave.open(\"output.wav\", 'wb')\n",
    "wf.setnchannels(channels)\n",
    "wf.setsampwidth(p.get_sample_size(sample_format))\n",
    "wf.setframerate(fs)\n",
    "wf.writeframes(b''.join(frames))\n",
    "wf.close()\n",
    "\n",
    "# load the saved wavfile\n",
    "filenameList = [\"output.wav\"]\n",
    "\n",
    "all_wav_data = VPM.load_wav_files(\"./\", filenameList)\n",
    "\n",
    "wav_data = all_wav_data[0]\n",
    "\n",
    "print(wav_data)"
   ]
  },
  {
   "cell_type": "code",
   "execution_count": 20,
   "metadata": {},
   "outputs": [],
   "source": [
    "# processing\n",
    "\n",
    "# shifted = VPM.pitch_shift(wav_data)"
   ]
  },
  {
   "cell_type": "code",
   "execution_count": 21,
   "metadata": {},
   "outputs": [
    {
     "name": "stdout",
     "output_type": "stream",
     "text": [
      "Enter the filename including the .wav extension: shifted_out\n"
     ]
    },
    {
     "ename": "NameError",
     "evalue": "name 'shifted' is not defined",
     "output_type": "error",
     "traceback": [
      "\u001b[1;31m---------------------------------------------------------------------------\u001b[0m",
      "\u001b[1;31mNameError\u001b[0m                                 Traceback (most recent call last)",
      "\u001b[1;32m<ipython-input-21-ce542cda4334>\u001b[0m in \u001b[0;36m<module>\u001b[1;34m\u001b[0m\n\u001b[0;32m      3\u001b[0m \u001b[0mfilename\u001b[0m \u001b[1;33m=\u001b[0m \u001b[0minput\u001b[0m\u001b[1;33m(\u001b[0m\u001b[1;34m\"Enter the filename including the .wav extension: \"\u001b[0m\u001b[1;33m)\u001b[0m\u001b[1;33m\u001b[0m\u001b[1;33m\u001b[0m\u001b[0m\n\u001b[0;32m      4\u001b[0m \u001b[1;33m\u001b[0m\u001b[0m\n\u001b[1;32m----> 5\u001b[1;33m \u001b[0mlibrosa\u001b[0m\u001b[1;33m.\u001b[0m\u001b[0moutput\u001b[0m\u001b[1;33m.\u001b[0m\u001b[0mwrite_wav\u001b[0m\u001b[1;33m(\u001b[0m\u001b[1;34m'output_wav/'\u001b[0m \u001b[1;33m+\u001b[0m \u001b[0mfilename\u001b[0m\u001b[1;33m,\u001b[0m \u001b[0mshifted\u001b[0m\u001b[1;33m,\u001b[0m \u001b[1;36m44100\u001b[0m\u001b[1;33m)\u001b[0m\u001b[1;33m\u001b[0m\u001b[1;33m\u001b[0m\u001b[0m\n\u001b[0m",
      "\u001b[1;31mNameError\u001b[0m: name 'shifted' is not defined"
     ]
    }
   ],
   "source": [
    "# save to wavfile\n",
    "\n",
    "filename = input(\"Enter the filename including the .wav extension: \")\n",
    "\n",
    "librosa.output.write_wav('output_wav/' + filename, shifted, 44100)"
   ]
  }
 ],
 "metadata": {
  "kernelspec": {
   "display_name": "Python 3",
   "language": "python",
   "name": "python3"
  },
  "language_info": {
   "codemirror_mode": {
    "name": "ipython",
    "version": 3
   },
   "file_extension": ".py",
   "mimetype": "text/x-python",
   "name": "python",
   "nbconvert_exporter": "python",
   "pygments_lexer": "ipython3",
   "version": "3.7.6"
  }
 },
 "nbformat": 4,
 "nbformat_minor": 4
}
