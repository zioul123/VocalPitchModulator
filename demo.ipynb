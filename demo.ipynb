{
 "cells": [
  {
   "cell_type": "code",
   "execution_count": 1,
   "metadata": {},
   "outputs": [],
   "source": [
    "import VPM\n",
    "import DemoPitchShifter"
   ]
  },
  {
   "cell_type": "code",
   "execution_count": 2,
   "metadata": {},
   "outputs": [
    {
     "name": "stdout",
     "output_type": "stream",
     "text": [
      "Enter the filename including the .wav extension: shift-4 Decoded-0_7-law_3-C3.wav\n",
      "[ 1.3731245e-05  1.4210948e-05  1.4257714e-05 ... -2.1966384e-06\n",
      " -2.8456971e-06 -3.6286481e-06]\n"
     ]
    }
   ],
   "source": [
    "# load existing wav file\n",
    "\n",
    "wav_file = DemoPitchShifter.load_wav_file_from_stdin()"
   ]
  },
  {
   "cell_type": "code",
   "execution_count": 3,
   "metadata": {},
   "outputs": [
    {
     "name": "stdout",
     "output_type": "stream",
     "text": [
      "Recording\n",
      "Finished recording\n",
      "[ 0.00000000e+00  0.00000000e+00 -3.05175781e-05 ...  1.32446289e-02\n",
      "  1.35803223e-02  1.41906738e-02]\n"
     ]
    }
   ],
   "source": [
    "# or record vocals\n",
    "\n",
    "wav_file = DemoPitchShifter.record_wav_file()"
   ]
  },
  {
   "cell_type": "code",
   "execution_count": 4,
   "metadata": {},
   "outputs": [],
   "source": [
    "# pitch shifting\n",
    "\n",
    "# shifted = VPM.pitch_shift(wav_data)"
   ]
  },
  {
   "cell_type": "code",
   "execution_count": 5,
   "metadata": {},
   "outputs": [
    {
     "ename": "NameError",
     "evalue": "name 'shifted' is not defined",
     "output_type": "error",
     "traceback": [
      "\u001b[1;31m---------------------------------------------------------------------------\u001b[0m",
      "\u001b[1;31mNameError\u001b[0m                                 Traceback (most recent call last)",
      "\u001b[1;32m<ipython-input-5-dc0004425c7e>\u001b[0m in \u001b[0;36m<module>\u001b[1;34m\u001b[0m\n\u001b[0;32m      1\u001b[0m \u001b[1;31m# save to wav file\u001b[0m\u001b[1;33m\u001b[0m\u001b[1;33m\u001b[0m\u001b[1;33m\u001b[0m\u001b[0m\n\u001b[0;32m      2\u001b[0m \u001b[1;33m\u001b[0m\u001b[0m\n\u001b[1;32m----> 3\u001b[1;33m \u001b[0mDemoPitchShifter\u001b[0m\u001b[1;33m.\u001b[0m\u001b[0msave_wav_file\u001b[0m\u001b[1;33m(\u001b[0m\u001b[0mshifted\u001b[0m\u001b[1;33m)\u001b[0m\u001b[1;33m\u001b[0m\u001b[1;33m\u001b[0m\u001b[0m\n\u001b[0m",
      "\u001b[1;31mNameError\u001b[0m: name 'shifted' is not defined"
     ]
    }
   ],
   "source": [
    "# save to wav file\n",
    "\n",
    "DemoPitchShifter.save_wav_file(shifted)"
   ]
  }
 ],
 "metadata": {
  "kernelspec": {
   "display_name": "Python 3",
   "language": "python",
   "name": "python3"
  },
  "language_info": {
   "codemirror_mode": {
    "name": "ipython",
    "version": 3
   },
   "file_extension": ".py",
   "mimetype": "text/x-python",
   "name": "python",
   "nbconvert_exporter": "python",
   "pygments_lexer": "ipython3",
   "version": "3.7.6"
  }
 },
 "nbformat": 4,
 "nbformat_minor": 4
}
