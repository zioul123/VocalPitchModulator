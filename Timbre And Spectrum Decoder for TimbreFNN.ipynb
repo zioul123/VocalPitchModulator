{
 "cells": [
  {
   "cell_type": "markdown",
   "metadata": {},
   "source": [
    "# MFCCXSpectrum Decoder\n",
    "This is the notebook used to train the Vocal Pitch Modulator.\n",
    "\n",
    "This notebook makes use of the mfcc and spectrum data to train our decoder.\n",
    "\n",
    "## Global variables/Imports\n",
    "Run these cells before running either of the following sections."
   ]
  },
  {
   "cell_type": "code",
   "execution_count": 204,
   "metadata": {},
   "outputs": [
    {
     "name": "stdout",
     "output_type": "stream",
     "text": [
      "The autoreload extension is already loaded. To reload it, use:\n",
      "  %reload_ext autoreload\n"
     ]
    }
   ],
   "source": [
    "%load_ext autoreload\n",
    "%autoreload 1\n",
    "\n",
    "import os\n",
    "import csv\n",
    "\n",
    "import scipy.io as sio\n",
    "from scipy.io import wavfile\n",
    "from scipy.io.wavfile import write\n",
    "\n",
    "import numpy as np\n",
    "import matplotlib.pyplot as plt\n",
    "from matplotlib.pyplot import subplots\n",
    "\n",
    "import time\n",
    "import math\n",
    "\n",
    "import pandas as pd\n",
    "from sklearn.model_selection import train_test_split\n",
    "from sklearn.metrics import accuracy_score, mean_squared_error, log_loss\n",
    "\n",
    "from tqdm.notebook import trange, tqdm\n",
    "\n",
    "from IPython.display import HTML\n",
    "import warnings\n",
    "from sklearn.preprocessing import OneHotEncoder\n",
    "\n",
    "import torch\n",
    "warnings.filterwarnings('ignore')\n",
    "import torch.nn as nn\n",
    "import torch.nn.functional as F\n",
    "from torch import optim\n",
    "\n",
    "%aimport VPM\n",
    "from VPM import *\n",
    "%aimport Utils\n",
    "from Utils import *\n",
    "%aimport ANN\n",
    "from ANN import *"
   ]
  },
  {
   "cell_type": "code",
   "execution_count": 205,
   "metadata": {},
   "outputs": [],
   "source": [
    "# Constants that should not change without the dataset being changed\n",
    "n_pitches = 16\n",
    "n_vowels = 12\n",
    "n_people = 3\n",
    "\n",
    "# These dictionaries are more for reference than anything\n",
    "label_to_vowel = { 0: \"bed\",  1: \"bird\",   2: \"boat\",  3: \"book\", \n",
    "                   4: \"cat\",  5: \"dog\",    6: \"feet\",  7: \"law\",  \n",
    "                   8: \"moo\",  9: \"nut\",   10: \"pig\",  11: \"say\" }\n",
    "\n",
    "vowel_to_label = { \"bed\": 0,  \"bird\": 1,  \"boat\":  2, \"book\":  3,\n",
    "                   \"cat\": 4,  \"dog\":  5,  \"feet\":  6, \"law\":   7,\n",
    "                   \"moo\": 8,  \"nut\":  9,  \"pig\":  10, \"say\":  11}\n",
    "\n",
    "noteidx_to_pitch = {  0: \"A2\",   1: \"Bb2\",  2: \"B2\",   3: \"C3\",\n",
    "                      4: \"Db3\",  5: \"D3\",   6: \"Eb3\",  7: \"E3\", \n",
    "                      8: \"F3\",   9: \"Gb3\", 10: \"G3\",  11: \"Ab3\",\n",
    "                     12: \"A3\",  13: \"Bb3\", 14: \"B3\",  15: \"C4\" }"
   ]
  },
  {
   "cell_type": "markdown",
   "metadata": {},
   "source": [
    "### Constants\n",
    "Used to tune the data generation and ANN."
   ]
  },
  {
   "cell_type": "code",
   "execution_count": 235,
   "metadata": {},
   "outputs": [],
   "source": [
    "n_ffts = 2048\n",
    "n_mels = 256\n",
    "n_mfcc = 40"
   ]
  },
  {
   "cell_type": "code",
   "execution_count": 236,
   "metadata": {},
   "outputs": [],
   "source": [
    "# File reference lists\n",
    "data_ref_list = create_data_ref_list(os.path.join(\"Data\", 'dataset_files.csv'),\n",
    "                            n_pitches, n_vowels, n_people)\n",
    "# flat_data_ref_list[flat_ref_idx(vowel, pitch, person)]\n",
    "flat_data_ref_list = flatten_3d_array(data_ref_list, \n",
    "                                      n_vowels, n_pitches, n_people)\n",
    "\n",
    "# File reference list accessors\n",
    "# Returns a flat_ref_idx, given a vowel, pitch, person\n",
    "flat_ref_idx = lambda vowel, pitch, person: flat_3d_array_idx(\n",
    "    vowel, pitch, person, n_vowels, n_pitches, n_people)\n",
    "# Returns vowel, pitch, person, given a flat_ref_idx\n",
    "nd_ref_idx = lambda idx: nd_array_idx(idx, n_vowels, n_pitches, n_people)\n",
    "\n",
    "# Data-label pairs for pitch-shift training\n",
    "data_label_pairs_flat, data_label_pairs_dict = create_data_label_pairs(n_pitches)"
   ]
  },
  {
   "cell_type": "markdown",
   "metadata": {},
   "source": [
    "### Data Generation\n",
    "This is all the code that was explained in the Data Walkthrough. It generates data structures to hold all wav file data, spectrograms, mel spectra and MFCC data for all wav files.\n",
    "\n",
    "For diagram-visualization of the data set, refer to the [readme](https://github.com/zioul123/VocalPitchModulator/blob/master/README.md).\n",
    "\n",
    "The first cell involves 3d arrays, while the second cell involves flattened arrays."
   ]
  },
  {
   "cell_type": "code",
   "execution_count": 237,
   "metadata": {},
   "outputs": [
    {
     "name": "stdout",
     "output_type": "stream",
     "text": [
      "(576,)\n",
      "(576, 1025, 29)\n",
      "(576, 256, 29)\n",
      "(576, 40, 29)\n"
     ]
    }
   ],
   "source": [
    "# wav, spectrogram, mels, mfcc for each file in flat_data_ref_list. n_windows is 115 with 75% overlap.\n",
    "# wav_data:     (576, ~29400)  (n_wavs, n_samples)\n",
    "# spectrograms: (576, 1025, 29) (n_wavs, n_freq_bins, n_windows)\n",
    "# mels:         (576, 256, 29) (n_wavs, n_mels, n_windows)\n",
    "# mfccs:        (576, 12, 29)  (n_wavs, n_mfcc, n_windows)\n",
    "all_wav_data = load_wav_files(os.path.join(\"Data\", \"dataset\"), flat_data_ref_list)\n",
    "all_spectrograms = np.array([ stft(waveform, win_length=n_ffts, overlap=.5, plot=False) \n",
    "                              for waveform in all_wav_data ])\n",
    "\n",
    "all_mels, all_mfcc = map(np.array, map(list, zip(*\n",
    "                         [ ffts_to_mel(ffts, n_mels = n_mels, n_mfcc = n_mfcc) \n",
    "                           for ffts in all_spectrograms ])))\n",
    "\n",
    "n_files, _, n_windows = all_mfcc.shape\n",
    "\n",
    "print(all_wav_data.shape)\n",
    "print(all_spectrograms.shape)\n",
    "print(all_mels.shape)\n",
    "print(all_mfcc.shape)"
   ]
  },
  {
   "cell_type": "markdown",
   "metadata": {},
   "source": [
    "### Data-Label Structuring\n",
    "This puts together the actual data-label pairs to be fed into the ANN.\n"
   ]
  },
  {
   "cell_type": "code",
   "execution_count": 238,
   "metadata": {},
   "outputs": [
    {
     "name": "stdout",
     "output_type": "stream",
     "text": [
      "(16704, 256)\n",
      "[[ 0.16224197  0.1663732   0.18460537 ... -0.5216612  -0.4927396\n",
      "  -0.5934092 ]\n",
      " [-0.22248815 -0.17502157 -0.12619944 ... -0.53007513 -0.54840446\n",
      "  -0.5386227 ]\n",
      " [-0.13286221 -0.13437465 -0.12493145 ... -0.542835   -0.56144035\n",
      "  -0.60005075]\n",
      " ...\n",
      " [-0.20554794 -0.22942132 -0.34300035 ... -0.55229545 -0.58223814\n",
      "  -0.6098331 ]\n",
      " [-0.2478525  -0.2670039  -0.3190056  ... -0.5250399  -0.61691207\n",
      "  -0.6498883 ]\n",
      " [-0.00712681 -0.00632416  0.00700691 ... -0.51925784 -0.5517461\n",
      "  -0.5983309 ]]\n"
     ]
    }
   ],
   "source": [
    "# Flatten data\n",
    "\n",
    "# Create data accessor for flat arrays\n",
    "flat_data_idx = lambda wav_idx, win_idx: flat_2d_array_idx(\n",
    "    wav_idx, win_idx, n_files, n_windows)\n",
    "\n",
    "# Create flat mel spectra \n",
    "# flat_mels: (33408, 256)\n",
    "flat_mels_prenorm = np.array([ all_mels[wav_file_idx][:, window_idx] \n",
    "                               for wav_file_idx in range(n_files) \n",
    "                               for window_idx in range(n_windows) ])\n",
    "# Normalize each mel spectrum to [0, 1]\n",
    "# flat_mels, mels_scales = normalize_rows(flat_mels_prenorm, NormMode.NONNEG_TO_ZERO_ONE)\n",
    "\n",
    "# Globally normalize to [-1, 1]\n",
    "flat_mels_logged = np.log(flat_mels_prenorm)\n",
    "max_mels = np.max(np.abs(flat_mels_logged))\n",
    "flat_mels = flat_mels_logged / max_mels\n",
    "\n",
    "print(flat_mels.shape)\n",
    "print(flat_mels)"
   ]
  },
  {
   "cell_type": "code",
   "execution_count": 239,
   "metadata": {},
   "outputs": [
    {
     "name": "stdout",
     "output_type": "stream",
     "text": [
      "torch.Size([16704, 40])\n"
     ]
    }
   ],
   "source": [
    "# Create mfccs features\n",
    "# flat_mfcc: (33408, 12)\n",
    "flat_mfcc_prenorm = np.array([ all_mfcc[wav_file_idx][:, window_idx]\n",
    "                               for wav_file_idx in range(n_files)\n",
    "                               for window_idx in range(n_windows) ])\n",
    "# Normalize each mfcc (i.e. rows of the all_mfcc array) to [0,1] - USE FOR THE VAE (TimbreVAE)\n",
    "# flat_mfcc, mfcc_scales = normalize_rows(flat_mfcc_prenorm, NormMode.REAL_TO_ZERO_ONE)\n",
    "\n",
    "# Globally normalize to [0, 1]\n",
    "# log(-n) is nan, so we put things on a log scale from absolute values, and\n",
    "# mutliply the sign back.\n",
    "# signs = np.sign(flat_mfcc_prenorm)\n",
    "# data_logged = signs * np.log(np.abs(flat_mfcc_prenorm))\n",
    "# max_mfcc = np.max(np.abs(np.array([ np.max(data_logged), np.min(data_logged) ])))\n",
    "# data_negtopos = data_logged / max_mfcc\n",
    "# data_mfcc = normalize_rows(data_negtopos, NormMode.NEG_ONE_ONE_TO_ZERO_ONE)\n",
    "\n",
    "# Normalize each mfcc (i.e. rows of the all_mfcc array) to [0,1]\n",
    "flat_mfcc_signs = np.sign(flat_mfcc_prenorm)\n",
    "flat_mfcc_logged = np.log(np.abs(flat_mfcc_prenorm))\n",
    "max_mfcc = np.max(np.abs(flat_mfcc_logged))\n",
    "flat_mfcc = flat_mfcc_logged / max_mfcc\n",
    "flat_mfcc = torch.Tensor(flat_mfcc)\n",
    "\n",
    "print(flat_mfcc.shape)"
   ]
  },
  {
   "cell_type": "code",
   "execution_count": 240,
   "metadata": {},
   "outputs": [],
   "source": [
    "# # Visualize and verify Mels\n",
    "# fig, ax = plt.subplots(1, 3, figsize=(15,5))\n",
    "# plt.figure()\n",
    "# fig.suptitle(\"Mels Confirmation\", fontsize=16)\n",
    "# ax[0].plot(flat_mels_prenorm[0])\n",
    "# ax[0].set_title(\"Flat Mels Prenorm: {}\".format(flat_mels_prenorm.shape))\n",
    "# ax[1].plot(flat_mels[0])\n",
    "# ax[1].set_title(\"Flat Mels (one example): {}\".format(flat_mels.shape))\n",
    "# ax[2].plot(np.e ** (flat_mels[0] * max_mels))\n",
    "# ax[2].set_title(\"Restored Mels: {}\".format(flat_mels.shape))\n",
    "\n",
    "# # Visualize and verify MFCC\n",
    "# fig, ax = plt.subplots(1, 3, figsize=(15,5))\n",
    "# plt.figure()\n",
    "# fig.suptitle(\"MFCC Confirmation\", fontsize=16)\n",
    "# ax[0].plot(flat_mfcc_prenorm.T)\n",
    "# ax[0].set_title(\"Flat MFCC Prenorm: {}\".format(flat_mfcc_prenorm.shape))\n",
    "# ax[1].plot(flat_mfcc.T)\n",
    "# ax[1].set_title(\"Flat MFCC (one example): {}\".format(flat_mfcc.detach().numpy().shape))\n",
    "# ax[2].plot((flat_mfcc_signs * np.e ** (flat_mfcc.detach().numpy() * max_mfcc)).T)\n",
    "# ax[2].set_title(\"Restored MFCC: {}\".format(flat_mfcc.detach().numpy().shape))"
   ]
  },
  {
   "cell_type": "markdown",
   "metadata": {},
   "source": [
    "## Pre-Training"
   ]
  },
  {
   "cell_type": "markdown",
   "metadata": {},
   "source": [
    "### Data-Label Structuring\n",
    "This puts together the actual data-label pairs to be fed into the ANN.\n",
    "\n",
    "`data` is generated from timbre features on mfcc and mel spectrums. `labels` are abs(fft) spectrograms. At this stage, pre-training, we simply want to make the NN learn to output fourier spectra.\n",
    "\n",
    "Note that mel_spectra/mfcc of abs(fft) are equivalent to those of fft itself."
   ]
  },
  {
   "cell_type": "code",
   "execution_count": 242,
   "metadata": {},
   "outputs": [
    {
     "name": "stdout",
     "output_type": "stream",
     "text": [
      "(16704, 296) (576, 1025, 29)\n"
     ]
    }
   ],
   "source": [
    "# Create labels\n",
    "\n",
    "# data:   (33408, 268) (n_wavs * n_windows, n_mfcc + n_mels)\n",
    "# labels: (33408, 256) (n_wavs * n_windows, n_fft / 2 + 1)\n",
    "data = np.concatenate((flat_mfcc, flat_mels), axis=1)\n",
    "labels = all_spectrograms\n",
    "print(data.shape, labels.shape)"
   ]
  },
  {
   "cell_type": "markdown",
   "metadata": {},
   "source": [
    "Test-Train split: 1 person from each wav will be the test data"
   ]
  },
  {
   "cell_type": "code",
   "execution_count": 243,
   "metadata": {},
   "outputs": [
    {
     "ename": "IndexError",
     "evalue": "index 576 is out of bounds for axis 0 with size 576",
     "output_type": "error",
     "traceback": [
      "\u001b[0;31m---------------------------------------------------------------------------\u001b[0m",
      "\u001b[0;31mIndexError\u001b[0m                                Traceback (most recent call last)",
      "\u001b[0;32m<ipython-input-243-079c53402e2b>\u001b[0m in \u001b[0;36m<module>\u001b[0;34m\u001b[0m\n\u001b[1;32m     11\u001b[0m                 \u001b[0;32mfor\u001b[0m \u001b[0mwin_idx\u001b[0m \u001b[0;32min\u001b[0m \u001b[0mrange\u001b[0m\u001b[0;34m(\u001b[0m\u001b[0mn_windows\u001b[0m\u001b[0;34m)\u001b[0m\u001b[0;34m:\u001b[0m\u001b[0;34m\u001b[0m\u001b[0;34m\u001b[0m\u001b[0m\n\u001b[1;32m     12\u001b[0m                     \u001b[0mX_train\u001b[0m\u001b[0;34m.\u001b[0m\u001b[0mappend\u001b[0m\u001b[0;34m(\u001b[0m\u001b[0mdata\u001b[0m\u001b[0;34m[\u001b[0m\u001b[0mflat_data_idx\u001b[0m\u001b[0;34m(\u001b[0m\u001b[0mwav_idx\u001b[0m\u001b[0;34m,\u001b[0m \u001b[0mwin_idx\u001b[0m\u001b[0;34m)\u001b[0m\u001b[0;34m]\u001b[0m\u001b[0;34m)\u001b[0m\u001b[0;34m\u001b[0m\u001b[0;34m\u001b[0m\u001b[0m\n\u001b[0;32m---> 13\u001b[0;31m                     \u001b[0mY_train\u001b[0m\u001b[0;34m.\u001b[0m\u001b[0mappend\u001b[0m\u001b[0;34m(\u001b[0m\u001b[0mlabels\u001b[0m\u001b[0;34m[\u001b[0m\u001b[0mflat_data_idx\u001b[0m\u001b[0;34m(\u001b[0m\u001b[0mwav_idx\u001b[0m\u001b[0;34m,\u001b[0m \u001b[0mwin_idx\u001b[0m\u001b[0;34m)\u001b[0m\u001b[0;34m]\u001b[0m\u001b[0;34m)\u001b[0m\u001b[0;34m\u001b[0m\u001b[0;34m\u001b[0m\u001b[0m\n\u001b[0m\u001b[1;32m     14\u001b[0m             \u001b[0;32melse\u001b[0m\u001b[0;34m:\u001b[0m\u001b[0;34m\u001b[0m\u001b[0;34m\u001b[0m\u001b[0m\n\u001b[1;32m     15\u001b[0m                 \u001b[0;32mfor\u001b[0m \u001b[0mwin_idx\u001b[0m \u001b[0;32min\u001b[0m \u001b[0mrange\u001b[0m\u001b[0;34m(\u001b[0m\u001b[0mn_windows\u001b[0m\u001b[0;34m)\u001b[0m\u001b[0;34m:\u001b[0m\u001b[0;34m\u001b[0m\u001b[0;34m\u001b[0m\u001b[0m\n",
      "\u001b[0;31mIndexError\u001b[0m: index 576 is out of bounds for axis 0 with size 576"
     ]
    }
   ],
   "source": [
    "# X_train, Y_train: (22272, 268) (11136, 256) \n",
    "# X_val, Y_val:     (11136, 268)  (11136, 256)\n",
    "X_train = []; X_val = []; Y_train = []; Y_val = []\n",
    "for vow_idx in range(n_vowels):\n",
    "    for pit_idx in range(n_pitches):\n",
    "        # Choose the person for this pitch/vowel to be used as test data\n",
    "        test_pid = int(np.random.rand() * 3)\n",
    "        for pid_idx in range(n_people):\n",
    "            wav_idx = flat_ref_idx(vow_idx, pit_idx, pid_idx)\n",
    "            if (pid_idx != test_pid):\n",
    "                for win_idx in range(n_windows):\n",
    "                    X_train.append(data[flat_data_idx(wav_idx, win_idx)])\n",
    "                    Y_train.append(labels[flat_data_idx(wav_idx, win_idx)])\n",
    "            else:\n",
    "                for win_idx in range(n_windows):\n",
    "                    X_val.append(data[flat_data_idx(wav_idx, win_idx)])\n",
    "                    Y_val.append(labels[flat_data_idx(wav_idx, win_idx)])  \n",
    "X_train, Y_train, X_val, Y_val = map(torch.Tensor, (X_train, Y_train, X_val, Y_val))\n",
    "\n",
    "# Default tensor is float\n",
    "X_train = X_train.float(); X_val = X_val.float()\n",
    "Y_train = Y_train.float(); Y_val = Y_val.float()\n",
    "print(X_train.shape, X_val.shape, Y_train.shape, Y_val.shape)"
   ]
  },
  {
   "cell_type": "markdown",
   "metadata": {},
   "source": [
    "Normalize `labels_prenorm` to range [-1,1]"
   ]
  },
  {
   "cell_type": "code",
   "execution_count": 228,
   "metadata": {},
   "outputs": [],
   "source": [
    "# plt.figure()\n",
    "# plt.plot(data)\n",
    "\n",
    "# # labels, label_scales = normalize_rows(labels_prenorm, NormMode.NONNEG_TO_ZERO_ONE)\n",
    "# # plt.figure()\n",
    "# # plt.plot(labels_prenorm)\n",
    "\n",
    "# labels_prenorm_log = np.log(labels_prenorm)\n",
    "# label_scales = np.amax(np.absolute(labels_prenorm_log))\n",
    "# labels  = labels_prenorm_log / label_scales\n",
    "\n",
    "# # plt.figure()\n",
    "# # plt.plot(labels)\n",
    "\n",
    "# print(data.shape, labels.shape)"
   ]
  },
  {
   "cell_type": "markdown",
   "metadata": {},
   "source": [
    "## Training Procedure (decoder style, no pitch shift)"
   ]
  },
  {
   "cell_type": "markdown",
   "metadata": {},
   "source": [
    "This takes mfcc + mel spectrum, and tries to recreate the original FFT."
   ]
  },
  {
   "cell_type": "code",
   "execution_count": 232,
   "metadata": {},
   "outputs": [],
   "source": [
    "n_input = 104; n_hid2 = 268; n_hid = 260; n_ffts = 64;\n",
    "lr = 0.2; n_epochs = 500; batch_size=22272//8;\n",
    "\n",
    "# Training model \n",
    "model = TimbreFNN(n_input=n_input, n_hid=n_hid, n_ffts=n_ffts, n_mels=n_mels)\n",
    "\n",
    "loss_fn = nn.MSELoss()"
   ]
  },
  {
   "cell_type": "code",
   "execution_count": 233,
   "metadata": {},
   "outputs": [
    {
     "name": "stdout",
     "output_type": "stream",
     "text": [
      "GPU Not available\n"
     ]
    }
   ],
   "source": [
    "print(\"GPU Available\" if torch.cuda.is_available() else \"GPU Not available\")"
   ]
  },
  {
   "cell_type": "code",
   "execution_count": 234,
   "metadata": {},
   "outputs": [
    {
     "data": {
      "application/vnd.jupyter.widget-view+json": {
       "model_id": "6fc903cd16164b70a18801dbfc77e301",
       "version_major": 2,
       "version_minor": 0
      },
      "text/plain": [
       "HBox(children=(FloatProgress(value=0.0, description='Training', max=500.0, style=ProgressStyle(description_wid…"
      ]
     },
     "metadata": {},
     "output_type": "display_data"
    },
    {
     "name": "stdout",
     "output_type": "stream",
     "text": [
      "[-0.06302533 -0.0947813   0.11170196 -0.102281   -0.0022042  -0.03645249\n",
      " -0.00259142  0.1401435   0.01741005 -0.0099689   0.0428738  -0.05412295\n",
      " -0.0715242  -0.00738525 -0.13472961 -0.01384794  0.04319607  0.04381248\n",
      "  0.03041984 -0.10025965  0.06974632  0.18159011  0.04666875 -0.03726213\n",
      " -0.16741495  0.02698829  0.06746912 -0.23458494  0.01516513  0.0494657\n",
      " -0.06541312  0.02167569 -0.05860035  0.10163057  0.01644924 -0.16891734\n",
      " -0.06006587  0.12657583  0.0071766   0.1040533  -0.05476338 -0.11633564\n",
      "  0.09498986 -0.05003877 -0.08174922 -0.06534604 -0.04017885 -0.03201436\n",
      " -0.06382318  0.1455096   0.10759842  0.07808059  0.09350099 -0.05372114\n",
      " -0.01816019  0.11569011 -0.02521601 -0.07824803  0.15778722  0.13592015\n",
      " -0.04286356  0.00904567  0.13509226  0.01945764]\n",
      "[-1.  1.  1.  1.  1.  1.  1.  1.  1.  1.  1.  1.  1.  1.  1.  1.  1. -1.\n",
      " -1.  1. -1. -1. -1. -1.  1. -1. -1.  1. -1. -1.  1. -1.  1. -1. -1.  1.\n",
      " -1. -1. -1. -1. -1. -1. -1. -1. -1. -1. -1. -1. -1. -1. -1. -1. -1. -1.\n",
      " -1. -1. -1. -1. -1. -1. -1. -1. -1. -1.]\n",
      "[-1.  1.  1.  1.  1.  1.  1.  1.  1.  1.  1.  1.  1.  1.  1.  1.  1. -1.\n",
      " -1.  1. -1. -1. -1. -1.  1. -1. -1.  1. -1. -1.  1. -1.  1. -1. -1.  1.\n",
      " -1. -1. -1. -1. -1. -1. -1. -1. -1. -1. -1. -1. -1. -1. -1. -1. -1. -1.\n",
      " -1. -1. -1. -1. -1. -1. -1. -1. -1. -1.]\n",
      "[-1.  1.  1.  1.  1.  1.  1.  1.  1.  1.  1.  1.  1.  1.  1.  1.  1. -1.\n",
      " -1.  1. -1. -1. -1. -1.  1. -1. -1.  1. -1. -1.  1. -1.  1. -1. -1.  1.\n",
      " -1. -1. -1. -1. -1. -1. -1. -1. -1. -1. -1. -1. -1. -1. -1. -1. -1. -1.\n",
      " -1. -1. -1. -1. -1. -1. -1. -1. -1. -1.]\n",
      "[-1.  1.  1.  1.  1.  1.  1.  1.  1.  1.  1.  1.  1.  1.  1.  1.  1. -1.\n",
      " -1.  1. -1. -1. -1. -1.  1. -1. -1.  1. -1. -1.  1. -1.  1. -1. -1.  1.\n",
      " -1. -1. -1. -1. -1. -1. -1. -1. -1. -1. -1. -1. -1. -1. -1. -1. -1. -1.\n",
      " -1. -1. -1. -1. -1. -1. -1. -1. -1. -1.]\n",
      "\n"
     ]
    },
    {
     "data": {
      "image/png": "[encoded data removed]",
      "text/plain": [
       "<Figure size 1080x720 with 1 Axes>"
      ]
     },
     "metadata": {
      "needs_background": "light"
     },
     "output_type": "display_data"
    },
    {
     "name": "stdout",
     "output_type": "stream",
     "text": [
      "Training Loss before/after: 0.163589209318161, 0.6283485889434814\n",
      "Validation Loss before/after: 0.6298986673355103, 0.6298986673355103\n",
      "Final loss: 0.6283485889434814\n",
      "Time taken: 26.891390800476074\n"
     ]
    }
   ],
   "source": [
    "# Use GPU if possible (will run on CPU otherwise)\n",
    "device = torch.device(\"cuda\") if torch.cuda.is_available() else torch.device(\"cpu\")\n",
    "\n",
    "# Move inputs to GPU (if possible)\n",
    "X_train = X_train.to(device)\n",
    "Y_train = Y_train.to(device)\n",
    "X_val = X_val.to(device)\n",
    "Y_val = Y_val.to(device)\n",
    "\n",
    "# Move the network to GPU (if possible)\n",
    "model.to(device)\n",
    "\n",
    "# Define optimizer \n",
    "# opt = optim.SGD(model.parameters(), lr=lr)\n",
    "opt = optim.Adam(model.parameters(), lr=lr)\n",
    "\n",
    "# Fit the model\n",
    "tic = time.time()\n",
    "train_loss, val_loss = model.train_func(X_train, Y_train, X_val, Y_val, model, opt,\n",
    "                        loss_fn, batch_size=batch_size, epochs=n_epochs, print_graph=True)\n",
    "toc = time.time()\n",
    "print('Final loss: {}\\nTime taken: {}'.format(train_loss, toc - tic))"
   ]
  },
  {
   "cell_type": "markdown",
   "metadata": {},
   "source": [
    "Saving the model"
   ]
  },
  {
   "cell_type": "code",
   "execution_count": 218,
   "metadata": {},
   "outputs": [
    {
     "name": "stdout",
     "output_type": "stream",
     "text": [
      "Model's state_dict:\n",
      "fc1.weight \t torch.Size([260, 268])\n",
      "fc1.bias \t torch.Size([260])\n",
      "fc2.weight \t torch.Size([256, 260])\n",
      "fc2.bias \t torch.Size([256])\n",
      "net.0.weight \t torch.Size([260, 268])\n",
      "net.0.bias \t torch.Size([260])\n",
      "net.2.weight \t torch.Size([256, 260])\n",
      "net.2.bias \t torch.Size([256])\n",
      "Model saved at model_data/TimbreFNNDecoder_fft-fft_0.2_500_12_256_260_256_0.9778408408164978.pt\n"
     ]
    }
   ],
   "source": [
    "print(\"Model's state_dict:\")\n",
    "for param_tensor in model.state_dict():\n",
    "    print(param_tensor, \"\\t\", model.state_dict()[param_tensor].size())\n",
    "    \n",
    "model_path = os.path.join(\"model_data\", \"TimbreFNNDecoder_fft-fft_{}_{}_{}_{}_{}_{}_{}.pt\"\n",
    "                          .format(lr, n_epochs, n_mfcc, n_mels, n_hid, n_ffts, train_loss))\n",
    "torch.save(model.state_dict(), model_path)\n",
    "print(\"Model saved at {}\".format(model_path))"
   ]
  },
  {
   "cell_type": "markdown",
   "metadata": {},
   "source": [
    "Loading the saved model, and using the model for prediction example"
   ]
  },
  {
   "cell_type": "code",
   "execution_count": 219,
   "metadata": {},
   "outputs": [
    {
     "data": {
      "image/png": "[encoded data removed]",
      "text/plain": [
       "<Figure size 720x360 with 1 Axes>"
      ]
     },
     "metadata": {
      "needs_background": "light"
     },
     "output_type": "display_data"
    }
   ],
   "source": [
    "# vidx = 3; pIdx = 5; pid = 0; winIdx = 20;\n",
    "# wavIdx = flat_ref_idx(vidx, pIdx, pid)\n",
    "\n",
    "model = TimbreFNN(n_input=n_input, n_hid=n_hid, n_ffts=n_ffts, n_mels=n_mels)\n",
    "model.load_state_dict(torch.load(model_path))\n",
    "model.eval()\n",
    "# model.to(device)\n",
    "\n",
    "\n",
    "data_tensor, label_tensor = map(torch.tensor, (data, labels))\n",
    "data_tensor = data_tensor.float(); label_tensor = label_tensor.float(); \n",
    "predictions = model(data_tensor).detach().numpy()\n",
    "\n",
    "\n",
    "# x_axis = librosa.core.fft_frequencies(sample_rate, 1024)\n",
    "# plt.figure(figsize=(10, 5))\n",
    "# plt.plot(x_axis, predictions[30000], label='Prediction', linewidth=1)\n",
    "# plt.plot(x_axis, label_tensor[30000], label='Label', linewidth=1)\n",
    "# plt.xlim(0, 5000)\n",
    "# plt.xlabel('Frequency')\n",
    "# plt.ylabel('abs(fft)')\n",
    "# plt.legend(loc='best')\n",
    "# title = \"lr\" + str(lr) + \" n_epochs\" + str(n_epochs) + \" n_mfcc\" + str(n_mfcc) + \" n_mels\" + str(n_mels) + \" n_hid\" + str(n_hid) + \" n_ffts\" + str(n_ffts) + \" train_loss\" + str(train_loss)\n",
    "# plt.title(\"TimbreFNN_mels-fft \" + title)\n",
    "\n",
    "# plt.savefig(model_path + '.png')\n",
    "\n",
    "\n",
    "# # # # # # # # # # # # # # # # # # # # # # # # # # # #\n",
    "# Graphing of a single mel spectra for one datapoint  #\n",
    "# # # # # # # # # # # # # # # # # # # # # # # # # # # #\n",
    "data_point = flat_data_idx(wavIdx, winIdx)\n",
    "x_axis = librosa.core.mel_frequencies(n_mels=256, fmin=0.0, fmax=22050.0)\n",
    "plt.figure(figsize=(10, 5))\n",
    "plt.plot(x_axis, predictions[data_point], label='Prediction', linewidth=1)\n",
    "plt.plot(x_axis, label_tensor[data_point], label='Label', linewidth=1)\n",
    "plt.xlim(0, 10000)\n",
    "plt.xlabel('Frequency')\n",
    "plt.ylabel('scaled(log(mel))')\n",
    "plt.legend(loc='best')\n",
    "plt.title(\"Output-Label for data point {} (Window [{}] of {})\".format(data_point, winIdx, flat_data_ref_list[wavIdx]))\n",
    "title = \"lr\" + str(lr) + \" n_epochs\" + str(n_epochs) + \" n_mfcc\" + str(n_mfcc) + \" n_mels\" + str(n_mels) + \" n_hid\" + str(n_hid) + \" n_ffts\" + str(n_ffts) + \" train_loss\" + str(train_loss)\n",
    "# plt.title(\"TimbreFNN_mels-fft \" + title)\n",
    "\n",
    "plt.savefig(model_path + '.png')"
   ]
  },
  {
   "cell_type": "code",
   "execution_count": null,
   "metadata": {},
   "outputs": [],
   "source": []
  }
 ],
 "metadata": {
  "kernelspec": {
   "display_name": "Python 3",
   "language": "python",
   "name": "python3"
  },
  "language_info": {
   "codemirror_mode": {
    "name": "ipython",
    "version": 3
   },
   "file_extension": ".py",
   "mimetype": "text/x-python",
   "name": "python",
   "nbconvert_exporter": "python",
   "pygments_lexer": "ipython3",
   "version": "3.7.6"
  }
 },
 "nbformat": 4,
 "nbformat_minor": 4
}
