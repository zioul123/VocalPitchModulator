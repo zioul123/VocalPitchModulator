{
 "cells": [
  {
   "cell_type": "markdown",
   "metadata": {},
   "source": [
    "# MFCCXSpectrum Decoder\n",
    "This is the notebook used to train the Vocal Pitch Modulator.\n",
    "\n",
    "This notebook makes use of the mfcc and spectrum data to train our decoder.\n",
    "\n",
    "## Global variables/Imports\n",
    "Run these cells before running either of the following sections."
   ]
  },
  {
   "cell_type": "code",
   "execution_count": 303,
   "metadata": {},
   "outputs": [
    {
     "name": "stdout",
     "output_type": "stream",
     "text": [
      "The autoreload extension is already loaded. To reload it, use:\n",
      "  %reload_ext autoreload\n"
     ]
    }
   ],
   "source": [
    "%load_ext autoreload\n",
    "%autoreload 1\n",
    "\n",
    "import os\n",
    "import csv\n",
    "\n",
    "import scipy.io as sio\n",
    "from scipy.io import wavfile\n",
    "from scipy.io.wavfile import write\n",
    "\n",
    "import numpy as np\n",
    "import matplotlib.pyplot as plt\n",
    "from matplotlib.pyplot import subplots\n",
    "\n",
    "import time\n",
    "import math\n",
    "\n",
    "import pandas as pd\n",
    "from sklearn.model_selection import train_test_split\n",
    "from sklearn.metrics import accuracy_score, mean_squared_error, log_loss\n",
    "\n",
    "from tqdm.notebook import trange, tqdm\n",
    "\n",
    "from IPython.display import HTML\n",
    "import warnings\n",
    "from sklearn.preprocessing import OneHotEncoder\n",
    "\n",
    "import torch\n",
    "warnings.filterwarnings('ignore')\n",
    "import torch.nn as nn\n",
    "import torch.nn.functional as F\n",
    "from torch import optim\n",
    "\n",
    "%aimport VPM\n",
    "from VPM import *\n",
    "%aimport Utils\n",
    "from Utils import *\n",
    "%aimport ANN\n",
    "from ANN import *"
   ]
  },
  {
   "cell_type": "code",
   "execution_count": 304,
   "metadata": {},
   "outputs": [],
   "source": [
    "# Constants that should not change without the dataset being changed\n",
    "n_pitches = 16\n",
    "n_vowels = 12\n",
    "n_people = 3\n",
    "\n",
    "# These dictionaries are more for reference than anything\n",
    "label_to_vowel = { 0: \"bed\",  1: \"bird\",   2: \"boat\",  3: \"book\", \n",
    "                   4: \"cat\",  5: \"dog\",    6: \"feet\",  7: \"law\",  \n",
    "                   8: \"moo\",  9: \"nut\",   10: \"pig\",  11: \"say\" }\n",
    "\n",
    "vowel_to_label = { \"bed\": 0,  \"bird\": 1,  \"boat\":  2, \"book\":  3,\n",
    "                   \"cat\": 4,  \"dog\":  5,  \"feet\":  6, \"law\":   7,\n",
    "                   \"moo\": 8,  \"nut\":  9,  \"pig\":  10, \"say\":  11}\n",
    "\n",
    "noteidx_to_pitch = {  0: \"A2\",   1: \"Bb2\",  2: \"B2\",   3: \"C3\",\n",
    "                      4: \"Db3\",  5: \"D3\",   6: \"Eb3\",  7: \"E3\", \n",
    "                      8: \"F3\",   9: \"Gb3\", 10: \"G3\",  11: \"Ab3\",\n",
    "                     12: \"A3\",  13: \"Bb3\", 14: \"B3\",  15: \"C4\" }"
   ]
  },
  {
   "cell_type": "markdown",
   "metadata": {},
   "source": [
    "### Constants\n",
    "Used to tune the data generation and ANN."
   ]
  },
  {
   "cell_type": "code",
   "execution_count": 305,
   "metadata": {},
   "outputs": [],
   "source": [
    "n_ffts = 2048\n",
    "n_mels = 256\n",
    "n_mfcc = 40"
   ]
  },
  {
   "cell_type": "code",
   "execution_count": 306,
   "metadata": {},
   "outputs": [],
   "source": [
    "# File reference lists\n",
    "data_ref_list = create_data_ref_list(os.path.join(\"Data\", 'dataset_files.csv'),\n",
    "                            n_pitches, n_vowels, n_people)\n",
    "# flat_data_ref_list[flat_ref_idx(vowel, pitch, person)]\n",
    "flat_data_ref_list = flatten_3d_array(data_ref_list, \n",
    "                                      n_vowels, n_pitches, n_people)\n",
    "\n",
    "# File reference list accessors\n",
    "# Returns a flat_ref_idx, given a vowel, pitch, person\n",
    "flat_ref_idx = lambda vowel, pitch, person: flat_3d_array_idx(\n",
    "    vowel, pitch, person, n_vowels, n_pitches, n_people)\n",
    "# Returns vowel, pitch, person, given a flat_ref_idx\n",
    "nd_ref_idx = lambda idx: nd_array_idx(idx, n_vowels, n_pitches, n_people)\n",
    "\n",
    "# Data-label pairs for pitch-shift training\n",
    "data_label_pairs_flat, data_label_pairs_dict = create_data_label_pairs(n_pitches)"
   ]
  },
  {
   "cell_type": "markdown",
   "metadata": {},
   "source": [
    "### Data Generation\n",
    "This is all the code that was explained in the Data Walkthrough. It generates data structures to hold all wav file data, spectrograms, mel spectra and MFCC data for all wav files.\n",
    "\n",
    "For diagram-visualization of the data set, refer to the [readme](https://github.com/zioul123/VocalPitchModulator/blob/master/README.md).\n",
    "\n",
    "The first cell involves 3d arrays, while the second cell involves flattened arrays."
   ]
  },
  {
   "cell_type": "code",
   "execution_count": 307,
   "metadata": {},
   "outputs": [
    {
     "name": "stdout",
     "output_type": "stream",
     "text": [
      "all_wav_data shape =  (576,)\n",
      "all_spectrograms shape =  (576, 1025, 29)\n",
      "all_mels shape =  (576, 256, 29)\n",
      "all_mfcc shape =  (576, 40, 29)\n"
     ]
    }
   ],
   "source": [
    "# wav, spectrogram, mels, mfcc for each file in flat_data_ref_list. n_windows is 115 with 75% overlap.\n",
    "# wav_data:     (576, ~29400)  (n_wavs, n_samples)\n",
    "# spectrograms: (576, 1025, 29) (n_wavs, n_freq_bins, n_windows)\n",
    "# mels:         (576, 256, 29) (n_wavs, n_mels, n_windows)\n",
    "# mfccs:        (576, 12, 29)  (n_wavs, n_mfcc, n_windows)\n",
    "all_wav_data = load_wav_files(os.path.join(\"Data\", \"dataset\"), flat_data_ref_list)\n",
    "all_spectrograms = np.array([ stft(waveform, win_length=n_ffts, overlap=.5, plot=False) \n",
    "                              for waveform in all_wav_data ])\n",
    "\n",
    "all_mels, all_mfcc = map(np.array, map(list, zip(*\n",
    "                         [ ffts_to_mel(ffts, n_mels = n_mels, n_mfcc = n_mfcc) \n",
    "                           for ffts in all_spectrograms ])))\n",
    "\n",
    "n_files, _, n_windows = all_mfcc.shape\n",
    "\n",
    "print(\"all_wav_data shape = \" , all_wav_data.shape)\n",
    "print(\"all_spectrograms shape = \", all_spectrograms.shape)\n",
    "print(\"all_mels shape = \", all_mels.shape)\n",
    "print(\"all_mfcc shape = \", all_mfcc.shape)"
   ]
  },
  {
   "cell_type": "markdown",
   "metadata": {},
   "source": [
    "### Data-Label Structuring\n",
    "This puts together the actual data-label pairs to be fed into the ANN.\n"
   ]
  },
  {
   "cell_type": "code",
   "execution_count": 308,
   "metadata": {},
   "outputs": [
    {
     "name": "stdout",
     "output_type": "stream",
     "text": [
      "(16704, 256)\n",
      "[[ 0.16224197  0.1663732   0.18460537 ... -0.5216612  -0.4927396\n",
      "  -0.5934092 ]\n",
      " [-0.22248815 -0.17502157 -0.12619944 ... -0.53007513 -0.54840446\n",
      "  -0.5386227 ]\n",
      " [-0.13286221 -0.13437465 -0.12493145 ... -0.542835   -0.56144035\n",
      "  -0.60005075]\n",
      " ...\n",
      " [-0.20554794 -0.22942132 -0.34300035 ... -0.55229545 -0.58223814\n",
      "  -0.6098331 ]\n",
      " [-0.2478525  -0.2670039  -0.3190056  ... -0.5250399  -0.61691207\n",
      "  -0.6498883 ]\n",
      " [-0.00712681 -0.00632416  0.00700691 ... -0.51925784 -0.5517461\n",
      "  -0.5983309 ]]\n"
     ]
    }
   ],
   "source": [
    "# Flatten data\n",
    "\n",
    "# Create data accessor for flat arrays\n",
    "flat_data_idx = lambda wav_idx, win_idx: flat_2d_array_idx(\n",
    "    wav_idx, win_idx, n_files, n_windows)\n",
    "\n",
    "# Create flat mel spectra \n",
    "# flat_mels: (33408, 256)\n",
    "flat_mels_prenorm = np.array([ all_mels[wav_file_idx][:, window_idx] \n",
    "                               for wav_file_idx in range(n_files) \n",
    "                               for window_idx in range(n_windows) ])\n",
    "\n",
    "# Globally normalize to [-1, 1]\n",
    "flat_mels_logged = np.log(flat_mels_prenorm)\n",
    "max_mels = np.max(np.abs(flat_mels_logged))\n",
    "flat_mels = flat_mels_logged / max_mels\n",
    "\n",
    "print(flat_mels.shape)\n",
    "print(flat_mels)"
   ]
  },
  {
   "cell_type": "code",
   "execution_count": 309,
   "metadata": {},
   "outputs": [
    {
     "name": "stdout",
     "output_type": "stream",
     "text": [
      "torch.Size([16704, 40])\n"
     ]
    }
   ],
   "source": [
    "# Create mfccs features\n",
    "# flat_mfcc: (33408, 12)\n",
    "flat_mfcc_prenorm = np.array([ all_mfcc[wav_file_idx][:, window_idx]\n",
    "                               for wav_file_idx in range(n_files)\n",
    "                               for window_idx in range(n_windows) ])\n",
    "\n",
    "# Normalize each mfcc (i.e. rows of the all_mfcc array) to [0,1]\n",
    "flat_mfcc_signs = np.sign(flat_mfcc_prenorm)\n",
    "flat_mfcc_logged = np.log(np.abs(flat_mfcc_prenorm))\n",
    "max_mfcc = np.max(np.abs(flat_mfcc_logged))\n",
    "flat_mfcc = flat_mfcc_logged / max_mfcc\n",
    "flat_mfcc = torch.Tensor(flat_mfcc)\n",
    "\n",
    "print(flat_mfcc.shape)"
   ]
  },
  {
   "cell_type": "code",
   "execution_count": 310,
   "metadata": {},
   "outputs": [],
   "source": [
    "# Create fft features\n",
    "# flat_spectrograms\n",
    "flat_spec_prenorm = np.array([ all_spectrograms[wav_file_idx][:, window_idx] \n",
    "                          for wav_file_idx in range(n_files) \n",
    "                          for window_idx in range(n_windows) ])\n",
    "\n",
    "# Globally normalize to [-1, 1]\n",
    "flat_spec_logged = np.log(flat_spec_prenorm)\n",
    "max_spec = np.max(np.abs(flat_spec_logged))\n",
    "flat_spec = flat_spec_logged / max_spec\n"
   ]
  },
  {
   "cell_type": "markdown",
   "metadata": {},
   "source": [
    "Visualization in plot"
   ]
  },
  {
   "cell_type": "code",
   "execution_count": 311,
   "metadata": {},
   "outputs": [],
   "source": [
    "# # Visualize and verify Mels\n",
    "# fig, ax = plt.subplots(1, 3, figsize=(15,5))\n",
    "# plt.figure()\n",
    "# fig.suptitle(\"Mels Confirmation\", fontsize=16)\n",
    "# ax[0].plot(flat_mels_prenorm[0])\n",
    "# ax[0].set_title(\"Flat Mels Prenorm: {}\".format(flat_mels_prenorm.shape))\n",
    "# ax[1].plot(flat_mels[0])\n",
    "# ax[1].set_title(\"Flat Mels (one example): {}\".format(flat_mels.shape))\n",
    "# ax[2].plot(np.e ** (flat_mels[0] * max_mels))\n",
    "# ax[2].set_title(\"Restored Mels: {}\".format(flat_mels.shape))\n",
    "\n",
    "# # Visualize and verify MFCC\n",
    "# fig, ax = plt.subplots(1, 3, figsize=(15,5))\n",
    "# plt.figure()\n",
    "# fig.suptitle(\"MFCC Confirmation\", fontsize=16)\n",
    "# ax[0].plot(flat_mfcc_prenorm.T)\n",
    "# ax[0].set_title(\"Flat MFCC Prenorm: {}\".format(flat_mfcc_prenorm.shape))\n",
    "# ax[1].plot(flat_mfcc.T)\n",
    "# ax[1].set_title(\"Flat MFCC (one example): {}\".format(flat_mfcc.detach().numpy().shape))\n",
    "# ax[2].plot((flat_mfcc_signs * np.e ** (flat_mfcc.detach().numpy() * max_mfcc)).T)\n",
    "# ax[2].set_title(\"Restored MFCC: {}\".format(flat_mfcc.detach().numpy().shape))"
   ]
  },
  {
   "cell_type": "markdown",
   "metadata": {},
   "source": [
    "## Pre-Training"
   ]
  },
  {
   "cell_type": "markdown",
   "metadata": {},
   "source": [
    "### Data-Label Structuring\n",
    "This puts together the actual data-label pairs to be fed into the ANN.\n",
    "\n",
    "`data` is generated from timbre features on mfcc and mel spectrums. `labels` are abs(fft) spectrograms. At this stage, pre-training, we simply want to make the NN learn to output fourier spectra.\n",
    "\n",
    "Note that mel_spectra/mfcc of abs(fft) are equivalent to those of fft itself."
   ]
  },
  {
   "cell_type": "code",
   "execution_count": 312,
   "metadata": {},
   "outputs": [
    {
     "name": "stdout",
     "output_type": "stream",
     "text": [
      "(16704, 296) (16704, 256)\n"
     ]
    }
   ],
   "source": [
    "# Create labels\n",
    "\n",
    "# data:   (33408, 268) (n_wavs * n_windows, n_mfcc + n_mels)\n",
    "# labels: (33408, 256) (n_wavs * n_windows, n_fft / 2 + 1)\n",
    "data = np.concatenate((flat_mfcc, flat_mels), axis=1)\n",
    "labels = flat_mels\n",
    "print(data.shape, labels.shape)"
   ]
  },
  {
   "cell_type": "markdown",
   "metadata": {},
   "source": [
    "Test-Train split: 1 person from each wav will be the test data"
   ]
  },
  {
   "cell_type": "code",
   "execution_count": 313,
   "metadata": {},
   "outputs": [
    {
     "name": "stdout",
     "output_type": "stream",
     "text": [
      "torch.Size([11136, 296]) torch.Size([5568, 296]) torch.Size([11136, 256]) torch.Size([5568, 256])\n"
     ]
    }
   ],
   "source": [
    "# X_train, Y_train: (22272, 268) (11136, 256) \n",
    "# X_val, Y_val:     (11136, 268)  (11136, 256)\n",
    "X_train = []; X_val = []; Y_train = []; Y_val = []\n",
    "for vow_idx in range(n_vowels):\n",
    "    for pit_idx in range(n_pitches):\n",
    "        # Choose the person for this pitch/vowel to be used as test data\n",
    "        test_pid = int(np.random.rand() * 3)\n",
    "        for pid_idx in range(n_people):\n",
    "            wav_idx = flat_ref_idx(vow_idx, pit_idx, pid_idx)\n",
    "            if (pid_idx != test_pid):\n",
    "                for win_idx in range(n_windows):\n",
    "                    X_train.append(data[flat_data_idx(wav_idx, win_idx)])\n",
    "                    Y_train.append(labels[flat_data_idx(wav_idx, win_idx)])\n",
    "            else:\n",
    "                for win_idx in range(n_windows):\n",
    "                    X_val.append(data[flat_data_idx(wav_idx, win_idx)])\n",
    "                    Y_val.append(labels[flat_data_idx(wav_idx, win_idx)])  \n",
    "X_train, Y_train, X_val, Y_val = map(torch.Tensor, (X_train, Y_train, X_val, Y_val))\n",
    "\n",
    "# Default tensor is float\n",
    "X_train = X_train.float(); X_val = X_val.float()\n",
    "Y_train = Y_train.float(); Y_val = Y_val.float()\n",
    "print(X_train.shape, X_val.shape, Y_train.shape, Y_val.shape)"
   ]
  },
  {
   "cell_type": "markdown",
   "metadata": {},
   "source": [
    "Normalize `labels_prenorm` to range [-1,1]"
   ]
  },
  {
   "cell_type": "code",
   "execution_count": 314,
   "metadata": {},
   "outputs": [],
   "source": [
    "# plt.figure()\n",
    "# plt.plot(data)\n",
    "\n",
    "# # labels, label_scales = normalize_rows(labels_prenorm, NormMode.NONNEG_TO_ZERO_ONE)\n",
    "# # plt.figure()\n",
    "# # plt.plot(labels_prenorm)\n",
    "\n",
    "# labels_prenorm_log = np.log(labels_prenorm)\n",
    "# label_scales = np.amax(np.absolute(labels_prenorm_log))\n",
    "# labels  = labels_prenorm_log / label_scales\n",
    "\n",
    "# # plt.figure()\n",
    "# # plt.plot(labels)\n",
    "\n",
    "# print(data.shape, labels.shape)"
   ]
  },
  {
   "cell_type": "markdown",
   "metadata": {},
   "source": [
    "## Training Procedure (decoder style, no pitch shift)"
   ]
  },
  {
   "cell_type": "markdown",
   "metadata": {},
   "source": [
    "This takes mfcc + mel spectrum, and tries to recreate the original FFT."
   ]
  },
  {
   "cell_type": "code",
   "execution_count": 315,
   "metadata": {},
   "outputs": [],
   "source": [
    "n_input = 296; n_hid2 = 268; n_hid = 260; n_ffts = 1025;\n",
    "lr = 0.2; n_epochs = 500; batch_size=22272//8;\n",
    "\n",
    "# Training model \n",
    "model = TimbreFNN(n_input=n_input, n_hid=n_hid, n_ffts=n_ffts, n_mels=n_mels)\n",
    "\n",
    "loss_fn = nn.MSELoss()"
   ]
  },
  {
   "cell_type": "code",
   "execution_count": 316,
   "metadata": {},
   "outputs": [
    {
     "name": "stdout",
     "output_type": "stream",
     "text": [
      "GPU Not available\n"
     ]
    }
   ],
   "source": [
    "print(\"GPU Available\" if torch.cuda.is_available() else \"GPU Not available\")"
   ]
  },
  {
   "cell_type": "code",
   "execution_count": 317,
   "metadata": {},
   "outputs": [
    {
     "data": {
      "application/vnd.jupyter.widget-view+json": {
       "model_id": "cc6f8f1bb4054b6189858aa6e1bca610",
       "version_major": 2,
       "version_minor": 0
      },
      "text/plain": [
       "HBox(children=(FloatProgress(value=0.0, description='Training', max=500.0, style=ProgressStyle(description_wid…"
      ]
     },
     "metadata": {},
     "output_type": "display_data"
    },
    {
     "name": "stdout",
     "output_type": "stream",
     "text": [
      "[ 0.02695686 -0.00436589  0.00029981 -0.06530095 -0.02742902 -0.07435323\n",
      " -0.0173443   0.05177006 -0.01338589 -0.02535975 -0.06027779  0.03448818\n",
      "  0.10595556 -0.0756721   0.01234014 -0.06857872  0.0923453  -0.05264947\n",
      "  0.04966259  0.06162043  0.02083181 -0.02626029 -0.13484335 -0.00764221\n",
      " -0.09638404 -0.06495637 -0.06852675 -0.02450685  0.06995901  0.1020003\n",
      " -0.00962229 -0.07504435  0.05043876  0.04359864 -0.061058   -0.04279798\n",
      "  0.11307274 -0.12941678  0.05901688  0.04264774 -0.08417569  0.04440248\n",
      " -0.01854673  0.01599107 -0.04299329 -0.03802343  0.00778512 -0.07588059\n",
      "  0.09907249 -0.08332033  0.10625467  0.01674429  0.09487891  0.22831765\n",
      "  0.09398009 -0.16786121 -0.01340183 -0.08043062  0.00601477  0.04377742\n",
      "  0.06929026  0.00074455  0.01596872  0.02696462 -0.10140947 -0.1464967\n",
      "  0.11110043  0.04603359 -0.0351804   0.02594195 -0.00978109 -0.00683276\n",
      "  0.0178499  -0.12935196 -0.12746206 -0.04151128 -0.05642536  0.06211219\n",
      " -0.08162194 -0.03008738 -0.0548511   0.05258063 -0.11865753 -0.01414544\n",
      " -0.01145404  0.08392743  0.03995047 -0.07976859  0.01006288 -0.02502385\n",
      " -0.04287142 -0.00807514 -0.01615222  0.02662136  0.10703746 -0.13369341\n",
      "  0.06337278 -0.05357027 -0.04688561  0.00459188  0.06186163  0.01251034\n",
      "  0.00661268 -0.09580144  0.19723782  0.01170311 -0.02651321 -0.07029718\n",
      "  0.05623966 -0.00348988 -0.03482588 -0.01397591  0.01159136 -0.10125817\n",
      " -0.03993989 -0.02276491 -0.11924475  0.05019477  0.10824272 -0.09007731\n",
      "  0.10768736  0.06084934 -0.04548886  0.01193235  0.06596095  0.09633467\n",
      " -0.01455397  0.06870738 -0.04080218  0.07014219  0.05493361 -0.01327375\n",
      "  0.03807845 -0.01663331  0.082342   -0.05488889 -0.13408153  0.04289592\n",
      " -0.03216831 -0.06627558  0.01658497 -0.03041761  0.1074651  -0.09372676\n",
      " -0.07733682  0.01664949 -0.01985913 -0.04125881  0.0205679  -0.19729073\n",
      " -0.02178098  0.11957826 -0.02248209  0.04187504  0.07679547 -0.00332102\n",
      "  0.03256567 -0.0178876   0.07977621  0.03069139  0.08219544  0.02352703\n",
      "  0.06102367  0.01658366 -0.05013186 -0.09404647  0.13448364  0.0173298\n",
      " -0.06395392  0.118597    0.10427794 -0.03596023 -0.01363534 -0.05710421\n",
      " -0.07025371  0.01877809  0.16856441  0.07472718  0.00648874 -0.04239304\n",
      " -0.00898562  0.06259596  0.01825588  0.11428845  0.01219398 -0.08040314\n",
      "  0.06376909  0.1246046   0.09899843 -0.0285253  -0.03027152 -0.12188892\n",
      "  0.04655578 -0.03607031 -0.00209805 -0.02018544  0.08610456 -0.05015925\n",
      " -0.10219438 -0.08067364  0.06325253 -0.0162423   0.05580135 -0.01199965\n",
      "  0.05384495  0.13610998 -0.04339968 -0.03683388  0.06691946 -0.05698528\n",
      " -0.0421696   0.05804922 -0.02035204  0.0250057  -0.00200414  0.13294761\n",
      "  0.11450327  0.02569372  0.00754917  0.09102608  0.14480688 -0.1880878\n",
      " -0.00280624  0.00977455 -0.11654219  0.04726698 -0.03857783 -0.03291351\n",
      " -0.07086873 -0.09683935  0.07148167 -0.07620507 -0.0018593  -0.04752413\n",
      "  0.00772019 -0.06626312  0.03319248  0.00340767 -0.06368845  0.00614992\n",
      " -0.15067269  0.11598516 -0.04132644 -0.03428761 -0.08754916  0.01889615\n",
      " -0.10929789  0.00199288 -0.09681756 -0.10328815 -0.0603127   0.0485858\n",
      " -0.01122013  0.10557768 -0.00467513  0.06797349]\n",
      "[-1. -1. -1. -1. -1. -1. -1. -1.  1.  1.  1.  1.  1.  1.  1.  1. -1.  1.\n",
      " -1. -1. -1.  1.  1.  1.  1.  1.  1.  1. -1.  1.  1.  1.  1. -1.  1.  1.\n",
      " -1.  1. -1. -1.  1.  1.  1.  1.  1. -1. -1.  1. -1.  1. -1. -1. -1. -1.\n",
      " -1.  1. -1.  1. -1. -1. -1. -1. -1. -1. -1.  1. -1. -1. -1. -1. -1. -1.\n",
      " -1.  1.  1. -1. -1. -1. -1. -1. -1. -1. -1. -1. -1. -1. -1. -1. -1. -1.\n",
      " -1. -1. -1. -1. -1. -1. -1. -1. -1. -1. -1. -1. -1. -1. -1. -1. -1. -1.\n",
      " -1. -1. -1. -1. -1. -1. -1. -1.  1. -1. -1. -1. -1. -1. -1. -1. -1. -1.\n",
      " -1. -1. -1. -1. -1. -1. -1. -1. -1. -1.  1. -1. -1. -1. -1. -1. -1.  1.\n",
      " -1. -1. -1. -1. -1.  1. -1. -1. -1. -1. -1. -1. -1. -1. -1. -1. -1. -1.\n",
      " -1. -1. -1. -1. -1. -1. -1. -1. -1. -1. -1. -1. -1. -1. -1. -1. -1. -1.\n",
      " -1. -1. -1. -1. -1. -1. -1. -1. -1. -1. -1. -1. -1. -1. -1. -1. -1. -1.\n",
      " -1. -1. -1. -1. -1. -1. -1. -1. -1. -1. -1. -1. -1. -1. -1. -1. -1. -1.\n",
      " -1. -1. -1. -1. -1. -1. -1. -1. -1. -1. -1. -1. -1. -1. -1. -1. -1. -1.\n",
      " -1. -1. -1. -1. -1. -1. -1. -1. -1. -1. -1. -1. -1. -1. -1. -1. -1. -1.\n",
      " -1. -1. -1. -1.]\n",
      "[-1. -1. -1. -1. -1. -1. -1. -1.  1.  1.  1.  1.  1.  1.  1.  1. -1.  1.\n",
      " -1. -1. -1.  1.  1.  1.  1.  1.  1.  1. -1.  1.  1.  1.  1. -1.  1.  1.\n",
      " -1.  1. -1. -1.  1.  1.  1.  1.  1. -1. -1.  1. -1.  1. -1. -1. -1. -1.\n",
      " -1.  1. -1.  1. -1. -1. -1. -1. -1. -1. -1.  1. -1. -1. -1. -1. -1. -1.\n",
      " -1.  1.  1. -1. -1. -1. -1. -1. -1. -1. -1. -1. -1. -1. -1. -1. -1. -1.\n",
      " -1. -1. -1. -1. -1. -1. -1. -1. -1. -1. -1. -1. -1. -1. -1. -1. -1. -1.\n",
      " -1. -1. -1. -1. -1. -1. -1. -1.  1. -1. -1. -1. -1. -1. -1. -1. -1. -1.\n",
      " -1. -1. -1. -1. -1. -1. -1. -1. -1. -1.  1. -1. -1. -1. -1. -1. -1.  1.\n",
      " -1. -1. -1. -1. -1.  1. -1. -1. -1. -1. -1. -1. -1. -1. -1. -1. -1. -1.\n",
      " -1. -1. -1. -1. -1. -1. -1. -1. -1. -1. -1. -1. -1. -1. -1. -1. -1. -1.\n",
      " -1. -1. -1. -1. -1. -1. -1. -1. -1. -1. -1. -1. -1. -1. -1. -1. -1. -1.\n",
      " -1. -1. -1. -1. -1. -1. -1. -1. -1. -1. -1. -1. -1. -1. -1. -1. -1. -1.\n",
      " -1. -1. -1. -1. -1. -1. -1. -1. -1. -1. -1. -1. -1. -1. -1. -1. -1. -1.\n",
      " -1. -1. -1. -1. -1. -1. -1. -1. -1. -1. -1. -1. -1. -1. -1. -1. -1. -1.\n",
      " -1. -1. -1. -1.]\n",
      "[-1. -1. -1. -1. -1. -1. -1. -1.  1.  1.  1.  1.  1.  1.  1.  1. -1.  1.\n",
      " -1. -1. -1.  1.  1.  1.  1.  1.  1.  1. -1.  1.  1.  1.  1. -1.  1.  1.\n",
      " -1.  1. -1. -1.  1.  1.  1.  1.  1. -1. -1.  1. -1.  1. -1. -1. -1. -1.\n",
      " -1.  1. -1.  1. -1. -1. -1. -1. -1. -1. -1.  1. -1. -1. -1. -1. -1. -1.\n",
      " -1.  1.  1. -1. -1. -1. -1. -1. -1. -1. -1. -1. -1. -1. -1. -1. -1. -1.\n",
      " -1. -1. -1. -1. -1. -1. -1. -1. -1. -1. -1. -1. -1. -1. -1. -1. -1. -1.\n",
      " -1. -1. -1. -1. -1. -1. -1. -1.  1. -1. -1. -1. -1. -1. -1. -1. -1. -1.\n",
      " -1. -1. -1. -1. -1. -1. -1. -1. -1. -1.  1. -1. -1. -1. -1. -1. -1.  1.\n",
      " -1. -1. -1. -1. -1.  1. -1. -1. -1. -1. -1. -1. -1. -1. -1. -1. -1. -1.\n",
      " -1. -1. -1. -1. -1. -1. -1. -1. -1. -1. -1. -1. -1. -1. -1. -1. -1. -1.\n",
      " -1. -1. -1. -1. -1. -1. -1. -1. -1. -1. -1. -1. -1. -1. -1. -1. -1. -1.\n",
      " -1. -1. -1. -1. -1. -1. -1. -1. -1. -1. -1. -1. -1. -1. -1. -1. -1. -1.\n",
      " -1. -1. -1. -1. -1. -1. -1. -1. -1. -1. -1. -1. -1. -1. -1. -1. -1. -1.\n",
      " -1. -1. -1. -1. -1. -1. -1. -1. -1. -1. -1. -1. -1. -1. -1. -1. -1. -1.\n",
      " -1. -1. -1. -1.]\n",
      "[-1. -1. -1. -1. -1. -1. -1. -1.  1.  1.  1.  1.  1.  1.  1.  1. -1.  1.\n",
      " -1. -1. -1.  1.  1.  1.  1.  1.  1.  1. -1.  1.  1.  1.  1. -1.  1.  1.\n",
      " -1.  1. -1. -1.  1.  1.  1.  1.  1. -1. -1.  1. -1.  1. -1. -1. -1. -1.\n",
      " -1.  1. -1.  1. -1. -1. -1. -1. -1. -1. -1.  1. -1. -1. -1. -1. -1. -1.\n",
      " -1.  1.  1. -1. -1. -1. -1. -1. -1. -1. -1. -1. -1. -1. -1. -1. -1. -1.\n",
      " -1. -1. -1. -1. -1. -1. -1. -1. -1. -1. -1. -1. -1. -1. -1. -1. -1. -1.\n",
      " -1. -1. -1. -1. -1. -1. -1. -1.  1. -1. -1. -1. -1. -1. -1. -1. -1. -1.\n",
      " -1. -1. -1. -1. -1. -1. -1. -1. -1. -1.  1. -1. -1. -1. -1. -1. -1.  1.\n",
      " -1. -1. -1. -1. -1.  1. -1. -1. -1. -1. -1. -1. -1. -1. -1. -1. -1. -1.\n",
      " -1. -1. -1. -1. -1. -1. -1. -1. -1. -1. -1. -1. -1. -1. -1. -1. -1. -1.\n",
      " -1. -1. -1. -1. -1. -1. -1. -1. -1. -1. -1. -1. -1. -1. -1. -1. -1. -1.\n",
      " -1. -1. -1. -1. -1. -1. -1. -1. -1. -1. -1. -1. -1. -1. -1. -1. -1. -1.\n",
      " -1. -1. -1. -1. -1. -1. -1. -1. -1. -1. -1. -1. -1. -1. -1. -1. -1. -1.\n",
      " -1. -1. -1. -1. -1. -1. -1. -1. -1. -1. -1. -1. -1. -1. -1. -1. -1. -1.\n",
      " -1. -1. -1. -1.]\n",
      "\n"
     ]
    },
    {
     "data": {
      "image/png": "[encoded data removed]",
      "text/plain": [
       "<Figure size 1080x720 with 1 Axes>"
      ]
     },
     "metadata": {
      "needs_background": "light"
     },
     "output_type": "display_data"
    },
    {
     "name": "stdout",
     "output_type": "stream",
     "text": [
      "Training Loss before/after: 0.11906465142965317, 0.6631612777709961\n",
      "Validation Loss before/after: 0.6611625552177429, 0.6623424291610718\n",
      "Final loss: 0.6631612777709961\n",
      "Time taken: 86.11888599395752\n"
     ]
    }
   ],
   "source": [
    "# Use GPU if possible (will run on CPU otherwise)\n",
    "device = torch.device(\"cuda\") if torch.cuda.is_available() else torch.device(\"cpu\")\n",
    "\n",
    "# Move inputs to GPU (if possible)\n",
    "X_train = X_train.to(device)\n",
    "Y_train = Y_train.to(device)\n",
    "X_val = X_val.to(device)\n",
    "Y_val = Y_val.to(device)\n",
    "\n",
    "# Move the network to GPU (if possible)\n",
    "model.to(device)\n",
    "\n",
    "# Define optimizer \n",
    "# opt = optim.SGD(model.parameters(), lr=lr)\n",
    "opt = optim.Adam(model.parameters(), lr=lr)\n",
    "\n",
    "# Fit the model\n",
    "tic = time.time()\n",
    "train_loss, val_loss = model.train_func(X_train, Y_train, X_val, Y_val, model, opt,\n",
    "                        loss_fn, batch_size=batch_size, epochs=n_epochs, print_graph=True)\n",
    "toc = time.time()\n",
    "print('Final loss: {}\\nTime taken: {}'.format(train_loss, toc - tic))"
   ]
  },
  {
   "cell_type": "markdown",
   "metadata": {},
   "source": [
    "Saving the model"
   ]
  },
  {
   "cell_type": "code",
   "execution_count": 318,
   "metadata": {},
   "outputs": [
    {
     "name": "stdout",
     "output_type": "stream",
     "text": [
      "Model's state_dict:\n",
      "fc1.weight \t torch.Size([260, 296])\n",
      "fc1.bias \t torch.Size([260])\n",
      "fc2.weight \t torch.Size([256, 260])\n",
      "fc2.bias \t torch.Size([256])\n",
      "net.0.weight \t torch.Size([260, 296])\n",
      "net.0.bias \t torch.Size([260])\n",
      "net.2.weight \t torch.Size([256, 260])\n",
      "net.2.bias \t torch.Size([256])\n",
      "Model saved at model_data/TimbreFNNDecoder_mels-mels_0.2_500_40_256_260_1025_0.6631612777709961.pt\n"
     ]
    }
   ],
   "source": [
    "print(\"Model's state_dict:\")\n",
    "for param_tensor in model.state_dict():\n",
    "    print(param_tensor, \"\\t\", model.state_dict()[param_tensor].size())\n",
    "    \n",
    "model_path = os.path.join(\"model_data\", \"TimbreFNNDecoder_mels-mels_{}_{}_{}_{}_{}_{}_{}.pt\"\n",
    "                          .format(lr, n_epochs, n_mfcc, n_mels, n_hid, n_ffts, train_loss))\n",
    "torch.save(model.state_dict(), model_path)\n",
    "print(\"Model saved at {}\".format(model_path))"
   ]
  },
  {
   "cell_type": "markdown",
   "metadata": {},
   "source": [
    "Loading the saved model, and using the model for prediction example"
   ]
  },
  {
   "cell_type": "code",
   "execution_count": 319,
   "metadata": {},
   "outputs": [
    {
     "data": {
      "image/png": "[encoded data removed]",
      "text/plain": [
       "<Figure size 720x360 with 1 Axes>"
      ]
     },
     "metadata": {
      "needs_background": "light"
     },
     "output_type": "display_data"
    }
   ],
   "source": [
    "# vidx = 3; pIdx = 5; pid = 0; winIdx = 20;\n",
    "# wavIdx = flat_ref_idx(vidx, pIdx, pid)\n",
    "\n",
    "model = TimbreFNN(n_input=n_input, n_hid=n_hid, n_ffts=n_ffts, n_mels=n_mels)\n",
    "model.load_state_dict(torch.load(model_path))\n",
    "model.eval()\n",
    "# model.to(device)\n",
    "\n",
    "data_tensor, label_tensor = map(torch.tensor, (data, labels))\n",
    "data_tensor = data_tensor.float(); label_tensor = label_tensor.float(); \n",
    "predictions = model(data_tensor).detach().numpy()\n",
    "\n",
    "\n",
    "# x_axis = librosa.core.fft_frequencies(sample_rate, 1024)\n",
    "# plt.figure(figsize=(10, 5))\n",
    "# plt.plot(x_axis, predictions[30000], label='Prediction', linewidth=1)\n",
    "# plt.plot(x_axis, label_tensor[30000], label='Label', linewidth=1)\n",
    "# plt.xlim(0, 5000)\n",
    "# plt.xlabel('Frequency')\n",
    "# plt.ylabel('abs(fft)')\n",
    "# plt.legend(loc='best')\n",
    "# title = \"lr\" + str(lr) + \" n_epochs\" + str(n_epochs) + \" n_mfcc\" + str(n_mfcc) + \" n_mels\" + str(n_mels) + \" n_hid\" + str(n_hid) + \" n_ffts\" + str(n_ffts) + \" train_loss\" + str(train_loss)\n",
    "# plt.title(\"TimbreFNN_mels-fft \" + title)\n",
    "\n",
    "# plt.savefig(model_path + '.png')\n",
    "\n",
    "\n",
    "# # # # # # # # # # # # # # # # # # # # # # # # # # # #\n",
    "# Graphing of a single mel spectra for one datapoint  #\n",
    "# # # # # # # # # # # # # # # # # # # # # # # # # # # #\n",
    "data_point = flat_data_idx(wavIdx, winIdx)\n",
    "x_axis = librosa.core.mel_frequencies(n_mels=256, fmin=0.0, fmax=22050.0)\n",
    "plt.figure(figsize=(10, 5))\n",
    "plt.plot(x_axis, predictions[data_point], label='Prediction', linewidth=1)\n",
    "plt.plot(x_axis, label_tensor[data_point], label='Label', linewidth=1)\n",
    "plt.xlim(0, 10000)\n",
    "plt.xlabel('Frequency')\n",
    "plt.ylabel('scaled(log(mel))')\n",
    "plt.legend(loc='best')\n",
    "plt.title(\"Output-Label for data point {} (Window [{}] of {})\".format(data_point, winIdx, flat_data_ref_list[wavIdx]))\n",
    "title = \"TimbreFNN_mels-mels \"+ \"lr\" + str(lr) + \" n_epochs\" + str(n_epochs) + \" n_mfcc\" + str(n_mfcc) + \" n_mels\" + str(n_mels) + \" n_hid\" + str(n_hid) + \" n_ffts\" + str(n_ffts) + \" train_loss\" + str(train_loss)\n",
    "# plt.title(\"TimbreFNN_mels-fft \" + title)\n",
    "\n",
    "plt.savefig(model_path + '.png')"
   ]
  },
  {
   "cell_type": "code",
   "execution_count": null,
   "metadata": {},
   "outputs": [],
   "source": []
  }
 ],
 "metadata": {
  "kernelspec": {
   "display_name": "Python 3",
   "language": "python",
   "name": "python3"
  },
  "language_info": {
   "codemirror_mode": {
    "name": "ipython",
    "version": 3
   },
   "file_extension": ".py",
   "mimetype": "text/x-python",
   "name": "python",
   "nbconvert_exporter": "python",
   "pygments_lexer": "ipython3",
   "version": "3.7.6"
  }
 },
 "nbformat": 4,
 "nbformat_minor": 4
}
