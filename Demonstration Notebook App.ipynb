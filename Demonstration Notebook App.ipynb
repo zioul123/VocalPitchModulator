{
 "cells": [
  {
   "cell_type": "code",
   "execution_count": 14,
   "metadata": {},
   "outputs": [],
   "source": [
    "import VPM\n",
    "import DemoPitchShifter\n",
    "import PitchShifterModule\n",
    "import numpy as np\n",
    "from IPython.display import Audio"
   ]
  },
  {
   "cell_type": "markdown",
   "metadata": {},
   "source": [
    "### Input your desired wav file\n",
    "Option 1: Load existing wav file"
   ]
  },
  {
   "cell_type": "code",
   "execution_count": 15,
   "metadata": {},
   "outputs": [
    {
     "name": "stdout",
     "output_type": "stream",
     "text": [
      "Enter the filename including the .wav extension: scale.wav\n",
      "Please resample to 44100Hz for better results, but continuing regardless...\n",
      "[-3.05175781e-05  6.10351562e-05 -6.10351562e-05 ... -1.83715820e-02\n",
      " -1.31530762e-02 -5.49316406e-03]\n"
     ]
    }
   ],
   "source": [
    "wav_file = DemoPitchShifter.load_wav_file_from_stdin()"
   ]
  },
  {
   "cell_type": "markdown",
   "metadata": {},
   "source": [
    "Option 2: Record vocals"
   ]
  },
  {
   "cell_type": "code",
   "execution_count": 3,
   "metadata": {},
   "outputs": [
    {
     "name": "stdout",
     "output_type": "stream",
     "text": [
      "Recording\n",
      "Finished recording\n",
      "[0.         0.         0.         ... 0.00085449 0.00079346 0.00067139]\n"
     ]
    }
   ],
   "source": [
    "wav_file = DemoPitchShifter.record_wav_file()"
   ]
  },
  {
   "cell_type": "markdown",
   "metadata": {},
   "source": [
    "### Pitch shifting \n",
    "Change 'shiftAmt' for the amount of desired pitch shift of the input wav file."
   ]
  },
  {
   "cell_type": "code",
   "execution_count": 16,
   "metadata": {},
   "outputs": [],
   "source": [
    "shiftAmt = 3\n",
    "shifted = PitchShifterModule.PitchShift(wav_file, shiftAmt)\n",
    "shifted = np.array(shifted, dtype=np.float32)"
   ]
  },
  {
   "cell_type": "markdown",
   "metadata": {},
   "source": [
    "### Save pitch shifted audio as wav file\n",
    "\n",
    "You may find your output audio wav file in a `output_wav` folder"
   ]
  },
  {
   "cell_type": "code",
   "execution_count": 17,
   "metadata": {},
   "outputs": [
    {
     "name": "stdout",
     "output_type": "stream",
     "text": [
      "Enter the filename including the .wav extension: output.wav\n"
     ]
    }
   ],
   "source": [
    "DemoPitchShifter.save_wav_file(shifted)"
   ]
  },
  {
   "cell_type": "code",
   "execution_count": null,
   "metadata": {},
   "outputs": [],
   "source": []
  }
 ],
 "metadata": {
  "kernelspec": {
   "display_name": "Python 3",
   "language": "python",
   "name": "python3"
  },
  "language_info": {
   "codemirror_mode": {
    "name": "ipython",
    "version": 3
   },
   "file_extension": ".py",
   "mimetype": "text/x-python",
   "name": "python",
   "nbconvert_exporter": "python",
   "pygments_lexer": "ipython3",
   "version": "3.7.6"
  }
 },
 "nbformat": 4,
 "nbformat_minor": 4
}
